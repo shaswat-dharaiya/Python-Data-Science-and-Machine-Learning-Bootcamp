{
 "cells": [
  {
   "cell_type": "markdown",
   "metadata": {},
   "source": [
    "___\n",
    "\n",
    "<a href='http://www.pieriandata.com'> <img src='../Pierian_Data_Logo.png' /></a>\n",
    "___\n",
    "# Plotly and Cufflinks"
   ]
  },
  {
   "cell_type": "markdown",
   "metadata": {},
   "source": [
    "Plotly is a library that allows you to create interactive plots that you can use in dashboards or websites (you can save them as html files or static images).\n",
    "\n",
    "## Installation\n",
    "\n",
    "In order for this all to work, you'll need to install plotly and cufflinks to call plots directly off of a pandas dataframe. These libraries are not currently available through **conda** but are available through **pip**. Install the libraries at your command line/terminal using:\n",
    "\n",
    "    pip install plotly\n",
    "    pip install cufflinks\n",
    "\n",
    "** NOTE: Make sure you only have one installation of Python on your computer when you do this, otherwise the installation may not work. **\n",
    "\n",
    "## Imports and Set-up"
   ]
  },
  {
   "cell_type": "code",
   "execution_count": 28,
   "metadata": {},
   "outputs": [],
   "source": [
    "import pandas as pd\n",
    "import numpy as np\n",
    "%matplotlib inline"
   ]
  },
  {
   "cell_type": "code",
   "execution_count": 29,
   "metadata": {},
   "outputs": [
    {
     "name": "stdout",
     "output_type": "stream",
     "text": [
      "4.14.1\n"
     ]
    }
   ],
   "source": [
    "from plotly import __version__\n",
    "from plotly.offline import download_plotlyjs, init_notebook_mode, plot, iplot\n",
    "\n",
    "print(__version__) # requires version >= 1.9.0"
   ]
  },
  {
   "cell_type": "code",
   "execution_count": 30,
   "metadata": {},
   "outputs": [],
   "source": [
    "import cufflinks as cf"
   ]
  },
  {
   "cell_type": "code",
   "execution_count": 31,
   "metadata": {},
   "outputs": [
    {
     "data": {
      "text/html": [
       "        <script type=\"text/javascript\">\n",
       "        window.PlotlyConfig = {MathJaxConfig: 'local'};\n",
       "        if (window.MathJax) {MathJax.Hub.Config({SVG: {font: \"STIX-Web\"}});}\n",
       "        if (typeof require !== 'undefined') {\n",
       "        require.undef(\"plotly\");\n",
       "        requirejs.config({\n",
       "            paths: {\n",
       "                'plotly': ['https://cdn.plot.ly/plotly-latest.min']\n",
       "            }\n",
       "        });\n",
       "        require(['plotly'], function(Plotly) {\n",
       "            window._Plotly = Plotly;\n",
       "        });\n",
       "        }\n",
       "        </script>\n",
       "        "
      ]
     },
     "metadata": {},
     "output_type": "display_data"
    }
   ],
   "source": [
    "# For Notebooks\n",
    "init_notebook_mode(connected=True)"
   ]
  },
  {
   "cell_type": "code",
   "execution_count": 32,
   "metadata": {},
   "outputs": [
    {
     "data": {
      "text/html": [
       "        <script type=\"text/javascript\">\n",
       "        window.PlotlyConfig = {MathJaxConfig: 'local'};\n",
       "        if (window.MathJax) {MathJax.Hub.Config({SVG: {font: \"STIX-Web\"}});}\n",
       "        if (typeof require !== 'undefined') {\n",
       "        require.undef(\"plotly\");\n",
       "        requirejs.config({\n",
       "            paths: {\n",
       "                'plotly': ['https://cdn.plot.ly/plotly-latest.min']\n",
       "            }\n",
       "        });\n",
       "        require(['plotly'], function(Plotly) {\n",
       "            window._Plotly = Plotly;\n",
       "        });\n",
       "        }\n",
       "        </script>\n",
       "        "
      ]
     },
     "metadata": {},
     "output_type": "display_data"
    }
   ],
   "source": [
    "# For offline use\n",
    "cf.go_offline()"
   ]
  },
  {
   "cell_type": "markdown",
   "metadata": {},
   "source": [
    "### Fake Data"
   ]
  },
  {
   "cell_type": "code",
   "execution_count": 33,
   "metadata": {},
   "outputs": [],
   "source": [
    "df = pd.DataFrame(np.random.randn(100,4),columns='A B C D'.split())"
   ]
  },
  {
   "cell_type": "code",
   "execution_count": 34,
   "metadata": {},
   "outputs": [
    {
     "data": {
      "text/html": [
       "<div>\n",
       "<style scoped>\n",
       "    .dataframe tbody tr th:only-of-type {\n",
       "        vertical-align: middle;\n",
       "    }\n",
       "\n",
       "    .dataframe tbody tr th {\n",
       "        vertical-align: top;\n",
       "    }\n",
       "\n",
       "    .dataframe thead th {\n",
       "        text-align: right;\n",
       "    }\n",
       "</style>\n",
       "<table border=\"1\" class=\"dataframe\">\n",
       "  <thead>\n",
       "    <tr style=\"text-align: right;\">\n",
       "      <th></th>\n",
       "      <th>A</th>\n",
       "      <th>B</th>\n",
       "      <th>C</th>\n",
       "      <th>D</th>\n",
       "    </tr>\n",
       "  </thead>\n",
       "  <tbody>\n",
       "    <tr>\n",
       "      <td>0</td>\n",
       "      <td>-1.505539</td>\n",
       "      <td>2.495943</td>\n",
       "      <td>-0.607084</td>\n",
       "      <td>-0.285765</td>\n",
       "    </tr>\n",
       "    <tr>\n",
       "      <td>1</td>\n",
       "      <td>-1.528134</td>\n",
       "      <td>0.927658</td>\n",
       "      <td>-1.550187</td>\n",
       "      <td>0.295240</td>\n",
       "    </tr>\n",
       "    <tr>\n",
       "      <td>2</td>\n",
       "      <td>0.547538</td>\n",
       "      <td>1.005034</td>\n",
       "      <td>0.074022</td>\n",
       "      <td>0.719180</td>\n",
       "    </tr>\n",
       "    <tr>\n",
       "      <td>3</td>\n",
       "      <td>-0.501154</td>\n",
       "      <td>-1.341420</td>\n",
       "      <td>-1.672760</td>\n",
       "      <td>1.375699</td>\n",
       "    </tr>\n",
       "    <tr>\n",
       "      <td>4</td>\n",
       "      <td>-1.134228</td>\n",
       "      <td>0.874649</td>\n",
       "      <td>-1.774758</td>\n",
       "      <td>-0.773903</td>\n",
       "    </tr>\n",
       "  </tbody>\n",
       "</table>\n",
       "</div>"
      ],
      "text/plain": [
       "          A         B         C         D\n",
       "0 -1.505539  2.495943 -0.607084 -0.285765\n",
       "1 -1.528134  0.927658 -1.550187  0.295240\n",
       "2  0.547538  1.005034  0.074022  0.719180\n",
       "3 -0.501154 -1.341420 -1.672760  1.375699\n",
       "4 -1.134228  0.874649 -1.774758 -0.773903"
      ]
     },
     "execution_count": 34,
     "metadata": {},
     "output_type": "execute_result"
    }
   ],
   "source": [
    "df.head()"
   ]
  },
  {
   "cell_type": "code",
   "execution_count": 35,
   "metadata": {},
   "outputs": [],
   "source": [
    "df2 = pd.DataFrame({'Category':['A','B','C'],'Values':[32,43,50]})"
   ]
  },
  {
   "cell_type": "code",
   "execution_count": 36,
   "metadata": {},
   "outputs": [
    {
     "data": {
      "text/html": [
       "<div>\n",
       "<style scoped>\n",
       "    .dataframe tbody tr th:only-of-type {\n",
       "        vertical-align: middle;\n",
       "    }\n",
       "\n",
       "    .dataframe tbody tr th {\n",
       "        vertical-align: top;\n",
       "    }\n",
       "\n",
       "    .dataframe thead th {\n",
       "        text-align: right;\n",
       "    }\n",
       "</style>\n",
       "<table border=\"1\" class=\"dataframe\">\n",
       "  <thead>\n",
       "    <tr style=\"text-align: right;\">\n",
       "      <th></th>\n",
       "      <th>Category</th>\n",
       "      <th>Values</th>\n",
       "    </tr>\n",
       "  </thead>\n",
       "  <tbody>\n",
       "    <tr>\n",
       "      <td>0</td>\n",
       "      <td>A</td>\n",
       "      <td>32</td>\n",
       "    </tr>\n",
       "    <tr>\n",
       "      <td>1</td>\n",
       "      <td>B</td>\n",
       "      <td>43</td>\n",
       "    </tr>\n",
       "    <tr>\n",
       "      <td>2</td>\n",
       "      <td>C</td>\n",
       "      <td>50</td>\n",
       "    </tr>\n",
       "  </tbody>\n",
       "</table>\n",
       "</div>"
      ],
      "text/plain": [
       "  Category  Values\n",
       "0        A      32\n",
       "1        B      43\n",
       "2        C      50"
      ]
     },
     "execution_count": 36,
     "metadata": {},
     "output_type": "execute_result"
    }
   ],
   "source": [
    "df2.head()"
   ]
  },
  {
   "cell_type": "markdown",
   "metadata": {},
   "source": [
    "## Using Cufflinks and iplot()\n",
    "\n",
    "* scatter\n",
    "* bar\n",
    "* box\n",
    "* spread\n",
    "* ratio\n",
    "* heatmap\n",
    "* surface\n",
    "* histogram\n",
    "* bubble"
   ]
  },
  {
   "cell_type": "markdown",
   "metadata": {},
   "source": [
    "## Scatter"
   ]
  },
  {
   "cell_type": "code",
   "execution_count": 37,
   "metadata": {},
   "outputs": [
    {
     "data": {
      "application/vnd.plotly.v1+json": {
       "config": {
        "linkText": "Export to plot.ly",
        "plotlyServerURL": "https://plot.ly",
        "showLink": true
       },
       "data": [
        {
         "line": {
          "color": "rgba(255, 153, 51, 1.0)",
          "dash": "solid",
          "shape": "linear",
          "width": 1.3
         },
         "marker": {
          "size": 10,
          "symbol": "circle"
         },
         "mode": "markers",
         "name": "B",
         "text": "",
         "type": "scatter",
         "x": [
          -1.5055387470969204,
          -1.5281336080932433,
          0.5475375225269746,
          -0.5011536835325386,
          -1.1342277894161847,
          -1.3421654609689813,
          1.0480587954437626,
          0.1079858186458624,
          -0.5188967289497634,
          -0.2365765719760372,
          -0.6671966901411546,
          0.4808958294390424,
          0.2543237589685781,
          0.6624634680374704,
          -1.8806637507850557,
          -1.7714952898637082,
          -0.1450552767082512,
          0.3258012317547289,
          -1.9793404774159449,
          -1.837133213610893,
          1.2048818510023436,
          -1.2146576222324894,
          0.10051316757305068,
          0.6503065455095138,
          -0.1037762205561722,
          1.5796280422577185,
          0.24683397628064682,
          -0.19632846361111042,
          -1.659879956912887,
          -0.7362869487055028,
          0.696560945958403,
          0.35011393191088397,
          -0.22294636893507996,
          -0.4490245617166439,
          -0.03413210591976646,
          0.3813225689164726,
          -0.06804276535356155,
          -1.017866017986653,
          -0.48305879639553495,
          -0.8421918238373384,
          0.09428074990969793,
          -0.3709780159244891,
          -2.4496465657011495,
          1.0103436605626173,
          1.246075620844197,
          1.1997700774819116,
          1.594497731670918,
          -0.22731603166056338,
          0.6569588970958761,
          0.09856549719926379,
          -0.8922698305611144,
          -0.9138306160664806,
          0.5356427374304688,
          -0.287939493916266,
          -0.21742881701656078,
          -0.8522247181710058,
          -0.5253701618708698,
          1.5428396249131306,
          0.3411566218250933,
          0.49922207449863165,
          1.323964658717949,
          -1.3824171121263014,
          0.9701483427037748,
          0.4401818048772333,
          1.3076536066443993,
          2.355220713044908,
          0.3330440295546341,
          -0.24749042740682606,
          1.4700037958120582,
          0.5275901521486961,
          0.2318440908726942,
          0.830445816962907,
          -0.5513743588021469,
          -0.20295015318623347,
          -0.836131924104717,
          -0.7937607157928708,
          1.3319788440982268,
          -1.047455664669664,
          1.0156429726730842,
          0.07046136873997877,
          -1.1429664531146777,
          -0.8423125200880234,
          -1.7088559269805108,
          0.23054946399192716,
          1.2853740970875533,
          0.7466025932529883,
          1.5283495573924988,
          -0.0008903010811767334,
          -0.5698892720745149,
          -1.7421401214515508,
          -0.4387436019528569,
          0.8418373255406498,
          -0.9637173207896174,
          2.117703825261018,
          0.9834391674180394,
          0.3674088194285618,
          1.5588053824031243,
          0.2811852508479091,
          -1.7212704314648224,
          1.0067873970433072
         ],
         "y": [
          2.4959431719015757,
          0.9276577510015102,
          1.0050336280819714,
          -1.3414197951503666,
          0.8746494229204337,
          1.540503680338683,
          0.36341469733085086,
          0.2725456247333992,
          1.8256614150093526,
          0.4156453561321367,
          1.4259125348996546,
          0.5946871352044677,
          -0.996617192940703,
          -1.7343975620344267,
          1.2605362115718608,
          0.7792065667383924,
          -0.598165859683212,
          0.3141166478645829,
          2.028966264269778,
          -0.29196792479850614,
          0.18451884374077343,
          0.8624614728842477,
          0.3480036276243098,
          0.9367617347955924,
          0.029764440610968956,
          0.43061141935071345,
          -0.4186082014870178,
          -1.7469339996527733,
          -0.6344513661954309,
          1.3582828527644264,
          -0.17399511524737038,
          0.2331979361358069,
          -0.5836430876609441,
          -0.5091931531527603,
          -1.8430549827322322,
          0.37972796141810045,
          -1.3500784339650678,
          -0.45771898539282563,
          1.2708557850766116,
          -0.5777786253036234,
          -1.2136208429910493,
          0.15180784778636058,
          0.2518712007834114,
          0.08812308785230992,
          -1.2262731538059652,
          -0.5228326084951959,
          0.19439384594219133,
          -0.9677730140765817,
          0.557013465619875,
          -2.6221107321614343,
          0.34155621542304865,
          -1.0928749241983184,
          1.39021765404278,
          -1.098393256437507,
          1.365337542457722,
          -0.5707302449812107,
          -1.2005965785299708,
          -1.3298935269144292,
          -0.9460922681345796,
          -2.4804821303330415,
          0.2794024307283462,
          -0.2128762900828223,
          -1.3961752300117987,
          -0.6975097022746658,
          0.7203967384329273,
          0.29590483041240295,
          0.8214083566509665,
          -1.6138757379035886,
          0.48213257156387984,
          -0.31657725802601844,
          1.0036338052593803,
          -0.10501177153419351,
          -0.8632321261513736,
          0.8360545538876548,
          0.6452586861239282,
          -0.2313606912932169,
          0.15547924818340117,
          1.0450768088182119,
          -1.4390022209407076,
          0.13533822747627927,
          -0.5688684967823189,
          -1.8417192752743694,
          -1.2450741247080495,
          0.1405813522908807,
          -0.041901845147847776,
          -0.3785270769658319,
          -1.0026510762222551,
          0.7792789540191182,
          -1.3267008036468066,
          -0.9617055507968908,
          3.3011836296868546,
          -0.5845028743081897,
          -0.38304968847196313,
          -1.2753623714544455,
          -1.0490741676789088,
          -0.007588023951681576,
          1.2022958402644337,
          1.2222414150527166,
          -1.1693910600131703,
          -1.01440354370347
         ]
        }
       ],
       "layout": {
        "legend": {
         "bgcolor": "#F5F6F9",
         "font": {
          "color": "#4D5663"
         }
        },
        "paper_bgcolor": "#F5F6F9",
        "plot_bgcolor": "#F5F6F9",
        "template": {
         "data": {
          "bar": [
           {
            "error_x": {
             "color": "#2a3f5f"
            },
            "error_y": {
             "color": "#2a3f5f"
            },
            "marker": {
             "line": {
              "color": "#E5ECF6",
              "width": 0.5
             }
            },
            "type": "bar"
           }
          ],
          "barpolar": [
           {
            "marker": {
             "line": {
              "color": "#E5ECF6",
              "width": 0.5
             }
            },
            "type": "barpolar"
           }
          ],
          "carpet": [
           {
            "aaxis": {
             "endlinecolor": "#2a3f5f",
             "gridcolor": "white",
             "linecolor": "white",
             "minorgridcolor": "white",
             "startlinecolor": "#2a3f5f"
            },
            "baxis": {
             "endlinecolor": "#2a3f5f",
             "gridcolor": "white",
             "linecolor": "white",
             "minorgridcolor": "white",
             "startlinecolor": "#2a3f5f"
            },
            "type": "carpet"
           }
          ],
          "choropleth": [
           {
            "colorbar": {
             "outlinewidth": 0,
             "ticks": ""
            },
            "type": "choropleth"
           }
          ],
          "contour": [
           {
            "colorbar": {
             "outlinewidth": 0,
             "ticks": ""
            },
            "colorscale": [
             [
              0,
              "#0d0887"
             ],
             [
              0.1111111111111111,
              "#46039f"
             ],
             [
              0.2222222222222222,
              "#7201a8"
             ],
             [
              0.3333333333333333,
              "#9c179e"
             ],
             [
              0.4444444444444444,
              "#bd3786"
             ],
             [
              0.5555555555555556,
              "#d8576b"
             ],
             [
              0.6666666666666666,
              "#ed7953"
             ],
             [
              0.7777777777777778,
              "#fb9f3a"
             ],
             [
              0.8888888888888888,
              "#fdca26"
             ],
             [
              1,
              "#f0f921"
             ]
            ],
            "type": "contour"
           }
          ],
          "contourcarpet": [
           {
            "colorbar": {
             "outlinewidth": 0,
             "ticks": ""
            },
            "type": "contourcarpet"
           }
          ],
          "heatmap": [
           {
            "colorbar": {
             "outlinewidth": 0,
             "ticks": ""
            },
            "colorscale": [
             [
              0,
              "#0d0887"
             ],
             [
              0.1111111111111111,
              "#46039f"
             ],
             [
              0.2222222222222222,
              "#7201a8"
             ],
             [
              0.3333333333333333,
              "#9c179e"
             ],
             [
              0.4444444444444444,
              "#bd3786"
             ],
             [
              0.5555555555555556,
              "#d8576b"
             ],
             [
              0.6666666666666666,
              "#ed7953"
             ],
             [
              0.7777777777777778,
              "#fb9f3a"
             ],
             [
              0.8888888888888888,
              "#fdca26"
             ],
             [
              1,
              "#f0f921"
             ]
            ],
            "type": "heatmap"
           }
          ],
          "heatmapgl": [
           {
            "colorbar": {
             "outlinewidth": 0,
             "ticks": ""
            },
            "colorscale": [
             [
              0,
              "#0d0887"
             ],
             [
              0.1111111111111111,
              "#46039f"
             ],
             [
              0.2222222222222222,
              "#7201a8"
             ],
             [
              0.3333333333333333,
              "#9c179e"
             ],
             [
              0.4444444444444444,
              "#bd3786"
             ],
             [
              0.5555555555555556,
              "#d8576b"
             ],
             [
              0.6666666666666666,
              "#ed7953"
             ],
             [
              0.7777777777777778,
              "#fb9f3a"
             ],
             [
              0.8888888888888888,
              "#fdca26"
             ],
             [
              1,
              "#f0f921"
             ]
            ],
            "type": "heatmapgl"
           }
          ],
          "histogram": [
           {
            "marker": {
             "colorbar": {
              "outlinewidth": 0,
              "ticks": ""
             }
            },
            "type": "histogram"
           }
          ],
          "histogram2d": [
           {
            "colorbar": {
             "outlinewidth": 0,
             "ticks": ""
            },
            "colorscale": [
             [
              0,
              "#0d0887"
             ],
             [
              0.1111111111111111,
              "#46039f"
             ],
             [
              0.2222222222222222,
              "#7201a8"
             ],
             [
              0.3333333333333333,
              "#9c179e"
             ],
             [
              0.4444444444444444,
              "#bd3786"
             ],
             [
              0.5555555555555556,
              "#d8576b"
             ],
             [
              0.6666666666666666,
              "#ed7953"
             ],
             [
              0.7777777777777778,
              "#fb9f3a"
             ],
             [
              0.8888888888888888,
              "#fdca26"
             ],
             [
              1,
              "#f0f921"
             ]
            ],
            "type": "histogram2d"
           }
          ],
          "histogram2dcontour": [
           {
            "colorbar": {
             "outlinewidth": 0,
             "ticks": ""
            },
            "colorscale": [
             [
              0,
              "#0d0887"
             ],
             [
              0.1111111111111111,
              "#46039f"
             ],
             [
              0.2222222222222222,
              "#7201a8"
             ],
             [
              0.3333333333333333,
              "#9c179e"
             ],
             [
              0.4444444444444444,
              "#bd3786"
             ],
             [
              0.5555555555555556,
              "#d8576b"
             ],
             [
              0.6666666666666666,
              "#ed7953"
             ],
             [
              0.7777777777777778,
              "#fb9f3a"
             ],
             [
              0.8888888888888888,
              "#fdca26"
             ],
             [
              1,
              "#f0f921"
             ]
            ],
            "type": "histogram2dcontour"
           }
          ],
          "mesh3d": [
           {
            "colorbar": {
             "outlinewidth": 0,
             "ticks": ""
            },
            "type": "mesh3d"
           }
          ],
          "parcoords": [
           {
            "line": {
             "colorbar": {
              "outlinewidth": 0,
              "ticks": ""
             }
            },
            "type": "parcoords"
           }
          ],
          "pie": [
           {
            "automargin": true,
            "type": "pie"
           }
          ],
          "scatter": [
           {
            "marker": {
             "colorbar": {
              "outlinewidth": 0,
              "ticks": ""
             }
            },
            "type": "scatter"
           }
          ],
          "scatter3d": [
           {
            "line": {
             "colorbar": {
              "outlinewidth": 0,
              "ticks": ""
             }
            },
            "marker": {
             "colorbar": {
              "outlinewidth": 0,
              "ticks": ""
             }
            },
            "type": "scatter3d"
           }
          ],
          "scattercarpet": [
           {
            "marker": {
             "colorbar": {
              "outlinewidth": 0,
              "ticks": ""
             }
            },
            "type": "scattercarpet"
           }
          ],
          "scattergeo": [
           {
            "marker": {
             "colorbar": {
              "outlinewidth": 0,
              "ticks": ""
             }
            },
            "type": "scattergeo"
           }
          ],
          "scattergl": [
           {
            "marker": {
             "colorbar": {
              "outlinewidth": 0,
              "ticks": ""
             }
            },
            "type": "scattergl"
           }
          ],
          "scattermapbox": [
           {
            "marker": {
             "colorbar": {
              "outlinewidth": 0,
              "ticks": ""
             }
            },
            "type": "scattermapbox"
           }
          ],
          "scatterpolar": [
           {
            "marker": {
             "colorbar": {
              "outlinewidth": 0,
              "ticks": ""
             }
            },
            "type": "scatterpolar"
           }
          ],
          "scatterpolargl": [
           {
            "marker": {
             "colorbar": {
              "outlinewidth": 0,
              "ticks": ""
             }
            },
            "type": "scatterpolargl"
           }
          ],
          "scatterternary": [
           {
            "marker": {
             "colorbar": {
              "outlinewidth": 0,
              "ticks": ""
             }
            },
            "type": "scatterternary"
           }
          ],
          "surface": [
           {
            "colorbar": {
             "outlinewidth": 0,
             "ticks": ""
            },
            "colorscale": [
             [
              0,
              "#0d0887"
             ],
             [
              0.1111111111111111,
              "#46039f"
             ],
             [
              0.2222222222222222,
              "#7201a8"
             ],
             [
              0.3333333333333333,
              "#9c179e"
             ],
             [
              0.4444444444444444,
              "#bd3786"
             ],
             [
              0.5555555555555556,
              "#d8576b"
             ],
             [
              0.6666666666666666,
              "#ed7953"
             ],
             [
              0.7777777777777778,
              "#fb9f3a"
             ],
             [
              0.8888888888888888,
              "#fdca26"
             ],
             [
              1,
              "#f0f921"
             ]
            ],
            "type": "surface"
           }
          ],
          "table": [
           {
            "cells": {
             "fill": {
              "color": "#EBF0F8"
             },
             "line": {
              "color": "white"
             }
            },
            "header": {
             "fill": {
              "color": "#C8D4E3"
             },
             "line": {
              "color": "white"
             }
            },
            "type": "table"
           }
          ]
         },
         "layout": {
          "annotationdefaults": {
           "arrowcolor": "#2a3f5f",
           "arrowhead": 0,
           "arrowwidth": 1
          },
          "autotypenumbers": "strict",
          "coloraxis": {
           "colorbar": {
            "outlinewidth": 0,
            "ticks": ""
           }
          },
          "colorscale": {
           "diverging": [
            [
             0,
             "#8e0152"
            ],
            [
             0.1,
             "#c51b7d"
            ],
            [
             0.2,
             "#de77ae"
            ],
            [
             0.3,
             "#f1b6da"
            ],
            [
             0.4,
             "#fde0ef"
            ],
            [
             0.5,
             "#f7f7f7"
            ],
            [
             0.6,
             "#e6f5d0"
            ],
            [
             0.7,
             "#b8e186"
            ],
            [
             0.8,
             "#7fbc41"
            ],
            [
             0.9,
             "#4d9221"
            ],
            [
             1,
             "#276419"
            ]
           ],
           "sequential": [
            [
             0,
             "#0d0887"
            ],
            [
             0.1111111111111111,
             "#46039f"
            ],
            [
             0.2222222222222222,
             "#7201a8"
            ],
            [
             0.3333333333333333,
             "#9c179e"
            ],
            [
             0.4444444444444444,
             "#bd3786"
            ],
            [
             0.5555555555555556,
             "#d8576b"
            ],
            [
             0.6666666666666666,
             "#ed7953"
            ],
            [
             0.7777777777777778,
             "#fb9f3a"
            ],
            [
             0.8888888888888888,
             "#fdca26"
            ],
            [
             1,
             "#f0f921"
            ]
           ],
           "sequentialminus": [
            [
             0,
             "#0d0887"
            ],
            [
             0.1111111111111111,
             "#46039f"
            ],
            [
             0.2222222222222222,
             "#7201a8"
            ],
            [
             0.3333333333333333,
             "#9c179e"
            ],
            [
             0.4444444444444444,
             "#bd3786"
            ],
            [
             0.5555555555555556,
             "#d8576b"
            ],
            [
             0.6666666666666666,
             "#ed7953"
            ],
            [
             0.7777777777777778,
             "#fb9f3a"
            ],
            [
             0.8888888888888888,
             "#fdca26"
            ],
            [
             1,
             "#f0f921"
            ]
           ]
          },
          "colorway": [
           "#636efa",
           "#EF553B",
           "#00cc96",
           "#ab63fa",
           "#FFA15A",
           "#19d3f3",
           "#FF6692",
           "#B6E880",
           "#FF97FF",
           "#FECB52"
          ],
          "font": {
           "color": "#2a3f5f"
          },
          "geo": {
           "bgcolor": "white",
           "lakecolor": "white",
           "landcolor": "#E5ECF6",
           "showlakes": true,
           "showland": true,
           "subunitcolor": "white"
          },
          "hoverlabel": {
           "align": "left"
          },
          "hovermode": "closest",
          "mapbox": {
           "style": "light"
          },
          "paper_bgcolor": "white",
          "plot_bgcolor": "#E5ECF6",
          "polar": {
           "angularaxis": {
            "gridcolor": "white",
            "linecolor": "white",
            "ticks": ""
           },
           "bgcolor": "#E5ECF6",
           "radialaxis": {
            "gridcolor": "white",
            "linecolor": "white",
            "ticks": ""
           }
          },
          "scene": {
           "xaxis": {
            "backgroundcolor": "#E5ECF6",
            "gridcolor": "white",
            "gridwidth": 2,
            "linecolor": "white",
            "showbackground": true,
            "ticks": "",
            "zerolinecolor": "white"
           },
           "yaxis": {
            "backgroundcolor": "#E5ECF6",
            "gridcolor": "white",
            "gridwidth": 2,
            "linecolor": "white",
            "showbackground": true,
            "ticks": "",
            "zerolinecolor": "white"
           },
           "zaxis": {
            "backgroundcolor": "#E5ECF6",
            "gridcolor": "white",
            "gridwidth": 2,
            "linecolor": "white",
            "showbackground": true,
            "ticks": "",
            "zerolinecolor": "white"
           }
          },
          "shapedefaults": {
           "line": {
            "color": "#2a3f5f"
           }
          },
          "ternary": {
           "aaxis": {
            "gridcolor": "white",
            "linecolor": "white",
            "ticks": ""
           },
           "baxis": {
            "gridcolor": "white",
            "linecolor": "white",
            "ticks": ""
           },
           "bgcolor": "#E5ECF6",
           "caxis": {
            "gridcolor": "white",
            "linecolor": "white",
            "ticks": ""
           }
          },
          "title": {
           "x": 0.05
          },
          "xaxis": {
           "automargin": true,
           "gridcolor": "white",
           "linecolor": "white",
           "ticks": "",
           "title": {
            "standoff": 15
           },
           "zerolinecolor": "white",
           "zerolinewidth": 2
          },
          "yaxis": {
           "automargin": true,
           "gridcolor": "white",
           "linecolor": "white",
           "ticks": "",
           "title": {
            "standoff": 15
           },
           "zerolinecolor": "white",
           "zerolinewidth": 2
          }
         }
        },
        "title": {
         "font": {
          "color": "#4D5663"
         }
        },
        "xaxis": {
         "gridcolor": "#E1E5ED",
         "showgrid": true,
         "tickfont": {
          "color": "#4D5663"
         },
         "title": {
          "font": {
           "color": "#4D5663"
          },
          "text": ""
         },
         "zerolinecolor": "#E1E5ED"
        },
        "yaxis": {
         "gridcolor": "#E1E5ED",
         "showgrid": true,
         "tickfont": {
          "color": "#4D5663"
         },
         "title": {
          "font": {
           "color": "#4D5663"
          },
          "text": ""
         },
         "zerolinecolor": "#E1E5ED"
        }
       }
      },
      "text/html": [
       "<div>                            <div id=\"e81bc3cb-e986-408e-8058-ba44968cc3fd\" class=\"plotly-graph-div\" style=\"height:525px; width:100%;\"></div>            <script type=\"text/javascript\">                require([\"plotly\"], function(Plotly) {                    window.PLOTLYENV=window.PLOTLYENV || {};\n",
       "                    window.PLOTLYENV.BASE_URL='https://plot.ly';                                    if (document.getElementById(\"e81bc3cb-e986-408e-8058-ba44968cc3fd\")) {                    Plotly.newPlot(                        \"e81bc3cb-e986-408e-8058-ba44968cc3fd\",                        [{\"line\": {\"color\": \"rgba(255, 153, 51, 1.0)\", \"dash\": \"solid\", \"shape\": \"linear\", \"width\": 1.3}, \"marker\": {\"size\": 10, \"symbol\": \"circle\"}, \"mode\": \"markers\", \"name\": \"B\", \"text\": \"\", \"type\": \"scatter\", \"x\": [-1.5055387470969204, -1.5281336080932433, 0.5475375225269746, -0.5011536835325386, -1.1342277894161847, -1.3421654609689813, 1.0480587954437626, 0.1079858186458624, -0.5188967289497634, -0.2365765719760372, -0.6671966901411546, 0.4808958294390424, 0.2543237589685781, 0.6624634680374704, -1.8806637507850557, -1.7714952898637082, -0.1450552767082512, 0.3258012317547289, -1.9793404774159449, -1.837133213610893, 1.2048818510023436, -1.2146576222324894, 0.10051316757305068, 0.6503065455095138, -0.1037762205561722, 1.5796280422577185, 0.24683397628064682, -0.19632846361111042, -1.659879956912887, -0.7362869487055028, 0.696560945958403, 0.35011393191088397, -0.22294636893507996, -0.4490245617166439, -0.03413210591976646, 0.3813225689164726, -0.06804276535356155, -1.017866017986653, -0.48305879639553495, -0.8421918238373384, 0.09428074990969793, -0.3709780159244891, -2.4496465657011495, 1.0103436605626173, 1.246075620844197, 1.1997700774819116, 1.594497731670918, -0.22731603166056338, 0.6569588970958761, 0.09856549719926379, -0.8922698305611144, -0.9138306160664806, 0.5356427374304688, -0.287939493916266, -0.21742881701656078, -0.8522247181710058, -0.5253701618708698, 1.5428396249131306, 0.3411566218250933, 0.49922207449863165, 1.323964658717949, -1.3824171121263014, 0.9701483427037748, 0.4401818048772333, 1.3076536066443993, 2.355220713044908, 0.3330440295546341, -0.24749042740682606, 1.4700037958120582, 0.5275901521486961, 0.2318440908726942, 0.830445816962907, -0.5513743588021469, -0.20295015318623347, -0.836131924104717, -0.7937607157928708, 1.3319788440982268, -1.047455664669664, 1.0156429726730842, 0.07046136873997877, -1.1429664531146777, -0.8423125200880234, -1.7088559269805108, 0.23054946399192716, 1.2853740970875533, 0.7466025932529883, 1.5283495573924988, -0.0008903010811767334, -0.5698892720745149, -1.7421401214515508, -0.4387436019528569, 0.8418373255406498, -0.9637173207896174, 2.117703825261018, 0.9834391674180394, 0.3674088194285618, 1.5588053824031243, 0.2811852508479091, -1.7212704314648224, 1.0067873970433072], \"y\": [2.4959431719015757, 0.9276577510015102, 1.0050336280819714, -1.3414197951503666, 0.8746494229204337, 1.540503680338683, 0.36341469733085086, 0.2725456247333992, 1.8256614150093526, 0.4156453561321367, 1.4259125348996546, 0.5946871352044677, -0.996617192940703, -1.7343975620344267, 1.2605362115718608, 0.7792065667383924, -0.598165859683212, 0.3141166478645829, 2.028966264269778, -0.29196792479850614, 0.18451884374077343, 0.8624614728842477, 0.3480036276243098, 0.9367617347955924, 0.029764440610968956, 0.43061141935071345, -0.4186082014870178, -1.7469339996527733, -0.6344513661954309, 1.3582828527644264, -0.17399511524737038, 0.2331979361358069, -0.5836430876609441, -0.5091931531527603, -1.8430549827322322, 0.37972796141810045, -1.3500784339650678, -0.45771898539282563, 1.2708557850766116, -0.5777786253036234, -1.2136208429910493, 0.15180784778636058, 0.2518712007834114, 0.08812308785230992, -1.2262731538059652, -0.5228326084951959, 0.19439384594219133, -0.9677730140765817, 0.557013465619875, -2.6221107321614343, 0.34155621542304865, -1.0928749241983184, 1.39021765404278, -1.098393256437507, 1.365337542457722, -0.5707302449812107, -1.2005965785299708, -1.3298935269144292, -0.9460922681345796, -2.4804821303330415, 0.2794024307283462, -0.2128762900828223, -1.3961752300117987, -0.6975097022746658, 0.7203967384329273, 0.29590483041240295, 0.8214083566509665, -1.6138757379035886, 0.48213257156387984, -0.31657725802601844, 1.0036338052593803, -0.10501177153419351, -0.8632321261513736, 0.8360545538876548, 0.6452586861239282, -0.2313606912932169, 0.15547924818340117, 1.0450768088182119, -1.4390022209407076, 0.13533822747627927, -0.5688684967823189, -1.8417192752743694, -1.2450741247080495, 0.1405813522908807, -0.041901845147847776, -0.3785270769658319, -1.0026510762222551, 0.7792789540191182, -1.3267008036468066, -0.9617055507968908, 3.3011836296868546, -0.5845028743081897, -0.38304968847196313, -1.2753623714544455, -1.0490741676789088, -0.007588023951681576, 1.2022958402644337, 1.2222414150527166, -1.1693910600131703, -1.01440354370347]}],                        {\"legend\": {\"bgcolor\": \"#F5F6F9\", \"font\": {\"color\": \"#4D5663\"}}, \"paper_bgcolor\": \"#F5F6F9\", \"plot_bgcolor\": \"#F5F6F9\", \"template\": {\"data\": {\"bar\": [{\"error_x\": {\"color\": \"#2a3f5f\"}, \"error_y\": {\"color\": \"#2a3f5f\"}, \"marker\": {\"line\": {\"color\": \"#E5ECF6\", \"width\": 0.5}}, \"type\": \"bar\"}], \"barpolar\": [{\"marker\": {\"line\": {\"color\": \"#E5ECF6\", \"width\": 0.5}}, \"type\": \"barpolar\"}], \"carpet\": [{\"aaxis\": {\"endlinecolor\": \"#2a3f5f\", \"gridcolor\": \"white\", \"linecolor\": \"white\", \"minorgridcolor\": \"white\", \"startlinecolor\": \"#2a3f5f\"}, \"baxis\": {\"endlinecolor\": \"#2a3f5f\", \"gridcolor\": \"white\", \"linecolor\": \"white\", \"minorgridcolor\": \"white\", \"startlinecolor\": \"#2a3f5f\"}, \"type\": \"carpet\"}], \"choropleth\": [{\"colorbar\": {\"outlinewidth\": 0, \"ticks\": \"\"}, \"type\": \"choropleth\"}], \"contour\": [{\"colorbar\": {\"outlinewidth\": 0, \"ticks\": \"\"}, \"colorscale\": [[0.0, \"#0d0887\"], [0.1111111111111111, \"#46039f\"], [0.2222222222222222, \"#7201a8\"], [0.3333333333333333, \"#9c179e\"], [0.4444444444444444, \"#bd3786\"], [0.5555555555555556, \"#d8576b\"], [0.6666666666666666, \"#ed7953\"], [0.7777777777777778, \"#fb9f3a\"], [0.8888888888888888, \"#fdca26\"], [1.0, \"#f0f921\"]], \"type\": \"contour\"}], \"contourcarpet\": [{\"colorbar\": {\"outlinewidth\": 0, \"ticks\": \"\"}, \"type\": \"contourcarpet\"}], \"heatmap\": [{\"colorbar\": {\"outlinewidth\": 0, \"ticks\": \"\"}, \"colorscale\": [[0.0, \"#0d0887\"], [0.1111111111111111, \"#46039f\"], [0.2222222222222222, \"#7201a8\"], [0.3333333333333333, \"#9c179e\"], [0.4444444444444444, \"#bd3786\"], [0.5555555555555556, \"#d8576b\"], [0.6666666666666666, \"#ed7953\"], [0.7777777777777778, \"#fb9f3a\"], [0.8888888888888888, \"#fdca26\"], [1.0, \"#f0f921\"]], \"type\": \"heatmap\"}], \"heatmapgl\": [{\"colorbar\": {\"outlinewidth\": 0, \"ticks\": \"\"}, \"colorscale\": [[0.0, \"#0d0887\"], [0.1111111111111111, \"#46039f\"], [0.2222222222222222, \"#7201a8\"], [0.3333333333333333, \"#9c179e\"], [0.4444444444444444, \"#bd3786\"], [0.5555555555555556, \"#d8576b\"], [0.6666666666666666, \"#ed7953\"], [0.7777777777777778, \"#fb9f3a\"], [0.8888888888888888, \"#fdca26\"], [1.0, \"#f0f921\"]], \"type\": \"heatmapgl\"}], \"histogram\": [{\"marker\": {\"colorbar\": {\"outlinewidth\": 0, \"ticks\": \"\"}}, \"type\": \"histogram\"}], \"histogram2d\": [{\"colorbar\": {\"outlinewidth\": 0, \"ticks\": \"\"}, \"colorscale\": [[0.0, \"#0d0887\"], [0.1111111111111111, \"#46039f\"], [0.2222222222222222, \"#7201a8\"], [0.3333333333333333, \"#9c179e\"], [0.4444444444444444, \"#bd3786\"], [0.5555555555555556, \"#d8576b\"], [0.6666666666666666, \"#ed7953\"], [0.7777777777777778, \"#fb9f3a\"], [0.8888888888888888, \"#fdca26\"], [1.0, \"#f0f921\"]], \"type\": \"histogram2d\"}], \"histogram2dcontour\": [{\"colorbar\": {\"outlinewidth\": 0, \"ticks\": \"\"}, \"colorscale\": [[0.0, \"#0d0887\"], [0.1111111111111111, \"#46039f\"], [0.2222222222222222, \"#7201a8\"], [0.3333333333333333, \"#9c179e\"], [0.4444444444444444, \"#bd3786\"], [0.5555555555555556, \"#d8576b\"], [0.6666666666666666, \"#ed7953\"], [0.7777777777777778, \"#fb9f3a\"], [0.8888888888888888, \"#fdca26\"], [1.0, \"#f0f921\"]], \"type\": \"histogram2dcontour\"}], \"mesh3d\": [{\"colorbar\": {\"outlinewidth\": 0, \"ticks\": \"\"}, \"type\": \"mesh3d\"}], \"parcoords\": [{\"line\": {\"colorbar\": {\"outlinewidth\": 0, \"ticks\": \"\"}}, \"type\": \"parcoords\"}], \"pie\": [{\"automargin\": true, \"type\": \"pie\"}], \"scatter\": [{\"marker\": {\"colorbar\": {\"outlinewidth\": 0, \"ticks\": \"\"}}, \"type\": \"scatter\"}], \"scatter3d\": [{\"line\": {\"colorbar\": {\"outlinewidth\": 0, \"ticks\": \"\"}}, \"marker\": {\"colorbar\": {\"outlinewidth\": 0, \"ticks\": \"\"}}, \"type\": \"scatter3d\"}], \"scattercarpet\": [{\"marker\": {\"colorbar\": {\"outlinewidth\": 0, \"ticks\": \"\"}}, \"type\": \"scattercarpet\"}], \"scattergeo\": [{\"marker\": {\"colorbar\": {\"outlinewidth\": 0, \"ticks\": \"\"}}, \"type\": \"scattergeo\"}], \"scattergl\": [{\"marker\": {\"colorbar\": {\"outlinewidth\": 0, \"ticks\": \"\"}}, \"type\": \"scattergl\"}], \"scattermapbox\": [{\"marker\": {\"colorbar\": {\"outlinewidth\": 0, \"ticks\": \"\"}}, \"type\": \"scattermapbox\"}], \"scatterpolar\": [{\"marker\": {\"colorbar\": {\"outlinewidth\": 0, \"ticks\": \"\"}}, \"type\": \"scatterpolar\"}], \"scatterpolargl\": [{\"marker\": {\"colorbar\": {\"outlinewidth\": 0, \"ticks\": \"\"}}, \"type\": \"scatterpolargl\"}], \"scatterternary\": [{\"marker\": {\"colorbar\": {\"outlinewidth\": 0, \"ticks\": \"\"}}, \"type\": \"scatterternary\"}], \"surface\": [{\"colorbar\": {\"outlinewidth\": 0, \"ticks\": \"\"}, \"colorscale\": [[0.0, \"#0d0887\"], [0.1111111111111111, \"#46039f\"], [0.2222222222222222, \"#7201a8\"], [0.3333333333333333, \"#9c179e\"], [0.4444444444444444, \"#bd3786\"], [0.5555555555555556, \"#d8576b\"], [0.6666666666666666, \"#ed7953\"], [0.7777777777777778, \"#fb9f3a\"], [0.8888888888888888, \"#fdca26\"], [1.0, \"#f0f921\"]], \"type\": \"surface\"}], \"table\": [{\"cells\": {\"fill\": {\"color\": \"#EBF0F8\"}, \"line\": {\"color\": \"white\"}}, \"header\": {\"fill\": {\"color\": \"#C8D4E3\"}, \"line\": {\"color\": \"white\"}}, \"type\": \"table\"}]}, \"layout\": {\"annotationdefaults\": {\"arrowcolor\": \"#2a3f5f\", \"arrowhead\": 0, \"arrowwidth\": 1}, \"autotypenumbers\": \"strict\", \"coloraxis\": {\"colorbar\": {\"outlinewidth\": 0, \"ticks\": \"\"}}, \"colorscale\": {\"diverging\": [[0, \"#8e0152\"], [0.1, \"#c51b7d\"], [0.2, \"#de77ae\"], [0.3, \"#f1b6da\"], [0.4, \"#fde0ef\"], [0.5, \"#f7f7f7\"], [0.6, \"#e6f5d0\"], [0.7, \"#b8e186\"], [0.8, \"#7fbc41\"], [0.9, \"#4d9221\"], [1, \"#276419\"]], \"sequential\": [[0.0, \"#0d0887\"], [0.1111111111111111, \"#46039f\"], [0.2222222222222222, \"#7201a8\"], [0.3333333333333333, \"#9c179e\"], [0.4444444444444444, \"#bd3786\"], [0.5555555555555556, \"#d8576b\"], [0.6666666666666666, \"#ed7953\"], [0.7777777777777778, \"#fb9f3a\"], [0.8888888888888888, \"#fdca26\"], [1.0, \"#f0f921\"]], \"sequentialminus\": [[0.0, \"#0d0887\"], [0.1111111111111111, \"#46039f\"], [0.2222222222222222, \"#7201a8\"], [0.3333333333333333, \"#9c179e\"], [0.4444444444444444, \"#bd3786\"], [0.5555555555555556, \"#d8576b\"], [0.6666666666666666, \"#ed7953\"], [0.7777777777777778, \"#fb9f3a\"], [0.8888888888888888, \"#fdca26\"], [1.0, \"#f0f921\"]]}, \"colorway\": [\"#636efa\", \"#EF553B\", \"#00cc96\", \"#ab63fa\", \"#FFA15A\", \"#19d3f3\", \"#FF6692\", \"#B6E880\", \"#FF97FF\", \"#FECB52\"], \"font\": {\"color\": \"#2a3f5f\"}, \"geo\": {\"bgcolor\": \"white\", \"lakecolor\": \"white\", \"landcolor\": \"#E5ECF6\", \"showlakes\": true, \"showland\": true, \"subunitcolor\": \"white\"}, \"hoverlabel\": {\"align\": \"left\"}, \"hovermode\": \"closest\", \"mapbox\": {\"style\": \"light\"}, \"paper_bgcolor\": \"white\", \"plot_bgcolor\": \"#E5ECF6\", \"polar\": {\"angularaxis\": {\"gridcolor\": \"white\", \"linecolor\": \"white\", \"ticks\": \"\"}, \"bgcolor\": \"#E5ECF6\", \"radialaxis\": {\"gridcolor\": \"white\", \"linecolor\": \"white\", \"ticks\": \"\"}}, \"scene\": {\"xaxis\": {\"backgroundcolor\": \"#E5ECF6\", \"gridcolor\": \"white\", \"gridwidth\": 2, \"linecolor\": \"white\", \"showbackground\": true, \"ticks\": \"\", \"zerolinecolor\": \"white\"}, \"yaxis\": {\"backgroundcolor\": \"#E5ECF6\", \"gridcolor\": \"white\", \"gridwidth\": 2, \"linecolor\": \"white\", \"showbackground\": true, \"ticks\": \"\", \"zerolinecolor\": \"white\"}, \"zaxis\": {\"backgroundcolor\": \"#E5ECF6\", \"gridcolor\": \"white\", \"gridwidth\": 2, \"linecolor\": \"white\", \"showbackground\": true, \"ticks\": \"\", \"zerolinecolor\": \"white\"}}, \"shapedefaults\": {\"line\": {\"color\": \"#2a3f5f\"}}, \"ternary\": {\"aaxis\": {\"gridcolor\": \"white\", \"linecolor\": \"white\", \"ticks\": \"\"}, \"baxis\": {\"gridcolor\": \"white\", \"linecolor\": \"white\", \"ticks\": \"\"}, \"bgcolor\": \"#E5ECF6\", \"caxis\": {\"gridcolor\": \"white\", \"linecolor\": \"white\", \"ticks\": \"\"}}, \"title\": {\"x\": 0.05}, \"xaxis\": {\"automargin\": true, \"gridcolor\": \"white\", \"linecolor\": \"white\", \"ticks\": \"\", \"title\": {\"standoff\": 15}, \"zerolinecolor\": \"white\", \"zerolinewidth\": 2}, \"yaxis\": {\"automargin\": true, \"gridcolor\": \"white\", \"linecolor\": \"white\", \"ticks\": \"\", \"title\": {\"standoff\": 15}, \"zerolinecolor\": \"white\", \"zerolinewidth\": 2}}}, \"title\": {\"font\": {\"color\": \"#4D5663\"}}, \"xaxis\": {\"gridcolor\": \"#E1E5ED\", \"showgrid\": true, \"tickfont\": {\"color\": \"#4D5663\"}, \"title\": {\"font\": {\"color\": \"#4D5663\"}, \"text\": \"\"}, \"zerolinecolor\": \"#E1E5ED\"}, \"yaxis\": {\"gridcolor\": \"#E1E5ED\", \"showgrid\": true, \"tickfont\": {\"color\": \"#4D5663\"}, \"title\": {\"font\": {\"color\": \"#4D5663\"}, \"text\": \"\"}, \"zerolinecolor\": \"#E1E5ED\"}},                        {\"showLink\": true, \"linkText\": \"Export to plot.ly\", \"plotlyServerURL\": \"https://plot.ly\", \"responsive\": true}                    ).then(function(){\n",
       "                            \n",
       "var gd = document.getElementById('e81bc3cb-e986-408e-8058-ba44968cc3fd');\n",
       "var x = new MutationObserver(function (mutations, observer) {{\n",
       "        var display = window.getComputedStyle(gd).display;\n",
       "        if (!display || display === 'none') {{\n",
       "            console.log([gd, 'removed!']);\n",
       "            Plotly.purge(gd);\n",
       "            observer.disconnect();\n",
       "        }}\n",
       "}});\n",
       "\n",
       "// Listen for the removal of the full notebook cells\n",
       "var notebookContainer = gd.closest('#notebook-container');\n",
       "if (notebookContainer) {{\n",
       "    x.observe(notebookContainer, {childList: true});\n",
       "}}\n",
       "\n",
       "// Listen for the clearing of the current output cell\n",
       "var outputEl = gd.closest('.output');\n",
       "if (outputEl) {{\n",
       "    x.observe(outputEl, {childList: true});\n",
       "}}\n",
       "\n",
       "                        })                };                });            </script>        </div>"
      ]
     },
     "metadata": {},
     "output_type": "display_data"
    }
   ],
   "source": [
    "df.iplot(kind='scatter',x='A',y='B',mode='markers',size=10)"
   ]
  },
  {
   "cell_type": "markdown",
   "metadata": {},
   "source": [
    "## Bar Plots"
   ]
  },
  {
   "cell_type": "code",
   "execution_count": 38,
   "metadata": {},
   "outputs": [
    {
     "data": {
      "application/vnd.plotly.v1+json": {
       "config": {
        "linkText": "Export to plot.ly",
        "plotlyServerURL": "https://plot.ly",
        "showLink": true
       },
       "data": [
        {
         "marker": {
          "color": "rgba(255, 153, 51, 0.6)",
          "line": {
           "color": "rgba(255, 153, 51, 1.0)",
           "width": 1
          }
         },
         "name": "Values",
         "orientation": "v",
         "text": "",
         "type": "bar",
         "x": [
          "A",
          "B",
          "C"
         ],
         "y": [
          32,
          43,
          50
         ]
        }
       ],
       "layout": {
        "legend": {
         "bgcolor": "#F5F6F9",
         "font": {
          "color": "#4D5663"
         }
        },
        "paper_bgcolor": "#F5F6F9",
        "plot_bgcolor": "#F5F6F9",
        "template": {
         "data": {
          "bar": [
           {
            "error_x": {
             "color": "#2a3f5f"
            },
            "error_y": {
             "color": "#2a3f5f"
            },
            "marker": {
             "line": {
              "color": "#E5ECF6",
              "width": 0.5
             }
            },
            "type": "bar"
           }
          ],
          "barpolar": [
           {
            "marker": {
             "line": {
              "color": "#E5ECF6",
              "width": 0.5
             }
            },
            "type": "barpolar"
           }
          ],
          "carpet": [
           {
            "aaxis": {
             "endlinecolor": "#2a3f5f",
             "gridcolor": "white",
             "linecolor": "white",
             "minorgridcolor": "white",
             "startlinecolor": "#2a3f5f"
            },
            "baxis": {
             "endlinecolor": "#2a3f5f",
             "gridcolor": "white",
             "linecolor": "white",
             "minorgridcolor": "white",
             "startlinecolor": "#2a3f5f"
            },
            "type": "carpet"
           }
          ],
          "choropleth": [
           {
            "colorbar": {
             "outlinewidth": 0,
             "ticks": ""
            },
            "type": "choropleth"
           }
          ],
          "contour": [
           {
            "colorbar": {
             "outlinewidth": 0,
             "ticks": ""
            },
            "colorscale": [
             [
              0,
              "#0d0887"
             ],
             [
              0.1111111111111111,
              "#46039f"
             ],
             [
              0.2222222222222222,
              "#7201a8"
             ],
             [
              0.3333333333333333,
              "#9c179e"
             ],
             [
              0.4444444444444444,
              "#bd3786"
             ],
             [
              0.5555555555555556,
              "#d8576b"
             ],
             [
              0.6666666666666666,
              "#ed7953"
             ],
             [
              0.7777777777777778,
              "#fb9f3a"
             ],
             [
              0.8888888888888888,
              "#fdca26"
             ],
             [
              1,
              "#f0f921"
             ]
            ],
            "type": "contour"
           }
          ],
          "contourcarpet": [
           {
            "colorbar": {
             "outlinewidth": 0,
             "ticks": ""
            },
            "type": "contourcarpet"
           }
          ],
          "heatmap": [
           {
            "colorbar": {
             "outlinewidth": 0,
             "ticks": ""
            },
            "colorscale": [
             [
              0,
              "#0d0887"
             ],
             [
              0.1111111111111111,
              "#46039f"
             ],
             [
              0.2222222222222222,
              "#7201a8"
             ],
             [
              0.3333333333333333,
              "#9c179e"
             ],
             [
              0.4444444444444444,
              "#bd3786"
             ],
             [
              0.5555555555555556,
              "#d8576b"
             ],
             [
              0.6666666666666666,
              "#ed7953"
             ],
             [
              0.7777777777777778,
              "#fb9f3a"
             ],
             [
              0.8888888888888888,
              "#fdca26"
             ],
             [
              1,
              "#f0f921"
             ]
            ],
            "type": "heatmap"
           }
          ],
          "heatmapgl": [
           {
            "colorbar": {
             "outlinewidth": 0,
             "ticks": ""
            },
            "colorscale": [
             [
              0,
              "#0d0887"
             ],
             [
              0.1111111111111111,
              "#46039f"
             ],
             [
              0.2222222222222222,
              "#7201a8"
             ],
             [
              0.3333333333333333,
              "#9c179e"
             ],
             [
              0.4444444444444444,
              "#bd3786"
             ],
             [
              0.5555555555555556,
              "#d8576b"
             ],
             [
              0.6666666666666666,
              "#ed7953"
             ],
             [
              0.7777777777777778,
              "#fb9f3a"
             ],
             [
              0.8888888888888888,
              "#fdca26"
             ],
             [
              1,
              "#f0f921"
             ]
            ],
            "type": "heatmapgl"
           }
          ],
          "histogram": [
           {
            "marker": {
             "colorbar": {
              "outlinewidth": 0,
              "ticks": ""
             }
            },
            "type": "histogram"
           }
          ],
          "histogram2d": [
           {
            "colorbar": {
             "outlinewidth": 0,
             "ticks": ""
            },
            "colorscale": [
             [
              0,
              "#0d0887"
             ],
             [
              0.1111111111111111,
              "#46039f"
             ],
             [
              0.2222222222222222,
              "#7201a8"
             ],
             [
              0.3333333333333333,
              "#9c179e"
             ],
             [
              0.4444444444444444,
              "#bd3786"
             ],
             [
              0.5555555555555556,
              "#d8576b"
             ],
             [
              0.6666666666666666,
              "#ed7953"
             ],
             [
              0.7777777777777778,
              "#fb9f3a"
             ],
             [
              0.8888888888888888,
              "#fdca26"
             ],
             [
              1,
              "#f0f921"
             ]
            ],
            "type": "histogram2d"
           }
          ],
          "histogram2dcontour": [
           {
            "colorbar": {
             "outlinewidth": 0,
             "ticks": ""
            },
            "colorscale": [
             [
              0,
              "#0d0887"
             ],
             [
              0.1111111111111111,
              "#46039f"
             ],
             [
              0.2222222222222222,
              "#7201a8"
             ],
             [
              0.3333333333333333,
              "#9c179e"
             ],
             [
              0.4444444444444444,
              "#bd3786"
             ],
             [
              0.5555555555555556,
              "#d8576b"
             ],
             [
              0.6666666666666666,
              "#ed7953"
             ],
             [
              0.7777777777777778,
              "#fb9f3a"
             ],
             [
              0.8888888888888888,
              "#fdca26"
             ],
             [
              1,
              "#f0f921"
             ]
            ],
            "type": "histogram2dcontour"
           }
          ],
          "mesh3d": [
           {
            "colorbar": {
             "outlinewidth": 0,
             "ticks": ""
            },
            "type": "mesh3d"
           }
          ],
          "parcoords": [
           {
            "line": {
             "colorbar": {
              "outlinewidth": 0,
              "ticks": ""
             }
            },
            "type": "parcoords"
           }
          ],
          "pie": [
           {
            "automargin": true,
            "type": "pie"
           }
          ],
          "scatter": [
           {
            "marker": {
             "colorbar": {
              "outlinewidth": 0,
              "ticks": ""
             }
            },
            "type": "scatter"
           }
          ],
          "scatter3d": [
           {
            "line": {
             "colorbar": {
              "outlinewidth": 0,
              "ticks": ""
             }
            },
            "marker": {
             "colorbar": {
              "outlinewidth": 0,
              "ticks": ""
             }
            },
            "type": "scatter3d"
           }
          ],
          "scattercarpet": [
           {
            "marker": {
             "colorbar": {
              "outlinewidth": 0,
              "ticks": ""
             }
            },
            "type": "scattercarpet"
           }
          ],
          "scattergeo": [
           {
            "marker": {
             "colorbar": {
              "outlinewidth": 0,
              "ticks": ""
             }
            },
            "type": "scattergeo"
           }
          ],
          "scattergl": [
           {
            "marker": {
             "colorbar": {
              "outlinewidth": 0,
              "ticks": ""
             }
            },
            "type": "scattergl"
           }
          ],
          "scattermapbox": [
           {
            "marker": {
             "colorbar": {
              "outlinewidth": 0,
              "ticks": ""
             }
            },
            "type": "scattermapbox"
           }
          ],
          "scatterpolar": [
           {
            "marker": {
             "colorbar": {
              "outlinewidth": 0,
              "ticks": ""
             }
            },
            "type": "scatterpolar"
           }
          ],
          "scatterpolargl": [
           {
            "marker": {
             "colorbar": {
              "outlinewidth": 0,
              "ticks": ""
             }
            },
            "type": "scatterpolargl"
           }
          ],
          "scatterternary": [
           {
            "marker": {
             "colorbar": {
              "outlinewidth": 0,
              "ticks": ""
             }
            },
            "type": "scatterternary"
           }
          ],
          "surface": [
           {
            "colorbar": {
             "outlinewidth": 0,
             "ticks": ""
            },
            "colorscale": [
             [
              0,
              "#0d0887"
             ],
             [
              0.1111111111111111,
              "#46039f"
             ],
             [
              0.2222222222222222,
              "#7201a8"
             ],
             [
              0.3333333333333333,
              "#9c179e"
             ],
             [
              0.4444444444444444,
              "#bd3786"
             ],
             [
              0.5555555555555556,
              "#d8576b"
             ],
             [
              0.6666666666666666,
              "#ed7953"
             ],
             [
              0.7777777777777778,
              "#fb9f3a"
             ],
             [
              0.8888888888888888,
              "#fdca26"
             ],
             [
              1,
              "#f0f921"
             ]
            ],
            "type": "surface"
           }
          ],
          "table": [
           {
            "cells": {
             "fill": {
              "color": "#EBF0F8"
             },
             "line": {
              "color": "white"
             }
            },
            "header": {
             "fill": {
              "color": "#C8D4E3"
             },
             "line": {
              "color": "white"
             }
            },
            "type": "table"
           }
          ]
         },
         "layout": {
          "annotationdefaults": {
           "arrowcolor": "#2a3f5f",
           "arrowhead": 0,
           "arrowwidth": 1
          },
          "autotypenumbers": "strict",
          "coloraxis": {
           "colorbar": {
            "outlinewidth": 0,
            "ticks": ""
           }
          },
          "colorscale": {
           "diverging": [
            [
             0,
             "#8e0152"
            ],
            [
             0.1,
             "#c51b7d"
            ],
            [
             0.2,
             "#de77ae"
            ],
            [
             0.3,
             "#f1b6da"
            ],
            [
             0.4,
             "#fde0ef"
            ],
            [
             0.5,
             "#f7f7f7"
            ],
            [
             0.6,
             "#e6f5d0"
            ],
            [
             0.7,
             "#b8e186"
            ],
            [
             0.8,
             "#7fbc41"
            ],
            [
             0.9,
             "#4d9221"
            ],
            [
             1,
             "#276419"
            ]
           ],
           "sequential": [
            [
             0,
             "#0d0887"
            ],
            [
             0.1111111111111111,
             "#46039f"
            ],
            [
             0.2222222222222222,
             "#7201a8"
            ],
            [
             0.3333333333333333,
             "#9c179e"
            ],
            [
             0.4444444444444444,
             "#bd3786"
            ],
            [
             0.5555555555555556,
             "#d8576b"
            ],
            [
             0.6666666666666666,
             "#ed7953"
            ],
            [
             0.7777777777777778,
             "#fb9f3a"
            ],
            [
             0.8888888888888888,
             "#fdca26"
            ],
            [
             1,
             "#f0f921"
            ]
           ],
           "sequentialminus": [
            [
             0,
             "#0d0887"
            ],
            [
             0.1111111111111111,
             "#46039f"
            ],
            [
             0.2222222222222222,
             "#7201a8"
            ],
            [
             0.3333333333333333,
             "#9c179e"
            ],
            [
             0.4444444444444444,
             "#bd3786"
            ],
            [
             0.5555555555555556,
             "#d8576b"
            ],
            [
             0.6666666666666666,
             "#ed7953"
            ],
            [
             0.7777777777777778,
             "#fb9f3a"
            ],
            [
             0.8888888888888888,
             "#fdca26"
            ],
            [
             1,
             "#f0f921"
            ]
           ]
          },
          "colorway": [
           "#636efa",
           "#EF553B",
           "#00cc96",
           "#ab63fa",
           "#FFA15A",
           "#19d3f3",
           "#FF6692",
           "#B6E880",
           "#FF97FF",
           "#FECB52"
          ],
          "font": {
           "color": "#2a3f5f"
          },
          "geo": {
           "bgcolor": "white",
           "lakecolor": "white",
           "landcolor": "#E5ECF6",
           "showlakes": true,
           "showland": true,
           "subunitcolor": "white"
          },
          "hoverlabel": {
           "align": "left"
          },
          "hovermode": "closest",
          "mapbox": {
           "style": "light"
          },
          "paper_bgcolor": "white",
          "plot_bgcolor": "#E5ECF6",
          "polar": {
           "angularaxis": {
            "gridcolor": "white",
            "linecolor": "white",
            "ticks": ""
           },
           "bgcolor": "#E5ECF6",
           "radialaxis": {
            "gridcolor": "white",
            "linecolor": "white",
            "ticks": ""
           }
          },
          "scene": {
           "xaxis": {
            "backgroundcolor": "#E5ECF6",
            "gridcolor": "white",
            "gridwidth": 2,
            "linecolor": "white",
            "showbackground": true,
            "ticks": "",
            "zerolinecolor": "white"
           },
           "yaxis": {
            "backgroundcolor": "#E5ECF6",
            "gridcolor": "white",
            "gridwidth": 2,
            "linecolor": "white",
            "showbackground": true,
            "ticks": "",
            "zerolinecolor": "white"
           },
           "zaxis": {
            "backgroundcolor": "#E5ECF6",
            "gridcolor": "white",
            "gridwidth": 2,
            "linecolor": "white",
            "showbackground": true,
            "ticks": "",
            "zerolinecolor": "white"
           }
          },
          "shapedefaults": {
           "line": {
            "color": "#2a3f5f"
           }
          },
          "ternary": {
           "aaxis": {
            "gridcolor": "white",
            "linecolor": "white",
            "ticks": ""
           },
           "baxis": {
            "gridcolor": "white",
            "linecolor": "white",
            "ticks": ""
           },
           "bgcolor": "#E5ECF6",
           "caxis": {
            "gridcolor": "white",
            "linecolor": "white",
            "ticks": ""
           }
          },
          "title": {
           "x": 0.05
          },
          "xaxis": {
           "automargin": true,
           "gridcolor": "white",
           "linecolor": "white",
           "ticks": "",
           "title": {
            "standoff": 15
           },
           "zerolinecolor": "white",
           "zerolinewidth": 2
          },
          "yaxis": {
           "automargin": true,
           "gridcolor": "white",
           "linecolor": "white",
           "ticks": "",
           "title": {
            "standoff": 15
           },
           "zerolinecolor": "white",
           "zerolinewidth": 2
          }
         }
        },
        "title": {
         "font": {
          "color": "#4D5663"
         }
        },
        "xaxis": {
         "gridcolor": "#E1E5ED",
         "showgrid": true,
         "tickfont": {
          "color": "#4D5663"
         },
         "title": {
          "font": {
           "color": "#4D5663"
          },
          "text": ""
         },
         "zerolinecolor": "#E1E5ED"
        },
        "yaxis": {
         "gridcolor": "#E1E5ED",
         "showgrid": true,
         "tickfont": {
          "color": "#4D5663"
         },
         "title": {
          "font": {
           "color": "#4D5663"
          },
          "text": ""
         },
         "zerolinecolor": "#E1E5ED"
        }
       }
      },
      "text/html": [
       "<div>                            <div id=\"5c0a53bc-8b5d-4467-ac22-ff3de42ebcfd\" class=\"plotly-graph-div\" style=\"height:525px; width:100%;\"></div>            <script type=\"text/javascript\">                require([\"plotly\"], function(Plotly) {                    window.PLOTLYENV=window.PLOTLYENV || {};\n",
       "                    window.PLOTLYENV.BASE_URL='https://plot.ly';                                    if (document.getElementById(\"5c0a53bc-8b5d-4467-ac22-ff3de42ebcfd\")) {                    Plotly.newPlot(                        \"5c0a53bc-8b5d-4467-ac22-ff3de42ebcfd\",                        [{\"marker\": {\"color\": \"rgba(255, 153, 51, 0.6)\", \"line\": {\"color\": \"rgba(255, 153, 51, 1.0)\", \"width\": 1}}, \"name\": \"Values\", \"orientation\": \"v\", \"text\": \"\", \"type\": \"bar\", \"x\": [\"A\", \"B\", \"C\"], \"y\": [32, 43, 50]}],                        {\"legend\": {\"bgcolor\": \"#F5F6F9\", \"font\": {\"color\": \"#4D5663\"}}, \"paper_bgcolor\": \"#F5F6F9\", \"plot_bgcolor\": \"#F5F6F9\", \"template\": {\"data\": {\"bar\": [{\"error_x\": {\"color\": \"#2a3f5f\"}, \"error_y\": {\"color\": \"#2a3f5f\"}, \"marker\": {\"line\": {\"color\": \"#E5ECF6\", \"width\": 0.5}}, \"type\": \"bar\"}], \"barpolar\": [{\"marker\": {\"line\": {\"color\": \"#E5ECF6\", \"width\": 0.5}}, \"type\": \"barpolar\"}], \"carpet\": [{\"aaxis\": {\"endlinecolor\": \"#2a3f5f\", \"gridcolor\": \"white\", \"linecolor\": \"white\", \"minorgridcolor\": \"white\", \"startlinecolor\": \"#2a3f5f\"}, \"baxis\": {\"endlinecolor\": \"#2a3f5f\", \"gridcolor\": \"white\", \"linecolor\": \"white\", \"minorgridcolor\": \"white\", \"startlinecolor\": \"#2a3f5f\"}, \"type\": \"carpet\"}], \"choropleth\": [{\"colorbar\": {\"outlinewidth\": 0, \"ticks\": \"\"}, \"type\": \"choropleth\"}], \"contour\": [{\"colorbar\": {\"outlinewidth\": 0, \"ticks\": \"\"}, \"colorscale\": [[0.0, \"#0d0887\"], [0.1111111111111111, \"#46039f\"], [0.2222222222222222, \"#7201a8\"], [0.3333333333333333, \"#9c179e\"], [0.4444444444444444, \"#bd3786\"], [0.5555555555555556, \"#d8576b\"], [0.6666666666666666, \"#ed7953\"], [0.7777777777777778, \"#fb9f3a\"], [0.8888888888888888, \"#fdca26\"], [1.0, \"#f0f921\"]], \"type\": \"contour\"}], \"contourcarpet\": [{\"colorbar\": {\"outlinewidth\": 0, \"ticks\": \"\"}, \"type\": \"contourcarpet\"}], \"heatmap\": [{\"colorbar\": {\"outlinewidth\": 0, \"ticks\": \"\"}, \"colorscale\": [[0.0, \"#0d0887\"], [0.1111111111111111, \"#46039f\"], [0.2222222222222222, \"#7201a8\"], [0.3333333333333333, \"#9c179e\"], [0.4444444444444444, \"#bd3786\"], [0.5555555555555556, \"#d8576b\"], [0.6666666666666666, \"#ed7953\"], [0.7777777777777778, \"#fb9f3a\"], [0.8888888888888888, \"#fdca26\"], [1.0, \"#f0f921\"]], \"type\": \"heatmap\"}], \"heatmapgl\": [{\"colorbar\": {\"outlinewidth\": 0, \"ticks\": \"\"}, \"colorscale\": [[0.0, \"#0d0887\"], [0.1111111111111111, \"#46039f\"], [0.2222222222222222, \"#7201a8\"], [0.3333333333333333, \"#9c179e\"], [0.4444444444444444, \"#bd3786\"], [0.5555555555555556, \"#d8576b\"], [0.6666666666666666, \"#ed7953\"], [0.7777777777777778, \"#fb9f3a\"], [0.8888888888888888, \"#fdca26\"], [1.0, \"#f0f921\"]], \"type\": \"heatmapgl\"}], \"histogram\": [{\"marker\": {\"colorbar\": {\"outlinewidth\": 0, \"ticks\": \"\"}}, \"type\": \"histogram\"}], \"histogram2d\": [{\"colorbar\": {\"outlinewidth\": 0, \"ticks\": \"\"}, \"colorscale\": [[0.0, \"#0d0887\"], [0.1111111111111111, \"#46039f\"], [0.2222222222222222, \"#7201a8\"], [0.3333333333333333, \"#9c179e\"], [0.4444444444444444, \"#bd3786\"], [0.5555555555555556, \"#d8576b\"], [0.6666666666666666, \"#ed7953\"], [0.7777777777777778, \"#fb9f3a\"], [0.8888888888888888, \"#fdca26\"], [1.0, \"#f0f921\"]], \"type\": \"histogram2d\"}], \"histogram2dcontour\": [{\"colorbar\": {\"outlinewidth\": 0, \"ticks\": \"\"}, \"colorscale\": [[0.0, \"#0d0887\"], [0.1111111111111111, \"#46039f\"], [0.2222222222222222, \"#7201a8\"], [0.3333333333333333, \"#9c179e\"], [0.4444444444444444, \"#bd3786\"], [0.5555555555555556, \"#d8576b\"], [0.6666666666666666, \"#ed7953\"], [0.7777777777777778, \"#fb9f3a\"], [0.8888888888888888, \"#fdca26\"], [1.0, \"#f0f921\"]], \"type\": \"histogram2dcontour\"}], \"mesh3d\": [{\"colorbar\": {\"outlinewidth\": 0, \"ticks\": \"\"}, \"type\": \"mesh3d\"}], \"parcoords\": [{\"line\": {\"colorbar\": {\"outlinewidth\": 0, \"ticks\": \"\"}}, \"type\": \"parcoords\"}], \"pie\": [{\"automargin\": true, \"type\": \"pie\"}], \"scatter\": [{\"marker\": {\"colorbar\": {\"outlinewidth\": 0, \"ticks\": \"\"}}, \"type\": \"scatter\"}], \"scatter3d\": [{\"line\": {\"colorbar\": {\"outlinewidth\": 0, \"ticks\": \"\"}}, \"marker\": {\"colorbar\": {\"outlinewidth\": 0, \"ticks\": \"\"}}, \"type\": \"scatter3d\"}], \"scattercarpet\": [{\"marker\": {\"colorbar\": {\"outlinewidth\": 0, \"ticks\": \"\"}}, \"type\": \"scattercarpet\"}], \"scattergeo\": [{\"marker\": {\"colorbar\": {\"outlinewidth\": 0, \"ticks\": \"\"}}, \"type\": \"scattergeo\"}], \"scattergl\": [{\"marker\": {\"colorbar\": {\"outlinewidth\": 0, \"ticks\": \"\"}}, \"type\": \"scattergl\"}], \"scattermapbox\": [{\"marker\": {\"colorbar\": {\"outlinewidth\": 0, \"ticks\": \"\"}}, \"type\": \"scattermapbox\"}], \"scatterpolar\": [{\"marker\": {\"colorbar\": {\"outlinewidth\": 0, \"ticks\": \"\"}}, \"type\": \"scatterpolar\"}], \"scatterpolargl\": [{\"marker\": {\"colorbar\": {\"outlinewidth\": 0, \"ticks\": \"\"}}, \"type\": \"scatterpolargl\"}], \"scatterternary\": [{\"marker\": {\"colorbar\": {\"outlinewidth\": 0, \"ticks\": \"\"}}, \"type\": \"scatterternary\"}], \"surface\": [{\"colorbar\": {\"outlinewidth\": 0, \"ticks\": \"\"}, \"colorscale\": [[0.0, \"#0d0887\"], [0.1111111111111111, \"#46039f\"], [0.2222222222222222, \"#7201a8\"], [0.3333333333333333, \"#9c179e\"], [0.4444444444444444, \"#bd3786\"], [0.5555555555555556, \"#d8576b\"], [0.6666666666666666, \"#ed7953\"], [0.7777777777777778, \"#fb9f3a\"], [0.8888888888888888, \"#fdca26\"], [1.0, \"#f0f921\"]], \"type\": \"surface\"}], \"table\": [{\"cells\": {\"fill\": {\"color\": \"#EBF0F8\"}, \"line\": {\"color\": \"white\"}}, \"header\": {\"fill\": {\"color\": \"#C8D4E3\"}, \"line\": {\"color\": \"white\"}}, \"type\": \"table\"}]}, \"layout\": {\"annotationdefaults\": {\"arrowcolor\": \"#2a3f5f\", \"arrowhead\": 0, \"arrowwidth\": 1}, \"autotypenumbers\": \"strict\", \"coloraxis\": {\"colorbar\": {\"outlinewidth\": 0, \"ticks\": \"\"}}, \"colorscale\": {\"diverging\": [[0, \"#8e0152\"], [0.1, \"#c51b7d\"], [0.2, \"#de77ae\"], [0.3, \"#f1b6da\"], [0.4, \"#fde0ef\"], [0.5, \"#f7f7f7\"], [0.6, \"#e6f5d0\"], [0.7, \"#b8e186\"], [0.8, \"#7fbc41\"], [0.9, \"#4d9221\"], [1, \"#276419\"]], \"sequential\": [[0.0, \"#0d0887\"], [0.1111111111111111, \"#46039f\"], [0.2222222222222222, \"#7201a8\"], [0.3333333333333333, \"#9c179e\"], [0.4444444444444444, \"#bd3786\"], [0.5555555555555556, \"#d8576b\"], [0.6666666666666666, \"#ed7953\"], [0.7777777777777778, \"#fb9f3a\"], [0.8888888888888888, \"#fdca26\"], [1.0, \"#f0f921\"]], \"sequentialminus\": [[0.0, \"#0d0887\"], [0.1111111111111111, \"#46039f\"], [0.2222222222222222, \"#7201a8\"], [0.3333333333333333, \"#9c179e\"], [0.4444444444444444, \"#bd3786\"], [0.5555555555555556, \"#d8576b\"], [0.6666666666666666, \"#ed7953\"], [0.7777777777777778, \"#fb9f3a\"], [0.8888888888888888, \"#fdca26\"], [1.0, \"#f0f921\"]]}, \"colorway\": [\"#636efa\", \"#EF553B\", \"#00cc96\", \"#ab63fa\", \"#FFA15A\", \"#19d3f3\", \"#FF6692\", \"#B6E880\", \"#FF97FF\", \"#FECB52\"], \"font\": {\"color\": \"#2a3f5f\"}, \"geo\": {\"bgcolor\": \"white\", \"lakecolor\": \"white\", \"landcolor\": \"#E5ECF6\", \"showlakes\": true, \"showland\": true, \"subunitcolor\": \"white\"}, \"hoverlabel\": {\"align\": \"left\"}, \"hovermode\": \"closest\", \"mapbox\": {\"style\": \"light\"}, \"paper_bgcolor\": \"white\", \"plot_bgcolor\": \"#E5ECF6\", \"polar\": {\"angularaxis\": {\"gridcolor\": \"white\", \"linecolor\": \"white\", \"ticks\": \"\"}, \"bgcolor\": \"#E5ECF6\", \"radialaxis\": {\"gridcolor\": \"white\", \"linecolor\": \"white\", \"ticks\": \"\"}}, \"scene\": {\"xaxis\": {\"backgroundcolor\": \"#E5ECF6\", \"gridcolor\": \"white\", \"gridwidth\": 2, \"linecolor\": \"white\", \"showbackground\": true, \"ticks\": \"\", \"zerolinecolor\": \"white\"}, \"yaxis\": {\"backgroundcolor\": \"#E5ECF6\", \"gridcolor\": \"white\", \"gridwidth\": 2, \"linecolor\": \"white\", \"showbackground\": true, \"ticks\": \"\", \"zerolinecolor\": \"white\"}, \"zaxis\": {\"backgroundcolor\": \"#E5ECF6\", \"gridcolor\": \"white\", \"gridwidth\": 2, \"linecolor\": \"white\", \"showbackground\": true, \"ticks\": \"\", \"zerolinecolor\": \"white\"}}, \"shapedefaults\": {\"line\": {\"color\": \"#2a3f5f\"}}, \"ternary\": {\"aaxis\": {\"gridcolor\": \"white\", \"linecolor\": \"white\", \"ticks\": \"\"}, \"baxis\": {\"gridcolor\": \"white\", \"linecolor\": \"white\", \"ticks\": \"\"}, \"bgcolor\": \"#E5ECF6\", \"caxis\": {\"gridcolor\": \"white\", \"linecolor\": \"white\", \"ticks\": \"\"}}, \"title\": {\"x\": 0.05}, \"xaxis\": {\"automargin\": true, \"gridcolor\": \"white\", \"linecolor\": \"white\", \"ticks\": \"\", \"title\": {\"standoff\": 15}, \"zerolinecolor\": \"white\", \"zerolinewidth\": 2}, \"yaxis\": {\"automargin\": true, \"gridcolor\": \"white\", \"linecolor\": \"white\", \"ticks\": \"\", \"title\": {\"standoff\": 15}, \"zerolinecolor\": \"white\", \"zerolinewidth\": 2}}}, \"title\": {\"font\": {\"color\": \"#4D5663\"}}, \"xaxis\": {\"gridcolor\": \"#E1E5ED\", \"showgrid\": true, \"tickfont\": {\"color\": \"#4D5663\"}, \"title\": {\"font\": {\"color\": \"#4D5663\"}, \"text\": \"\"}, \"zerolinecolor\": \"#E1E5ED\"}, \"yaxis\": {\"gridcolor\": \"#E1E5ED\", \"showgrid\": true, \"tickfont\": {\"color\": \"#4D5663\"}, \"title\": {\"font\": {\"color\": \"#4D5663\"}, \"text\": \"\"}, \"zerolinecolor\": \"#E1E5ED\"}},                        {\"showLink\": true, \"linkText\": \"Export to plot.ly\", \"plotlyServerURL\": \"https://plot.ly\", \"responsive\": true}                    ).then(function(){\n",
       "                            \n",
       "var gd = document.getElementById('5c0a53bc-8b5d-4467-ac22-ff3de42ebcfd');\n",
       "var x = new MutationObserver(function (mutations, observer) {{\n",
       "        var display = window.getComputedStyle(gd).display;\n",
       "        if (!display || display === 'none') {{\n",
       "            console.log([gd, 'removed!']);\n",
       "            Plotly.purge(gd);\n",
       "            observer.disconnect();\n",
       "        }}\n",
       "}});\n",
       "\n",
       "// Listen for the removal of the full notebook cells\n",
       "var notebookContainer = gd.closest('#notebook-container');\n",
       "if (notebookContainer) {{\n",
       "    x.observe(notebookContainer, {childList: true});\n",
       "}}\n",
       "\n",
       "// Listen for the clearing of the current output cell\n",
       "var outputEl = gd.closest('.output');\n",
       "if (outputEl) {{\n",
       "    x.observe(outputEl, {childList: true});\n",
       "}}\n",
       "\n",
       "                        })                };                });            </script>        </div>"
      ]
     },
     "metadata": {},
     "output_type": "display_data"
    }
   ],
   "source": [
    "df2.iplot(kind='bar',x='Category',y='Values')"
   ]
  },
  {
   "cell_type": "code",
   "execution_count": 39,
   "metadata": {},
   "outputs": [
    {
     "data": {
      "application/vnd.plotly.v1+json": {
       "config": {
        "linkText": "Export to plot.ly",
        "plotlyServerURL": "https://plot.ly",
        "showLink": true
       },
       "data": [
        {
         "marker": {
          "color": "rgba(255, 153, 51, 0.6)",
          "line": {
           "color": "rgba(255, 153, 51, 1.0)",
           "width": 1
          }
         },
         "name": "None",
         "orientation": "v",
         "text": "",
         "type": "bar",
         "x": [
          "A",
          "B",
          "C",
          "D"
         ],
         "y": [
          100,
          100,
          100,
          100
         ]
        }
       ],
       "layout": {
        "legend": {
         "bgcolor": "#F5F6F9",
         "font": {
          "color": "#4D5663"
         }
        },
        "paper_bgcolor": "#F5F6F9",
        "plot_bgcolor": "#F5F6F9",
        "template": {
         "data": {
          "bar": [
           {
            "error_x": {
             "color": "#2a3f5f"
            },
            "error_y": {
             "color": "#2a3f5f"
            },
            "marker": {
             "line": {
              "color": "#E5ECF6",
              "width": 0.5
             }
            },
            "type": "bar"
           }
          ],
          "barpolar": [
           {
            "marker": {
             "line": {
              "color": "#E5ECF6",
              "width": 0.5
             }
            },
            "type": "barpolar"
           }
          ],
          "carpet": [
           {
            "aaxis": {
             "endlinecolor": "#2a3f5f",
             "gridcolor": "white",
             "linecolor": "white",
             "minorgridcolor": "white",
             "startlinecolor": "#2a3f5f"
            },
            "baxis": {
             "endlinecolor": "#2a3f5f",
             "gridcolor": "white",
             "linecolor": "white",
             "minorgridcolor": "white",
             "startlinecolor": "#2a3f5f"
            },
            "type": "carpet"
           }
          ],
          "choropleth": [
           {
            "colorbar": {
             "outlinewidth": 0,
             "ticks": ""
            },
            "type": "choropleth"
           }
          ],
          "contour": [
           {
            "colorbar": {
             "outlinewidth": 0,
             "ticks": ""
            },
            "colorscale": [
             [
              0,
              "#0d0887"
             ],
             [
              0.1111111111111111,
              "#46039f"
             ],
             [
              0.2222222222222222,
              "#7201a8"
             ],
             [
              0.3333333333333333,
              "#9c179e"
             ],
             [
              0.4444444444444444,
              "#bd3786"
             ],
             [
              0.5555555555555556,
              "#d8576b"
             ],
             [
              0.6666666666666666,
              "#ed7953"
             ],
             [
              0.7777777777777778,
              "#fb9f3a"
             ],
             [
              0.8888888888888888,
              "#fdca26"
             ],
             [
              1,
              "#f0f921"
             ]
            ],
            "type": "contour"
           }
          ],
          "contourcarpet": [
           {
            "colorbar": {
             "outlinewidth": 0,
             "ticks": ""
            },
            "type": "contourcarpet"
           }
          ],
          "heatmap": [
           {
            "colorbar": {
             "outlinewidth": 0,
             "ticks": ""
            },
            "colorscale": [
             [
              0,
              "#0d0887"
             ],
             [
              0.1111111111111111,
              "#46039f"
             ],
             [
              0.2222222222222222,
              "#7201a8"
             ],
             [
              0.3333333333333333,
              "#9c179e"
             ],
             [
              0.4444444444444444,
              "#bd3786"
             ],
             [
              0.5555555555555556,
              "#d8576b"
             ],
             [
              0.6666666666666666,
              "#ed7953"
             ],
             [
              0.7777777777777778,
              "#fb9f3a"
             ],
             [
              0.8888888888888888,
              "#fdca26"
             ],
             [
              1,
              "#f0f921"
             ]
            ],
            "type": "heatmap"
           }
          ],
          "heatmapgl": [
           {
            "colorbar": {
             "outlinewidth": 0,
             "ticks": ""
            },
            "colorscale": [
             [
              0,
              "#0d0887"
             ],
             [
              0.1111111111111111,
              "#46039f"
             ],
             [
              0.2222222222222222,
              "#7201a8"
             ],
             [
              0.3333333333333333,
              "#9c179e"
             ],
             [
              0.4444444444444444,
              "#bd3786"
             ],
             [
              0.5555555555555556,
              "#d8576b"
             ],
             [
              0.6666666666666666,
              "#ed7953"
             ],
             [
              0.7777777777777778,
              "#fb9f3a"
             ],
             [
              0.8888888888888888,
              "#fdca26"
             ],
             [
              1,
              "#f0f921"
             ]
            ],
            "type": "heatmapgl"
           }
          ],
          "histogram": [
           {
            "marker": {
             "colorbar": {
              "outlinewidth": 0,
              "ticks": ""
             }
            },
            "type": "histogram"
           }
          ],
          "histogram2d": [
           {
            "colorbar": {
             "outlinewidth": 0,
             "ticks": ""
            },
            "colorscale": [
             [
              0,
              "#0d0887"
             ],
             [
              0.1111111111111111,
              "#46039f"
             ],
             [
              0.2222222222222222,
              "#7201a8"
             ],
             [
              0.3333333333333333,
              "#9c179e"
             ],
             [
              0.4444444444444444,
              "#bd3786"
             ],
             [
              0.5555555555555556,
              "#d8576b"
             ],
             [
              0.6666666666666666,
              "#ed7953"
             ],
             [
              0.7777777777777778,
              "#fb9f3a"
             ],
             [
              0.8888888888888888,
              "#fdca26"
             ],
             [
              1,
              "#f0f921"
             ]
            ],
            "type": "histogram2d"
           }
          ],
          "histogram2dcontour": [
           {
            "colorbar": {
             "outlinewidth": 0,
             "ticks": ""
            },
            "colorscale": [
             [
              0,
              "#0d0887"
             ],
             [
              0.1111111111111111,
              "#46039f"
             ],
             [
              0.2222222222222222,
              "#7201a8"
             ],
             [
              0.3333333333333333,
              "#9c179e"
             ],
             [
              0.4444444444444444,
              "#bd3786"
             ],
             [
              0.5555555555555556,
              "#d8576b"
             ],
             [
              0.6666666666666666,
              "#ed7953"
             ],
             [
              0.7777777777777778,
              "#fb9f3a"
             ],
             [
              0.8888888888888888,
              "#fdca26"
             ],
             [
              1,
              "#f0f921"
             ]
            ],
            "type": "histogram2dcontour"
           }
          ],
          "mesh3d": [
           {
            "colorbar": {
             "outlinewidth": 0,
             "ticks": ""
            },
            "type": "mesh3d"
           }
          ],
          "parcoords": [
           {
            "line": {
             "colorbar": {
              "outlinewidth": 0,
              "ticks": ""
             }
            },
            "type": "parcoords"
           }
          ],
          "pie": [
           {
            "automargin": true,
            "type": "pie"
           }
          ],
          "scatter": [
           {
            "marker": {
             "colorbar": {
              "outlinewidth": 0,
              "ticks": ""
             }
            },
            "type": "scatter"
           }
          ],
          "scatter3d": [
           {
            "line": {
             "colorbar": {
              "outlinewidth": 0,
              "ticks": ""
             }
            },
            "marker": {
             "colorbar": {
              "outlinewidth": 0,
              "ticks": ""
             }
            },
            "type": "scatter3d"
           }
          ],
          "scattercarpet": [
           {
            "marker": {
             "colorbar": {
              "outlinewidth": 0,
              "ticks": ""
             }
            },
            "type": "scattercarpet"
           }
          ],
          "scattergeo": [
           {
            "marker": {
             "colorbar": {
              "outlinewidth": 0,
              "ticks": ""
             }
            },
            "type": "scattergeo"
           }
          ],
          "scattergl": [
           {
            "marker": {
             "colorbar": {
              "outlinewidth": 0,
              "ticks": ""
             }
            },
            "type": "scattergl"
           }
          ],
          "scattermapbox": [
           {
            "marker": {
             "colorbar": {
              "outlinewidth": 0,
              "ticks": ""
             }
            },
            "type": "scattermapbox"
           }
          ],
          "scatterpolar": [
           {
            "marker": {
             "colorbar": {
              "outlinewidth": 0,
              "ticks": ""
             }
            },
            "type": "scatterpolar"
           }
          ],
          "scatterpolargl": [
           {
            "marker": {
             "colorbar": {
              "outlinewidth": 0,
              "ticks": ""
             }
            },
            "type": "scatterpolargl"
           }
          ],
          "scatterternary": [
           {
            "marker": {
             "colorbar": {
              "outlinewidth": 0,
              "ticks": ""
             }
            },
            "type": "scatterternary"
           }
          ],
          "surface": [
           {
            "colorbar": {
             "outlinewidth": 0,
             "ticks": ""
            },
            "colorscale": [
             [
              0,
              "#0d0887"
             ],
             [
              0.1111111111111111,
              "#46039f"
             ],
             [
              0.2222222222222222,
              "#7201a8"
             ],
             [
              0.3333333333333333,
              "#9c179e"
             ],
             [
              0.4444444444444444,
              "#bd3786"
             ],
             [
              0.5555555555555556,
              "#d8576b"
             ],
             [
              0.6666666666666666,
              "#ed7953"
             ],
             [
              0.7777777777777778,
              "#fb9f3a"
             ],
             [
              0.8888888888888888,
              "#fdca26"
             ],
             [
              1,
              "#f0f921"
             ]
            ],
            "type": "surface"
           }
          ],
          "table": [
           {
            "cells": {
             "fill": {
              "color": "#EBF0F8"
             },
             "line": {
              "color": "white"
             }
            },
            "header": {
             "fill": {
              "color": "#C8D4E3"
             },
             "line": {
              "color": "white"
             }
            },
            "type": "table"
           }
          ]
         },
         "layout": {
          "annotationdefaults": {
           "arrowcolor": "#2a3f5f",
           "arrowhead": 0,
           "arrowwidth": 1
          },
          "autotypenumbers": "strict",
          "coloraxis": {
           "colorbar": {
            "outlinewidth": 0,
            "ticks": ""
           }
          },
          "colorscale": {
           "diverging": [
            [
             0,
             "#8e0152"
            ],
            [
             0.1,
             "#c51b7d"
            ],
            [
             0.2,
             "#de77ae"
            ],
            [
             0.3,
             "#f1b6da"
            ],
            [
             0.4,
             "#fde0ef"
            ],
            [
             0.5,
             "#f7f7f7"
            ],
            [
             0.6,
             "#e6f5d0"
            ],
            [
             0.7,
             "#b8e186"
            ],
            [
             0.8,
             "#7fbc41"
            ],
            [
             0.9,
             "#4d9221"
            ],
            [
             1,
             "#276419"
            ]
           ],
           "sequential": [
            [
             0,
             "#0d0887"
            ],
            [
             0.1111111111111111,
             "#46039f"
            ],
            [
             0.2222222222222222,
             "#7201a8"
            ],
            [
             0.3333333333333333,
             "#9c179e"
            ],
            [
             0.4444444444444444,
             "#bd3786"
            ],
            [
             0.5555555555555556,
             "#d8576b"
            ],
            [
             0.6666666666666666,
             "#ed7953"
            ],
            [
             0.7777777777777778,
             "#fb9f3a"
            ],
            [
             0.8888888888888888,
             "#fdca26"
            ],
            [
             1,
             "#f0f921"
            ]
           ],
           "sequentialminus": [
            [
             0,
             "#0d0887"
            ],
            [
             0.1111111111111111,
             "#46039f"
            ],
            [
             0.2222222222222222,
             "#7201a8"
            ],
            [
             0.3333333333333333,
             "#9c179e"
            ],
            [
             0.4444444444444444,
             "#bd3786"
            ],
            [
             0.5555555555555556,
             "#d8576b"
            ],
            [
             0.6666666666666666,
             "#ed7953"
            ],
            [
             0.7777777777777778,
             "#fb9f3a"
            ],
            [
             0.8888888888888888,
             "#fdca26"
            ],
            [
             1,
             "#f0f921"
            ]
           ]
          },
          "colorway": [
           "#636efa",
           "#EF553B",
           "#00cc96",
           "#ab63fa",
           "#FFA15A",
           "#19d3f3",
           "#FF6692",
           "#B6E880",
           "#FF97FF",
           "#FECB52"
          ],
          "font": {
           "color": "#2a3f5f"
          },
          "geo": {
           "bgcolor": "white",
           "lakecolor": "white",
           "landcolor": "#E5ECF6",
           "showlakes": true,
           "showland": true,
           "subunitcolor": "white"
          },
          "hoverlabel": {
           "align": "left"
          },
          "hovermode": "closest",
          "mapbox": {
           "style": "light"
          },
          "paper_bgcolor": "white",
          "plot_bgcolor": "#E5ECF6",
          "polar": {
           "angularaxis": {
            "gridcolor": "white",
            "linecolor": "white",
            "ticks": ""
           },
           "bgcolor": "#E5ECF6",
           "radialaxis": {
            "gridcolor": "white",
            "linecolor": "white",
            "ticks": ""
           }
          },
          "scene": {
           "xaxis": {
            "backgroundcolor": "#E5ECF6",
            "gridcolor": "white",
            "gridwidth": 2,
            "linecolor": "white",
            "showbackground": true,
            "ticks": "",
            "zerolinecolor": "white"
           },
           "yaxis": {
            "backgroundcolor": "#E5ECF6",
            "gridcolor": "white",
            "gridwidth": 2,
            "linecolor": "white",
            "showbackground": true,
            "ticks": "",
            "zerolinecolor": "white"
           },
           "zaxis": {
            "backgroundcolor": "#E5ECF6",
            "gridcolor": "white",
            "gridwidth": 2,
            "linecolor": "white",
            "showbackground": true,
            "ticks": "",
            "zerolinecolor": "white"
           }
          },
          "shapedefaults": {
           "line": {
            "color": "#2a3f5f"
           }
          },
          "ternary": {
           "aaxis": {
            "gridcolor": "white",
            "linecolor": "white",
            "ticks": ""
           },
           "baxis": {
            "gridcolor": "white",
            "linecolor": "white",
            "ticks": ""
           },
           "bgcolor": "#E5ECF6",
           "caxis": {
            "gridcolor": "white",
            "linecolor": "white",
            "ticks": ""
           }
          },
          "title": {
           "x": 0.05
          },
          "xaxis": {
           "automargin": true,
           "gridcolor": "white",
           "linecolor": "white",
           "ticks": "",
           "title": {
            "standoff": 15
           },
           "zerolinecolor": "white",
           "zerolinewidth": 2
          },
          "yaxis": {
           "automargin": true,
           "gridcolor": "white",
           "linecolor": "white",
           "ticks": "",
           "title": {
            "standoff": 15
           },
           "zerolinecolor": "white",
           "zerolinewidth": 2
          }
         }
        },
        "title": {
         "font": {
          "color": "#4D5663"
         }
        },
        "xaxis": {
         "gridcolor": "#E1E5ED",
         "showgrid": true,
         "tickfont": {
          "color": "#4D5663"
         },
         "title": {
          "font": {
           "color": "#4D5663"
          },
          "text": ""
         },
         "zerolinecolor": "#E1E5ED"
        },
        "yaxis": {
         "gridcolor": "#E1E5ED",
         "showgrid": true,
         "tickfont": {
          "color": "#4D5663"
         },
         "title": {
          "font": {
           "color": "#4D5663"
          },
          "text": ""
         },
         "zerolinecolor": "#E1E5ED"
        }
       }
      },
      "text/html": [
       "<div>                            <div id=\"5a93c7ba-65b2-48e9-a515-aaacaee82b53\" class=\"plotly-graph-div\" style=\"height:525px; width:100%;\"></div>            <script type=\"text/javascript\">                require([\"plotly\"], function(Plotly) {                    window.PLOTLYENV=window.PLOTLYENV || {};\n",
       "                    window.PLOTLYENV.BASE_URL='https://plot.ly';                                    if (document.getElementById(\"5a93c7ba-65b2-48e9-a515-aaacaee82b53\")) {                    Plotly.newPlot(                        \"5a93c7ba-65b2-48e9-a515-aaacaee82b53\",                        [{\"marker\": {\"color\": \"rgba(255, 153, 51, 0.6)\", \"line\": {\"color\": \"rgba(255, 153, 51, 1.0)\", \"width\": 1}}, \"name\": \"None\", \"orientation\": \"v\", \"text\": \"\", \"type\": \"bar\", \"x\": [\"A\", \"B\", \"C\", \"D\"], \"y\": [100, 100, 100, 100]}],                        {\"legend\": {\"bgcolor\": \"#F5F6F9\", \"font\": {\"color\": \"#4D5663\"}}, \"paper_bgcolor\": \"#F5F6F9\", \"plot_bgcolor\": \"#F5F6F9\", \"template\": {\"data\": {\"bar\": [{\"error_x\": {\"color\": \"#2a3f5f\"}, \"error_y\": {\"color\": \"#2a3f5f\"}, \"marker\": {\"line\": {\"color\": \"#E5ECF6\", \"width\": 0.5}}, \"type\": \"bar\"}], \"barpolar\": [{\"marker\": {\"line\": {\"color\": \"#E5ECF6\", \"width\": 0.5}}, \"type\": \"barpolar\"}], \"carpet\": [{\"aaxis\": {\"endlinecolor\": \"#2a3f5f\", \"gridcolor\": \"white\", \"linecolor\": \"white\", \"minorgridcolor\": \"white\", \"startlinecolor\": \"#2a3f5f\"}, \"baxis\": {\"endlinecolor\": \"#2a3f5f\", \"gridcolor\": \"white\", \"linecolor\": \"white\", \"minorgridcolor\": \"white\", \"startlinecolor\": \"#2a3f5f\"}, \"type\": \"carpet\"}], \"choropleth\": [{\"colorbar\": {\"outlinewidth\": 0, \"ticks\": \"\"}, \"type\": \"choropleth\"}], \"contour\": [{\"colorbar\": {\"outlinewidth\": 0, \"ticks\": \"\"}, \"colorscale\": [[0.0, \"#0d0887\"], [0.1111111111111111, \"#46039f\"], [0.2222222222222222, \"#7201a8\"], [0.3333333333333333, \"#9c179e\"], [0.4444444444444444, \"#bd3786\"], [0.5555555555555556, \"#d8576b\"], [0.6666666666666666, \"#ed7953\"], [0.7777777777777778, \"#fb9f3a\"], [0.8888888888888888, \"#fdca26\"], [1.0, \"#f0f921\"]], \"type\": \"contour\"}], \"contourcarpet\": [{\"colorbar\": {\"outlinewidth\": 0, \"ticks\": \"\"}, \"type\": \"contourcarpet\"}], \"heatmap\": [{\"colorbar\": {\"outlinewidth\": 0, \"ticks\": \"\"}, \"colorscale\": [[0.0, \"#0d0887\"], [0.1111111111111111, \"#46039f\"], [0.2222222222222222, \"#7201a8\"], [0.3333333333333333, \"#9c179e\"], [0.4444444444444444, \"#bd3786\"], [0.5555555555555556, \"#d8576b\"], [0.6666666666666666, \"#ed7953\"], [0.7777777777777778, \"#fb9f3a\"], [0.8888888888888888, \"#fdca26\"], [1.0, \"#f0f921\"]], \"type\": \"heatmap\"}], \"heatmapgl\": [{\"colorbar\": {\"outlinewidth\": 0, \"ticks\": \"\"}, \"colorscale\": [[0.0, \"#0d0887\"], [0.1111111111111111, \"#46039f\"], [0.2222222222222222, \"#7201a8\"], [0.3333333333333333, \"#9c179e\"], [0.4444444444444444, \"#bd3786\"], [0.5555555555555556, \"#d8576b\"], [0.6666666666666666, \"#ed7953\"], [0.7777777777777778, \"#fb9f3a\"], [0.8888888888888888, \"#fdca26\"], [1.0, \"#f0f921\"]], \"type\": \"heatmapgl\"}], \"histogram\": [{\"marker\": {\"colorbar\": {\"outlinewidth\": 0, \"ticks\": \"\"}}, \"type\": \"histogram\"}], \"histogram2d\": [{\"colorbar\": {\"outlinewidth\": 0, \"ticks\": \"\"}, \"colorscale\": [[0.0, \"#0d0887\"], [0.1111111111111111, \"#46039f\"], [0.2222222222222222, \"#7201a8\"], [0.3333333333333333, \"#9c179e\"], [0.4444444444444444, \"#bd3786\"], [0.5555555555555556, \"#d8576b\"], [0.6666666666666666, \"#ed7953\"], [0.7777777777777778, \"#fb9f3a\"], [0.8888888888888888, \"#fdca26\"], [1.0, \"#f0f921\"]], \"type\": \"histogram2d\"}], \"histogram2dcontour\": [{\"colorbar\": {\"outlinewidth\": 0, \"ticks\": \"\"}, \"colorscale\": [[0.0, \"#0d0887\"], [0.1111111111111111, \"#46039f\"], [0.2222222222222222, \"#7201a8\"], [0.3333333333333333, \"#9c179e\"], [0.4444444444444444, \"#bd3786\"], [0.5555555555555556, \"#d8576b\"], [0.6666666666666666, \"#ed7953\"], [0.7777777777777778, \"#fb9f3a\"], [0.8888888888888888, \"#fdca26\"], [1.0, \"#f0f921\"]], \"type\": \"histogram2dcontour\"}], \"mesh3d\": [{\"colorbar\": {\"outlinewidth\": 0, \"ticks\": \"\"}, \"type\": \"mesh3d\"}], \"parcoords\": [{\"line\": {\"colorbar\": {\"outlinewidth\": 0, \"ticks\": \"\"}}, \"type\": \"parcoords\"}], \"pie\": [{\"automargin\": true, \"type\": \"pie\"}], \"scatter\": [{\"marker\": {\"colorbar\": {\"outlinewidth\": 0, \"ticks\": \"\"}}, \"type\": \"scatter\"}], \"scatter3d\": [{\"line\": {\"colorbar\": {\"outlinewidth\": 0, \"ticks\": \"\"}}, \"marker\": {\"colorbar\": {\"outlinewidth\": 0, \"ticks\": \"\"}}, \"type\": \"scatter3d\"}], \"scattercarpet\": [{\"marker\": {\"colorbar\": {\"outlinewidth\": 0, \"ticks\": \"\"}}, \"type\": \"scattercarpet\"}], \"scattergeo\": [{\"marker\": {\"colorbar\": {\"outlinewidth\": 0, \"ticks\": \"\"}}, \"type\": \"scattergeo\"}], \"scattergl\": [{\"marker\": {\"colorbar\": {\"outlinewidth\": 0, \"ticks\": \"\"}}, \"type\": \"scattergl\"}], \"scattermapbox\": [{\"marker\": {\"colorbar\": {\"outlinewidth\": 0, \"ticks\": \"\"}}, \"type\": \"scattermapbox\"}], \"scatterpolar\": [{\"marker\": {\"colorbar\": {\"outlinewidth\": 0, \"ticks\": \"\"}}, \"type\": \"scatterpolar\"}], \"scatterpolargl\": [{\"marker\": {\"colorbar\": {\"outlinewidth\": 0, \"ticks\": \"\"}}, \"type\": \"scatterpolargl\"}], \"scatterternary\": [{\"marker\": {\"colorbar\": {\"outlinewidth\": 0, \"ticks\": \"\"}}, \"type\": \"scatterternary\"}], \"surface\": [{\"colorbar\": {\"outlinewidth\": 0, \"ticks\": \"\"}, \"colorscale\": [[0.0, \"#0d0887\"], [0.1111111111111111, \"#46039f\"], [0.2222222222222222, \"#7201a8\"], [0.3333333333333333, \"#9c179e\"], [0.4444444444444444, \"#bd3786\"], [0.5555555555555556, \"#d8576b\"], [0.6666666666666666, \"#ed7953\"], [0.7777777777777778, \"#fb9f3a\"], [0.8888888888888888, \"#fdca26\"], [1.0, \"#f0f921\"]], \"type\": \"surface\"}], \"table\": [{\"cells\": {\"fill\": {\"color\": \"#EBF0F8\"}, \"line\": {\"color\": \"white\"}}, \"header\": {\"fill\": {\"color\": \"#C8D4E3\"}, \"line\": {\"color\": \"white\"}}, \"type\": \"table\"}]}, \"layout\": {\"annotationdefaults\": {\"arrowcolor\": \"#2a3f5f\", \"arrowhead\": 0, \"arrowwidth\": 1}, \"autotypenumbers\": \"strict\", \"coloraxis\": {\"colorbar\": {\"outlinewidth\": 0, \"ticks\": \"\"}}, \"colorscale\": {\"diverging\": [[0, \"#8e0152\"], [0.1, \"#c51b7d\"], [0.2, \"#de77ae\"], [0.3, \"#f1b6da\"], [0.4, \"#fde0ef\"], [0.5, \"#f7f7f7\"], [0.6, \"#e6f5d0\"], [0.7, \"#b8e186\"], [0.8, \"#7fbc41\"], [0.9, \"#4d9221\"], [1, \"#276419\"]], \"sequential\": [[0.0, \"#0d0887\"], [0.1111111111111111, \"#46039f\"], [0.2222222222222222, \"#7201a8\"], [0.3333333333333333, \"#9c179e\"], [0.4444444444444444, \"#bd3786\"], [0.5555555555555556, \"#d8576b\"], [0.6666666666666666, \"#ed7953\"], [0.7777777777777778, \"#fb9f3a\"], [0.8888888888888888, \"#fdca26\"], [1.0, \"#f0f921\"]], \"sequentialminus\": [[0.0, \"#0d0887\"], [0.1111111111111111, \"#46039f\"], [0.2222222222222222, \"#7201a8\"], [0.3333333333333333, \"#9c179e\"], [0.4444444444444444, \"#bd3786\"], [0.5555555555555556, \"#d8576b\"], [0.6666666666666666, \"#ed7953\"], [0.7777777777777778, \"#fb9f3a\"], [0.8888888888888888, \"#fdca26\"], [1.0, \"#f0f921\"]]}, \"colorway\": [\"#636efa\", \"#EF553B\", \"#00cc96\", \"#ab63fa\", \"#FFA15A\", \"#19d3f3\", \"#FF6692\", \"#B6E880\", \"#FF97FF\", \"#FECB52\"], \"font\": {\"color\": \"#2a3f5f\"}, \"geo\": {\"bgcolor\": \"white\", \"lakecolor\": \"white\", \"landcolor\": \"#E5ECF6\", \"showlakes\": true, \"showland\": true, \"subunitcolor\": \"white\"}, \"hoverlabel\": {\"align\": \"left\"}, \"hovermode\": \"closest\", \"mapbox\": {\"style\": \"light\"}, \"paper_bgcolor\": \"white\", \"plot_bgcolor\": \"#E5ECF6\", \"polar\": {\"angularaxis\": {\"gridcolor\": \"white\", \"linecolor\": \"white\", \"ticks\": \"\"}, \"bgcolor\": \"#E5ECF6\", \"radialaxis\": {\"gridcolor\": \"white\", \"linecolor\": \"white\", \"ticks\": \"\"}}, \"scene\": {\"xaxis\": {\"backgroundcolor\": \"#E5ECF6\", \"gridcolor\": \"white\", \"gridwidth\": 2, \"linecolor\": \"white\", \"showbackground\": true, \"ticks\": \"\", \"zerolinecolor\": \"white\"}, \"yaxis\": {\"backgroundcolor\": \"#E5ECF6\", \"gridcolor\": \"white\", \"gridwidth\": 2, \"linecolor\": \"white\", \"showbackground\": true, \"ticks\": \"\", \"zerolinecolor\": \"white\"}, \"zaxis\": {\"backgroundcolor\": \"#E5ECF6\", \"gridcolor\": \"white\", \"gridwidth\": 2, \"linecolor\": \"white\", \"showbackground\": true, \"ticks\": \"\", \"zerolinecolor\": \"white\"}}, \"shapedefaults\": {\"line\": {\"color\": \"#2a3f5f\"}}, \"ternary\": {\"aaxis\": {\"gridcolor\": \"white\", \"linecolor\": \"white\", \"ticks\": \"\"}, \"baxis\": {\"gridcolor\": \"white\", \"linecolor\": \"white\", \"ticks\": \"\"}, \"bgcolor\": \"#E5ECF6\", \"caxis\": {\"gridcolor\": \"white\", \"linecolor\": \"white\", \"ticks\": \"\"}}, \"title\": {\"x\": 0.05}, \"xaxis\": {\"automargin\": true, \"gridcolor\": \"white\", \"linecolor\": \"white\", \"ticks\": \"\", \"title\": {\"standoff\": 15}, \"zerolinecolor\": \"white\", \"zerolinewidth\": 2}, \"yaxis\": {\"automargin\": true, \"gridcolor\": \"white\", \"linecolor\": \"white\", \"ticks\": \"\", \"title\": {\"standoff\": 15}, \"zerolinecolor\": \"white\", \"zerolinewidth\": 2}}}, \"title\": {\"font\": {\"color\": \"#4D5663\"}}, \"xaxis\": {\"gridcolor\": \"#E1E5ED\", \"showgrid\": true, \"tickfont\": {\"color\": \"#4D5663\"}, \"title\": {\"font\": {\"color\": \"#4D5663\"}, \"text\": \"\"}, \"zerolinecolor\": \"#E1E5ED\"}, \"yaxis\": {\"gridcolor\": \"#E1E5ED\", \"showgrid\": true, \"tickfont\": {\"color\": \"#4D5663\"}, \"title\": {\"font\": {\"color\": \"#4D5663\"}, \"text\": \"\"}, \"zerolinecolor\": \"#E1E5ED\"}},                        {\"showLink\": true, \"linkText\": \"Export to plot.ly\", \"plotlyServerURL\": \"https://plot.ly\", \"responsive\": true}                    ).then(function(){\n",
       "                            \n",
       "var gd = document.getElementById('5a93c7ba-65b2-48e9-a515-aaacaee82b53');\n",
       "var x = new MutationObserver(function (mutations, observer) {{\n",
       "        var display = window.getComputedStyle(gd).display;\n",
       "        if (!display || display === 'none') {{\n",
       "            console.log([gd, 'removed!']);\n",
       "            Plotly.purge(gd);\n",
       "            observer.disconnect();\n",
       "        }}\n",
       "}});\n",
       "\n",
       "// Listen for the removal of the full notebook cells\n",
       "var notebookContainer = gd.closest('#notebook-container');\n",
       "if (notebookContainer) {{\n",
       "    x.observe(notebookContainer, {childList: true});\n",
       "}}\n",
       "\n",
       "// Listen for the clearing of the current output cell\n",
       "var outputEl = gd.closest('.output');\n",
       "if (outputEl) {{\n",
       "    x.observe(outputEl, {childList: true});\n",
       "}}\n",
       "\n",
       "                        })                };                });            </script>        </div>"
      ]
     },
     "metadata": {},
     "output_type": "display_data"
    }
   ],
   "source": [
    "df.count().iplot(kind='bar')"
   ]
  },
  {
   "cell_type": "markdown",
   "metadata": {},
   "source": [
    "## Boxplots"
   ]
  },
  {
   "cell_type": "code",
   "execution_count": 40,
   "metadata": {},
   "outputs": [
    {
     "data": {
      "application/vnd.plotly.v1+json": {
       "config": {
        "linkText": "Export to plot.ly",
        "plotlyServerURL": "https://plot.ly",
        "showLink": true
       },
       "data": [
        {
         "boxpoints": false,
         "line": {
          "width": 1.3
         },
         "marker": {
          "color": "rgba(255, 153, 51, 1.0)"
         },
         "name": "A",
         "orientation": "v",
         "type": "box",
         "y": [
          -1.5055387470969204,
          -1.5281336080932433,
          0.5475375225269746,
          -0.5011536835325386,
          -1.1342277894161847,
          -1.3421654609689813,
          1.0480587954437626,
          0.1079858186458624,
          -0.5188967289497634,
          -0.2365765719760372,
          -0.6671966901411546,
          0.4808958294390424,
          0.2543237589685781,
          0.6624634680374704,
          -1.8806637507850557,
          -1.7714952898637082,
          -0.1450552767082512,
          0.3258012317547289,
          -1.9793404774159449,
          -1.837133213610893,
          1.2048818510023436,
          -1.2146576222324894,
          0.10051316757305068,
          0.6503065455095138,
          -0.1037762205561722,
          1.5796280422577185,
          0.24683397628064682,
          -0.19632846361111042,
          -1.659879956912887,
          -0.7362869487055028,
          0.696560945958403,
          0.35011393191088397,
          -0.22294636893507996,
          -0.4490245617166439,
          -0.03413210591976646,
          0.3813225689164726,
          -0.06804276535356155,
          -1.017866017986653,
          -0.48305879639553495,
          -0.8421918238373384,
          0.09428074990969793,
          -0.3709780159244891,
          -2.4496465657011495,
          1.0103436605626173,
          1.246075620844197,
          1.1997700774819116,
          1.594497731670918,
          -0.22731603166056338,
          0.6569588970958761,
          0.09856549719926379,
          -0.8922698305611144,
          -0.9138306160664806,
          0.5356427374304688,
          -0.287939493916266,
          -0.21742881701656078,
          -0.8522247181710058,
          -0.5253701618708698,
          1.5428396249131306,
          0.3411566218250933,
          0.49922207449863165,
          1.323964658717949,
          -1.3824171121263014,
          0.9701483427037748,
          0.4401818048772333,
          1.3076536066443993,
          2.355220713044908,
          0.3330440295546341,
          -0.24749042740682606,
          1.4700037958120582,
          0.5275901521486961,
          0.2318440908726942,
          0.830445816962907,
          -0.5513743588021469,
          -0.20295015318623347,
          -0.836131924104717,
          -0.7937607157928708,
          1.3319788440982268,
          -1.047455664669664,
          1.0156429726730842,
          0.07046136873997877,
          -1.1429664531146777,
          -0.8423125200880234,
          -1.7088559269805108,
          0.23054946399192716,
          1.2853740970875533,
          0.7466025932529883,
          1.5283495573924988,
          -0.0008903010811767334,
          -0.5698892720745149,
          -1.7421401214515508,
          -0.4387436019528569,
          0.8418373255406498,
          -0.9637173207896174,
          2.117703825261018,
          0.9834391674180394,
          0.3674088194285618,
          1.5588053824031243,
          0.2811852508479091,
          -1.7212704314648224,
          1.0067873970433072
         ]
        },
        {
         "boxpoints": false,
         "line": {
          "width": 1.3
         },
         "marker": {
          "color": "rgba(55, 128, 191, 1.0)"
         },
         "name": "B",
         "orientation": "v",
         "type": "box",
         "y": [
          2.4959431719015757,
          0.9276577510015102,
          1.0050336280819714,
          -1.3414197951503666,
          0.8746494229204337,
          1.540503680338683,
          0.36341469733085086,
          0.2725456247333992,
          1.8256614150093526,
          0.4156453561321367,
          1.4259125348996546,
          0.5946871352044677,
          -0.996617192940703,
          -1.7343975620344267,
          1.2605362115718608,
          0.7792065667383924,
          -0.598165859683212,
          0.3141166478645829,
          2.028966264269778,
          -0.29196792479850614,
          0.18451884374077343,
          0.8624614728842477,
          0.3480036276243098,
          0.9367617347955924,
          0.029764440610968956,
          0.43061141935071345,
          -0.4186082014870178,
          -1.7469339996527733,
          -0.6344513661954309,
          1.3582828527644264,
          -0.17399511524737038,
          0.2331979361358069,
          -0.5836430876609441,
          -0.5091931531527603,
          -1.8430549827322322,
          0.37972796141810045,
          -1.3500784339650678,
          -0.45771898539282563,
          1.2708557850766116,
          -0.5777786253036234,
          -1.2136208429910493,
          0.15180784778636058,
          0.2518712007834114,
          0.08812308785230992,
          -1.2262731538059652,
          -0.5228326084951959,
          0.19439384594219133,
          -0.9677730140765817,
          0.557013465619875,
          -2.6221107321614343,
          0.34155621542304865,
          -1.0928749241983184,
          1.39021765404278,
          -1.098393256437507,
          1.365337542457722,
          -0.5707302449812107,
          -1.2005965785299708,
          -1.3298935269144292,
          -0.9460922681345796,
          -2.4804821303330415,
          0.2794024307283462,
          -0.2128762900828223,
          -1.3961752300117987,
          -0.6975097022746658,
          0.7203967384329273,
          0.29590483041240295,
          0.8214083566509665,
          -1.6138757379035886,
          0.48213257156387984,
          -0.31657725802601844,
          1.0036338052593803,
          -0.10501177153419351,
          -0.8632321261513736,
          0.8360545538876548,
          0.6452586861239282,
          -0.2313606912932169,
          0.15547924818340117,
          1.0450768088182119,
          -1.4390022209407076,
          0.13533822747627927,
          -0.5688684967823189,
          -1.8417192752743694,
          -1.2450741247080495,
          0.1405813522908807,
          -0.041901845147847776,
          -0.3785270769658319,
          -1.0026510762222551,
          0.7792789540191182,
          -1.3267008036468066,
          -0.9617055507968908,
          3.3011836296868546,
          -0.5845028743081897,
          -0.38304968847196313,
          -1.2753623714544455,
          -1.0490741676789088,
          -0.007588023951681576,
          1.2022958402644337,
          1.2222414150527166,
          -1.1693910600131703,
          -1.01440354370347
         ]
        },
        {
         "boxpoints": false,
         "line": {
          "width": 1.3
         },
         "marker": {
          "color": "rgba(50, 171, 96, 1.0)"
         },
         "name": "C",
         "orientation": "v",
         "type": "box",
         "y": [
          -0.6070843931902513,
          -1.550186819501212,
          0.07402175255024296,
          -1.6727597423365705,
          -1.7747583910034577,
          1.6732586491150208,
          1.572907449863755,
          -1.0191918459583762,
          0.06657805559187664,
          0.7518875748356615,
          1.0120311989247777,
          -0.8060283145444608,
          1.2594634131257534,
          1.9374402607782335,
          1.072469596698813,
          -1.4463161029473193,
          -0.15089134345347371,
          0.42924780813602254,
          0.6716929415150239,
          0.32314783000657255,
          -1.61098367979105,
          -0.4983536365895974,
          0.5857687814656891,
          2.4738702248773934,
          -0.46138399542897146,
          0.5036695851862864,
          1.0208569116710664,
          -1.2481419559669107,
          0.026930185314432985,
          -0.09034917282227793,
          0.24432044667313244,
          0.6537224009803874,
          0.5840885998430435,
          1.4419767145061206,
          -1.0512763706505548,
          1.1312767057127755,
          0.10915542272810211,
          -1.2955116067749746,
          -0.9706199188825938,
          0.6512076494462121,
          -0.36388879961990955,
          0.901691909436344,
          0.4079594285015438,
          0.4083784834049719,
          -1.4933555603059998,
          -1.573303695616015,
          2.164698369254346,
          1.9074618965849457,
          -0.7772845518413163,
          1.6644264981223373,
          -1.0463790562939157,
          -2.3567897108046636,
          0.3883146524218016,
          0.3138141917212112,
          -0.9660551820291213,
          1.7685355619984595,
          -1.1084210884662882,
          -0.9075600940794092,
          0.8334447578197528,
          -2.303731027787879,
          0.39538182036684477,
          -1.029199368076163,
          -0.5010158542558378,
          0.36151214906204815,
          -0.5091598678643701,
          0.012475759687603068,
          -1.101934077076176,
          0.3241367604735915,
          -0.15723716886990896,
          0.4936107108268825,
          0.6499376290725292,
          0.02031196522300759,
          0.17801436846090046,
          0.7374790308271773,
          0.2556650013608954,
          -0.22283530056353568,
          -0.9596373189035621,
          -0.14892666331915166,
          0.4582495251756337,
          0.06890368932967741,
          0.2098710302373936,
          -1.140949211625298,
          0.028010944948761853,
          -0.23580184923574032,
          -0.40273086213325493,
          0.7014179306786912,
          1.6235495508883768,
          -0.15022748598169697,
          -1.4477694102528924,
          -0.5981083445043424,
          -0.8673835479843751,
          0.017651431172649803,
          0.6494504217660723,
          -0.39637994067722565,
          -0.1136461956080303,
          0.3055887053481512,
          -0.9830675683189555,
          -1.6248149695970981,
          0.024839958867038266,
          -0.4928344424178749
         ]
        },
        {
         "boxpoints": false,
         "line": {
          "width": 1.3
         },
         "marker": {
          "color": "rgba(128, 0, 128, 1.0)"
         },
         "name": "D",
         "orientation": "v",
         "type": "box",
         "y": [
          -0.28576517870678514,
          0.2952403250343437,
          0.7191803693698858,
          1.3756994320304368,
          -0.7739026281447616,
          -0.3750850239030581,
          1.0724380226632415,
          -0.958875569717978,
          -0.1437109871411821,
          1.517751015254013,
          0.3976160958187145,
          0.027066180006063405,
          0.1873537323051807,
          -1.4328145974330802,
          0.9011575568144171,
          0.05414923942336671,
          -1.2320439954383886,
          0.2857752972004397,
          1.0847200261606957,
          0.6904127393702959,
          1.6013090687066236,
          0.745391125754057,
          0.3092282047918577,
          0.12851303815475068,
          0.07286120510039872,
          0.8701079915926673,
          -1.1671742749899363,
          -0.8066298265655404,
          0.6894543856686854,
          0.30417605364579775,
          2.1033271361543875,
          -0.6159709057979542,
          0.2943353572964051,
          0.2757627158931991,
          0.06682034721256952,
          -0.6680633568610859,
          0.5495712858733507,
          0.746361695210706,
          0.21574054184511707,
          -1.4800708198894106,
          0.23936984673278713,
          0.21067285546175818,
          -0.49250746657804684,
          0.5002169985650018,
          0.39659686438909386,
          -0.999232801989697,
          -0.25042492925072546,
          -1.2474258020413058,
          1.419631310862581,
          0.20758270000654724,
          -0.4162145180293298,
          -0.1232996862225204,
          -1.2305583511161229,
          -0.5848479983667825,
          -1.189267459024485,
          -0.3371647224447984,
          0.6663114115090681,
          -1.5988754768656614,
          0.13961548226013815,
          -0.41366803202121716,
          0.7789435474742897,
          0.5730007203063938,
          -1.4921513665207469,
          -0.8656919297289787,
          -1.916966904016963,
          -1.5112066392987253,
          -1.139731780975787,
          1.6496484274025918,
          -0.9114562919705926,
          1.7088040926110988,
          0.8106893360917262,
          -1.5019697945067845,
          0.12492900643115513,
          -0.5881388326874711,
          -0.5554522859164184,
          -0.5914883401393713,
          -0.3804979423428619,
          0.002850160796405025,
          -0.8273100246545217,
          1.315704561474466,
          -0.6401121587201171,
          1.2386424119370028,
          0.15996201094139392,
          -2.305501712981525,
          0.39551399720275215,
          1.5843663021362573,
          -0.7352121347078673,
          1.4883193252411961,
          -0.22751700304547093,
          -1.492653335824817,
          -0.43778352764558337,
          -0.45599357032424565,
          -0.011917372625794538,
          1.2517732000031179,
          -1.0252022173959074,
          -0.6057589830332419,
          0.13930718974140305,
          -0.328796158203867,
          0.3947410749795082,
          -0.2333185414774946
         ]
        }
       ],
       "layout": {
        "legend": {
         "bgcolor": "#F5F6F9",
         "font": {
          "color": "#4D5663"
         }
        },
        "paper_bgcolor": "#F5F6F9",
        "plot_bgcolor": "#F5F6F9",
        "template": {
         "data": {
          "bar": [
           {
            "error_x": {
             "color": "#2a3f5f"
            },
            "error_y": {
             "color": "#2a3f5f"
            },
            "marker": {
             "line": {
              "color": "#E5ECF6",
              "width": 0.5
             }
            },
            "type": "bar"
           }
          ],
          "barpolar": [
           {
            "marker": {
             "line": {
              "color": "#E5ECF6",
              "width": 0.5
             }
            },
            "type": "barpolar"
           }
          ],
          "carpet": [
           {
            "aaxis": {
             "endlinecolor": "#2a3f5f",
             "gridcolor": "white",
             "linecolor": "white",
             "minorgridcolor": "white",
             "startlinecolor": "#2a3f5f"
            },
            "baxis": {
             "endlinecolor": "#2a3f5f",
             "gridcolor": "white",
             "linecolor": "white",
             "minorgridcolor": "white",
             "startlinecolor": "#2a3f5f"
            },
            "type": "carpet"
           }
          ],
          "choropleth": [
           {
            "colorbar": {
             "outlinewidth": 0,
             "ticks": ""
            },
            "type": "choropleth"
           }
          ],
          "contour": [
           {
            "colorbar": {
             "outlinewidth": 0,
             "ticks": ""
            },
            "colorscale": [
             [
              0,
              "#0d0887"
             ],
             [
              0.1111111111111111,
              "#46039f"
             ],
             [
              0.2222222222222222,
              "#7201a8"
             ],
             [
              0.3333333333333333,
              "#9c179e"
             ],
             [
              0.4444444444444444,
              "#bd3786"
             ],
             [
              0.5555555555555556,
              "#d8576b"
             ],
             [
              0.6666666666666666,
              "#ed7953"
             ],
             [
              0.7777777777777778,
              "#fb9f3a"
             ],
             [
              0.8888888888888888,
              "#fdca26"
             ],
             [
              1,
              "#f0f921"
             ]
            ],
            "type": "contour"
           }
          ],
          "contourcarpet": [
           {
            "colorbar": {
             "outlinewidth": 0,
             "ticks": ""
            },
            "type": "contourcarpet"
           }
          ],
          "heatmap": [
           {
            "colorbar": {
             "outlinewidth": 0,
             "ticks": ""
            },
            "colorscale": [
             [
              0,
              "#0d0887"
             ],
             [
              0.1111111111111111,
              "#46039f"
             ],
             [
              0.2222222222222222,
              "#7201a8"
             ],
             [
              0.3333333333333333,
              "#9c179e"
             ],
             [
              0.4444444444444444,
              "#bd3786"
             ],
             [
              0.5555555555555556,
              "#d8576b"
             ],
             [
              0.6666666666666666,
              "#ed7953"
             ],
             [
              0.7777777777777778,
              "#fb9f3a"
             ],
             [
              0.8888888888888888,
              "#fdca26"
             ],
             [
              1,
              "#f0f921"
             ]
            ],
            "type": "heatmap"
           }
          ],
          "heatmapgl": [
           {
            "colorbar": {
             "outlinewidth": 0,
             "ticks": ""
            },
            "colorscale": [
             [
              0,
              "#0d0887"
             ],
             [
              0.1111111111111111,
              "#46039f"
             ],
             [
              0.2222222222222222,
              "#7201a8"
             ],
             [
              0.3333333333333333,
              "#9c179e"
             ],
             [
              0.4444444444444444,
              "#bd3786"
             ],
             [
              0.5555555555555556,
              "#d8576b"
             ],
             [
              0.6666666666666666,
              "#ed7953"
             ],
             [
              0.7777777777777778,
              "#fb9f3a"
             ],
             [
              0.8888888888888888,
              "#fdca26"
             ],
             [
              1,
              "#f0f921"
             ]
            ],
            "type": "heatmapgl"
           }
          ],
          "histogram": [
           {
            "marker": {
             "colorbar": {
              "outlinewidth": 0,
              "ticks": ""
             }
            },
            "type": "histogram"
           }
          ],
          "histogram2d": [
           {
            "colorbar": {
             "outlinewidth": 0,
             "ticks": ""
            },
            "colorscale": [
             [
              0,
              "#0d0887"
             ],
             [
              0.1111111111111111,
              "#46039f"
             ],
             [
              0.2222222222222222,
              "#7201a8"
             ],
             [
              0.3333333333333333,
              "#9c179e"
             ],
             [
              0.4444444444444444,
              "#bd3786"
             ],
             [
              0.5555555555555556,
              "#d8576b"
             ],
             [
              0.6666666666666666,
              "#ed7953"
             ],
             [
              0.7777777777777778,
              "#fb9f3a"
             ],
             [
              0.8888888888888888,
              "#fdca26"
             ],
             [
              1,
              "#f0f921"
             ]
            ],
            "type": "histogram2d"
           }
          ],
          "histogram2dcontour": [
           {
            "colorbar": {
             "outlinewidth": 0,
             "ticks": ""
            },
            "colorscale": [
             [
              0,
              "#0d0887"
             ],
             [
              0.1111111111111111,
              "#46039f"
             ],
             [
              0.2222222222222222,
              "#7201a8"
             ],
             [
              0.3333333333333333,
              "#9c179e"
             ],
             [
              0.4444444444444444,
              "#bd3786"
             ],
             [
              0.5555555555555556,
              "#d8576b"
             ],
             [
              0.6666666666666666,
              "#ed7953"
             ],
             [
              0.7777777777777778,
              "#fb9f3a"
             ],
             [
              0.8888888888888888,
              "#fdca26"
             ],
             [
              1,
              "#f0f921"
             ]
            ],
            "type": "histogram2dcontour"
           }
          ],
          "mesh3d": [
           {
            "colorbar": {
             "outlinewidth": 0,
             "ticks": ""
            },
            "type": "mesh3d"
           }
          ],
          "parcoords": [
           {
            "line": {
             "colorbar": {
              "outlinewidth": 0,
              "ticks": ""
             }
            },
            "type": "parcoords"
           }
          ],
          "pie": [
           {
            "automargin": true,
            "type": "pie"
           }
          ],
          "scatter": [
           {
            "marker": {
             "colorbar": {
              "outlinewidth": 0,
              "ticks": ""
             }
            },
            "type": "scatter"
           }
          ],
          "scatter3d": [
           {
            "line": {
             "colorbar": {
              "outlinewidth": 0,
              "ticks": ""
             }
            },
            "marker": {
             "colorbar": {
              "outlinewidth": 0,
              "ticks": ""
             }
            },
            "type": "scatter3d"
           }
          ],
          "scattercarpet": [
           {
            "marker": {
             "colorbar": {
              "outlinewidth": 0,
              "ticks": ""
             }
            },
            "type": "scattercarpet"
           }
          ],
          "scattergeo": [
           {
            "marker": {
             "colorbar": {
              "outlinewidth": 0,
              "ticks": ""
             }
            },
            "type": "scattergeo"
           }
          ],
          "scattergl": [
           {
            "marker": {
             "colorbar": {
              "outlinewidth": 0,
              "ticks": ""
             }
            },
            "type": "scattergl"
           }
          ],
          "scattermapbox": [
           {
            "marker": {
             "colorbar": {
              "outlinewidth": 0,
              "ticks": ""
             }
            },
            "type": "scattermapbox"
           }
          ],
          "scatterpolar": [
           {
            "marker": {
             "colorbar": {
              "outlinewidth": 0,
              "ticks": ""
             }
            },
            "type": "scatterpolar"
           }
          ],
          "scatterpolargl": [
           {
            "marker": {
             "colorbar": {
              "outlinewidth": 0,
              "ticks": ""
             }
            },
            "type": "scatterpolargl"
           }
          ],
          "scatterternary": [
           {
            "marker": {
             "colorbar": {
              "outlinewidth": 0,
              "ticks": ""
             }
            },
            "type": "scatterternary"
           }
          ],
          "surface": [
           {
            "colorbar": {
             "outlinewidth": 0,
             "ticks": ""
            },
            "colorscale": [
             [
              0,
              "#0d0887"
             ],
             [
              0.1111111111111111,
              "#46039f"
             ],
             [
              0.2222222222222222,
              "#7201a8"
             ],
             [
              0.3333333333333333,
              "#9c179e"
             ],
             [
              0.4444444444444444,
              "#bd3786"
             ],
             [
              0.5555555555555556,
              "#d8576b"
             ],
             [
              0.6666666666666666,
              "#ed7953"
             ],
             [
              0.7777777777777778,
              "#fb9f3a"
             ],
             [
              0.8888888888888888,
              "#fdca26"
             ],
             [
              1,
              "#f0f921"
             ]
            ],
            "type": "surface"
           }
          ],
          "table": [
           {
            "cells": {
             "fill": {
              "color": "#EBF0F8"
             },
             "line": {
              "color": "white"
             }
            },
            "header": {
             "fill": {
              "color": "#C8D4E3"
             },
             "line": {
              "color": "white"
             }
            },
            "type": "table"
           }
          ]
         },
         "layout": {
          "annotationdefaults": {
           "arrowcolor": "#2a3f5f",
           "arrowhead": 0,
           "arrowwidth": 1
          },
          "autotypenumbers": "strict",
          "coloraxis": {
           "colorbar": {
            "outlinewidth": 0,
            "ticks": ""
           }
          },
          "colorscale": {
           "diverging": [
            [
             0,
             "#8e0152"
            ],
            [
             0.1,
             "#c51b7d"
            ],
            [
             0.2,
             "#de77ae"
            ],
            [
             0.3,
             "#f1b6da"
            ],
            [
             0.4,
             "#fde0ef"
            ],
            [
             0.5,
             "#f7f7f7"
            ],
            [
             0.6,
             "#e6f5d0"
            ],
            [
             0.7,
             "#b8e186"
            ],
            [
             0.8,
             "#7fbc41"
            ],
            [
             0.9,
             "#4d9221"
            ],
            [
             1,
             "#276419"
            ]
           ],
           "sequential": [
            [
             0,
             "#0d0887"
            ],
            [
             0.1111111111111111,
             "#46039f"
            ],
            [
             0.2222222222222222,
             "#7201a8"
            ],
            [
             0.3333333333333333,
             "#9c179e"
            ],
            [
             0.4444444444444444,
             "#bd3786"
            ],
            [
             0.5555555555555556,
             "#d8576b"
            ],
            [
             0.6666666666666666,
             "#ed7953"
            ],
            [
             0.7777777777777778,
             "#fb9f3a"
            ],
            [
             0.8888888888888888,
             "#fdca26"
            ],
            [
             1,
             "#f0f921"
            ]
           ],
           "sequentialminus": [
            [
             0,
             "#0d0887"
            ],
            [
             0.1111111111111111,
             "#46039f"
            ],
            [
             0.2222222222222222,
             "#7201a8"
            ],
            [
             0.3333333333333333,
             "#9c179e"
            ],
            [
             0.4444444444444444,
             "#bd3786"
            ],
            [
             0.5555555555555556,
             "#d8576b"
            ],
            [
             0.6666666666666666,
             "#ed7953"
            ],
            [
             0.7777777777777778,
             "#fb9f3a"
            ],
            [
             0.8888888888888888,
             "#fdca26"
            ],
            [
             1,
             "#f0f921"
            ]
           ]
          },
          "colorway": [
           "#636efa",
           "#EF553B",
           "#00cc96",
           "#ab63fa",
           "#FFA15A",
           "#19d3f3",
           "#FF6692",
           "#B6E880",
           "#FF97FF",
           "#FECB52"
          ],
          "font": {
           "color": "#2a3f5f"
          },
          "geo": {
           "bgcolor": "white",
           "lakecolor": "white",
           "landcolor": "#E5ECF6",
           "showlakes": true,
           "showland": true,
           "subunitcolor": "white"
          },
          "hoverlabel": {
           "align": "left"
          },
          "hovermode": "closest",
          "mapbox": {
           "style": "light"
          },
          "paper_bgcolor": "white",
          "plot_bgcolor": "#E5ECF6",
          "polar": {
           "angularaxis": {
            "gridcolor": "white",
            "linecolor": "white",
            "ticks": ""
           },
           "bgcolor": "#E5ECF6",
           "radialaxis": {
            "gridcolor": "white",
            "linecolor": "white",
            "ticks": ""
           }
          },
          "scene": {
           "xaxis": {
            "backgroundcolor": "#E5ECF6",
            "gridcolor": "white",
            "gridwidth": 2,
            "linecolor": "white",
            "showbackground": true,
            "ticks": "",
            "zerolinecolor": "white"
           },
           "yaxis": {
            "backgroundcolor": "#E5ECF6",
            "gridcolor": "white",
            "gridwidth": 2,
            "linecolor": "white",
            "showbackground": true,
            "ticks": "",
            "zerolinecolor": "white"
           },
           "zaxis": {
            "backgroundcolor": "#E5ECF6",
            "gridcolor": "white",
            "gridwidth": 2,
            "linecolor": "white",
            "showbackground": true,
            "ticks": "",
            "zerolinecolor": "white"
           }
          },
          "shapedefaults": {
           "line": {
            "color": "#2a3f5f"
           }
          },
          "ternary": {
           "aaxis": {
            "gridcolor": "white",
            "linecolor": "white",
            "ticks": ""
           },
           "baxis": {
            "gridcolor": "white",
            "linecolor": "white",
            "ticks": ""
           },
           "bgcolor": "#E5ECF6",
           "caxis": {
            "gridcolor": "white",
            "linecolor": "white",
            "ticks": ""
           }
          },
          "title": {
           "x": 0.05
          },
          "xaxis": {
           "automargin": true,
           "gridcolor": "white",
           "linecolor": "white",
           "ticks": "",
           "title": {
            "standoff": 15
           },
           "zerolinecolor": "white",
           "zerolinewidth": 2
          },
          "yaxis": {
           "automargin": true,
           "gridcolor": "white",
           "linecolor": "white",
           "ticks": "",
           "title": {
            "standoff": 15
           },
           "zerolinecolor": "white",
           "zerolinewidth": 2
          }
         }
        },
        "title": {
         "font": {
          "color": "#4D5663"
         }
        },
        "xaxis": {
         "gridcolor": "#E1E5ED",
         "showgrid": true,
         "tickfont": {
          "color": "#4D5663"
         },
         "title": {
          "font": {
           "color": "#4D5663"
          },
          "text": ""
         },
         "zerolinecolor": "#E1E5ED"
        },
        "yaxis": {
         "gridcolor": "#E1E5ED",
         "showgrid": true,
         "tickfont": {
          "color": "#4D5663"
         },
         "title": {
          "font": {
           "color": "#4D5663"
          },
          "text": ""
         },
         "zerolinecolor": "#E1E5ED"
        }
       }
      },
      "text/html": [
       "<div>                            <div id=\"2c753179-303f-433b-9558-ebf3d3d06467\" class=\"plotly-graph-div\" style=\"height:525px; width:100%;\"></div>            <script type=\"text/javascript\">                require([\"plotly\"], function(Plotly) {                    window.PLOTLYENV=window.PLOTLYENV || {};\n",
       "                    window.PLOTLYENV.BASE_URL='https://plot.ly';                                    if (document.getElementById(\"2c753179-303f-433b-9558-ebf3d3d06467\")) {                    Plotly.newPlot(                        \"2c753179-303f-433b-9558-ebf3d3d06467\",                        [{\"boxpoints\": false, \"line\": {\"width\": 1.3}, \"marker\": {\"color\": \"rgba(255, 153, 51, 1.0)\"}, \"name\": \"A\", \"orientation\": \"v\", \"type\": \"box\", \"y\": [-1.5055387470969204, -1.5281336080932433, 0.5475375225269746, -0.5011536835325386, -1.1342277894161847, -1.3421654609689813, 1.0480587954437626, 0.1079858186458624, -0.5188967289497634, -0.2365765719760372, -0.6671966901411546, 0.4808958294390424, 0.2543237589685781, 0.6624634680374704, -1.8806637507850557, -1.7714952898637082, -0.1450552767082512, 0.3258012317547289, -1.9793404774159449, -1.837133213610893, 1.2048818510023436, -1.2146576222324894, 0.10051316757305068, 0.6503065455095138, -0.1037762205561722, 1.5796280422577185, 0.24683397628064682, -0.19632846361111042, -1.659879956912887, -0.7362869487055028, 0.696560945958403, 0.35011393191088397, -0.22294636893507996, -0.4490245617166439, -0.03413210591976646, 0.3813225689164726, -0.06804276535356155, -1.017866017986653, -0.48305879639553495, -0.8421918238373384, 0.09428074990969793, -0.3709780159244891, -2.4496465657011495, 1.0103436605626173, 1.246075620844197, 1.1997700774819116, 1.594497731670918, -0.22731603166056338, 0.6569588970958761, 0.09856549719926379, -0.8922698305611144, -0.9138306160664806, 0.5356427374304688, -0.287939493916266, -0.21742881701656078, -0.8522247181710058, -0.5253701618708698, 1.5428396249131306, 0.3411566218250933, 0.49922207449863165, 1.323964658717949, -1.3824171121263014, 0.9701483427037748, 0.4401818048772333, 1.3076536066443993, 2.355220713044908, 0.3330440295546341, -0.24749042740682606, 1.4700037958120582, 0.5275901521486961, 0.2318440908726942, 0.830445816962907, -0.5513743588021469, -0.20295015318623347, -0.836131924104717, -0.7937607157928708, 1.3319788440982268, -1.047455664669664, 1.0156429726730842, 0.07046136873997877, -1.1429664531146777, -0.8423125200880234, -1.7088559269805108, 0.23054946399192716, 1.2853740970875533, 0.7466025932529883, 1.5283495573924988, -0.0008903010811767334, -0.5698892720745149, -1.7421401214515508, -0.4387436019528569, 0.8418373255406498, -0.9637173207896174, 2.117703825261018, 0.9834391674180394, 0.3674088194285618, 1.5588053824031243, 0.2811852508479091, -1.7212704314648224, 1.0067873970433072]}, {\"boxpoints\": false, \"line\": {\"width\": 1.3}, \"marker\": {\"color\": \"rgba(55, 128, 191, 1.0)\"}, \"name\": \"B\", \"orientation\": \"v\", \"type\": \"box\", \"y\": [2.4959431719015757, 0.9276577510015102, 1.0050336280819714, -1.3414197951503666, 0.8746494229204337, 1.540503680338683, 0.36341469733085086, 0.2725456247333992, 1.8256614150093526, 0.4156453561321367, 1.4259125348996546, 0.5946871352044677, -0.996617192940703, -1.7343975620344267, 1.2605362115718608, 0.7792065667383924, -0.598165859683212, 0.3141166478645829, 2.028966264269778, -0.29196792479850614, 0.18451884374077343, 0.8624614728842477, 0.3480036276243098, 0.9367617347955924, 0.029764440610968956, 0.43061141935071345, -0.4186082014870178, -1.7469339996527733, -0.6344513661954309, 1.3582828527644264, -0.17399511524737038, 0.2331979361358069, -0.5836430876609441, -0.5091931531527603, -1.8430549827322322, 0.37972796141810045, -1.3500784339650678, -0.45771898539282563, 1.2708557850766116, -0.5777786253036234, -1.2136208429910493, 0.15180784778636058, 0.2518712007834114, 0.08812308785230992, -1.2262731538059652, -0.5228326084951959, 0.19439384594219133, -0.9677730140765817, 0.557013465619875, -2.6221107321614343, 0.34155621542304865, -1.0928749241983184, 1.39021765404278, -1.098393256437507, 1.365337542457722, -0.5707302449812107, -1.2005965785299708, -1.3298935269144292, -0.9460922681345796, -2.4804821303330415, 0.2794024307283462, -0.2128762900828223, -1.3961752300117987, -0.6975097022746658, 0.7203967384329273, 0.29590483041240295, 0.8214083566509665, -1.6138757379035886, 0.48213257156387984, -0.31657725802601844, 1.0036338052593803, -0.10501177153419351, -0.8632321261513736, 0.8360545538876548, 0.6452586861239282, -0.2313606912932169, 0.15547924818340117, 1.0450768088182119, -1.4390022209407076, 0.13533822747627927, -0.5688684967823189, -1.8417192752743694, -1.2450741247080495, 0.1405813522908807, -0.041901845147847776, -0.3785270769658319, -1.0026510762222551, 0.7792789540191182, -1.3267008036468066, -0.9617055507968908, 3.3011836296868546, -0.5845028743081897, -0.38304968847196313, -1.2753623714544455, -1.0490741676789088, -0.007588023951681576, 1.2022958402644337, 1.2222414150527166, -1.1693910600131703, -1.01440354370347]}, {\"boxpoints\": false, \"line\": {\"width\": 1.3}, \"marker\": {\"color\": \"rgba(50, 171, 96, 1.0)\"}, \"name\": \"C\", \"orientation\": \"v\", \"type\": \"box\", \"y\": [-0.6070843931902513, -1.550186819501212, 0.07402175255024296, -1.6727597423365705, -1.7747583910034577, 1.6732586491150208, 1.572907449863755, -1.0191918459583762, 0.06657805559187664, 0.7518875748356615, 1.0120311989247777, -0.8060283145444608, 1.2594634131257534, 1.9374402607782335, 1.072469596698813, -1.4463161029473193, -0.15089134345347371, 0.42924780813602254, 0.6716929415150239, 0.32314783000657255, -1.61098367979105, -0.4983536365895974, 0.5857687814656891, 2.4738702248773934, -0.46138399542897146, 0.5036695851862864, 1.0208569116710664, -1.2481419559669107, 0.026930185314432985, -0.09034917282227793, 0.24432044667313244, 0.6537224009803874, 0.5840885998430435, 1.4419767145061206, -1.0512763706505548, 1.1312767057127755, 0.10915542272810211, -1.2955116067749746, -0.9706199188825938, 0.6512076494462121, -0.36388879961990955, 0.901691909436344, 0.4079594285015438, 0.4083784834049719, -1.4933555603059998, -1.573303695616015, 2.164698369254346, 1.9074618965849457, -0.7772845518413163, 1.6644264981223373, -1.0463790562939157, -2.3567897108046636, 0.3883146524218016, 0.3138141917212112, -0.9660551820291213, 1.7685355619984595, -1.1084210884662882, -0.9075600940794092, 0.8334447578197528, -2.303731027787879, 0.39538182036684477, -1.029199368076163, -0.5010158542558378, 0.36151214906204815, -0.5091598678643701, 0.012475759687603068, -1.101934077076176, 0.3241367604735915, -0.15723716886990896, 0.4936107108268825, 0.6499376290725292, 0.02031196522300759, 0.17801436846090046, 0.7374790308271773, 0.2556650013608954, -0.22283530056353568, -0.9596373189035621, -0.14892666331915166, 0.4582495251756337, 0.06890368932967741, 0.2098710302373936, -1.140949211625298, 0.028010944948761853, -0.23580184923574032, -0.40273086213325493, 0.7014179306786912, 1.6235495508883768, -0.15022748598169697, -1.4477694102528924, -0.5981083445043424, -0.8673835479843751, 0.017651431172649803, 0.6494504217660723, -0.39637994067722565, -0.1136461956080303, 0.3055887053481512, -0.9830675683189555, -1.6248149695970981, 0.024839958867038266, -0.4928344424178749]}, {\"boxpoints\": false, \"line\": {\"width\": 1.3}, \"marker\": {\"color\": \"rgba(128, 0, 128, 1.0)\"}, \"name\": \"D\", \"orientation\": \"v\", \"type\": \"box\", \"y\": [-0.28576517870678514, 0.2952403250343437, 0.7191803693698858, 1.3756994320304368, -0.7739026281447616, -0.3750850239030581, 1.0724380226632415, -0.958875569717978, -0.1437109871411821, 1.517751015254013, 0.3976160958187145, 0.027066180006063405, 0.1873537323051807, -1.4328145974330802, 0.9011575568144171, 0.05414923942336671, -1.2320439954383886, 0.2857752972004397, 1.0847200261606957, 0.6904127393702959, 1.6013090687066236, 0.745391125754057, 0.3092282047918577, 0.12851303815475068, 0.07286120510039872, 0.8701079915926673, -1.1671742749899363, -0.8066298265655404, 0.6894543856686854, 0.30417605364579775, 2.1033271361543875, -0.6159709057979542, 0.2943353572964051, 0.2757627158931991, 0.06682034721256952, -0.6680633568610859, 0.5495712858733507, 0.746361695210706, 0.21574054184511707, -1.4800708198894106, 0.23936984673278713, 0.21067285546175818, -0.49250746657804684, 0.5002169985650018, 0.39659686438909386, -0.999232801989697, -0.25042492925072546, -1.2474258020413058, 1.419631310862581, 0.20758270000654724, -0.4162145180293298, -0.1232996862225204, -1.2305583511161229, -0.5848479983667825, -1.189267459024485, -0.3371647224447984, 0.6663114115090681, -1.5988754768656614, 0.13961548226013815, -0.41366803202121716, 0.7789435474742897, 0.5730007203063938, -1.4921513665207469, -0.8656919297289787, -1.916966904016963, -1.5112066392987253, -1.139731780975787, 1.6496484274025918, -0.9114562919705926, 1.7088040926110988, 0.8106893360917262, -1.5019697945067845, 0.12492900643115513, -0.5881388326874711, -0.5554522859164184, -0.5914883401393713, -0.3804979423428619, 0.002850160796405025, -0.8273100246545217, 1.315704561474466, -0.6401121587201171, 1.2386424119370028, 0.15996201094139392, -2.305501712981525, 0.39551399720275215, 1.5843663021362573, -0.7352121347078673, 1.4883193252411961, -0.22751700304547093, -1.492653335824817, -0.43778352764558337, -0.45599357032424565, -0.011917372625794538, 1.2517732000031179, -1.0252022173959074, -0.6057589830332419, 0.13930718974140305, -0.328796158203867, 0.3947410749795082, -0.2333185414774946]}],                        {\"legend\": {\"bgcolor\": \"#F5F6F9\", \"font\": {\"color\": \"#4D5663\"}}, \"paper_bgcolor\": \"#F5F6F9\", \"plot_bgcolor\": \"#F5F6F9\", \"template\": {\"data\": {\"bar\": [{\"error_x\": {\"color\": \"#2a3f5f\"}, \"error_y\": {\"color\": \"#2a3f5f\"}, \"marker\": {\"line\": {\"color\": \"#E5ECF6\", \"width\": 0.5}}, \"type\": \"bar\"}], \"barpolar\": [{\"marker\": {\"line\": {\"color\": \"#E5ECF6\", \"width\": 0.5}}, \"type\": \"barpolar\"}], \"carpet\": [{\"aaxis\": {\"endlinecolor\": \"#2a3f5f\", \"gridcolor\": \"white\", \"linecolor\": \"white\", \"minorgridcolor\": \"white\", \"startlinecolor\": \"#2a3f5f\"}, \"baxis\": {\"endlinecolor\": \"#2a3f5f\", \"gridcolor\": \"white\", \"linecolor\": \"white\", \"minorgridcolor\": \"white\", \"startlinecolor\": \"#2a3f5f\"}, \"type\": \"carpet\"}], \"choropleth\": [{\"colorbar\": {\"outlinewidth\": 0, \"ticks\": \"\"}, \"type\": \"choropleth\"}], \"contour\": [{\"colorbar\": {\"outlinewidth\": 0, \"ticks\": \"\"}, \"colorscale\": [[0.0, \"#0d0887\"], [0.1111111111111111, \"#46039f\"], [0.2222222222222222, \"#7201a8\"], [0.3333333333333333, \"#9c179e\"], [0.4444444444444444, \"#bd3786\"], [0.5555555555555556, \"#d8576b\"], [0.6666666666666666, \"#ed7953\"], [0.7777777777777778, \"#fb9f3a\"], [0.8888888888888888, \"#fdca26\"], [1.0, \"#f0f921\"]], \"type\": \"contour\"}], \"contourcarpet\": [{\"colorbar\": {\"outlinewidth\": 0, \"ticks\": \"\"}, \"type\": \"contourcarpet\"}], \"heatmap\": [{\"colorbar\": {\"outlinewidth\": 0, \"ticks\": \"\"}, \"colorscale\": [[0.0, \"#0d0887\"], [0.1111111111111111, \"#46039f\"], [0.2222222222222222, \"#7201a8\"], [0.3333333333333333, \"#9c179e\"], [0.4444444444444444, \"#bd3786\"], [0.5555555555555556, \"#d8576b\"], [0.6666666666666666, \"#ed7953\"], [0.7777777777777778, \"#fb9f3a\"], [0.8888888888888888, \"#fdca26\"], [1.0, \"#f0f921\"]], \"type\": \"heatmap\"}], \"heatmapgl\": [{\"colorbar\": {\"outlinewidth\": 0, \"ticks\": \"\"}, \"colorscale\": [[0.0, \"#0d0887\"], [0.1111111111111111, \"#46039f\"], [0.2222222222222222, \"#7201a8\"], [0.3333333333333333, \"#9c179e\"], [0.4444444444444444, \"#bd3786\"], [0.5555555555555556, \"#d8576b\"], [0.6666666666666666, \"#ed7953\"], [0.7777777777777778, \"#fb9f3a\"], [0.8888888888888888, \"#fdca26\"], [1.0, \"#f0f921\"]], \"type\": \"heatmapgl\"}], \"histogram\": [{\"marker\": {\"colorbar\": {\"outlinewidth\": 0, \"ticks\": \"\"}}, \"type\": \"histogram\"}], \"histogram2d\": [{\"colorbar\": {\"outlinewidth\": 0, \"ticks\": \"\"}, \"colorscale\": [[0.0, \"#0d0887\"], [0.1111111111111111, \"#46039f\"], [0.2222222222222222, \"#7201a8\"], [0.3333333333333333, \"#9c179e\"], [0.4444444444444444, \"#bd3786\"], [0.5555555555555556, \"#d8576b\"], [0.6666666666666666, \"#ed7953\"], [0.7777777777777778, \"#fb9f3a\"], [0.8888888888888888, \"#fdca26\"], [1.0, \"#f0f921\"]], \"type\": \"histogram2d\"}], \"histogram2dcontour\": [{\"colorbar\": {\"outlinewidth\": 0, \"ticks\": \"\"}, \"colorscale\": [[0.0, \"#0d0887\"], [0.1111111111111111, \"#46039f\"], [0.2222222222222222, \"#7201a8\"], [0.3333333333333333, \"#9c179e\"], [0.4444444444444444, \"#bd3786\"], [0.5555555555555556, \"#d8576b\"], [0.6666666666666666, \"#ed7953\"], [0.7777777777777778, \"#fb9f3a\"], [0.8888888888888888, \"#fdca26\"], [1.0, \"#f0f921\"]], \"type\": \"histogram2dcontour\"}], \"mesh3d\": [{\"colorbar\": {\"outlinewidth\": 0, \"ticks\": \"\"}, \"type\": \"mesh3d\"}], \"parcoords\": [{\"line\": {\"colorbar\": {\"outlinewidth\": 0, \"ticks\": \"\"}}, \"type\": \"parcoords\"}], \"pie\": [{\"automargin\": true, \"type\": \"pie\"}], \"scatter\": [{\"marker\": {\"colorbar\": {\"outlinewidth\": 0, \"ticks\": \"\"}}, \"type\": \"scatter\"}], \"scatter3d\": [{\"line\": {\"colorbar\": {\"outlinewidth\": 0, \"ticks\": \"\"}}, \"marker\": {\"colorbar\": {\"outlinewidth\": 0, \"ticks\": \"\"}}, \"type\": \"scatter3d\"}], \"scattercarpet\": [{\"marker\": {\"colorbar\": {\"outlinewidth\": 0, \"ticks\": \"\"}}, \"type\": \"scattercarpet\"}], \"scattergeo\": [{\"marker\": {\"colorbar\": {\"outlinewidth\": 0, \"ticks\": \"\"}}, \"type\": \"scattergeo\"}], \"scattergl\": [{\"marker\": {\"colorbar\": {\"outlinewidth\": 0, \"ticks\": \"\"}}, \"type\": \"scattergl\"}], \"scattermapbox\": [{\"marker\": {\"colorbar\": {\"outlinewidth\": 0, \"ticks\": \"\"}}, \"type\": \"scattermapbox\"}], \"scatterpolar\": [{\"marker\": {\"colorbar\": {\"outlinewidth\": 0, \"ticks\": \"\"}}, \"type\": \"scatterpolar\"}], \"scatterpolargl\": [{\"marker\": {\"colorbar\": {\"outlinewidth\": 0, \"ticks\": \"\"}}, \"type\": \"scatterpolargl\"}], \"scatterternary\": [{\"marker\": {\"colorbar\": {\"outlinewidth\": 0, \"ticks\": \"\"}}, \"type\": \"scatterternary\"}], \"surface\": [{\"colorbar\": {\"outlinewidth\": 0, \"ticks\": \"\"}, \"colorscale\": [[0.0, \"#0d0887\"], [0.1111111111111111, \"#46039f\"], [0.2222222222222222, \"#7201a8\"], [0.3333333333333333, \"#9c179e\"], [0.4444444444444444, \"#bd3786\"], [0.5555555555555556, \"#d8576b\"], [0.6666666666666666, \"#ed7953\"], [0.7777777777777778, \"#fb9f3a\"], [0.8888888888888888, \"#fdca26\"], [1.0, \"#f0f921\"]], \"type\": \"surface\"}], \"table\": [{\"cells\": {\"fill\": {\"color\": \"#EBF0F8\"}, \"line\": {\"color\": \"white\"}}, \"header\": {\"fill\": {\"color\": \"#C8D4E3\"}, \"line\": {\"color\": \"white\"}}, \"type\": \"table\"}]}, \"layout\": {\"annotationdefaults\": {\"arrowcolor\": \"#2a3f5f\", \"arrowhead\": 0, \"arrowwidth\": 1}, \"autotypenumbers\": \"strict\", \"coloraxis\": {\"colorbar\": {\"outlinewidth\": 0, \"ticks\": \"\"}}, \"colorscale\": {\"diverging\": [[0, \"#8e0152\"], [0.1, \"#c51b7d\"], [0.2, \"#de77ae\"], [0.3, \"#f1b6da\"], [0.4, \"#fde0ef\"], [0.5, \"#f7f7f7\"], [0.6, \"#e6f5d0\"], [0.7, \"#b8e186\"], [0.8, \"#7fbc41\"], [0.9, \"#4d9221\"], [1, \"#276419\"]], \"sequential\": [[0.0, \"#0d0887\"], [0.1111111111111111, \"#46039f\"], [0.2222222222222222, \"#7201a8\"], [0.3333333333333333, \"#9c179e\"], [0.4444444444444444, \"#bd3786\"], [0.5555555555555556, \"#d8576b\"], [0.6666666666666666, \"#ed7953\"], [0.7777777777777778, \"#fb9f3a\"], [0.8888888888888888, \"#fdca26\"], [1.0, \"#f0f921\"]], \"sequentialminus\": [[0.0, \"#0d0887\"], [0.1111111111111111, \"#46039f\"], [0.2222222222222222, \"#7201a8\"], [0.3333333333333333, \"#9c179e\"], [0.4444444444444444, \"#bd3786\"], [0.5555555555555556, \"#d8576b\"], [0.6666666666666666, \"#ed7953\"], [0.7777777777777778, \"#fb9f3a\"], [0.8888888888888888, \"#fdca26\"], [1.0, \"#f0f921\"]]}, \"colorway\": [\"#636efa\", \"#EF553B\", \"#00cc96\", \"#ab63fa\", \"#FFA15A\", \"#19d3f3\", \"#FF6692\", \"#B6E880\", \"#FF97FF\", \"#FECB52\"], \"font\": {\"color\": \"#2a3f5f\"}, \"geo\": {\"bgcolor\": \"white\", \"lakecolor\": \"white\", \"landcolor\": \"#E5ECF6\", \"showlakes\": true, \"showland\": true, \"subunitcolor\": \"white\"}, \"hoverlabel\": {\"align\": \"left\"}, \"hovermode\": \"closest\", \"mapbox\": {\"style\": \"light\"}, \"paper_bgcolor\": \"white\", \"plot_bgcolor\": \"#E5ECF6\", \"polar\": {\"angularaxis\": {\"gridcolor\": \"white\", \"linecolor\": \"white\", \"ticks\": \"\"}, \"bgcolor\": \"#E5ECF6\", \"radialaxis\": {\"gridcolor\": \"white\", \"linecolor\": \"white\", \"ticks\": \"\"}}, \"scene\": {\"xaxis\": {\"backgroundcolor\": \"#E5ECF6\", \"gridcolor\": \"white\", \"gridwidth\": 2, \"linecolor\": \"white\", \"showbackground\": true, \"ticks\": \"\", \"zerolinecolor\": \"white\"}, \"yaxis\": {\"backgroundcolor\": \"#E5ECF6\", \"gridcolor\": \"white\", \"gridwidth\": 2, \"linecolor\": \"white\", \"showbackground\": true, \"ticks\": \"\", \"zerolinecolor\": \"white\"}, \"zaxis\": {\"backgroundcolor\": \"#E5ECF6\", \"gridcolor\": \"white\", \"gridwidth\": 2, \"linecolor\": \"white\", \"showbackground\": true, \"ticks\": \"\", \"zerolinecolor\": \"white\"}}, \"shapedefaults\": {\"line\": {\"color\": \"#2a3f5f\"}}, \"ternary\": {\"aaxis\": {\"gridcolor\": \"white\", \"linecolor\": \"white\", \"ticks\": \"\"}, \"baxis\": {\"gridcolor\": \"white\", \"linecolor\": \"white\", \"ticks\": \"\"}, \"bgcolor\": \"#E5ECF6\", \"caxis\": {\"gridcolor\": \"white\", \"linecolor\": \"white\", \"ticks\": \"\"}}, \"title\": {\"x\": 0.05}, \"xaxis\": {\"automargin\": true, \"gridcolor\": \"white\", \"linecolor\": \"white\", \"ticks\": \"\", \"title\": {\"standoff\": 15}, \"zerolinecolor\": \"white\", \"zerolinewidth\": 2}, \"yaxis\": {\"automargin\": true, \"gridcolor\": \"white\", \"linecolor\": \"white\", \"ticks\": \"\", \"title\": {\"standoff\": 15}, \"zerolinecolor\": \"white\", \"zerolinewidth\": 2}}}, \"title\": {\"font\": {\"color\": \"#4D5663\"}}, \"xaxis\": {\"gridcolor\": \"#E1E5ED\", \"showgrid\": true, \"tickfont\": {\"color\": \"#4D5663\"}, \"title\": {\"font\": {\"color\": \"#4D5663\"}, \"text\": \"\"}, \"zerolinecolor\": \"#E1E5ED\"}, \"yaxis\": {\"gridcolor\": \"#E1E5ED\", \"showgrid\": true, \"tickfont\": {\"color\": \"#4D5663\"}, \"title\": {\"font\": {\"color\": \"#4D5663\"}, \"text\": \"\"}, \"zerolinecolor\": \"#E1E5ED\"}},                        {\"showLink\": true, \"linkText\": \"Export to plot.ly\", \"plotlyServerURL\": \"https://plot.ly\", \"responsive\": true}                    ).then(function(){\n",
       "                            \n",
       "var gd = document.getElementById('2c753179-303f-433b-9558-ebf3d3d06467');\n",
       "var x = new MutationObserver(function (mutations, observer) {{\n",
       "        var display = window.getComputedStyle(gd).display;\n",
       "        if (!display || display === 'none') {{\n",
       "            console.log([gd, 'removed!']);\n",
       "            Plotly.purge(gd);\n",
       "            observer.disconnect();\n",
       "        }}\n",
       "}});\n",
       "\n",
       "// Listen for the removal of the full notebook cells\n",
       "var notebookContainer = gd.closest('#notebook-container');\n",
       "if (notebookContainer) {{\n",
       "    x.observe(notebookContainer, {childList: true});\n",
       "}}\n",
       "\n",
       "// Listen for the clearing of the current output cell\n",
       "var outputEl = gd.closest('.output');\n",
       "if (outputEl) {{\n",
       "    x.observe(outputEl, {childList: true});\n",
       "}}\n",
       "\n",
       "                        })                };                });            </script>        </div>"
      ]
     },
     "metadata": {},
     "output_type": "display_data"
    }
   ],
   "source": [
    "df.iplot(kind='box')"
   ]
  },
  {
   "cell_type": "markdown",
   "metadata": {},
   "source": [
    "## 3d Surface"
   ]
  },
  {
   "cell_type": "code",
   "execution_count": 41,
   "metadata": {},
   "outputs": [
    {
     "data": {
      "application/vnd.plotly.v1+json": {
       "config": {
        "linkText": "Export to plot.ly",
        "plotlyServerURL": "https://plot.ly",
        "showLink": true
       },
       "data": [
        {
         "colorscale": [
          [
           0,
           "rgb(165,0,38)"
          ],
          [
           0.1,
           "rgb(215,48,39)"
          ],
          [
           0.2,
           "rgb(244,109,67)"
          ],
          [
           0.3,
           "rgb(253,174,97)"
          ],
          [
           0.4,
           "rgb(254,224,144)"
          ],
          [
           0.5,
           "rgb(255,255,191)"
          ],
          [
           0.6,
           "rgb(224,243,248)"
          ],
          [
           0.7,
           "rgb(171,217,233)"
          ],
          [
           0.8,
           "rgb(116,173,209)"
          ],
          [
           0.9,
           "rgb(69,117,180)"
          ],
          [
           1,
           "rgb(49,54,149)"
          ]
         ],
         "type": "surface",
         "x": [
          0,
          1,
          2,
          3,
          4
         ],
         "y": [
          "x",
          "y",
          "z"
         ],
         "z": [
          [
           1,
           2,
           3,
           4,
           5
          ],
          [
           10,
           20,
           30,
           20,
           10
          ],
          [
           5,
           4,
           3,
           2,
           1
          ]
         ]
        }
       ],
       "layout": {
        "legend": {
         "bgcolor": "#F5F6F9",
         "font": {
          "color": "#4D5663"
         }
        },
        "paper_bgcolor": "#F5F6F9",
        "plot_bgcolor": "#F5F6F9",
        "template": {
         "data": {
          "bar": [
           {
            "error_x": {
             "color": "#2a3f5f"
            },
            "error_y": {
             "color": "#2a3f5f"
            },
            "marker": {
             "line": {
              "color": "#E5ECF6",
              "width": 0.5
             }
            },
            "type": "bar"
           }
          ],
          "barpolar": [
           {
            "marker": {
             "line": {
              "color": "#E5ECF6",
              "width": 0.5
             }
            },
            "type": "barpolar"
           }
          ],
          "carpet": [
           {
            "aaxis": {
             "endlinecolor": "#2a3f5f",
             "gridcolor": "white",
             "linecolor": "white",
             "minorgridcolor": "white",
             "startlinecolor": "#2a3f5f"
            },
            "baxis": {
             "endlinecolor": "#2a3f5f",
             "gridcolor": "white",
             "linecolor": "white",
             "minorgridcolor": "white",
             "startlinecolor": "#2a3f5f"
            },
            "type": "carpet"
           }
          ],
          "choropleth": [
           {
            "colorbar": {
             "outlinewidth": 0,
             "ticks": ""
            },
            "type": "choropleth"
           }
          ],
          "contour": [
           {
            "colorbar": {
             "outlinewidth": 0,
             "ticks": ""
            },
            "colorscale": [
             [
              0,
              "#0d0887"
             ],
             [
              0.1111111111111111,
              "#46039f"
             ],
             [
              0.2222222222222222,
              "#7201a8"
             ],
             [
              0.3333333333333333,
              "#9c179e"
             ],
             [
              0.4444444444444444,
              "#bd3786"
             ],
             [
              0.5555555555555556,
              "#d8576b"
             ],
             [
              0.6666666666666666,
              "#ed7953"
             ],
             [
              0.7777777777777778,
              "#fb9f3a"
             ],
             [
              0.8888888888888888,
              "#fdca26"
             ],
             [
              1,
              "#f0f921"
             ]
            ],
            "type": "contour"
           }
          ],
          "contourcarpet": [
           {
            "colorbar": {
             "outlinewidth": 0,
             "ticks": ""
            },
            "type": "contourcarpet"
           }
          ],
          "heatmap": [
           {
            "colorbar": {
             "outlinewidth": 0,
             "ticks": ""
            },
            "colorscale": [
             [
              0,
              "#0d0887"
             ],
             [
              0.1111111111111111,
              "#46039f"
             ],
             [
              0.2222222222222222,
              "#7201a8"
             ],
             [
              0.3333333333333333,
              "#9c179e"
             ],
             [
              0.4444444444444444,
              "#bd3786"
             ],
             [
              0.5555555555555556,
              "#d8576b"
             ],
             [
              0.6666666666666666,
              "#ed7953"
             ],
             [
              0.7777777777777778,
              "#fb9f3a"
             ],
             [
              0.8888888888888888,
              "#fdca26"
             ],
             [
              1,
              "#f0f921"
             ]
            ],
            "type": "heatmap"
           }
          ],
          "heatmapgl": [
           {
            "colorbar": {
             "outlinewidth": 0,
             "ticks": ""
            },
            "colorscale": [
             [
              0,
              "#0d0887"
             ],
             [
              0.1111111111111111,
              "#46039f"
             ],
             [
              0.2222222222222222,
              "#7201a8"
             ],
             [
              0.3333333333333333,
              "#9c179e"
             ],
             [
              0.4444444444444444,
              "#bd3786"
             ],
             [
              0.5555555555555556,
              "#d8576b"
             ],
             [
              0.6666666666666666,
              "#ed7953"
             ],
             [
              0.7777777777777778,
              "#fb9f3a"
             ],
             [
              0.8888888888888888,
              "#fdca26"
             ],
             [
              1,
              "#f0f921"
             ]
            ],
            "type": "heatmapgl"
           }
          ],
          "histogram": [
           {
            "marker": {
             "colorbar": {
              "outlinewidth": 0,
              "ticks": ""
             }
            },
            "type": "histogram"
           }
          ],
          "histogram2d": [
           {
            "colorbar": {
             "outlinewidth": 0,
             "ticks": ""
            },
            "colorscale": [
             [
              0,
              "#0d0887"
             ],
             [
              0.1111111111111111,
              "#46039f"
             ],
             [
              0.2222222222222222,
              "#7201a8"
             ],
             [
              0.3333333333333333,
              "#9c179e"
             ],
             [
              0.4444444444444444,
              "#bd3786"
             ],
             [
              0.5555555555555556,
              "#d8576b"
             ],
             [
              0.6666666666666666,
              "#ed7953"
             ],
             [
              0.7777777777777778,
              "#fb9f3a"
             ],
             [
              0.8888888888888888,
              "#fdca26"
             ],
             [
              1,
              "#f0f921"
             ]
            ],
            "type": "histogram2d"
           }
          ],
          "histogram2dcontour": [
           {
            "colorbar": {
             "outlinewidth": 0,
             "ticks": ""
            },
            "colorscale": [
             [
              0,
              "#0d0887"
             ],
             [
              0.1111111111111111,
              "#46039f"
             ],
             [
              0.2222222222222222,
              "#7201a8"
             ],
             [
              0.3333333333333333,
              "#9c179e"
             ],
             [
              0.4444444444444444,
              "#bd3786"
             ],
             [
              0.5555555555555556,
              "#d8576b"
             ],
             [
              0.6666666666666666,
              "#ed7953"
             ],
             [
              0.7777777777777778,
              "#fb9f3a"
             ],
             [
              0.8888888888888888,
              "#fdca26"
             ],
             [
              1,
              "#f0f921"
             ]
            ],
            "type": "histogram2dcontour"
           }
          ],
          "mesh3d": [
           {
            "colorbar": {
             "outlinewidth": 0,
             "ticks": ""
            },
            "type": "mesh3d"
           }
          ],
          "parcoords": [
           {
            "line": {
             "colorbar": {
              "outlinewidth": 0,
              "ticks": ""
             }
            },
            "type": "parcoords"
           }
          ],
          "pie": [
           {
            "automargin": true,
            "type": "pie"
           }
          ],
          "scatter": [
           {
            "marker": {
             "colorbar": {
              "outlinewidth": 0,
              "ticks": ""
             }
            },
            "type": "scatter"
           }
          ],
          "scatter3d": [
           {
            "line": {
             "colorbar": {
              "outlinewidth": 0,
              "ticks": ""
             }
            },
            "marker": {
             "colorbar": {
              "outlinewidth": 0,
              "ticks": ""
             }
            },
            "type": "scatter3d"
           }
          ],
          "scattercarpet": [
           {
            "marker": {
             "colorbar": {
              "outlinewidth": 0,
              "ticks": ""
             }
            },
            "type": "scattercarpet"
           }
          ],
          "scattergeo": [
           {
            "marker": {
             "colorbar": {
              "outlinewidth": 0,
              "ticks": ""
             }
            },
            "type": "scattergeo"
           }
          ],
          "scattergl": [
           {
            "marker": {
             "colorbar": {
              "outlinewidth": 0,
              "ticks": ""
             }
            },
            "type": "scattergl"
           }
          ],
          "scattermapbox": [
           {
            "marker": {
             "colorbar": {
              "outlinewidth": 0,
              "ticks": ""
             }
            },
            "type": "scattermapbox"
           }
          ],
          "scatterpolar": [
           {
            "marker": {
             "colorbar": {
              "outlinewidth": 0,
              "ticks": ""
             }
            },
            "type": "scatterpolar"
           }
          ],
          "scatterpolargl": [
           {
            "marker": {
             "colorbar": {
              "outlinewidth": 0,
              "ticks": ""
             }
            },
            "type": "scatterpolargl"
           }
          ],
          "scatterternary": [
           {
            "marker": {
             "colorbar": {
              "outlinewidth": 0,
              "ticks": ""
             }
            },
            "type": "scatterternary"
           }
          ],
          "surface": [
           {
            "colorbar": {
             "outlinewidth": 0,
             "ticks": ""
            },
            "colorscale": [
             [
              0,
              "#0d0887"
             ],
             [
              0.1111111111111111,
              "#46039f"
             ],
             [
              0.2222222222222222,
              "#7201a8"
             ],
             [
              0.3333333333333333,
              "#9c179e"
             ],
             [
              0.4444444444444444,
              "#bd3786"
             ],
             [
              0.5555555555555556,
              "#d8576b"
             ],
             [
              0.6666666666666666,
              "#ed7953"
             ],
             [
              0.7777777777777778,
              "#fb9f3a"
             ],
             [
              0.8888888888888888,
              "#fdca26"
             ],
             [
              1,
              "#f0f921"
             ]
            ],
            "type": "surface"
           }
          ],
          "table": [
           {
            "cells": {
             "fill": {
              "color": "#EBF0F8"
             },
             "line": {
              "color": "white"
             }
            },
            "header": {
             "fill": {
              "color": "#C8D4E3"
             },
             "line": {
              "color": "white"
             }
            },
            "type": "table"
           }
          ]
         },
         "layout": {
          "annotationdefaults": {
           "arrowcolor": "#2a3f5f",
           "arrowhead": 0,
           "arrowwidth": 1
          },
          "autotypenumbers": "strict",
          "coloraxis": {
           "colorbar": {
            "outlinewidth": 0,
            "ticks": ""
           }
          },
          "colorscale": {
           "diverging": [
            [
             0,
             "#8e0152"
            ],
            [
             0.1,
             "#c51b7d"
            ],
            [
             0.2,
             "#de77ae"
            ],
            [
             0.3,
             "#f1b6da"
            ],
            [
             0.4,
             "#fde0ef"
            ],
            [
             0.5,
             "#f7f7f7"
            ],
            [
             0.6,
             "#e6f5d0"
            ],
            [
             0.7,
             "#b8e186"
            ],
            [
             0.8,
             "#7fbc41"
            ],
            [
             0.9,
             "#4d9221"
            ],
            [
             1,
             "#276419"
            ]
           ],
           "sequential": [
            [
             0,
             "#0d0887"
            ],
            [
             0.1111111111111111,
             "#46039f"
            ],
            [
             0.2222222222222222,
             "#7201a8"
            ],
            [
             0.3333333333333333,
             "#9c179e"
            ],
            [
             0.4444444444444444,
             "#bd3786"
            ],
            [
             0.5555555555555556,
             "#d8576b"
            ],
            [
             0.6666666666666666,
             "#ed7953"
            ],
            [
             0.7777777777777778,
             "#fb9f3a"
            ],
            [
             0.8888888888888888,
             "#fdca26"
            ],
            [
             1,
             "#f0f921"
            ]
           ],
           "sequentialminus": [
            [
             0,
             "#0d0887"
            ],
            [
             0.1111111111111111,
             "#46039f"
            ],
            [
             0.2222222222222222,
             "#7201a8"
            ],
            [
             0.3333333333333333,
             "#9c179e"
            ],
            [
             0.4444444444444444,
             "#bd3786"
            ],
            [
             0.5555555555555556,
             "#d8576b"
            ],
            [
             0.6666666666666666,
             "#ed7953"
            ],
            [
             0.7777777777777778,
             "#fb9f3a"
            ],
            [
             0.8888888888888888,
             "#fdca26"
            ],
            [
             1,
             "#f0f921"
            ]
           ]
          },
          "colorway": [
           "#636efa",
           "#EF553B",
           "#00cc96",
           "#ab63fa",
           "#FFA15A",
           "#19d3f3",
           "#FF6692",
           "#B6E880",
           "#FF97FF",
           "#FECB52"
          ],
          "font": {
           "color": "#2a3f5f"
          },
          "geo": {
           "bgcolor": "white",
           "lakecolor": "white",
           "landcolor": "#E5ECF6",
           "showlakes": true,
           "showland": true,
           "subunitcolor": "white"
          },
          "hoverlabel": {
           "align": "left"
          },
          "hovermode": "closest",
          "mapbox": {
           "style": "light"
          },
          "paper_bgcolor": "white",
          "plot_bgcolor": "#E5ECF6",
          "polar": {
           "angularaxis": {
            "gridcolor": "white",
            "linecolor": "white",
            "ticks": ""
           },
           "bgcolor": "#E5ECF6",
           "radialaxis": {
            "gridcolor": "white",
            "linecolor": "white",
            "ticks": ""
           }
          },
          "scene": {
           "xaxis": {
            "backgroundcolor": "#E5ECF6",
            "gridcolor": "white",
            "gridwidth": 2,
            "linecolor": "white",
            "showbackground": true,
            "ticks": "",
            "zerolinecolor": "white"
           },
           "yaxis": {
            "backgroundcolor": "#E5ECF6",
            "gridcolor": "white",
            "gridwidth": 2,
            "linecolor": "white",
            "showbackground": true,
            "ticks": "",
            "zerolinecolor": "white"
           },
           "zaxis": {
            "backgroundcolor": "#E5ECF6",
            "gridcolor": "white",
            "gridwidth": 2,
            "linecolor": "white",
            "showbackground": true,
            "ticks": "",
            "zerolinecolor": "white"
           }
          },
          "shapedefaults": {
           "line": {
            "color": "#2a3f5f"
           }
          },
          "ternary": {
           "aaxis": {
            "gridcolor": "white",
            "linecolor": "white",
            "ticks": ""
           },
           "baxis": {
            "gridcolor": "white",
            "linecolor": "white",
            "ticks": ""
           },
           "bgcolor": "#E5ECF6",
           "caxis": {
            "gridcolor": "white",
            "linecolor": "white",
            "ticks": ""
           }
          },
          "title": {
           "x": 0.05
          },
          "xaxis": {
           "automargin": true,
           "gridcolor": "white",
           "linecolor": "white",
           "ticks": "",
           "title": {
            "standoff": 15
           },
           "zerolinecolor": "white",
           "zerolinewidth": 2
          },
          "yaxis": {
           "automargin": true,
           "gridcolor": "white",
           "linecolor": "white",
           "ticks": "",
           "title": {
            "standoff": 15
           },
           "zerolinecolor": "white",
           "zerolinewidth": 2
          }
         }
        },
        "title": {
         "font": {
          "color": "#4D5663"
         }
        },
        "xaxis": {
         "gridcolor": "#E1E5ED",
         "showgrid": true,
         "tickfont": {
          "color": "#4D5663"
         },
         "title": {
          "font": {
           "color": "#4D5663"
          },
          "text": ""
         },
         "zerolinecolor": "#E1E5ED"
        },
        "yaxis": {
         "gridcolor": "#E1E5ED",
         "showgrid": true,
         "tickfont": {
          "color": "#4D5663"
         },
         "title": {
          "font": {
           "color": "#4D5663"
          },
          "text": ""
         },
         "zerolinecolor": "#E1E5ED"
        }
       }
      },
      "text/html": [
       "<div>                            <div id=\"c560b814-85a5-4b72-a133-1bed0585e9de\" class=\"plotly-graph-div\" style=\"height:525px; width:100%;\"></div>            <script type=\"text/javascript\">                require([\"plotly\"], function(Plotly) {                    window.PLOTLYENV=window.PLOTLYENV || {};\n",
       "                    window.PLOTLYENV.BASE_URL='https://plot.ly';                                    if (document.getElementById(\"c560b814-85a5-4b72-a133-1bed0585e9de\")) {                    Plotly.newPlot(                        \"c560b814-85a5-4b72-a133-1bed0585e9de\",                        [{\"colorscale\": [[0.0, \"rgb(165,0,38)\"], [0.1, \"rgb(215,48,39)\"], [0.2, \"rgb(244,109,67)\"], [0.3, \"rgb(253,174,97)\"], [0.4, \"rgb(254,224,144)\"], [0.5, \"rgb(255,255,191)\"], [0.6, \"rgb(224,243,248)\"], [0.7, \"rgb(171,217,233)\"], [0.8, \"rgb(116,173,209)\"], [0.9, \"rgb(69,117,180)\"], [1.0, \"rgb(49,54,149)\"]], \"type\": \"surface\", \"x\": [0, 1, 2, 3, 4], \"y\": [\"x\", \"y\", \"z\"], \"z\": [[1, 2, 3, 4, 5], [10, 20, 30, 20, 10], [5, 4, 3, 2, 1]]}],                        {\"legend\": {\"bgcolor\": \"#F5F6F9\", \"font\": {\"color\": \"#4D5663\"}}, \"paper_bgcolor\": \"#F5F6F9\", \"plot_bgcolor\": \"#F5F6F9\", \"template\": {\"data\": {\"bar\": [{\"error_x\": {\"color\": \"#2a3f5f\"}, \"error_y\": {\"color\": \"#2a3f5f\"}, \"marker\": {\"line\": {\"color\": \"#E5ECF6\", \"width\": 0.5}}, \"type\": \"bar\"}], \"barpolar\": [{\"marker\": {\"line\": {\"color\": \"#E5ECF6\", \"width\": 0.5}}, \"type\": \"barpolar\"}], \"carpet\": [{\"aaxis\": {\"endlinecolor\": \"#2a3f5f\", \"gridcolor\": \"white\", \"linecolor\": \"white\", \"minorgridcolor\": \"white\", \"startlinecolor\": \"#2a3f5f\"}, \"baxis\": {\"endlinecolor\": \"#2a3f5f\", \"gridcolor\": \"white\", \"linecolor\": \"white\", \"minorgridcolor\": \"white\", \"startlinecolor\": \"#2a3f5f\"}, \"type\": \"carpet\"}], \"choropleth\": [{\"colorbar\": {\"outlinewidth\": 0, \"ticks\": \"\"}, \"type\": \"choropleth\"}], \"contour\": [{\"colorbar\": {\"outlinewidth\": 0, \"ticks\": \"\"}, \"colorscale\": [[0.0, \"#0d0887\"], [0.1111111111111111, \"#46039f\"], [0.2222222222222222, \"#7201a8\"], [0.3333333333333333, \"#9c179e\"], [0.4444444444444444, \"#bd3786\"], [0.5555555555555556, \"#d8576b\"], [0.6666666666666666, \"#ed7953\"], [0.7777777777777778, \"#fb9f3a\"], [0.8888888888888888, \"#fdca26\"], [1.0, \"#f0f921\"]], \"type\": \"contour\"}], \"contourcarpet\": [{\"colorbar\": {\"outlinewidth\": 0, \"ticks\": \"\"}, \"type\": \"contourcarpet\"}], \"heatmap\": [{\"colorbar\": {\"outlinewidth\": 0, \"ticks\": \"\"}, \"colorscale\": [[0.0, \"#0d0887\"], [0.1111111111111111, \"#46039f\"], [0.2222222222222222, \"#7201a8\"], [0.3333333333333333, \"#9c179e\"], [0.4444444444444444, \"#bd3786\"], [0.5555555555555556, \"#d8576b\"], [0.6666666666666666, \"#ed7953\"], [0.7777777777777778, \"#fb9f3a\"], [0.8888888888888888, \"#fdca26\"], [1.0, \"#f0f921\"]], \"type\": \"heatmap\"}], \"heatmapgl\": [{\"colorbar\": {\"outlinewidth\": 0, \"ticks\": \"\"}, \"colorscale\": [[0.0, \"#0d0887\"], [0.1111111111111111, \"#46039f\"], [0.2222222222222222, \"#7201a8\"], [0.3333333333333333, \"#9c179e\"], [0.4444444444444444, \"#bd3786\"], [0.5555555555555556, \"#d8576b\"], [0.6666666666666666, \"#ed7953\"], [0.7777777777777778, \"#fb9f3a\"], [0.8888888888888888, \"#fdca26\"], [1.0, \"#f0f921\"]], \"type\": \"heatmapgl\"}], \"histogram\": [{\"marker\": {\"colorbar\": {\"outlinewidth\": 0, \"ticks\": \"\"}}, \"type\": \"histogram\"}], \"histogram2d\": [{\"colorbar\": {\"outlinewidth\": 0, \"ticks\": \"\"}, \"colorscale\": [[0.0, \"#0d0887\"], [0.1111111111111111, \"#46039f\"], [0.2222222222222222, \"#7201a8\"], [0.3333333333333333, \"#9c179e\"], [0.4444444444444444, \"#bd3786\"], [0.5555555555555556, \"#d8576b\"], [0.6666666666666666, \"#ed7953\"], [0.7777777777777778, \"#fb9f3a\"], [0.8888888888888888, \"#fdca26\"], [1.0, \"#f0f921\"]], \"type\": \"histogram2d\"}], \"histogram2dcontour\": [{\"colorbar\": {\"outlinewidth\": 0, \"ticks\": \"\"}, \"colorscale\": [[0.0, \"#0d0887\"], [0.1111111111111111, \"#46039f\"], [0.2222222222222222, \"#7201a8\"], [0.3333333333333333, \"#9c179e\"], [0.4444444444444444, \"#bd3786\"], [0.5555555555555556, \"#d8576b\"], [0.6666666666666666, \"#ed7953\"], [0.7777777777777778, \"#fb9f3a\"], [0.8888888888888888, \"#fdca26\"], [1.0, \"#f0f921\"]], \"type\": \"histogram2dcontour\"}], \"mesh3d\": [{\"colorbar\": {\"outlinewidth\": 0, \"ticks\": \"\"}, \"type\": \"mesh3d\"}], \"parcoords\": [{\"line\": {\"colorbar\": {\"outlinewidth\": 0, \"ticks\": \"\"}}, \"type\": \"parcoords\"}], \"pie\": [{\"automargin\": true, \"type\": \"pie\"}], \"scatter\": [{\"marker\": {\"colorbar\": {\"outlinewidth\": 0, \"ticks\": \"\"}}, \"type\": \"scatter\"}], \"scatter3d\": [{\"line\": {\"colorbar\": {\"outlinewidth\": 0, \"ticks\": \"\"}}, \"marker\": {\"colorbar\": {\"outlinewidth\": 0, \"ticks\": \"\"}}, \"type\": \"scatter3d\"}], \"scattercarpet\": [{\"marker\": {\"colorbar\": {\"outlinewidth\": 0, \"ticks\": \"\"}}, \"type\": \"scattercarpet\"}], \"scattergeo\": [{\"marker\": {\"colorbar\": {\"outlinewidth\": 0, \"ticks\": \"\"}}, \"type\": \"scattergeo\"}], \"scattergl\": [{\"marker\": {\"colorbar\": {\"outlinewidth\": 0, \"ticks\": \"\"}}, \"type\": \"scattergl\"}], \"scattermapbox\": [{\"marker\": {\"colorbar\": {\"outlinewidth\": 0, \"ticks\": \"\"}}, \"type\": \"scattermapbox\"}], \"scatterpolar\": [{\"marker\": {\"colorbar\": {\"outlinewidth\": 0, \"ticks\": \"\"}}, \"type\": \"scatterpolar\"}], \"scatterpolargl\": [{\"marker\": {\"colorbar\": {\"outlinewidth\": 0, \"ticks\": \"\"}}, \"type\": \"scatterpolargl\"}], \"scatterternary\": [{\"marker\": {\"colorbar\": {\"outlinewidth\": 0, \"ticks\": \"\"}}, \"type\": \"scatterternary\"}], \"surface\": [{\"colorbar\": {\"outlinewidth\": 0, \"ticks\": \"\"}, \"colorscale\": [[0.0, \"#0d0887\"], [0.1111111111111111, \"#46039f\"], [0.2222222222222222, \"#7201a8\"], [0.3333333333333333, \"#9c179e\"], [0.4444444444444444, \"#bd3786\"], [0.5555555555555556, \"#d8576b\"], [0.6666666666666666, \"#ed7953\"], [0.7777777777777778, \"#fb9f3a\"], [0.8888888888888888, \"#fdca26\"], [1.0, \"#f0f921\"]], \"type\": \"surface\"}], \"table\": [{\"cells\": {\"fill\": {\"color\": \"#EBF0F8\"}, \"line\": {\"color\": \"white\"}}, \"header\": {\"fill\": {\"color\": \"#C8D4E3\"}, \"line\": {\"color\": \"white\"}}, \"type\": \"table\"}]}, \"layout\": {\"annotationdefaults\": {\"arrowcolor\": \"#2a3f5f\", \"arrowhead\": 0, \"arrowwidth\": 1}, \"autotypenumbers\": \"strict\", \"coloraxis\": {\"colorbar\": {\"outlinewidth\": 0, \"ticks\": \"\"}}, \"colorscale\": {\"diverging\": [[0, \"#8e0152\"], [0.1, \"#c51b7d\"], [0.2, \"#de77ae\"], [0.3, \"#f1b6da\"], [0.4, \"#fde0ef\"], [0.5, \"#f7f7f7\"], [0.6, \"#e6f5d0\"], [0.7, \"#b8e186\"], [0.8, \"#7fbc41\"], [0.9, \"#4d9221\"], [1, \"#276419\"]], \"sequential\": [[0.0, \"#0d0887\"], [0.1111111111111111, \"#46039f\"], [0.2222222222222222, \"#7201a8\"], [0.3333333333333333, \"#9c179e\"], [0.4444444444444444, \"#bd3786\"], [0.5555555555555556, \"#d8576b\"], [0.6666666666666666, \"#ed7953\"], [0.7777777777777778, \"#fb9f3a\"], [0.8888888888888888, \"#fdca26\"], [1.0, \"#f0f921\"]], \"sequentialminus\": [[0.0, \"#0d0887\"], [0.1111111111111111, \"#46039f\"], [0.2222222222222222, \"#7201a8\"], [0.3333333333333333, \"#9c179e\"], [0.4444444444444444, \"#bd3786\"], [0.5555555555555556, \"#d8576b\"], [0.6666666666666666, \"#ed7953\"], [0.7777777777777778, \"#fb9f3a\"], [0.8888888888888888, \"#fdca26\"], [1.0, \"#f0f921\"]]}, \"colorway\": [\"#636efa\", \"#EF553B\", \"#00cc96\", \"#ab63fa\", \"#FFA15A\", \"#19d3f3\", \"#FF6692\", \"#B6E880\", \"#FF97FF\", \"#FECB52\"], \"font\": {\"color\": \"#2a3f5f\"}, \"geo\": {\"bgcolor\": \"white\", \"lakecolor\": \"white\", \"landcolor\": \"#E5ECF6\", \"showlakes\": true, \"showland\": true, \"subunitcolor\": \"white\"}, \"hoverlabel\": {\"align\": \"left\"}, \"hovermode\": \"closest\", \"mapbox\": {\"style\": \"light\"}, \"paper_bgcolor\": \"white\", \"plot_bgcolor\": \"#E5ECF6\", \"polar\": {\"angularaxis\": {\"gridcolor\": \"white\", \"linecolor\": \"white\", \"ticks\": \"\"}, \"bgcolor\": \"#E5ECF6\", \"radialaxis\": {\"gridcolor\": \"white\", \"linecolor\": \"white\", \"ticks\": \"\"}}, \"scene\": {\"xaxis\": {\"backgroundcolor\": \"#E5ECF6\", \"gridcolor\": \"white\", \"gridwidth\": 2, \"linecolor\": \"white\", \"showbackground\": true, \"ticks\": \"\", \"zerolinecolor\": \"white\"}, \"yaxis\": {\"backgroundcolor\": \"#E5ECF6\", \"gridcolor\": \"white\", \"gridwidth\": 2, \"linecolor\": \"white\", \"showbackground\": true, \"ticks\": \"\", \"zerolinecolor\": \"white\"}, \"zaxis\": {\"backgroundcolor\": \"#E5ECF6\", \"gridcolor\": \"white\", \"gridwidth\": 2, \"linecolor\": \"white\", \"showbackground\": true, \"ticks\": \"\", \"zerolinecolor\": \"white\"}}, \"shapedefaults\": {\"line\": {\"color\": \"#2a3f5f\"}}, \"ternary\": {\"aaxis\": {\"gridcolor\": \"white\", \"linecolor\": \"white\", \"ticks\": \"\"}, \"baxis\": {\"gridcolor\": \"white\", \"linecolor\": \"white\", \"ticks\": \"\"}, \"bgcolor\": \"#E5ECF6\", \"caxis\": {\"gridcolor\": \"white\", \"linecolor\": \"white\", \"ticks\": \"\"}}, \"title\": {\"x\": 0.05}, \"xaxis\": {\"automargin\": true, \"gridcolor\": \"white\", \"linecolor\": \"white\", \"ticks\": \"\", \"title\": {\"standoff\": 15}, \"zerolinecolor\": \"white\", \"zerolinewidth\": 2}, \"yaxis\": {\"automargin\": true, \"gridcolor\": \"white\", \"linecolor\": \"white\", \"ticks\": \"\", \"title\": {\"standoff\": 15}, \"zerolinecolor\": \"white\", \"zerolinewidth\": 2}}}, \"title\": {\"font\": {\"color\": \"#4D5663\"}}, \"xaxis\": {\"gridcolor\": \"#E1E5ED\", \"showgrid\": true, \"tickfont\": {\"color\": \"#4D5663\"}, \"title\": {\"font\": {\"color\": \"#4D5663\"}, \"text\": \"\"}, \"zerolinecolor\": \"#E1E5ED\"}, \"yaxis\": {\"gridcolor\": \"#E1E5ED\", \"showgrid\": true, \"tickfont\": {\"color\": \"#4D5663\"}, \"title\": {\"font\": {\"color\": \"#4D5663\"}, \"text\": \"\"}, \"zerolinecolor\": \"#E1E5ED\"}},                        {\"showLink\": true, \"linkText\": \"Export to plot.ly\", \"plotlyServerURL\": \"https://plot.ly\", \"responsive\": true}                    ).then(function(){\n",
       "                            \n",
       "var gd = document.getElementById('c560b814-85a5-4b72-a133-1bed0585e9de');\n",
       "var x = new MutationObserver(function (mutations, observer) {{\n",
       "        var display = window.getComputedStyle(gd).display;\n",
       "        if (!display || display === 'none') {{\n",
       "            console.log([gd, 'removed!']);\n",
       "            Plotly.purge(gd);\n",
       "            observer.disconnect();\n",
       "        }}\n",
       "}});\n",
       "\n",
       "// Listen for the removal of the full notebook cells\n",
       "var notebookContainer = gd.closest('#notebook-container');\n",
       "if (notebookContainer) {{\n",
       "    x.observe(notebookContainer, {childList: true});\n",
       "}}\n",
       "\n",
       "// Listen for the clearing of the current output cell\n",
       "var outputEl = gd.closest('.output');\n",
       "if (outputEl) {{\n",
       "    x.observe(outputEl, {childList: true});\n",
       "}}\n",
       "\n",
       "                        })                };                });            </script>        </div>"
      ]
     },
     "metadata": {},
     "output_type": "display_data"
    }
   ],
   "source": [
    "df3 = pd.DataFrame({'x':[1,2,3,4,5],'y':[10,20,30,20,10],'z':[5,4,3,2,1]})\n",
    "df3.iplot(kind='surface',colorscale='rdylbu')"
   ]
  },
  {
   "cell_type": "markdown",
   "metadata": {},
   "source": [
    "## Spread"
   ]
  },
  {
   "cell_type": "code",
   "execution_count": 42,
   "metadata": {},
   "outputs": [
    {
     "data": {
      "application/vnd.plotly.v1+json": {
       "config": {
        "linkText": "Export to plot.ly",
        "plotlyServerURL": "https://plot.ly",
        "showLink": true
       },
       "data": [
        {
         "line": {
          "color": "rgba(255, 153, 51, 1.0)",
          "dash": "solid",
          "shape": "linear",
          "width": 1.3
         },
         "mode": "lines",
         "name": "A",
         "text": "",
         "type": "scatter",
         "x": [
          0,
          1,
          2,
          3,
          4,
          5,
          6,
          7,
          8,
          9,
          10,
          11,
          12,
          13,
          14,
          15,
          16,
          17,
          18,
          19,
          20,
          21,
          22,
          23,
          24,
          25,
          26,
          27,
          28,
          29,
          30,
          31,
          32,
          33,
          34,
          35,
          36,
          37,
          38,
          39,
          40,
          41,
          42,
          43,
          44,
          45,
          46,
          47,
          48,
          49,
          50,
          51,
          52,
          53,
          54,
          55,
          56,
          57,
          58,
          59,
          60,
          61,
          62,
          63,
          64,
          65,
          66,
          67,
          68,
          69,
          70,
          71,
          72,
          73,
          74,
          75,
          76,
          77,
          78,
          79,
          80,
          81,
          82,
          83,
          84,
          85,
          86,
          87,
          88,
          89,
          90,
          91,
          92,
          93,
          94,
          95,
          96,
          97,
          98,
          99
         ],
         "y": [
          -1.5055387470969204,
          -1.5281336080932433,
          0.5475375225269746,
          -0.5011536835325386,
          -1.1342277894161847,
          -1.3421654609689813,
          1.0480587954437626,
          0.1079858186458624,
          -0.5188967289497634,
          -0.2365765719760372,
          -0.6671966901411546,
          0.4808958294390424,
          0.2543237589685781,
          0.6624634680374704,
          -1.8806637507850557,
          -1.7714952898637082,
          -0.1450552767082512,
          0.3258012317547289,
          -1.9793404774159449,
          -1.837133213610893,
          1.2048818510023436,
          -1.2146576222324894,
          0.10051316757305068,
          0.6503065455095138,
          -0.1037762205561722,
          1.5796280422577185,
          0.24683397628064682,
          -0.19632846361111042,
          -1.659879956912887,
          -0.7362869487055028,
          0.696560945958403,
          0.35011393191088397,
          -0.22294636893507996,
          -0.4490245617166439,
          -0.03413210591976646,
          0.3813225689164726,
          -0.06804276535356155,
          -1.017866017986653,
          -0.48305879639553495,
          -0.8421918238373384,
          0.09428074990969793,
          -0.3709780159244891,
          -2.4496465657011495,
          1.0103436605626173,
          1.246075620844197,
          1.1997700774819116,
          1.594497731670918,
          -0.22731603166056338,
          0.6569588970958761,
          0.09856549719926379,
          -0.8922698305611144,
          -0.9138306160664806,
          0.5356427374304688,
          -0.287939493916266,
          -0.21742881701656078,
          -0.8522247181710058,
          -0.5253701618708698,
          1.5428396249131306,
          0.3411566218250933,
          0.49922207449863165,
          1.323964658717949,
          -1.3824171121263014,
          0.9701483427037748,
          0.4401818048772333,
          1.3076536066443993,
          2.355220713044908,
          0.3330440295546341,
          -0.24749042740682606,
          1.4700037958120582,
          0.5275901521486961,
          0.2318440908726942,
          0.830445816962907,
          -0.5513743588021469,
          -0.20295015318623347,
          -0.836131924104717,
          -0.7937607157928708,
          1.3319788440982268,
          -1.047455664669664,
          1.0156429726730842,
          0.07046136873997877,
          -1.1429664531146777,
          -0.8423125200880234,
          -1.7088559269805108,
          0.23054946399192716,
          1.2853740970875533,
          0.7466025932529883,
          1.5283495573924988,
          -0.0008903010811767334,
          -0.5698892720745149,
          -1.7421401214515508,
          -0.4387436019528569,
          0.8418373255406498,
          -0.9637173207896174,
          2.117703825261018,
          0.9834391674180394,
          0.3674088194285618,
          1.5588053824031243,
          0.2811852508479091,
          -1.7212704314648224,
          1.0067873970433072
         ]
        },
        {
         "line": {
          "color": "rgba(55, 128, 191, 1.0)",
          "dash": "solid",
          "shape": "linear",
          "width": 1.3
         },
         "mode": "lines",
         "name": "B",
         "text": "",
         "type": "scatter",
         "x": [
          0,
          1,
          2,
          3,
          4,
          5,
          6,
          7,
          8,
          9,
          10,
          11,
          12,
          13,
          14,
          15,
          16,
          17,
          18,
          19,
          20,
          21,
          22,
          23,
          24,
          25,
          26,
          27,
          28,
          29,
          30,
          31,
          32,
          33,
          34,
          35,
          36,
          37,
          38,
          39,
          40,
          41,
          42,
          43,
          44,
          45,
          46,
          47,
          48,
          49,
          50,
          51,
          52,
          53,
          54,
          55,
          56,
          57,
          58,
          59,
          60,
          61,
          62,
          63,
          64,
          65,
          66,
          67,
          68,
          69,
          70,
          71,
          72,
          73,
          74,
          75,
          76,
          77,
          78,
          79,
          80,
          81,
          82,
          83,
          84,
          85,
          86,
          87,
          88,
          89,
          90,
          91,
          92,
          93,
          94,
          95,
          96,
          97,
          98,
          99
         ],
         "y": [
          2.4959431719015757,
          0.9276577510015102,
          1.0050336280819714,
          -1.3414197951503666,
          0.8746494229204337,
          1.540503680338683,
          0.36341469733085086,
          0.2725456247333992,
          1.8256614150093526,
          0.4156453561321367,
          1.4259125348996546,
          0.5946871352044677,
          -0.996617192940703,
          -1.7343975620344267,
          1.2605362115718608,
          0.7792065667383924,
          -0.598165859683212,
          0.3141166478645829,
          2.028966264269778,
          -0.29196792479850614,
          0.18451884374077343,
          0.8624614728842477,
          0.3480036276243098,
          0.9367617347955924,
          0.029764440610968956,
          0.43061141935071345,
          -0.4186082014870178,
          -1.7469339996527733,
          -0.6344513661954309,
          1.3582828527644264,
          -0.17399511524737038,
          0.2331979361358069,
          -0.5836430876609441,
          -0.5091931531527603,
          -1.8430549827322322,
          0.37972796141810045,
          -1.3500784339650678,
          -0.45771898539282563,
          1.2708557850766116,
          -0.5777786253036234,
          -1.2136208429910493,
          0.15180784778636058,
          0.2518712007834114,
          0.08812308785230992,
          -1.2262731538059652,
          -0.5228326084951959,
          0.19439384594219133,
          -0.9677730140765817,
          0.557013465619875,
          -2.6221107321614343,
          0.34155621542304865,
          -1.0928749241983184,
          1.39021765404278,
          -1.098393256437507,
          1.365337542457722,
          -0.5707302449812107,
          -1.2005965785299708,
          -1.3298935269144292,
          -0.9460922681345796,
          -2.4804821303330415,
          0.2794024307283462,
          -0.2128762900828223,
          -1.3961752300117987,
          -0.6975097022746658,
          0.7203967384329273,
          0.29590483041240295,
          0.8214083566509665,
          -1.6138757379035886,
          0.48213257156387984,
          -0.31657725802601844,
          1.0036338052593803,
          -0.10501177153419351,
          -0.8632321261513736,
          0.8360545538876548,
          0.6452586861239282,
          -0.2313606912932169,
          0.15547924818340117,
          1.0450768088182119,
          -1.4390022209407076,
          0.13533822747627927,
          -0.5688684967823189,
          -1.8417192752743694,
          -1.2450741247080495,
          0.1405813522908807,
          -0.041901845147847776,
          -0.3785270769658319,
          -1.0026510762222551,
          0.7792789540191182,
          -1.3267008036468066,
          -0.9617055507968908,
          3.3011836296868546,
          -0.5845028743081897,
          -0.38304968847196313,
          -1.2753623714544455,
          -1.0490741676789088,
          -0.007588023951681576,
          1.2022958402644337,
          1.2222414150527166,
          -1.1693910600131703,
          -1.01440354370347
         ]
        },
        {
         "connectgaps": false,
         "fill": "tozeroy",
         "line": {
          "color": "green",
          "dash": "solid",
          "shape": "linear",
          "width": 0.5
         },
         "mode": "lines",
         "name": "Spread",
         "showlegend": false,
         "type": "scatter",
         "x": [
          0,
          1,
          2,
          3,
          4,
          5,
          6,
          7,
          8,
          9,
          10,
          11,
          12,
          13,
          14,
          15,
          16,
          17,
          18,
          19,
          20,
          21,
          22,
          23,
          24,
          25,
          26,
          27,
          28,
          29,
          30,
          31,
          32,
          33,
          34,
          35,
          36,
          37,
          38,
          39,
          40,
          41,
          42,
          43,
          44,
          45,
          46,
          47,
          48,
          49,
          50,
          51,
          52,
          53,
          54,
          55,
          56,
          57,
          58,
          59,
          60,
          61,
          62,
          63,
          64,
          65,
          66,
          67,
          68,
          69,
          70,
          71,
          72,
          73,
          74,
          75,
          76,
          77,
          78,
          79,
          80,
          81,
          82,
          83,
          84,
          85,
          86,
          87,
          88,
          89,
          90,
          91,
          92,
          93,
          94,
          95,
          96,
          97,
          98,
          99
         ],
         "xaxis": "x2",
         "y": [
          "",
          "",
          "",
          0.8402661116178279,
          "",
          "",
          0.6846440981129117,
          "",
          "",
          "",
          "",
          "",
          1.2509409519092811,
          2.3968610300718973,
          "",
          "",
          0.4531105829749608,
          0.011684583890146039,
          "",
          "",
          1.0203630072615701,
          "",
          "",
          "",
          "",
          1.1490166229070051,
          0.6654421777676646,
          1.5506055360416628,
          "",
          "",
          0.8705560612057734,
          0.11691599577507708,
          0.3606967187258641,
          0.06016859143611636,
          1.8089228768124657,
          0.001594607498372147,
          1.2820356686115062,
          "",
          "",
          "",
          1.3079015929007474,
          "",
          "",
          0.9222205727103073,
          2.472348774650162,
          1.7226026859771073,
          1.4001038857287265,
          0.7404569824160183,
          0.0999454314760011,
          2.720676229360698,
          "",
          0.1790443081318378,
          "",
          0.8104537625212409,
          "",
          "",
          0.675226416659101,
          2.8727331518275596,
          1.287248889959673,
          2.9797042048316733,
          1.0445622279896027,
          "",
          2.3663235727155736,
          1.1376915071518992,
          0.587256868211472,
          2.059315882632505,
          "",
          1.3663853104967625,
          0.9878712242481784,
          0.8441674101747145,
          "",
          0.9354575884971005,
          0.31185776734922666,
          "",
          "",
          "",
          1.1764995959148257,
          "",
          2.454645193613792,
          "",
          "",
          0.999406755186346,
          "",
          0.08996811170104646,
          1.327275942235401,
          1.1251296702188203,
          2.531000633614754,
          "",
          0.7568115315722918,
          "",
          "",
          1.4263401998488394,
          "",
          3.3930661967154636,
          2.032513335096948,
          0.37499684338024336,
          0.35650954213869057,
          "",
          "",
          2.021190940746777
         ],
         "yaxis": "y2"
        },
        {
         "connectgaps": false,
         "fill": "tozeroy",
         "line": {
          "color": "red",
          "dash": "solid",
          "shape": "linear",
          "width": 0.5
         },
         "mode": "lines",
         "name": "Spread",
         "showlegend": false,
         "type": "scatter",
         "x": [
          0,
          1,
          2,
          3,
          4,
          5,
          6,
          7,
          8,
          9,
          10,
          11,
          12,
          13,
          14,
          15,
          16,
          17,
          18,
          19,
          20,
          21,
          22,
          23,
          24,
          25,
          26,
          27,
          28,
          29,
          30,
          31,
          32,
          33,
          34,
          35,
          36,
          37,
          38,
          39,
          40,
          41,
          42,
          43,
          44,
          45,
          46,
          47,
          48,
          49,
          50,
          51,
          52,
          53,
          54,
          55,
          56,
          57,
          58,
          59,
          60,
          61,
          62,
          63,
          64,
          65,
          66,
          67,
          68,
          69,
          70,
          71,
          72,
          73,
          74,
          75,
          76,
          77,
          78,
          79,
          80,
          81,
          82,
          83,
          84,
          85,
          86,
          87,
          88,
          89,
          90,
          91,
          92,
          93,
          94,
          95,
          96,
          97,
          98,
          99
         ],
         "xaxis": "x2",
         "y": [
          -4.001481918998496,
          -2.4557913590947535,
          -0.45749610555499676,
          "",
          -2.0088772123366185,
          -2.882669141307664,
          "",
          -0.16455980608753681,
          -2.344558143959116,
          -0.6522219281081739,
          -2.093109225040809,
          -0.11379130576542529,
          "",
          "",
          -3.1411999623569162,
          -2.5507018566021005,
          "",
          "",
          -4.008306741685723,
          -1.545165288812387,
          "",
          -2.0771190951167373,
          -0.24749046005125913,
          -0.2864551892860786,
          -0.13354066116714114,
          "",
          "",
          "",
          -1.025428590717456,
          -2.0945698014699294,
          "",
          "",
          "",
          "",
          "",
          "",
          "",
          -0.5601470325938274,
          -1.7539145814721464,
          -0.2644131985337149,
          "",
          -0.5227858637108497,
          -2.701517766484561,
          "",
          "",
          "",
          "",
          "",
          "",
          "",
          -1.233826045984163,
          "",
          -0.8545749166123112,
          "",
          -1.582766359474283,
          -0.28149447318979504,
          "",
          "",
          "",
          "",
          "",
          -1.169540822043479,
          "",
          "",
          "",
          "",
          -0.4883643270963324,
          "",
          "",
          "",
          -0.7717897143866861,
          "",
          "",
          -1.0390047070738884,
          -1.4813906102286452,
          -0.5624000244996539,
          "",
          -2.092532473487876,
          "",
          -0.0648768587363005,
          -0.5740979563323588,
          "",
          -0.46378180227246135,
          "",
          "",
          "",
          "",
          -0.7801692551002949,
          "",
          -0.78043457065466,
          -3.7399272316397116,
          "",
          -0.5806676323176543,
          "",
          "",
          "",
          "",
          -0.9410561642048074,
          -0.5518793714516521,
          ""
         ],
         "yaxis": "y2"
        }
       ],
       "layout": {
        "hovermode": "x",
        "legend": {
         "bgcolor": "#F5F6F9",
         "font": {
          "color": "#4D5663"
         }
        },
        "paper_bgcolor": "#F5F6F9",
        "plot_bgcolor": "#F5F6F9",
        "template": {
         "data": {
          "bar": [
           {
            "error_x": {
             "color": "#2a3f5f"
            },
            "error_y": {
             "color": "#2a3f5f"
            },
            "marker": {
             "line": {
              "color": "#E5ECF6",
              "width": 0.5
             }
            },
            "type": "bar"
           }
          ],
          "barpolar": [
           {
            "marker": {
             "line": {
              "color": "#E5ECF6",
              "width": 0.5
             }
            },
            "type": "barpolar"
           }
          ],
          "carpet": [
           {
            "aaxis": {
             "endlinecolor": "#2a3f5f",
             "gridcolor": "white",
             "linecolor": "white",
             "minorgridcolor": "white",
             "startlinecolor": "#2a3f5f"
            },
            "baxis": {
             "endlinecolor": "#2a3f5f",
             "gridcolor": "white",
             "linecolor": "white",
             "minorgridcolor": "white",
             "startlinecolor": "#2a3f5f"
            },
            "type": "carpet"
           }
          ],
          "choropleth": [
           {
            "colorbar": {
             "outlinewidth": 0,
             "ticks": ""
            },
            "type": "choropleth"
           }
          ],
          "contour": [
           {
            "colorbar": {
             "outlinewidth": 0,
             "ticks": ""
            },
            "colorscale": [
             [
              0,
              "#0d0887"
             ],
             [
              0.1111111111111111,
              "#46039f"
             ],
             [
              0.2222222222222222,
              "#7201a8"
             ],
             [
              0.3333333333333333,
              "#9c179e"
             ],
             [
              0.4444444444444444,
              "#bd3786"
             ],
             [
              0.5555555555555556,
              "#d8576b"
             ],
             [
              0.6666666666666666,
              "#ed7953"
             ],
             [
              0.7777777777777778,
              "#fb9f3a"
             ],
             [
              0.8888888888888888,
              "#fdca26"
             ],
             [
              1,
              "#f0f921"
             ]
            ],
            "type": "contour"
           }
          ],
          "contourcarpet": [
           {
            "colorbar": {
             "outlinewidth": 0,
             "ticks": ""
            },
            "type": "contourcarpet"
           }
          ],
          "heatmap": [
           {
            "colorbar": {
             "outlinewidth": 0,
             "ticks": ""
            },
            "colorscale": [
             [
              0,
              "#0d0887"
             ],
             [
              0.1111111111111111,
              "#46039f"
             ],
             [
              0.2222222222222222,
              "#7201a8"
             ],
             [
              0.3333333333333333,
              "#9c179e"
             ],
             [
              0.4444444444444444,
              "#bd3786"
             ],
             [
              0.5555555555555556,
              "#d8576b"
             ],
             [
              0.6666666666666666,
              "#ed7953"
             ],
             [
              0.7777777777777778,
              "#fb9f3a"
             ],
             [
              0.8888888888888888,
              "#fdca26"
             ],
             [
              1,
              "#f0f921"
             ]
            ],
            "type": "heatmap"
           }
          ],
          "heatmapgl": [
           {
            "colorbar": {
             "outlinewidth": 0,
             "ticks": ""
            },
            "colorscale": [
             [
              0,
              "#0d0887"
             ],
             [
              0.1111111111111111,
              "#46039f"
             ],
             [
              0.2222222222222222,
              "#7201a8"
             ],
             [
              0.3333333333333333,
              "#9c179e"
             ],
             [
              0.4444444444444444,
              "#bd3786"
             ],
             [
              0.5555555555555556,
              "#d8576b"
             ],
             [
              0.6666666666666666,
              "#ed7953"
             ],
             [
              0.7777777777777778,
              "#fb9f3a"
             ],
             [
              0.8888888888888888,
              "#fdca26"
             ],
             [
              1,
              "#f0f921"
             ]
            ],
            "type": "heatmapgl"
           }
          ],
          "histogram": [
           {
            "marker": {
             "colorbar": {
              "outlinewidth": 0,
              "ticks": ""
             }
            },
            "type": "histogram"
           }
          ],
          "histogram2d": [
           {
            "colorbar": {
             "outlinewidth": 0,
             "ticks": ""
            },
            "colorscale": [
             [
              0,
              "#0d0887"
             ],
             [
              0.1111111111111111,
              "#46039f"
             ],
             [
              0.2222222222222222,
              "#7201a8"
             ],
             [
              0.3333333333333333,
              "#9c179e"
             ],
             [
              0.4444444444444444,
              "#bd3786"
             ],
             [
              0.5555555555555556,
              "#d8576b"
             ],
             [
              0.6666666666666666,
              "#ed7953"
             ],
             [
              0.7777777777777778,
              "#fb9f3a"
             ],
             [
              0.8888888888888888,
              "#fdca26"
             ],
             [
              1,
              "#f0f921"
             ]
            ],
            "type": "histogram2d"
           }
          ],
          "histogram2dcontour": [
           {
            "colorbar": {
             "outlinewidth": 0,
             "ticks": ""
            },
            "colorscale": [
             [
              0,
              "#0d0887"
             ],
             [
              0.1111111111111111,
              "#46039f"
             ],
             [
              0.2222222222222222,
              "#7201a8"
             ],
             [
              0.3333333333333333,
              "#9c179e"
             ],
             [
              0.4444444444444444,
              "#bd3786"
             ],
             [
              0.5555555555555556,
              "#d8576b"
             ],
             [
              0.6666666666666666,
              "#ed7953"
             ],
             [
              0.7777777777777778,
              "#fb9f3a"
             ],
             [
              0.8888888888888888,
              "#fdca26"
             ],
             [
              1,
              "#f0f921"
             ]
            ],
            "type": "histogram2dcontour"
           }
          ],
          "mesh3d": [
           {
            "colorbar": {
             "outlinewidth": 0,
             "ticks": ""
            },
            "type": "mesh3d"
           }
          ],
          "parcoords": [
           {
            "line": {
             "colorbar": {
              "outlinewidth": 0,
              "ticks": ""
             }
            },
            "type": "parcoords"
           }
          ],
          "pie": [
           {
            "automargin": true,
            "type": "pie"
           }
          ],
          "scatter": [
           {
            "marker": {
             "colorbar": {
              "outlinewidth": 0,
              "ticks": ""
             }
            },
            "type": "scatter"
           }
          ],
          "scatter3d": [
           {
            "line": {
             "colorbar": {
              "outlinewidth": 0,
              "ticks": ""
             }
            },
            "marker": {
             "colorbar": {
              "outlinewidth": 0,
              "ticks": ""
             }
            },
            "type": "scatter3d"
           }
          ],
          "scattercarpet": [
           {
            "marker": {
             "colorbar": {
              "outlinewidth": 0,
              "ticks": ""
             }
            },
            "type": "scattercarpet"
           }
          ],
          "scattergeo": [
           {
            "marker": {
             "colorbar": {
              "outlinewidth": 0,
              "ticks": ""
             }
            },
            "type": "scattergeo"
           }
          ],
          "scattergl": [
           {
            "marker": {
             "colorbar": {
              "outlinewidth": 0,
              "ticks": ""
             }
            },
            "type": "scattergl"
           }
          ],
          "scattermapbox": [
           {
            "marker": {
             "colorbar": {
              "outlinewidth": 0,
              "ticks": ""
             }
            },
            "type": "scattermapbox"
           }
          ],
          "scatterpolar": [
           {
            "marker": {
             "colorbar": {
              "outlinewidth": 0,
              "ticks": ""
             }
            },
            "type": "scatterpolar"
           }
          ],
          "scatterpolargl": [
           {
            "marker": {
             "colorbar": {
              "outlinewidth": 0,
              "ticks": ""
             }
            },
            "type": "scatterpolargl"
           }
          ],
          "scatterternary": [
           {
            "marker": {
             "colorbar": {
              "outlinewidth": 0,
              "ticks": ""
             }
            },
            "type": "scatterternary"
           }
          ],
          "surface": [
           {
            "colorbar": {
             "outlinewidth": 0,
             "ticks": ""
            },
            "colorscale": [
             [
              0,
              "#0d0887"
             ],
             [
              0.1111111111111111,
              "#46039f"
             ],
             [
              0.2222222222222222,
              "#7201a8"
             ],
             [
              0.3333333333333333,
              "#9c179e"
             ],
             [
              0.4444444444444444,
              "#bd3786"
             ],
             [
              0.5555555555555556,
              "#d8576b"
             ],
             [
              0.6666666666666666,
              "#ed7953"
             ],
             [
              0.7777777777777778,
              "#fb9f3a"
             ],
             [
              0.8888888888888888,
              "#fdca26"
             ],
             [
              1,
              "#f0f921"
             ]
            ],
            "type": "surface"
           }
          ],
          "table": [
           {
            "cells": {
             "fill": {
              "color": "#EBF0F8"
             },
             "line": {
              "color": "white"
             }
            },
            "header": {
             "fill": {
              "color": "#C8D4E3"
             },
             "line": {
              "color": "white"
             }
            },
            "type": "table"
           }
          ]
         },
         "layout": {
          "annotationdefaults": {
           "arrowcolor": "#2a3f5f",
           "arrowhead": 0,
           "arrowwidth": 1
          },
          "autotypenumbers": "strict",
          "coloraxis": {
           "colorbar": {
            "outlinewidth": 0,
            "ticks": ""
           }
          },
          "colorscale": {
           "diverging": [
            [
             0,
             "#8e0152"
            ],
            [
             0.1,
             "#c51b7d"
            ],
            [
             0.2,
             "#de77ae"
            ],
            [
             0.3,
             "#f1b6da"
            ],
            [
             0.4,
             "#fde0ef"
            ],
            [
             0.5,
             "#f7f7f7"
            ],
            [
             0.6,
             "#e6f5d0"
            ],
            [
             0.7,
             "#b8e186"
            ],
            [
             0.8,
             "#7fbc41"
            ],
            [
             0.9,
             "#4d9221"
            ],
            [
             1,
             "#276419"
            ]
           ],
           "sequential": [
            [
             0,
             "#0d0887"
            ],
            [
             0.1111111111111111,
             "#46039f"
            ],
            [
             0.2222222222222222,
             "#7201a8"
            ],
            [
             0.3333333333333333,
             "#9c179e"
            ],
            [
             0.4444444444444444,
             "#bd3786"
            ],
            [
             0.5555555555555556,
             "#d8576b"
            ],
            [
             0.6666666666666666,
             "#ed7953"
            ],
            [
             0.7777777777777778,
             "#fb9f3a"
            ],
            [
             0.8888888888888888,
             "#fdca26"
            ],
            [
             1,
             "#f0f921"
            ]
           ],
           "sequentialminus": [
            [
             0,
             "#0d0887"
            ],
            [
             0.1111111111111111,
             "#46039f"
            ],
            [
             0.2222222222222222,
             "#7201a8"
            ],
            [
             0.3333333333333333,
             "#9c179e"
            ],
            [
             0.4444444444444444,
             "#bd3786"
            ],
            [
             0.5555555555555556,
             "#d8576b"
            ],
            [
             0.6666666666666666,
             "#ed7953"
            ],
            [
             0.7777777777777778,
             "#fb9f3a"
            ],
            [
             0.8888888888888888,
             "#fdca26"
            ],
            [
             1,
             "#f0f921"
            ]
           ]
          },
          "colorway": [
           "#636efa",
           "#EF553B",
           "#00cc96",
           "#ab63fa",
           "#FFA15A",
           "#19d3f3",
           "#FF6692",
           "#B6E880",
           "#FF97FF",
           "#FECB52"
          ],
          "font": {
           "color": "#2a3f5f"
          },
          "geo": {
           "bgcolor": "white",
           "lakecolor": "white",
           "landcolor": "#E5ECF6",
           "showlakes": true,
           "showland": true,
           "subunitcolor": "white"
          },
          "hoverlabel": {
           "align": "left"
          },
          "hovermode": "closest",
          "mapbox": {
           "style": "light"
          },
          "paper_bgcolor": "white",
          "plot_bgcolor": "#E5ECF6",
          "polar": {
           "angularaxis": {
            "gridcolor": "white",
            "linecolor": "white",
            "ticks": ""
           },
           "bgcolor": "#E5ECF6",
           "radialaxis": {
            "gridcolor": "white",
            "linecolor": "white",
            "ticks": ""
           }
          },
          "scene": {
           "xaxis": {
            "backgroundcolor": "#E5ECF6",
            "gridcolor": "white",
            "gridwidth": 2,
            "linecolor": "white",
            "showbackground": true,
            "ticks": "",
            "zerolinecolor": "white"
           },
           "yaxis": {
            "backgroundcolor": "#E5ECF6",
            "gridcolor": "white",
            "gridwidth": 2,
            "linecolor": "white",
            "showbackground": true,
            "ticks": "",
            "zerolinecolor": "white"
           },
           "zaxis": {
            "backgroundcolor": "#E5ECF6",
            "gridcolor": "white",
            "gridwidth": 2,
            "linecolor": "white",
            "showbackground": true,
            "ticks": "",
            "zerolinecolor": "white"
           }
          },
          "shapedefaults": {
           "line": {
            "color": "#2a3f5f"
           }
          },
          "ternary": {
           "aaxis": {
            "gridcolor": "white",
            "linecolor": "white",
            "ticks": ""
           },
           "baxis": {
            "gridcolor": "white",
            "linecolor": "white",
            "ticks": ""
           },
           "bgcolor": "#E5ECF6",
           "caxis": {
            "gridcolor": "white",
            "linecolor": "white",
            "ticks": ""
           }
          },
          "title": {
           "x": 0.05
          },
          "xaxis": {
           "automargin": true,
           "gridcolor": "white",
           "linecolor": "white",
           "ticks": "",
           "title": {
            "standoff": 15
           },
           "zerolinecolor": "white",
           "zerolinewidth": 2
          },
          "yaxis": {
           "automargin": true,
           "gridcolor": "white",
           "linecolor": "white",
           "ticks": "",
           "title": {
            "standoff": 15
           },
           "zerolinecolor": "white",
           "zerolinewidth": 2
          }
         }
        },
        "title": {
         "font": {
          "color": "#4D5663"
         }
        },
        "xaxis": {
         "gridcolor": "#E1E5ED",
         "showgrid": true,
         "tickfont": {
          "color": "#4D5663"
         },
         "title": {
          "font": {
           "color": "#4D5663"
          },
          "text": ""
         },
         "zerolinecolor": "#E1E5ED"
        },
        "xaxis2": {
         "anchor": "y2",
         "gridcolor": "#E1E5ED",
         "showgrid": true,
         "showticklabels": false,
         "tickfont": {
          "color": "#4D5663"
         },
         "title": {
          "font": {
           "color": "#4D5663"
          },
          "text": ""
         },
         "zerolinecolor": "#E1E5ED"
        },
        "yaxis": {
         "domain": [
          0.3,
          1
         ],
         "gridcolor": "#E1E5ED",
         "showgrid": true,
         "tickfont": {
          "color": "#4D5663"
         },
         "title": {
          "font": {
           "color": "#4D5663"
          },
          "text": ""
         },
         "zerolinecolor": "#E1E5ED"
        },
        "yaxis2": {
         "domain": [
          0,
          0.25
         ],
         "gridcolor": "#E1E5ED",
         "showgrid": true,
         "tickfont": {
          "color": "#4D5663"
         },
         "title": {
          "font": {
           "color": "#4D5663"
          },
          "text": "Spread"
         },
         "zerolinecolor": "#E1E5ED"
        }
       }
      },
      "text/html": [
       "<div>                            <div id=\"3d4704ab-7310-438a-8344-dd38c15c8ed1\" class=\"plotly-graph-div\" style=\"height:525px; width:100%;\"></div>            <script type=\"text/javascript\">                require([\"plotly\"], function(Plotly) {                    window.PLOTLYENV=window.PLOTLYENV || {};\n",
       "                    window.PLOTLYENV.BASE_URL='https://plot.ly';                                    if (document.getElementById(\"3d4704ab-7310-438a-8344-dd38c15c8ed1\")) {                    Plotly.newPlot(                        \"3d4704ab-7310-438a-8344-dd38c15c8ed1\",                        [{\"line\": {\"color\": \"rgba(255, 153, 51, 1.0)\", \"dash\": \"solid\", \"shape\": \"linear\", \"width\": 1.3}, \"mode\": \"lines\", \"name\": \"A\", \"text\": \"\", \"type\": \"scatter\", \"x\": [0, 1, 2, 3, 4, 5, 6, 7, 8, 9, 10, 11, 12, 13, 14, 15, 16, 17, 18, 19, 20, 21, 22, 23, 24, 25, 26, 27, 28, 29, 30, 31, 32, 33, 34, 35, 36, 37, 38, 39, 40, 41, 42, 43, 44, 45, 46, 47, 48, 49, 50, 51, 52, 53, 54, 55, 56, 57, 58, 59, 60, 61, 62, 63, 64, 65, 66, 67, 68, 69, 70, 71, 72, 73, 74, 75, 76, 77, 78, 79, 80, 81, 82, 83, 84, 85, 86, 87, 88, 89, 90, 91, 92, 93, 94, 95, 96, 97, 98, 99], \"y\": [-1.5055387470969204, -1.5281336080932433, 0.5475375225269746, -0.5011536835325386, -1.1342277894161847, -1.3421654609689813, 1.0480587954437626, 0.1079858186458624, -0.5188967289497634, -0.2365765719760372, -0.6671966901411546, 0.4808958294390424, 0.2543237589685781, 0.6624634680374704, -1.8806637507850557, -1.7714952898637082, -0.1450552767082512, 0.3258012317547289, -1.9793404774159449, -1.837133213610893, 1.2048818510023436, -1.2146576222324894, 0.10051316757305068, 0.6503065455095138, -0.1037762205561722, 1.5796280422577185, 0.24683397628064682, -0.19632846361111042, -1.659879956912887, -0.7362869487055028, 0.696560945958403, 0.35011393191088397, -0.22294636893507996, -0.4490245617166439, -0.03413210591976646, 0.3813225689164726, -0.06804276535356155, -1.017866017986653, -0.48305879639553495, -0.8421918238373384, 0.09428074990969793, -0.3709780159244891, -2.4496465657011495, 1.0103436605626173, 1.246075620844197, 1.1997700774819116, 1.594497731670918, -0.22731603166056338, 0.6569588970958761, 0.09856549719926379, -0.8922698305611144, -0.9138306160664806, 0.5356427374304688, -0.287939493916266, -0.21742881701656078, -0.8522247181710058, -0.5253701618708698, 1.5428396249131306, 0.3411566218250933, 0.49922207449863165, 1.323964658717949, -1.3824171121263014, 0.9701483427037748, 0.4401818048772333, 1.3076536066443993, 2.355220713044908, 0.3330440295546341, -0.24749042740682606, 1.4700037958120582, 0.5275901521486961, 0.2318440908726942, 0.830445816962907, -0.5513743588021469, -0.20295015318623347, -0.836131924104717, -0.7937607157928708, 1.3319788440982268, -1.047455664669664, 1.0156429726730842, 0.07046136873997877, -1.1429664531146777, -0.8423125200880234, -1.7088559269805108, 0.23054946399192716, 1.2853740970875533, 0.7466025932529883, 1.5283495573924988, -0.0008903010811767334, -0.5698892720745149, -1.7421401214515508, -0.4387436019528569, 0.8418373255406498, -0.9637173207896174, 2.117703825261018, 0.9834391674180394, 0.3674088194285618, 1.5588053824031243, 0.2811852508479091, -1.7212704314648224, 1.0067873970433072]}, {\"line\": {\"color\": \"rgba(55, 128, 191, 1.0)\", \"dash\": \"solid\", \"shape\": \"linear\", \"width\": 1.3}, \"mode\": \"lines\", \"name\": \"B\", \"text\": \"\", \"type\": \"scatter\", \"x\": [0, 1, 2, 3, 4, 5, 6, 7, 8, 9, 10, 11, 12, 13, 14, 15, 16, 17, 18, 19, 20, 21, 22, 23, 24, 25, 26, 27, 28, 29, 30, 31, 32, 33, 34, 35, 36, 37, 38, 39, 40, 41, 42, 43, 44, 45, 46, 47, 48, 49, 50, 51, 52, 53, 54, 55, 56, 57, 58, 59, 60, 61, 62, 63, 64, 65, 66, 67, 68, 69, 70, 71, 72, 73, 74, 75, 76, 77, 78, 79, 80, 81, 82, 83, 84, 85, 86, 87, 88, 89, 90, 91, 92, 93, 94, 95, 96, 97, 98, 99], \"y\": [2.4959431719015757, 0.9276577510015102, 1.0050336280819714, -1.3414197951503666, 0.8746494229204337, 1.540503680338683, 0.36341469733085086, 0.2725456247333992, 1.8256614150093526, 0.4156453561321367, 1.4259125348996546, 0.5946871352044677, -0.996617192940703, -1.7343975620344267, 1.2605362115718608, 0.7792065667383924, -0.598165859683212, 0.3141166478645829, 2.028966264269778, -0.29196792479850614, 0.18451884374077343, 0.8624614728842477, 0.3480036276243098, 0.9367617347955924, 0.029764440610968956, 0.43061141935071345, -0.4186082014870178, -1.7469339996527733, -0.6344513661954309, 1.3582828527644264, -0.17399511524737038, 0.2331979361358069, -0.5836430876609441, -0.5091931531527603, -1.8430549827322322, 0.37972796141810045, -1.3500784339650678, -0.45771898539282563, 1.2708557850766116, -0.5777786253036234, -1.2136208429910493, 0.15180784778636058, 0.2518712007834114, 0.08812308785230992, -1.2262731538059652, -0.5228326084951959, 0.19439384594219133, -0.9677730140765817, 0.557013465619875, -2.6221107321614343, 0.34155621542304865, -1.0928749241983184, 1.39021765404278, -1.098393256437507, 1.365337542457722, -0.5707302449812107, -1.2005965785299708, -1.3298935269144292, -0.9460922681345796, -2.4804821303330415, 0.2794024307283462, -0.2128762900828223, -1.3961752300117987, -0.6975097022746658, 0.7203967384329273, 0.29590483041240295, 0.8214083566509665, -1.6138757379035886, 0.48213257156387984, -0.31657725802601844, 1.0036338052593803, -0.10501177153419351, -0.8632321261513736, 0.8360545538876548, 0.6452586861239282, -0.2313606912932169, 0.15547924818340117, 1.0450768088182119, -1.4390022209407076, 0.13533822747627927, -0.5688684967823189, -1.8417192752743694, -1.2450741247080495, 0.1405813522908807, -0.041901845147847776, -0.3785270769658319, -1.0026510762222551, 0.7792789540191182, -1.3267008036468066, -0.9617055507968908, 3.3011836296868546, -0.5845028743081897, -0.38304968847196313, -1.2753623714544455, -1.0490741676789088, -0.007588023951681576, 1.2022958402644337, 1.2222414150527166, -1.1693910600131703, -1.01440354370347]}, {\"connectgaps\": false, \"fill\": \"tozeroy\", \"line\": {\"color\": \"green\", \"dash\": \"solid\", \"shape\": \"linear\", \"width\": 0.5}, \"mode\": \"lines\", \"name\": \"Spread\", \"showlegend\": false, \"type\": \"scatter\", \"x\": [0, 1, 2, 3, 4, 5, 6, 7, 8, 9, 10, 11, 12, 13, 14, 15, 16, 17, 18, 19, 20, 21, 22, 23, 24, 25, 26, 27, 28, 29, 30, 31, 32, 33, 34, 35, 36, 37, 38, 39, 40, 41, 42, 43, 44, 45, 46, 47, 48, 49, 50, 51, 52, 53, 54, 55, 56, 57, 58, 59, 60, 61, 62, 63, 64, 65, 66, 67, 68, 69, 70, 71, 72, 73, 74, 75, 76, 77, 78, 79, 80, 81, 82, 83, 84, 85, 86, 87, 88, 89, 90, 91, 92, 93, 94, 95, 96, 97, 98, 99], \"xaxis\": \"x2\", \"y\": [\"\", \"\", \"\", 0.8402661116178279, \"\", \"\", 0.6846440981129117, \"\", \"\", \"\", \"\", \"\", 1.2509409519092811, 2.3968610300718973, \"\", \"\", 0.4531105829749608, 0.011684583890146039, \"\", \"\", 1.0203630072615701, \"\", \"\", \"\", \"\", 1.1490166229070051, 0.6654421777676646, 1.5506055360416628, \"\", \"\", 0.8705560612057734, 0.11691599577507708, 0.3606967187258641, 0.06016859143611636, 1.8089228768124657, 0.001594607498372147, 1.2820356686115062, \"\", \"\", \"\", 1.3079015929007474, \"\", \"\", 0.9222205727103073, 2.472348774650162, 1.7226026859771073, 1.4001038857287265, 0.7404569824160183, 0.0999454314760011, 2.720676229360698, \"\", 0.1790443081318378, \"\", 0.8104537625212409, \"\", \"\", 0.675226416659101, 2.8727331518275596, 1.287248889959673, 2.9797042048316733, 1.0445622279896027, \"\", 2.3663235727155736, 1.1376915071518992, 0.587256868211472, 2.059315882632505, \"\", 1.3663853104967625, 0.9878712242481784, 0.8441674101747145, \"\", 0.9354575884971005, 0.31185776734922666, \"\", \"\", \"\", 1.1764995959148257, \"\", 2.454645193613792, \"\", \"\", 0.999406755186346, \"\", 0.08996811170104646, 1.327275942235401, 1.1251296702188203, 2.531000633614754, \"\", 0.7568115315722918, \"\", \"\", 1.4263401998488394, \"\", 3.3930661967154636, 2.032513335096948, 0.37499684338024336, 0.35650954213869057, \"\", \"\", 2.021190940746777], \"yaxis\": \"y2\"}, {\"connectgaps\": false, \"fill\": \"tozeroy\", \"line\": {\"color\": \"red\", \"dash\": \"solid\", \"shape\": \"linear\", \"width\": 0.5}, \"mode\": \"lines\", \"name\": \"Spread\", \"showlegend\": false, \"type\": \"scatter\", \"x\": [0, 1, 2, 3, 4, 5, 6, 7, 8, 9, 10, 11, 12, 13, 14, 15, 16, 17, 18, 19, 20, 21, 22, 23, 24, 25, 26, 27, 28, 29, 30, 31, 32, 33, 34, 35, 36, 37, 38, 39, 40, 41, 42, 43, 44, 45, 46, 47, 48, 49, 50, 51, 52, 53, 54, 55, 56, 57, 58, 59, 60, 61, 62, 63, 64, 65, 66, 67, 68, 69, 70, 71, 72, 73, 74, 75, 76, 77, 78, 79, 80, 81, 82, 83, 84, 85, 86, 87, 88, 89, 90, 91, 92, 93, 94, 95, 96, 97, 98, 99], \"xaxis\": \"x2\", \"y\": [-4.001481918998496, -2.4557913590947535, -0.45749610555499676, \"\", -2.0088772123366185, -2.882669141307664, \"\", -0.16455980608753681, -2.344558143959116, -0.6522219281081739, -2.093109225040809, -0.11379130576542529, \"\", \"\", -3.1411999623569162, -2.5507018566021005, \"\", \"\", -4.008306741685723, -1.545165288812387, \"\", -2.0771190951167373, -0.24749046005125913, -0.2864551892860786, -0.13354066116714114, \"\", \"\", \"\", -1.025428590717456, -2.0945698014699294, \"\", \"\", \"\", \"\", \"\", \"\", \"\", -0.5601470325938274, -1.7539145814721464, -0.2644131985337149, \"\", -0.5227858637108497, -2.701517766484561, \"\", \"\", \"\", \"\", \"\", \"\", \"\", -1.233826045984163, \"\", -0.8545749166123112, \"\", -1.582766359474283, -0.28149447318979504, \"\", \"\", \"\", \"\", \"\", -1.169540822043479, \"\", \"\", \"\", \"\", -0.4883643270963324, \"\", \"\", \"\", -0.7717897143866861, \"\", \"\", -1.0390047070738884, -1.4813906102286452, -0.5624000244996539, \"\", -2.092532473487876, \"\", -0.0648768587363005, -0.5740979563323588, \"\", -0.46378180227246135, \"\", \"\", \"\", \"\", -0.7801692551002949, \"\", -0.78043457065466, -3.7399272316397116, \"\", -0.5806676323176543, \"\", \"\", \"\", \"\", -0.9410561642048074, -0.5518793714516521, \"\"], \"yaxis\": \"y2\"}],                        {\"hovermode\": \"x\", \"legend\": {\"bgcolor\": \"#F5F6F9\", \"font\": {\"color\": \"#4D5663\"}}, \"paper_bgcolor\": \"#F5F6F9\", \"plot_bgcolor\": \"#F5F6F9\", \"template\": {\"data\": {\"bar\": [{\"error_x\": {\"color\": \"#2a3f5f\"}, \"error_y\": {\"color\": \"#2a3f5f\"}, \"marker\": {\"line\": {\"color\": \"#E5ECF6\", \"width\": 0.5}}, \"type\": \"bar\"}], \"barpolar\": [{\"marker\": {\"line\": {\"color\": \"#E5ECF6\", \"width\": 0.5}}, \"type\": \"barpolar\"}], \"carpet\": [{\"aaxis\": {\"endlinecolor\": \"#2a3f5f\", \"gridcolor\": \"white\", \"linecolor\": \"white\", \"minorgridcolor\": \"white\", \"startlinecolor\": \"#2a3f5f\"}, \"baxis\": {\"endlinecolor\": \"#2a3f5f\", \"gridcolor\": \"white\", \"linecolor\": \"white\", \"minorgridcolor\": \"white\", \"startlinecolor\": \"#2a3f5f\"}, \"type\": \"carpet\"}], \"choropleth\": [{\"colorbar\": {\"outlinewidth\": 0, \"ticks\": \"\"}, \"type\": \"choropleth\"}], \"contour\": [{\"colorbar\": {\"outlinewidth\": 0, \"ticks\": \"\"}, \"colorscale\": [[0.0, \"#0d0887\"], [0.1111111111111111, \"#46039f\"], [0.2222222222222222, \"#7201a8\"], [0.3333333333333333, \"#9c179e\"], [0.4444444444444444, \"#bd3786\"], [0.5555555555555556, \"#d8576b\"], [0.6666666666666666, \"#ed7953\"], [0.7777777777777778, \"#fb9f3a\"], [0.8888888888888888, \"#fdca26\"], [1.0, \"#f0f921\"]], \"type\": \"contour\"}], \"contourcarpet\": [{\"colorbar\": {\"outlinewidth\": 0, \"ticks\": \"\"}, \"type\": \"contourcarpet\"}], \"heatmap\": [{\"colorbar\": {\"outlinewidth\": 0, \"ticks\": \"\"}, \"colorscale\": [[0.0, \"#0d0887\"], [0.1111111111111111, \"#46039f\"], [0.2222222222222222, \"#7201a8\"], [0.3333333333333333, \"#9c179e\"], [0.4444444444444444, \"#bd3786\"], [0.5555555555555556, \"#d8576b\"], [0.6666666666666666, \"#ed7953\"], [0.7777777777777778, \"#fb9f3a\"], [0.8888888888888888, \"#fdca26\"], [1.0, \"#f0f921\"]], \"type\": \"heatmap\"}], \"heatmapgl\": [{\"colorbar\": {\"outlinewidth\": 0, \"ticks\": \"\"}, \"colorscale\": [[0.0, \"#0d0887\"], [0.1111111111111111, \"#46039f\"], [0.2222222222222222, \"#7201a8\"], [0.3333333333333333, \"#9c179e\"], [0.4444444444444444, \"#bd3786\"], [0.5555555555555556, \"#d8576b\"], [0.6666666666666666, \"#ed7953\"], [0.7777777777777778, \"#fb9f3a\"], [0.8888888888888888, \"#fdca26\"], [1.0, \"#f0f921\"]], \"type\": \"heatmapgl\"}], \"histogram\": [{\"marker\": {\"colorbar\": {\"outlinewidth\": 0, \"ticks\": \"\"}}, \"type\": \"histogram\"}], \"histogram2d\": [{\"colorbar\": {\"outlinewidth\": 0, \"ticks\": \"\"}, \"colorscale\": [[0.0, \"#0d0887\"], [0.1111111111111111, \"#46039f\"], [0.2222222222222222, \"#7201a8\"], [0.3333333333333333, \"#9c179e\"], [0.4444444444444444, \"#bd3786\"], [0.5555555555555556, \"#d8576b\"], [0.6666666666666666, \"#ed7953\"], [0.7777777777777778, \"#fb9f3a\"], [0.8888888888888888, \"#fdca26\"], [1.0, \"#f0f921\"]], \"type\": \"histogram2d\"}], \"histogram2dcontour\": [{\"colorbar\": {\"outlinewidth\": 0, \"ticks\": \"\"}, \"colorscale\": [[0.0, \"#0d0887\"], [0.1111111111111111, \"#46039f\"], [0.2222222222222222, \"#7201a8\"], [0.3333333333333333, \"#9c179e\"], [0.4444444444444444, \"#bd3786\"], [0.5555555555555556, \"#d8576b\"], [0.6666666666666666, \"#ed7953\"], [0.7777777777777778, \"#fb9f3a\"], [0.8888888888888888, \"#fdca26\"], [1.0, \"#f0f921\"]], \"type\": \"histogram2dcontour\"}], \"mesh3d\": [{\"colorbar\": {\"outlinewidth\": 0, \"ticks\": \"\"}, \"type\": \"mesh3d\"}], \"parcoords\": [{\"line\": {\"colorbar\": {\"outlinewidth\": 0, \"ticks\": \"\"}}, \"type\": \"parcoords\"}], \"pie\": [{\"automargin\": true, \"type\": \"pie\"}], \"scatter\": [{\"marker\": {\"colorbar\": {\"outlinewidth\": 0, \"ticks\": \"\"}}, \"type\": \"scatter\"}], \"scatter3d\": [{\"line\": {\"colorbar\": {\"outlinewidth\": 0, \"ticks\": \"\"}}, \"marker\": {\"colorbar\": {\"outlinewidth\": 0, \"ticks\": \"\"}}, \"type\": \"scatter3d\"}], \"scattercarpet\": [{\"marker\": {\"colorbar\": {\"outlinewidth\": 0, \"ticks\": \"\"}}, \"type\": \"scattercarpet\"}], \"scattergeo\": [{\"marker\": {\"colorbar\": {\"outlinewidth\": 0, \"ticks\": \"\"}}, \"type\": \"scattergeo\"}], \"scattergl\": [{\"marker\": {\"colorbar\": {\"outlinewidth\": 0, \"ticks\": \"\"}}, \"type\": \"scattergl\"}], \"scattermapbox\": [{\"marker\": {\"colorbar\": {\"outlinewidth\": 0, \"ticks\": \"\"}}, \"type\": \"scattermapbox\"}], \"scatterpolar\": [{\"marker\": {\"colorbar\": {\"outlinewidth\": 0, \"ticks\": \"\"}}, \"type\": \"scatterpolar\"}], \"scatterpolargl\": [{\"marker\": {\"colorbar\": {\"outlinewidth\": 0, \"ticks\": \"\"}}, \"type\": \"scatterpolargl\"}], \"scatterternary\": [{\"marker\": {\"colorbar\": {\"outlinewidth\": 0, \"ticks\": \"\"}}, \"type\": \"scatterternary\"}], \"surface\": [{\"colorbar\": {\"outlinewidth\": 0, \"ticks\": \"\"}, \"colorscale\": [[0.0, \"#0d0887\"], [0.1111111111111111, \"#46039f\"], [0.2222222222222222, \"#7201a8\"], [0.3333333333333333, \"#9c179e\"], [0.4444444444444444, \"#bd3786\"], [0.5555555555555556, \"#d8576b\"], [0.6666666666666666, \"#ed7953\"], [0.7777777777777778, \"#fb9f3a\"], [0.8888888888888888, \"#fdca26\"], [1.0, \"#f0f921\"]], \"type\": \"surface\"}], \"table\": [{\"cells\": {\"fill\": {\"color\": \"#EBF0F8\"}, \"line\": {\"color\": \"white\"}}, \"header\": {\"fill\": {\"color\": \"#C8D4E3\"}, \"line\": {\"color\": \"white\"}}, \"type\": \"table\"}]}, \"layout\": {\"annotationdefaults\": {\"arrowcolor\": \"#2a3f5f\", \"arrowhead\": 0, \"arrowwidth\": 1}, \"autotypenumbers\": \"strict\", \"coloraxis\": {\"colorbar\": {\"outlinewidth\": 0, \"ticks\": \"\"}}, \"colorscale\": {\"diverging\": [[0, \"#8e0152\"], [0.1, \"#c51b7d\"], [0.2, \"#de77ae\"], [0.3, \"#f1b6da\"], [0.4, \"#fde0ef\"], [0.5, \"#f7f7f7\"], [0.6, \"#e6f5d0\"], [0.7, \"#b8e186\"], [0.8, \"#7fbc41\"], [0.9, \"#4d9221\"], [1, \"#276419\"]], \"sequential\": [[0.0, \"#0d0887\"], [0.1111111111111111, \"#46039f\"], [0.2222222222222222, \"#7201a8\"], [0.3333333333333333, \"#9c179e\"], [0.4444444444444444, \"#bd3786\"], [0.5555555555555556, \"#d8576b\"], [0.6666666666666666, \"#ed7953\"], [0.7777777777777778, \"#fb9f3a\"], [0.8888888888888888, \"#fdca26\"], [1.0, \"#f0f921\"]], \"sequentialminus\": [[0.0, \"#0d0887\"], [0.1111111111111111, \"#46039f\"], [0.2222222222222222, \"#7201a8\"], [0.3333333333333333, \"#9c179e\"], [0.4444444444444444, \"#bd3786\"], [0.5555555555555556, \"#d8576b\"], [0.6666666666666666, \"#ed7953\"], [0.7777777777777778, \"#fb9f3a\"], [0.8888888888888888, \"#fdca26\"], [1.0, \"#f0f921\"]]}, \"colorway\": [\"#636efa\", \"#EF553B\", \"#00cc96\", \"#ab63fa\", \"#FFA15A\", \"#19d3f3\", \"#FF6692\", \"#B6E880\", \"#FF97FF\", \"#FECB52\"], \"font\": {\"color\": \"#2a3f5f\"}, \"geo\": {\"bgcolor\": \"white\", \"lakecolor\": \"white\", \"landcolor\": \"#E5ECF6\", \"showlakes\": true, \"showland\": true, \"subunitcolor\": \"white\"}, \"hoverlabel\": {\"align\": \"left\"}, \"hovermode\": \"closest\", \"mapbox\": {\"style\": \"light\"}, \"paper_bgcolor\": \"white\", \"plot_bgcolor\": \"#E5ECF6\", \"polar\": {\"angularaxis\": {\"gridcolor\": \"white\", \"linecolor\": \"white\", \"ticks\": \"\"}, \"bgcolor\": \"#E5ECF6\", \"radialaxis\": {\"gridcolor\": \"white\", \"linecolor\": \"white\", \"ticks\": \"\"}}, \"scene\": {\"xaxis\": {\"backgroundcolor\": \"#E5ECF6\", \"gridcolor\": \"white\", \"gridwidth\": 2, \"linecolor\": \"white\", \"showbackground\": true, \"ticks\": \"\", \"zerolinecolor\": \"white\"}, \"yaxis\": {\"backgroundcolor\": \"#E5ECF6\", \"gridcolor\": \"white\", \"gridwidth\": 2, \"linecolor\": \"white\", \"showbackground\": true, \"ticks\": \"\", \"zerolinecolor\": \"white\"}, \"zaxis\": {\"backgroundcolor\": \"#E5ECF6\", \"gridcolor\": \"white\", \"gridwidth\": 2, \"linecolor\": \"white\", \"showbackground\": true, \"ticks\": \"\", \"zerolinecolor\": \"white\"}}, \"shapedefaults\": {\"line\": {\"color\": \"#2a3f5f\"}}, \"ternary\": {\"aaxis\": {\"gridcolor\": \"white\", \"linecolor\": \"white\", \"ticks\": \"\"}, \"baxis\": {\"gridcolor\": \"white\", \"linecolor\": \"white\", \"ticks\": \"\"}, \"bgcolor\": \"#E5ECF6\", \"caxis\": {\"gridcolor\": \"white\", \"linecolor\": \"white\", \"ticks\": \"\"}}, \"title\": {\"x\": 0.05}, \"xaxis\": {\"automargin\": true, \"gridcolor\": \"white\", \"linecolor\": \"white\", \"ticks\": \"\", \"title\": {\"standoff\": 15}, \"zerolinecolor\": \"white\", \"zerolinewidth\": 2}, \"yaxis\": {\"automargin\": true, \"gridcolor\": \"white\", \"linecolor\": \"white\", \"ticks\": \"\", \"title\": {\"standoff\": 15}, \"zerolinecolor\": \"white\", \"zerolinewidth\": 2}}}, \"title\": {\"font\": {\"color\": \"#4D5663\"}}, \"xaxis\": {\"gridcolor\": \"#E1E5ED\", \"showgrid\": true, \"tickfont\": {\"color\": \"#4D5663\"}, \"title\": {\"font\": {\"color\": \"#4D5663\"}, \"text\": \"\"}, \"zerolinecolor\": \"#E1E5ED\"}, \"xaxis2\": {\"anchor\": \"y2\", \"gridcolor\": \"#E1E5ED\", \"showgrid\": true, \"showticklabels\": false, \"tickfont\": {\"color\": \"#4D5663\"}, \"title\": {\"font\": {\"color\": \"#4D5663\"}, \"text\": \"\"}, \"zerolinecolor\": \"#E1E5ED\"}, \"yaxis\": {\"domain\": [0.3, 1], \"gridcolor\": \"#E1E5ED\", \"showgrid\": true, \"tickfont\": {\"color\": \"#4D5663\"}, \"title\": {\"font\": {\"color\": \"#4D5663\"}, \"text\": \"\"}, \"zerolinecolor\": \"#E1E5ED\"}, \"yaxis2\": {\"domain\": [0, 0.25], \"gridcolor\": \"#E1E5ED\", \"showgrid\": true, \"tickfont\": {\"color\": \"#4D5663\"}, \"title\": {\"font\": {\"color\": \"#4D5663\"}, \"text\": \"Spread\"}, \"zerolinecolor\": \"#E1E5ED\"}},                        {\"showLink\": true, \"linkText\": \"Export to plot.ly\", \"plotlyServerURL\": \"https://plot.ly\", \"responsive\": true}                    ).then(function(){\n",
       "                            \n",
       "var gd = document.getElementById('3d4704ab-7310-438a-8344-dd38c15c8ed1');\n",
       "var x = new MutationObserver(function (mutations, observer) {{\n",
       "        var display = window.getComputedStyle(gd).display;\n",
       "        if (!display || display === 'none') {{\n",
       "            console.log([gd, 'removed!']);\n",
       "            Plotly.purge(gd);\n",
       "            observer.disconnect();\n",
       "        }}\n",
       "}});\n",
       "\n",
       "// Listen for the removal of the full notebook cells\n",
       "var notebookContainer = gd.closest('#notebook-container');\n",
       "if (notebookContainer) {{\n",
       "    x.observe(notebookContainer, {childList: true});\n",
       "}}\n",
       "\n",
       "// Listen for the clearing of the current output cell\n",
       "var outputEl = gd.closest('.output');\n",
       "if (outputEl) {{\n",
       "    x.observe(outputEl, {childList: true});\n",
       "}}\n",
       "\n",
       "                        })                };                });            </script>        </div>"
      ]
     },
     "metadata": {},
     "output_type": "display_data"
    }
   ],
   "source": [
    "df[['A','B']].iplot(kind='spread')"
   ]
  },
  {
   "cell_type": "markdown",
   "metadata": {},
   "source": [
    "## histogram"
   ]
  },
  {
   "cell_type": "code",
   "execution_count": 43,
   "metadata": {},
   "outputs": [
    {
     "data": {
      "application/vnd.plotly.v1+json": {
       "config": {
        "linkText": "Export to plot.ly",
        "plotlyServerURL": "https://plot.ly",
        "showLink": true
       },
       "data": [
        {
         "histfunc": "count",
         "histnorm": "",
         "marker": {
          "color": "rgba(255, 153, 51, 1.0)",
          "line": {
           "color": "#4D5663",
           "width": 1.3
          }
         },
         "name": "A",
         "nbinsx": 25,
         "opacity": 0.8,
         "orientation": "v",
         "type": "histogram",
         "x": [
          -1.5055387470969204,
          -1.5281336080932433,
          0.5475375225269746,
          -0.5011536835325386,
          -1.1342277894161847,
          -1.3421654609689813,
          1.0480587954437626,
          0.1079858186458624,
          -0.5188967289497634,
          -0.2365765719760372,
          -0.6671966901411546,
          0.4808958294390424,
          0.2543237589685781,
          0.6624634680374704,
          -1.8806637507850557,
          -1.7714952898637082,
          -0.1450552767082512,
          0.3258012317547289,
          -1.9793404774159449,
          -1.837133213610893,
          1.2048818510023436,
          -1.2146576222324894,
          0.10051316757305068,
          0.6503065455095138,
          -0.1037762205561722,
          1.5796280422577185,
          0.24683397628064682,
          -0.19632846361111042,
          -1.659879956912887,
          -0.7362869487055028,
          0.696560945958403,
          0.35011393191088397,
          -0.22294636893507996,
          -0.4490245617166439,
          -0.03413210591976646,
          0.3813225689164726,
          -0.06804276535356155,
          -1.017866017986653,
          -0.48305879639553495,
          -0.8421918238373384,
          0.09428074990969793,
          -0.3709780159244891,
          -2.4496465657011495,
          1.0103436605626173,
          1.246075620844197,
          1.1997700774819116,
          1.594497731670918,
          -0.22731603166056338,
          0.6569588970958761,
          0.09856549719926379,
          -0.8922698305611144,
          -0.9138306160664806,
          0.5356427374304688,
          -0.287939493916266,
          -0.21742881701656078,
          -0.8522247181710058,
          -0.5253701618708698,
          1.5428396249131306,
          0.3411566218250933,
          0.49922207449863165,
          1.323964658717949,
          -1.3824171121263014,
          0.9701483427037748,
          0.4401818048772333,
          1.3076536066443993,
          2.355220713044908,
          0.3330440295546341,
          -0.24749042740682606,
          1.4700037958120582,
          0.5275901521486961,
          0.2318440908726942,
          0.830445816962907,
          -0.5513743588021469,
          -0.20295015318623347,
          -0.836131924104717,
          -0.7937607157928708,
          1.3319788440982268,
          -1.047455664669664,
          1.0156429726730842,
          0.07046136873997877,
          -1.1429664531146777,
          -0.8423125200880234,
          -1.7088559269805108,
          0.23054946399192716,
          1.2853740970875533,
          0.7466025932529883,
          1.5283495573924988,
          -0.0008903010811767334,
          -0.5698892720745149,
          -1.7421401214515508,
          -0.4387436019528569,
          0.8418373255406498,
          -0.9637173207896174,
          2.117703825261018,
          0.9834391674180394,
          0.3674088194285618,
          1.5588053824031243,
          0.2811852508479091,
          -1.7212704314648224,
          1.0067873970433072
         ]
        }
       ],
       "layout": {
        "barmode": "overlay",
        "legend": {
         "bgcolor": "#F5F6F9",
         "font": {
          "color": "#4D5663"
         }
        },
        "paper_bgcolor": "#F5F6F9",
        "plot_bgcolor": "#F5F6F9",
        "template": {
         "data": {
          "bar": [
           {
            "error_x": {
             "color": "#2a3f5f"
            },
            "error_y": {
             "color": "#2a3f5f"
            },
            "marker": {
             "line": {
              "color": "#E5ECF6",
              "width": 0.5
             }
            },
            "type": "bar"
           }
          ],
          "barpolar": [
           {
            "marker": {
             "line": {
              "color": "#E5ECF6",
              "width": 0.5
             }
            },
            "type": "barpolar"
           }
          ],
          "carpet": [
           {
            "aaxis": {
             "endlinecolor": "#2a3f5f",
             "gridcolor": "white",
             "linecolor": "white",
             "minorgridcolor": "white",
             "startlinecolor": "#2a3f5f"
            },
            "baxis": {
             "endlinecolor": "#2a3f5f",
             "gridcolor": "white",
             "linecolor": "white",
             "minorgridcolor": "white",
             "startlinecolor": "#2a3f5f"
            },
            "type": "carpet"
           }
          ],
          "choropleth": [
           {
            "colorbar": {
             "outlinewidth": 0,
             "ticks": ""
            },
            "type": "choropleth"
           }
          ],
          "contour": [
           {
            "colorbar": {
             "outlinewidth": 0,
             "ticks": ""
            },
            "colorscale": [
             [
              0,
              "#0d0887"
             ],
             [
              0.1111111111111111,
              "#46039f"
             ],
             [
              0.2222222222222222,
              "#7201a8"
             ],
             [
              0.3333333333333333,
              "#9c179e"
             ],
             [
              0.4444444444444444,
              "#bd3786"
             ],
             [
              0.5555555555555556,
              "#d8576b"
             ],
             [
              0.6666666666666666,
              "#ed7953"
             ],
             [
              0.7777777777777778,
              "#fb9f3a"
             ],
             [
              0.8888888888888888,
              "#fdca26"
             ],
             [
              1,
              "#f0f921"
             ]
            ],
            "type": "contour"
           }
          ],
          "contourcarpet": [
           {
            "colorbar": {
             "outlinewidth": 0,
             "ticks": ""
            },
            "type": "contourcarpet"
           }
          ],
          "heatmap": [
           {
            "colorbar": {
             "outlinewidth": 0,
             "ticks": ""
            },
            "colorscale": [
             [
              0,
              "#0d0887"
             ],
             [
              0.1111111111111111,
              "#46039f"
             ],
             [
              0.2222222222222222,
              "#7201a8"
             ],
             [
              0.3333333333333333,
              "#9c179e"
             ],
             [
              0.4444444444444444,
              "#bd3786"
             ],
             [
              0.5555555555555556,
              "#d8576b"
             ],
             [
              0.6666666666666666,
              "#ed7953"
             ],
             [
              0.7777777777777778,
              "#fb9f3a"
             ],
             [
              0.8888888888888888,
              "#fdca26"
             ],
             [
              1,
              "#f0f921"
             ]
            ],
            "type": "heatmap"
           }
          ],
          "heatmapgl": [
           {
            "colorbar": {
             "outlinewidth": 0,
             "ticks": ""
            },
            "colorscale": [
             [
              0,
              "#0d0887"
             ],
             [
              0.1111111111111111,
              "#46039f"
             ],
             [
              0.2222222222222222,
              "#7201a8"
             ],
             [
              0.3333333333333333,
              "#9c179e"
             ],
             [
              0.4444444444444444,
              "#bd3786"
             ],
             [
              0.5555555555555556,
              "#d8576b"
             ],
             [
              0.6666666666666666,
              "#ed7953"
             ],
             [
              0.7777777777777778,
              "#fb9f3a"
             ],
             [
              0.8888888888888888,
              "#fdca26"
             ],
             [
              1,
              "#f0f921"
             ]
            ],
            "type": "heatmapgl"
           }
          ],
          "histogram": [
           {
            "marker": {
             "colorbar": {
              "outlinewidth": 0,
              "ticks": ""
             }
            },
            "type": "histogram"
           }
          ],
          "histogram2d": [
           {
            "colorbar": {
             "outlinewidth": 0,
             "ticks": ""
            },
            "colorscale": [
             [
              0,
              "#0d0887"
             ],
             [
              0.1111111111111111,
              "#46039f"
             ],
             [
              0.2222222222222222,
              "#7201a8"
             ],
             [
              0.3333333333333333,
              "#9c179e"
             ],
             [
              0.4444444444444444,
              "#bd3786"
             ],
             [
              0.5555555555555556,
              "#d8576b"
             ],
             [
              0.6666666666666666,
              "#ed7953"
             ],
             [
              0.7777777777777778,
              "#fb9f3a"
             ],
             [
              0.8888888888888888,
              "#fdca26"
             ],
             [
              1,
              "#f0f921"
             ]
            ],
            "type": "histogram2d"
           }
          ],
          "histogram2dcontour": [
           {
            "colorbar": {
             "outlinewidth": 0,
             "ticks": ""
            },
            "colorscale": [
             [
              0,
              "#0d0887"
             ],
             [
              0.1111111111111111,
              "#46039f"
             ],
             [
              0.2222222222222222,
              "#7201a8"
             ],
             [
              0.3333333333333333,
              "#9c179e"
             ],
             [
              0.4444444444444444,
              "#bd3786"
             ],
             [
              0.5555555555555556,
              "#d8576b"
             ],
             [
              0.6666666666666666,
              "#ed7953"
             ],
             [
              0.7777777777777778,
              "#fb9f3a"
             ],
             [
              0.8888888888888888,
              "#fdca26"
             ],
             [
              1,
              "#f0f921"
             ]
            ],
            "type": "histogram2dcontour"
           }
          ],
          "mesh3d": [
           {
            "colorbar": {
             "outlinewidth": 0,
             "ticks": ""
            },
            "type": "mesh3d"
           }
          ],
          "parcoords": [
           {
            "line": {
             "colorbar": {
              "outlinewidth": 0,
              "ticks": ""
             }
            },
            "type": "parcoords"
           }
          ],
          "pie": [
           {
            "automargin": true,
            "type": "pie"
           }
          ],
          "scatter": [
           {
            "marker": {
             "colorbar": {
              "outlinewidth": 0,
              "ticks": ""
             }
            },
            "type": "scatter"
           }
          ],
          "scatter3d": [
           {
            "line": {
             "colorbar": {
              "outlinewidth": 0,
              "ticks": ""
             }
            },
            "marker": {
             "colorbar": {
              "outlinewidth": 0,
              "ticks": ""
             }
            },
            "type": "scatter3d"
           }
          ],
          "scattercarpet": [
           {
            "marker": {
             "colorbar": {
              "outlinewidth": 0,
              "ticks": ""
             }
            },
            "type": "scattercarpet"
           }
          ],
          "scattergeo": [
           {
            "marker": {
             "colorbar": {
              "outlinewidth": 0,
              "ticks": ""
             }
            },
            "type": "scattergeo"
           }
          ],
          "scattergl": [
           {
            "marker": {
             "colorbar": {
              "outlinewidth": 0,
              "ticks": ""
             }
            },
            "type": "scattergl"
           }
          ],
          "scattermapbox": [
           {
            "marker": {
             "colorbar": {
              "outlinewidth": 0,
              "ticks": ""
             }
            },
            "type": "scattermapbox"
           }
          ],
          "scatterpolar": [
           {
            "marker": {
             "colorbar": {
              "outlinewidth": 0,
              "ticks": ""
             }
            },
            "type": "scatterpolar"
           }
          ],
          "scatterpolargl": [
           {
            "marker": {
             "colorbar": {
              "outlinewidth": 0,
              "ticks": ""
             }
            },
            "type": "scatterpolargl"
           }
          ],
          "scatterternary": [
           {
            "marker": {
             "colorbar": {
              "outlinewidth": 0,
              "ticks": ""
             }
            },
            "type": "scatterternary"
           }
          ],
          "surface": [
           {
            "colorbar": {
             "outlinewidth": 0,
             "ticks": ""
            },
            "colorscale": [
             [
              0,
              "#0d0887"
             ],
             [
              0.1111111111111111,
              "#46039f"
             ],
             [
              0.2222222222222222,
              "#7201a8"
             ],
             [
              0.3333333333333333,
              "#9c179e"
             ],
             [
              0.4444444444444444,
              "#bd3786"
             ],
             [
              0.5555555555555556,
              "#d8576b"
             ],
             [
              0.6666666666666666,
              "#ed7953"
             ],
             [
              0.7777777777777778,
              "#fb9f3a"
             ],
             [
              0.8888888888888888,
              "#fdca26"
             ],
             [
              1,
              "#f0f921"
             ]
            ],
            "type": "surface"
           }
          ],
          "table": [
           {
            "cells": {
             "fill": {
              "color": "#EBF0F8"
             },
             "line": {
              "color": "white"
             }
            },
            "header": {
             "fill": {
              "color": "#C8D4E3"
             },
             "line": {
              "color": "white"
             }
            },
            "type": "table"
           }
          ]
         },
         "layout": {
          "annotationdefaults": {
           "arrowcolor": "#2a3f5f",
           "arrowhead": 0,
           "arrowwidth": 1
          },
          "autotypenumbers": "strict",
          "coloraxis": {
           "colorbar": {
            "outlinewidth": 0,
            "ticks": ""
           }
          },
          "colorscale": {
           "diverging": [
            [
             0,
             "#8e0152"
            ],
            [
             0.1,
             "#c51b7d"
            ],
            [
             0.2,
             "#de77ae"
            ],
            [
             0.3,
             "#f1b6da"
            ],
            [
             0.4,
             "#fde0ef"
            ],
            [
             0.5,
             "#f7f7f7"
            ],
            [
             0.6,
             "#e6f5d0"
            ],
            [
             0.7,
             "#b8e186"
            ],
            [
             0.8,
             "#7fbc41"
            ],
            [
             0.9,
             "#4d9221"
            ],
            [
             1,
             "#276419"
            ]
           ],
           "sequential": [
            [
             0,
             "#0d0887"
            ],
            [
             0.1111111111111111,
             "#46039f"
            ],
            [
             0.2222222222222222,
             "#7201a8"
            ],
            [
             0.3333333333333333,
             "#9c179e"
            ],
            [
             0.4444444444444444,
             "#bd3786"
            ],
            [
             0.5555555555555556,
             "#d8576b"
            ],
            [
             0.6666666666666666,
             "#ed7953"
            ],
            [
             0.7777777777777778,
             "#fb9f3a"
            ],
            [
             0.8888888888888888,
             "#fdca26"
            ],
            [
             1,
             "#f0f921"
            ]
           ],
           "sequentialminus": [
            [
             0,
             "#0d0887"
            ],
            [
             0.1111111111111111,
             "#46039f"
            ],
            [
             0.2222222222222222,
             "#7201a8"
            ],
            [
             0.3333333333333333,
             "#9c179e"
            ],
            [
             0.4444444444444444,
             "#bd3786"
            ],
            [
             0.5555555555555556,
             "#d8576b"
            ],
            [
             0.6666666666666666,
             "#ed7953"
            ],
            [
             0.7777777777777778,
             "#fb9f3a"
            ],
            [
             0.8888888888888888,
             "#fdca26"
            ],
            [
             1,
             "#f0f921"
            ]
           ]
          },
          "colorway": [
           "#636efa",
           "#EF553B",
           "#00cc96",
           "#ab63fa",
           "#FFA15A",
           "#19d3f3",
           "#FF6692",
           "#B6E880",
           "#FF97FF",
           "#FECB52"
          ],
          "font": {
           "color": "#2a3f5f"
          },
          "geo": {
           "bgcolor": "white",
           "lakecolor": "white",
           "landcolor": "#E5ECF6",
           "showlakes": true,
           "showland": true,
           "subunitcolor": "white"
          },
          "hoverlabel": {
           "align": "left"
          },
          "hovermode": "closest",
          "mapbox": {
           "style": "light"
          },
          "paper_bgcolor": "white",
          "plot_bgcolor": "#E5ECF6",
          "polar": {
           "angularaxis": {
            "gridcolor": "white",
            "linecolor": "white",
            "ticks": ""
           },
           "bgcolor": "#E5ECF6",
           "radialaxis": {
            "gridcolor": "white",
            "linecolor": "white",
            "ticks": ""
           }
          },
          "scene": {
           "xaxis": {
            "backgroundcolor": "#E5ECF6",
            "gridcolor": "white",
            "gridwidth": 2,
            "linecolor": "white",
            "showbackground": true,
            "ticks": "",
            "zerolinecolor": "white"
           },
           "yaxis": {
            "backgroundcolor": "#E5ECF6",
            "gridcolor": "white",
            "gridwidth": 2,
            "linecolor": "white",
            "showbackground": true,
            "ticks": "",
            "zerolinecolor": "white"
           },
           "zaxis": {
            "backgroundcolor": "#E5ECF6",
            "gridcolor": "white",
            "gridwidth": 2,
            "linecolor": "white",
            "showbackground": true,
            "ticks": "",
            "zerolinecolor": "white"
           }
          },
          "shapedefaults": {
           "line": {
            "color": "#2a3f5f"
           }
          },
          "ternary": {
           "aaxis": {
            "gridcolor": "white",
            "linecolor": "white",
            "ticks": ""
           },
           "baxis": {
            "gridcolor": "white",
            "linecolor": "white",
            "ticks": ""
           },
           "bgcolor": "#E5ECF6",
           "caxis": {
            "gridcolor": "white",
            "linecolor": "white",
            "ticks": ""
           }
          },
          "title": {
           "x": 0.05
          },
          "xaxis": {
           "automargin": true,
           "gridcolor": "white",
           "linecolor": "white",
           "ticks": "",
           "title": {
            "standoff": 15
           },
           "zerolinecolor": "white",
           "zerolinewidth": 2
          },
          "yaxis": {
           "automargin": true,
           "gridcolor": "white",
           "linecolor": "white",
           "ticks": "",
           "title": {
            "standoff": 15
           },
           "zerolinecolor": "white",
           "zerolinewidth": 2
          }
         }
        },
        "title": {
         "font": {
          "color": "#4D5663"
         }
        },
        "xaxis": {
         "gridcolor": "#E1E5ED",
         "showgrid": true,
         "tickfont": {
          "color": "#4D5663"
         },
         "title": {
          "font": {
           "color": "#4D5663"
          },
          "text": ""
         },
         "zerolinecolor": "#E1E5ED"
        },
        "yaxis": {
         "gridcolor": "#E1E5ED",
         "showgrid": true,
         "tickfont": {
          "color": "#4D5663"
         },
         "title": {
          "font": {
           "color": "#4D5663"
          },
          "text": ""
         },
         "zerolinecolor": "#E1E5ED"
        }
       }
      },
      "text/html": [
       "<div>                            <div id=\"8a85936b-8a8c-4ab6-9b8a-637da8ca669e\" class=\"plotly-graph-div\" style=\"height:525px; width:100%;\"></div>            <script type=\"text/javascript\">                require([\"plotly\"], function(Plotly) {                    window.PLOTLYENV=window.PLOTLYENV || {};\n",
       "                    window.PLOTLYENV.BASE_URL='https://plot.ly';                                    if (document.getElementById(\"8a85936b-8a8c-4ab6-9b8a-637da8ca669e\")) {                    Plotly.newPlot(                        \"8a85936b-8a8c-4ab6-9b8a-637da8ca669e\",                        [{\"histfunc\": \"count\", \"histnorm\": \"\", \"marker\": {\"color\": \"rgba(255, 153, 51, 1.0)\", \"line\": {\"color\": \"#4D5663\", \"width\": 1.3}}, \"name\": \"A\", \"nbinsx\": 25, \"opacity\": 0.8, \"orientation\": \"v\", \"type\": \"histogram\", \"x\": [-1.5055387470969204, -1.5281336080932433, 0.5475375225269746, -0.5011536835325386, -1.1342277894161847, -1.3421654609689813, 1.0480587954437626, 0.1079858186458624, -0.5188967289497634, -0.2365765719760372, -0.6671966901411546, 0.4808958294390424, 0.2543237589685781, 0.6624634680374704, -1.8806637507850557, -1.7714952898637082, -0.1450552767082512, 0.3258012317547289, -1.9793404774159449, -1.837133213610893, 1.2048818510023436, -1.2146576222324894, 0.10051316757305068, 0.6503065455095138, -0.1037762205561722, 1.5796280422577185, 0.24683397628064682, -0.19632846361111042, -1.659879956912887, -0.7362869487055028, 0.696560945958403, 0.35011393191088397, -0.22294636893507996, -0.4490245617166439, -0.03413210591976646, 0.3813225689164726, -0.06804276535356155, -1.017866017986653, -0.48305879639553495, -0.8421918238373384, 0.09428074990969793, -0.3709780159244891, -2.4496465657011495, 1.0103436605626173, 1.246075620844197, 1.1997700774819116, 1.594497731670918, -0.22731603166056338, 0.6569588970958761, 0.09856549719926379, -0.8922698305611144, -0.9138306160664806, 0.5356427374304688, -0.287939493916266, -0.21742881701656078, -0.8522247181710058, -0.5253701618708698, 1.5428396249131306, 0.3411566218250933, 0.49922207449863165, 1.323964658717949, -1.3824171121263014, 0.9701483427037748, 0.4401818048772333, 1.3076536066443993, 2.355220713044908, 0.3330440295546341, -0.24749042740682606, 1.4700037958120582, 0.5275901521486961, 0.2318440908726942, 0.830445816962907, -0.5513743588021469, -0.20295015318623347, -0.836131924104717, -0.7937607157928708, 1.3319788440982268, -1.047455664669664, 1.0156429726730842, 0.07046136873997877, -1.1429664531146777, -0.8423125200880234, -1.7088559269805108, 0.23054946399192716, 1.2853740970875533, 0.7466025932529883, 1.5283495573924988, -0.0008903010811767334, -0.5698892720745149, -1.7421401214515508, -0.4387436019528569, 0.8418373255406498, -0.9637173207896174, 2.117703825261018, 0.9834391674180394, 0.3674088194285618, 1.5588053824031243, 0.2811852508479091, -1.7212704314648224, 1.0067873970433072]}],                        {\"barmode\": \"overlay\", \"legend\": {\"bgcolor\": \"#F5F6F9\", \"font\": {\"color\": \"#4D5663\"}}, \"paper_bgcolor\": \"#F5F6F9\", \"plot_bgcolor\": \"#F5F6F9\", \"template\": {\"data\": {\"bar\": [{\"error_x\": {\"color\": \"#2a3f5f\"}, \"error_y\": {\"color\": \"#2a3f5f\"}, \"marker\": {\"line\": {\"color\": \"#E5ECF6\", \"width\": 0.5}}, \"type\": \"bar\"}], \"barpolar\": [{\"marker\": {\"line\": {\"color\": \"#E5ECF6\", \"width\": 0.5}}, \"type\": \"barpolar\"}], \"carpet\": [{\"aaxis\": {\"endlinecolor\": \"#2a3f5f\", \"gridcolor\": \"white\", \"linecolor\": \"white\", \"minorgridcolor\": \"white\", \"startlinecolor\": \"#2a3f5f\"}, \"baxis\": {\"endlinecolor\": \"#2a3f5f\", \"gridcolor\": \"white\", \"linecolor\": \"white\", \"minorgridcolor\": \"white\", \"startlinecolor\": \"#2a3f5f\"}, \"type\": \"carpet\"}], \"choropleth\": [{\"colorbar\": {\"outlinewidth\": 0, \"ticks\": \"\"}, \"type\": \"choropleth\"}], \"contour\": [{\"colorbar\": {\"outlinewidth\": 0, \"ticks\": \"\"}, \"colorscale\": [[0.0, \"#0d0887\"], [0.1111111111111111, \"#46039f\"], [0.2222222222222222, \"#7201a8\"], [0.3333333333333333, \"#9c179e\"], [0.4444444444444444, \"#bd3786\"], [0.5555555555555556, \"#d8576b\"], [0.6666666666666666, \"#ed7953\"], [0.7777777777777778, \"#fb9f3a\"], [0.8888888888888888, \"#fdca26\"], [1.0, \"#f0f921\"]], \"type\": \"contour\"}], \"contourcarpet\": [{\"colorbar\": {\"outlinewidth\": 0, \"ticks\": \"\"}, \"type\": \"contourcarpet\"}], \"heatmap\": [{\"colorbar\": {\"outlinewidth\": 0, \"ticks\": \"\"}, \"colorscale\": [[0.0, \"#0d0887\"], [0.1111111111111111, \"#46039f\"], [0.2222222222222222, \"#7201a8\"], [0.3333333333333333, \"#9c179e\"], [0.4444444444444444, \"#bd3786\"], [0.5555555555555556, \"#d8576b\"], [0.6666666666666666, \"#ed7953\"], [0.7777777777777778, \"#fb9f3a\"], [0.8888888888888888, \"#fdca26\"], [1.0, \"#f0f921\"]], \"type\": \"heatmap\"}], \"heatmapgl\": [{\"colorbar\": {\"outlinewidth\": 0, \"ticks\": \"\"}, \"colorscale\": [[0.0, \"#0d0887\"], [0.1111111111111111, \"#46039f\"], [0.2222222222222222, \"#7201a8\"], [0.3333333333333333, \"#9c179e\"], [0.4444444444444444, \"#bd3786\"], [0.5555555555555556, \"#d8576b\"], [0.6666666666666666, \"#ed7953\"], [0.7777777777777778, \"#fb9f3a\"], [0.8888888888888888, \"#fdca26\"], [1.0, \"#f0f921\"]], \"type\": \"heatmapgl\"}], \"histogram\": [{\"marker\": {\"colorbar\": {\"outlinewidth\": 0, \"ticks\": \"\"}}, \"type\": \"histogram\"}], \"histogram2d\": [{\"colorbar\": {\"outlinewidth\": 0, \"ticks\": \"\"}, \"colorscale\": [[0.0, \"#0d0887\"], [0.1111111111111111, \"#46039f\"], [0.2222222222222222, \"#7201a8\"], [0.3333333333333333, \"#9c179e\"], [0.4444444444444444, \"#bd3786\"], [0.5555555555555556, \"#d8576b\"], [0.6666666666666666, \"#ed7953\"], [0.7777777777777778, \"#fb9f3a\"], [0.8888888888888888, \"#fdca26\"], [1.0, \"#f0f921\"]], \"type\": \"histogram2d\"}], \"histogram2dcontour\": [{\"colorbar\": {\"outlinewidth\": 0, \"ticks\": \"\"}, \"colorscale\": [[0.0, \"#0d0887\"], [0.1111111111111111, \"#46039f\"], [0.2222222222222222, \"#7201a8\"], [0.3333333333333333, \"#9c179e\"], [0.4444444444444444, \"#bd3786\"], [0.5555555555555556, \"#d8576b\"], [0.6666666666666666, \"#ed7953\"], [0.7777777777777778, \"#fb9f3a\"], [0.8888888888888888, \"#fdca26\"], [1.0, \"#f0f921\"]], \"type\": \"histogram2dcontour\"}], \"mesh3d\": [{\"colorbar\": {\"outlinewidth\": 0, \"ticks\": \"\"}, \"type\": \"mesh3d\"}], \"parcoords\": [{\"line\": {\"colorbar\": {\"outlinewidth\": 0, \"ticks\": \"\"}}, \"type\": \"parcoords\"}], \"pie\": [{\"automargin\": true, \"type\": \"pie\"}], \"scatter\": [{\"marker\": {\"colorbar\": {\"outlinewidth\": 0, \"ticks\": \"\"}}, \"type\": \"scatter\"}], \"scatter3d\": [{\"line\": {\"colorbar\": {\"outlinewidth\": 0, \"ticks\": \"\"}}, \"marker\": {\"colorbar\": {\"outlinewidth\": 0, \"ticks\": \"\"}}, \"type\": \"scatter3d\"}], \"scattercarpet\": [{\"marker\": {\"colorbar\": {\"outlinewidth\": 0, \"ticks\": \"\"}}, \"type\": \"scattercarpet\"}], \"scattergeo\": [{\"marker\": {\"colorbar\": {\"outlinewidth\": 0, \"ticks\": \"\"}}, \"type\": \"scattergeo\"}], \"scattergl\": [{\"marker\": {\"colorbar\": {\"outlinewidth\": 0, \"ticks\": \"\"}}, \"type\": \"scattergl\"}], \"scattermapbox\": [{\"marker\": {\"colorbar\": {\"outlinewidth\": 0, \"ticks\": \"\"}}, \"type\": \"scattermapbox\"}], \"scatterpolar\": [{\"marker\": {\"colorbar\": {\"outlinewidth\": 0, \"ticks\": \"\"}}, \"type\": \"scatterpolar\"}], \"scatterpolargl\": [{\"marker\": {\"colorbar\": {\"outlinewidth\": 0, \"ticks\": \"\"}}, \"type\": \"scatterpolargl\"}], \"scatterternary\": [{\"marker\": {\"colorbar\": {\"outlinewidth\": 0, \"ticks\": \"\"}}, \"type\": \"scatterternary\"}], \"surface\": [{\"colorbar\": {\"outlinewidth\": 0, \"ticks\": \"\"}, \"colorscale\": [[0.0, \"#0d0887\"], [0.1111111111111111, \"#46039f\"], [0.2222222222222222, \"#7201a8\"], [0.3333333333333333, \"#9c179e\"], [0.4444444444444444, \"#bd3786\"], [0.5555555555555556, \"#d8576b\"], [0.6666666666666666, \"#ed7953\"], [0.7777777777777778, \"#fb9f3a\"], [0.8888888888888888, \"#fdca26\"], [1.0, \"#f0f921\"]], \"type\": \"surface\"}], \"table\": [{\"cells\": {\"fill\": {\"color\": \"#EBF0F8\"}, \"line\": {\"color\": \"white\"}}, \"header\": {\"fill\": {\"color\": \"#C8D4E3\"}, \"line\": {\"color\": \"white\"}}, \"type\": \"table\"}]}, \"layout\": {\"annotationdefaults\": {\"arrowcolor\": \"#2a3f5f\", \"arrowhead\": 0, \"arrowwidth\": 1}, \"autotypenumbers\": \"strict\", \"coloraxis\": {\"colorbar\": {\"outlinewidth\": 0, \"ticks\": \"\"}}, \"colorscale\": {\"diverging\": [[0, \"#8e0152\"], [0.1, \"#c51b7d\"], [0.2, \"#de77ae\"], [0.3, \"#f1b6da\"], [0.4, \"#fde0ef\"], [0.5, \"#f7f7f7\"], [0.6, \"#e6f5d0\"], [0.7, \"#b8e186\"], [0.8, \"#7fbc41\"], [0.9, \"#4d9221\"], [1, \"#276419\"]], \"sequential\": [[0.0, \"#0d0887\"], [0.1111111111111111, \"#46039f\"], [0.2222222222222222, \"#7201a8\"], [0.3333333333333333, \"#9c179e\"], [0.4444444444444444, \"#bd3786\"], [0.5555555555555556, \"#d8576b\"], [0.6666666666666666, \"#ed7953\"], [0.7777777777777778, \"#fb9f3a\"], [0.8888888888888888, \"#fdca26\"], [1.0, \"#f0f921\"]], \"sequentialminus\": [[0.0, \"#0d0887\"], [0.1111111111111111, \"#46039f\"], [0.2222222222222222, \"#7201a8\"], [0.3333333333333333, \"#9c179e\"], [0.4444444444444444, \"#bd3786\"], [0.5555555555555556, \"#d8576b\"], [0.6666666666666666, \"#ed7953\"], [0.7777777777777778, \"#fb9f3a\"], [0.8888888888888888, \"#fdca26\"], [1.0, \"#f0f921\"]]}, \"colorway\": [\"#636efa\", \"#EF553B\", \"#00cc96\", \"#ab63fa\", \"#FFA15A\", \"#19d3f3\", \"#FF6692\", \"#B6E880\", \"#FF97FF\", \"#FECB52\"], \"font\": {\"color\": \"#2a3f5f\"}, \"geo\": {\"bgcolor\": \"white\", \"lakecolor\": \"white\", \"landcolor\": \"#E5ECF6\", \"showlakes\": true, \"showland\": true, \"subunitcolor\": \"white\"}, \"hoverlabel\": {\"align\": \"left\"}, \"hovermode\": \"closest\", \"mapbox\": {\"style\": \"light\"}, \"paper_bgcolor\": \"white\", \"plot_bgcolor\": \"#E5ECF6\", \"polar\": {\"angularaxis\": {\"gridcolor\": \"white\", \"linecolor\": \"white\", \"ticks\": \"\"}, \"bgcolor\": \"#E5ECF6\", \"radialaxis\": {\"gridcolor\": \"white\", \"linecolor\": \"white\", \"ticks\": \"\"}}, \"scene\": {\"xaxis\": {\"backgroundcolor\": \"#E5ECF6\", \"gridcolor\": \"white\", \"gridwidth\": 2, \"linecolor\": \"white\", \"showbackground\": true, \"ticks\": \"\", \"zerolinecolor\": \"white\"}, \"yaxis\": {\"backgroundcolor\": \"#E5ECF6\", \"gridcolor\": \"white\", \"gridwidth\": 2, \"linecolor\": \"white\", \"showbackground\": true, \"ticks\": \"\", \"zerolinecolor\": \"white\"}, \"zaxis\": {\"backgroundcolor\": \"#E5ECF6\", \"gridcolor\": \"white\", \"gridwidth\": 2, \"linecolor\": \"white\", \"showbackground\": true, \"ticks\": \"\", \"zerolinecolor\": \"white\"}}, \"shapedefaults\": {\"line\": {\"color\": \"#2a3f5f\"}}, \"ternary\": {\"aaxis\": {\"gridcolor\": \"white\", \"linecolor\": \"white\", \"ticks\": \"\"}, \"baxis\": {\"gridcolor\": \"white\", \"linecolor\": \"white\", \"ticks\": \"\"}, \"bgcolor\": \"#E5ECF6\", \"caxis\": {\"gridcolor\": \"white\", \"linecolor\": \"white\", \"ticks\": \"\"}}, \"title\": {\"x\": 0.05}, \"xaxis\": {\"automargin\": true, \"gridcolor\": \"white\", \"linecolor\": \"white\", \"ticks\": \"\", \"title\": {\"standoff\": 15}, \"zerolinecolor\": \"white\", \"zerolinewidth\": 2}, \"yaxis\": {\"automargin\": true, \"gridcolor\": \"white\", \"linecolor\": \"white\", \"ticks\": \"\", \"title\": {\"standoff\": 15}, \"zerolinecolor\": \"white\", \"zerolinewidth\": 2}}}, \"title\": {\"font\": {\"color\": \"#4D5663\"}}, \"xaxis\": {\"gridcolor\": \"#E1E5ED\", \"showgrid\": true, \"tickfont\": {\"color\": \"#4D5663\"}, \"title\": {\"font\": {\"color\": \"#4D5663\"}, \"text\": \"\"}, \"zerolinecolor\": \"#E1E5ED\"}, \"yaxis\": {\"gridcolor\": \"#E1E5ED\", \"showgrid\": true, \"tickfont\": {\"color\": \"#4D5663\"}, \"title\": {\"font\": {\"color\": \"#4D5663\"}, \"text\": \"\"}, \"zerolinecolor\": \"#E1E5ED\"}},                        {\"showLink\": true, \"linkText\": \"Export to plot.ly\", \"plotlyServerURL\": \"https://plot.ly\", \"responsive\": true}                    ).then(function(){\n",
       "                            \n",
       "var gd = document.getElementById('8a85936b-8a8c-4ab6-9b8a-637da8ca669e');\n",
       "var x = new MutationObserver(function (mutations, observer) {{\n",
       "        var display = window.getComputedStyle(gd).display;\n",
       "        if (!display || display === 'none') {{\n",
       "            console.log([gd, 'removed!']);\n",
       "            Plotly.purge(gd);\n",
       "            observer.disconnect();\n",
       "        }}\n",
       "}});\n",
       "\n",
       "// Listen for the removal of the full notebook cells\n",
       "var notebookContainer = gd.closest('#notebook-container');\n",
       "if (notebookContainer) {{\n",
       "    x.observe(notebookContainer, {childList: true});\n",
       "}}\n",
       "\n",
       "// Listen for the clearing of the current output cell\n",
       "var outputEl = gd.closest('.output');\n",
       "if (outputEl) {{\n",
       "    x.observe(outputEl, {childList: true});\n",
       "}}\n",
       "\n",
       "                        })                };                });            </script>        </div>"
      ]
     },
     "metadata": {},
     "output_type": "display_data"
    }
   ],
   "source": [
    "df['A'].iplot(kind='hist',bins=25)"
   ]
  },
  {
   "cell_type": "code",
   "execution_count": 44,
   "metadata": {},
   "outputs": [
    {
     "data": {
      "application/vnd.plotly.v1+json": {
       "config": {
        "linkText": "Export to plot.ly",
        "plotlyServerURL": "https://plot.ly",
        "showLink": true
       },
       "data": [
        {
         "marker": {
          "color": [
           "rgb(255, 153, 51)",
           "rgb(55, 128, 191)",
           "rgb(50, 171, 96)",
           "rgb(128, 0, 128)",
           "rgb(219, 64, 82)",
           "rgb(0, 128, 128)",
           "rgb(255, 255, 51)",
           "rgb(128, 128, 0)",
           "rgb(251, 128, 114)",
           "rgb(128, 177, 211)"
          ],
          "line": {
           "width": 1.3
          },
          "size": [
           48,
           28,
           62,
           26,
           24,
           95,
           93,
           39,
           62,
           76,
           81,
           44,
           86,
           100,
           82,
           30,
           57,
           69,
           74,
           67,
           27,
           50,
           72,
           112,
           51,
           71,
           81,
           34,
           61,
           58,
           65,
           74,
           72,
           90,
           39,
           84,
           63,
           33,
           40,
           74,
           53,
           79,
           69,
           69,
           29,
           28,
           105,
           100,
           44,
           95,
           39,
           12,
           68,
           67,
           40,
           97,
           37,
           42,
           78,
           13,
           68,
           39,
           50,
           68,
           50,
           61,
           37,
           67,
           57,
           71,
           74,
           61,
           64,
           76,
           66,
           56,
           40,
           57,
           70,
           62,
           65,
           37,
           61,
           55,
           52,
           75,
           94,
           57,
           30,
           48,
           42,
           61,
           74,
           52,
           58,
           67,
           40,
           27,
           61,
           50
          ],
          "symbol": "circle"
         },
         "mode": "markers",
         "text": "",
         "type": "scatter",
         "x": [
          -1.5055387470969204,
          -1.5281336080932433,
          0.5475375225269746,
          -0.5011536835325386,
          -1.1342277894161847,
          -1.3421654609689813,
          1.0480587954437626,
          0.1079858186458624,
          -0.5188967289497634,
          -0.2365765719760372,
          -0.6671966901411546,
          0.4808958294390424,
          0.2543237589685781,
          0.6624634680374704,
          -1.8806637507850557,
          -1.7714952898637082,
          -0.1450552767082512,
          0.3258012317547289,
          -1.9793404774159449,
          -1.837133213610893,
          1.2048818510023436,
          -1.2146576222324894,
          0.10051316757305068,
          0.6503065455095138,
          -0.1037762205561722,
          1.5796280422577185,
          0.24683397628064682,
          -0.19632846361111042,
          -1.659879956912887,
          -0.7362869487055028,
          0.696560945958403,
          0.35011393191088397,
          -0.22294636893507996,
          -0.4490245617166439,
          -0.03413210591976646,
          0.3813225689164726,
          -0.06804276535356155,
          -1.017866017986653,
          -0.48305879639553495,
          -0.8421918238373384,
          0.09428074990969793,
          -0.3709780159244891,
          -2.4496465657011495,
          1.0103436605626173,
          1.246075620844197,
          1.1997700774819116,
          1.594497731670918,
          -0.22731603166056338,
          0.6569588970958761,
          0.09856549719926379,
          -0.8922698305611144,
          -0.9138306160664806,
          0.5356427374304688,
          -0.287939493916266,
          -0.21742881701656078,
          -0.8522247181710058,
          -0.5253701618708698,
          1.5428396249131306,
          0.3411566218250933,
          0.49922207449863165,
          1.323964658717949,
          -1.3824171121263014,
          0.9701483427037748,
          0.4401818048772333,
          1.3076536066443993,
          2.355220713044908,
          0.3330440295546341,
          -0.24749042740682606,
          1.4700037958120582,
          0.5275901521486961,
          0.2318440908726942,
          0.830445816962907,
          -0.5513743588021469,
          -0.20295015318623347,
          -0.836131924104717,
          -0.7937607157928708,
          1.3319788440982268,
          -1.047455664669664,
          1.0156429726730842,
          0.07046136873997877,
          -1.1429664531146777,
          -0.8423125200880234,
          -1.7088559269805108,
          0.23054946399192716,
          1.2853740970875533,
          0.7466025932529883,
          1.5283495573924988,
          -0.0008903010811767334,
          -0.5698892720745149,
          -1.7421401214515508,
          -0.4387436019528569,
          0.8418373255406498,
          -0.9637173207896174,
          2.117703825261018,
          0.9834391674180394,
          0.3674088194285618,
          1.5588053824031243,
          0.2811852508479091,
          -1.7212704314648224,
          1.0067873970433072
         ],
         "y": [
          2.4959431719015757,
          0.9276577510015102,
          1.0050336280819714,
          -1.3414197951503666,
          0.8746494229204337,
          1.540503680338683,
          0.36341469733085086,
          0.2725456247333992,
          1.8256614150093526,
          0.4156453561321367,
          1.4259125348996546,
          0.5946871352044677,
          -0.996617192940703,
          -1.7343975620344267,
          1.2605362115718608,
          0.7792065667383924,
          -0.598165859683212,
          0.3141166478645829,
          2.028966264269778,
          -0.29196792479850614,
          0.18451884374077343,
          0.8624614728842477,
          0.3480036276243098,
          0.9367617347955924,
          0.029764440610968956,
          0.43061141935071345,
          -0.4186082014870178,
          -1.7469339996527733,
          -0.6344513661954309,
          1.3582828527644264,
          -0.17399511524737038,
          0.2331979361358069,
          -0.5836430876609441,
          -0.5091931531527603,
          -1.8430549827322322,
          0.37972796141810045,
          -1.3500784339650678,
          -0.45771898539282563,
          1.2708557850766116,
          -0.5777786253036234,
          -1.2136208429910493,
          0.15180784778636058,
          0.2518712007834114,
          0.08812308785230992,
          -1.2262731538059652,
          -0.5228326084951959,
          0.19439384594219133,
          -0.9677730140765817,
          0.557013465619875,
          -2.6221107321614343,
          0.34155621542304865,
          -1.0928749241983184,
          1.39021765404278,
          -1.098393256437507,
          1.365337542457722,
          -0.5707302449812107,
          -1.2005965785299708,
          -1.3298935269144292,
          -0.9460922681345796,
          -2.4804821303330415,
          0.2794024307283462,
          -0.2128762900828223,
          -1.3961752300117987,
          -0.6975097022746658,
          0.7203967384329273,
          0.29590483041240295,
          0.8214083566509665,
          -1.6138757379035886,
          0.48213257156387984,
          -0.31657725802601844,
          1.0036338052593803,
          -0.10501177153419351,
          -0.8632321261513736,
          0.8360545538876548,
          0.6452586861239282,
          -0.2313606912932169,
          0.15547924818340117,
          1.0450768088182119,
          -1.4390022209407076,
          0.13533822747627927,
          -0.5688684967823189,
          -1.8417192752743694,
          -1.2450741247080495,
          0.1405813522908807,
          -0.041901845147847776,
          -0.3785270769658319,
          -1.0026510762222551,
          0.7792789540191182,
          -1.3267008036468066,
          -0.9617055507968908,
          3.3011836296868546,
          -0.5845028743081897,
          -0.38304968847196313,
          -1.2753623714544455,
          -1.0490741676789088,
          -0.007588023951681576,
          1.2022958402644337,
          1.2222414150527166,
          -1.1693910600131703,
          -1.01440354370347
         ]
        }
       ],
       "layout": {
        "legend": {
         "bgcolor": "#F5F6F9",
         "font": {
          "color": "#4D5663"
         }
        },
        "paper_bgcolor": "#F5F6F9",
        "plot_bgcolor": "#F5F6F9",
        "template": {
         "data": {
          "bar": [
           {
            "error_x": {
             "color": "#2a3f5f"
            },
            "error_y": {
             "color": "#2a3f5f"
            },
            "marker": {
             "line": {
              "color": "#E5ECF6",
              "width": 0.5
             }
            },
            "type": "bar"
           }
          ],
          "barpolar": [
           {
            "marker": {
             "line": {
              "color": "#E5ECF6",
              "width": 0.5
             }
            },
            "type": "barpolar"
           }
          ],
          "carpet": [
           {
            "aaxis": {
             "endlinecolor": "#2a3f5f",
             "gridcolor": "white",
             "linecolor": "white",
             "minorgridcolor": "white",
             "startlinecolor": "#2a3f5f"
            },
            "baxis": {
             "endlinecolor": "#2a3f5f",
             "gridcolor": "white",
             "linecolor": "white",
             "minorgridcolor": "white",
             "startlinecolor": "#2a3f5f"
            },
            "type": "carpet"
           }
          ],
          "choropleth": [
           {
            "colorbar": {
             "outlinewidth": 0,
             "ticks": ""
            },
            "type": "choropleth"
           }
          ],
          "contour": [
           {
            "colorbar": {
             "outlinewidth": 0,
             "ticks": ""
            },
            "colorscale": [
             [
              0,
              "#0d0887"
             ],
             [
              0.1111111111111111,
              "#46039f"
             ],
             [
              0.2222222222222222,
              "#7201a8"
             ],
             [
              0.3333333333333333,
              "#9c179e"
             ],
             [
              0.4444444444444444,
              "#bd3786"
             ],
             [
              0.5555555555555556,
              "#d8576b"
             ],
             [
              0.6666666666666666,
              "#ed7953"
             ],
             [
              0.7777777777777778,
              "#fb9f3a"
             ],
             [
              0.8888888888888888,
              "#fdca26"
             ],
             [
              1,
              "#f0f921"
             ]
            ],
            "type": "contour"
           }
          ],
          "contourcarpet": [
           {
            "colorbar": {
             "outlinewidth": 0,
             "ticks": ""
            },
            "type": "contourcarpet"
           }
          ],
          "heatmap": [
           {
            "colorbar": {
             "outlinewidth": 0,
             "ticks": ""
            },
            "colorscale": [
             [
              0,
              "#0d0887"
             ],
             [
              0.1111111111111111,
              "#46039f"
             ],
             [
              0.2222222222222222,
              "#7201a8"
             ],
             [
              0.3333333333333333,
              "#9c179e"
             ],
             [
              0.4444444444444444,
              "#bd3786"
             ],
             [
              0.5555555555555556,
              "#d8576b"
             ],
             [
              0.6666666666666666,
              "#ed7953"
             ],
             [
              0.7777777777777778,
              "#fb9f3a"
             ],
             [
              0.8888888888888888,
              "#fdca26"
             ],
             [
              1,
              "#f0f921"
             ]
            ],
            "type": "heatmap"
           }
          ],
          "heatmapgl": [
           {
            "colorbar": {
             "outlinewidth": 0,
             "ticks": ""
            },
            "colorscale": [
             [
              0,
              "#0d0887"
             ],
             [
              0.1111111111111111,
              "#46039f"
             ],
             [
              0.2222222222222222,
              "#7201a8"
             ],
             [
              0.3333333333333333,
              "#9c179e"
             ],
             [
              0.4444444444444444,
              "#bd3786"
             ],
             [
              0.5555555555555556,
              "#d8576b"
             ],
             [
              0.6666666666666666,
              "#ed7953"
             ],
             [
              0.7777777777777778,
              "#fb9f3a"
             ],
             [
              0.8888888888888888,
              "#fdca26"
             ],
             [
              1,
              "#f0f921"
             ]
            ],
            "type": "heatmapgl"
           }
          ],
          "histogram": [
           {
            "marker": {
             "colorbar": {
              "outlinewidth": 0,
              "ticks": ""
             }
            },
            "type": "histogram"
           }
          ],
          "histogram2d": [
           {
            "colorbar": {
             "outlinewidth": 0,
             "ticks": ""
            },
            "colorscale": [
             [
              0,
              "#0d0887"
             ],
             [
              0.1111111111111111,
              "#46039f"
             ],
             [
              0.2222222222222222,
              "#7201a8"
             ],
             [
              0.3333333333333333,
              "#9c179e"
             ],
             [
              0.4444444444444444,
              "#bd3786"
             ],
             [
              0.5555555555555556,
              "#d8576b"
             ],
             [
              0.6666666666666666,
              "#ed7953"
             ],
             [
              0.7777777777777778,
              "#fb9f3a"
             ],
             [
              0.8888888888888888,
              "#fdca26"
             ],
             [
              1,
              "#f0f921"
             ]
            ],
            "type": "histogram2d"
           }
          ],
          "histogram2dcontour": [
           {
            "colorbar": {
             "outlinewidth": 0,
             "ticks": ""
            },
            "colorscale": [
             [
              0,
              "#0d0887"
             ],
             [
              0.1111111111111111,
              "#46039f"
             ],
             [
              0.2222222222222222,
              "#7201a8"
             ],
             [
              0.3333333333333333,
              "#9c179e"
             ],
             [
              0.4444444444444444,
              "#bd3786"
             ],
             [
              0.5555555555555556,
              "#d8576b"
             ],
             [
              0.6666666666666666,
              "#ed7953"
             ],
             [
              0.7777777777777778,
              "#fb9f3a"
             ],
             [
              0.8888888888888888,
              "#fdca26"
             ],
             [
              1,
              "#f0f921"
             ]
            ],
            "type": "histogram2dcontour"
           }
          ],
          "mesh3d": [
           {
            "colorbar": {
             "outlinewidth": 0,
             "ticks": ""
            },
            "type": "mesh3d"
           }
          ],
          "parcoords": [
           {
            "line": {
             "colorbar": {
              "outlinewidth": 0,
              "ticks": ""
             }
            },
            "type": "parcoords"
           }
          ],
          "pie": [
           {
            "automargin": true,
            "type": "pie"
           }
          ],
          "scatter": [
           {
            "marker": {
             "colorbar": {
              "outlinewidth": 0,
              "ticks": ""
             }
            },
            "type": "scatter"
           }
          ],
          "scatter3d": [
           {
            "line": {
             "colorbar": {
              "outlinewidth": 0,
              "ticks": ""
             }
            },
            "marker": {
             "colorbar": {
              "outlinewidth": 0,
              "ticks": ""
             }
            },
            "type": "scatter3d"
           }
          ],
          "scattercarpet": [
           {
            "marker": {
             "colorbar": {
              "outlinewidth": 0,
              "ticks": ""
             }
            },
            "type": "scattercarpet"
           }
          ],
          "scattergeo": [
           {
            "marker": {
             "colorbar": {
              "outlinewidth": 0,
              "ticks": ""
             }
            },
            "type": "scattergeo"
           }
          ],
          "scattergl": [
           {
            "marker": {
             "colorbar": {
              "outlinewidth": 0,
              "ticks": ""
             }
            },
            "type": "scattergl"
           }
          ],
          "scattermapbox": [
           {
            "marker": {
             "colorbar": {
              "outlinewidth": 0,
              "ticks": ""
             }
            },
            "type": "scattermapbox"
           }
          ],
          "scatterpolar": [
           {
            "marker": {
             "colorbar": {
              "outlinewidth": 0,
              "ticks": ""
             }
            },
            "type": "scatterpolar"
           }
          ],
          "scatterpolargl": [
           {
            "marker": {
             "colorbar": {
              "outlinewidth": 0,
              "ticks": ""
             }
            },
            "type": "scatterpolargl"
           }
          ],
          "scatterternary": [
           {
            "marker": {
             "colorbar": {
              "outlinewidth": 0,
              "ticks": ""
             }
            },
            "type": "scatterternary"
           }
          ],
          "surface": [
           {
            "colorbar": {
             "outlinewidth": 0,
             "ticks": ""
            },
            "colorscale": [
             [
              0,
              "#0d0887"
             ],
             [
              0.1111111111111111,
              "#46039f"
             ],
             [
              0.2222222222222222,
              "#7201a8"
             ],
             [
              0.3333333333333333,
              "#9c179e"
             ],
             [
              0.4444444444444444,
              "#bd3786"
             ],
             [
              0.5555555555555556,
              "#d8576b"
             ],
             [
              0.6666666666666666,
              "#ed7953"
             ],
             [
              0.7777777777777778,
              "#fb9f3a"
             ],
             [
              0.8888888888888888,
              "#fdca26"
             ],
             [
              1,
              "#f0f921"
             ]
            ],
            "type": "surface"
           }
          ],
          "table": [
           {
            "cells": {
             "fill": {
              "color": "#EBF0F8"
             },
             "line": {
              "color": "white"
             }
            },
            "header": {
             "fill": {
              "color": "#C8D4E3"
             },
             "line": {
              "color": "white"
             }
            },
            "type": "table"
           }
          ]
         },
         "layout": {
          "annotationdefaults": {
           "arrowcolor": "#2a3f5f",
           "arrowhead": 0,
           "arrowwidth": 1
          },
          "autotypenumbers": "strict",
          "coloraxis": {
           "colorbar": {
            "outlinewidth": 0,
            "ticks": ""
           }
          },
          "colorscale": {
           "diverging": [
            [
             0,
             "#8e0152"
            ],
            [
             0.1,
             "#c51b7d"
            ],
            [
             0.2,
             "#de77ae"
            ],
            [
             0.3,
             "#f1b6da"
            ],
            [
             0.4,
             "#fde0ef"
            ],
            [
             0.5,
             "#f7f7f7"
            ],
            [
             0.6,
             "#e6f5d0"
            ],
            [
             0.7,
             "#b8e186"
            ],
            [
             0.8,
             "#7fbc41"
            ],
            [
             0.9,
             "#4d9221"
            ],
            [
             1,
             "#276419"
            ]
           ],
           "sequential": [
            [
             0,
             "#0d0887"
            ],
            [
             0.1111111111111111,
             "#46039f"
            ],
            [
             0.2222222222222222,
             "#7201a8"
            ],
            [
             0.3333333333333333,
             "#9c179e"
            ],
            [
             0.4444444444444444,
             "#bd3786"
            ],
            [
             0.5555555555555556,
             "#d8576b"
            ],
            [
             0.6666666666666666,
             "#ed7953"
            ],
            [
             0.7777777777777778,
             "#fb9f3a"
            ],
            [
             0.8888888888888888,
             "#fdca26"
            ],
            [
             1,
             "#f0f921"
            ]
           ],
           "sequentialminus": [
            [
             0,
             "#0d0887"
            ],
            [
             0.1111111111111111,
             "#46039f"
            ],
            [
             0.2222222222222222,
             "#7201a8"
            ],
            [
             0.3333333333333333,
             "#9c179e"
            ],
            [
             0.4444444444444444,
             "#bd3786"
            ],
            [
             0.5555555555555556,
             "#d8576b"
            ],
            [
             0.6666666666666666,
             "#ed7953"
            ],
            [
             0.7777777777777778,
             "#fb9f3a"
            ],
            [
             0.8888888888888888,
             "#fdca26"
            ],
            [
             1,
             "#f0f921"
            ]
           ]
          },
          "colorway": [
           "#636efa",
           "#EF553B",
           "#00cc96",
           "#ab63fa",
           "#FFA15A",
           "#19d3f3",
           "#FF6692",
           "#B6E880",
           "#FF97FF",
           "#FECB52"
          ],
          "font": {
           "color": "#2a3f5f"
          },
          "geo": {
           "bgcolor": "white",
           "lakecolor": "white",
           "landcolor": "#E5ECF6",
           "showlakes": true,
           "showland": true,
           "subunitcolor": "white"
          },
          "hoverlabel": {
           "align": "left"
          },
          "hovermode": "closest",
          "mapbox": {
           "style": "light"
          },
          "paper_bgcolor": "white",
          "plot_bgcolor": "#E5ECF6",
          "polar": {
           "angularaxis": {
            "gridcolor": "white",
            "linecolor": "white",
            "ticks": ""
           },
           "bgcolor": "#E5ECF6",
           "radialaxis": {
            "gridcolor": "white",
            "linecolor": "white",
            "ticks": ""
           }
          },
          "scene": {
           "xaxis": {
            "backgroundcolor": "#E5ECF6",
            "gridcolor": "white",
            "gridwidth": 2,
            "linecolor": "white",
            "showbackground": true,
            "ticks": "",
            "zerolinecolor": "white"
           },
           "yaxis": {
            "backgroundcolor": "#E5ECF6",
            "gridcolor": "white",
            "gridwidth": 2,
            "linecolor": "white",
            "showbackground": true,
            "ticks": "",
            "zerolinecolor": "white"
           },
           "zaxis": {
            "backgroundcolor": "#E5ECF6",
            "gridcolor": "white",
            "gridwidth": 2,
            "linecolor": "white",
            "showbackground": true,
            "ticks": "",
            "zerolinecolor": "white"
           }
          },
          "shapedefaults": {
           "line": {
            "color": "#2a3f5f"
           }
          },
          "ternary": {
           "aaxis": {
            "gridcolor": "white",
            "linecolor": "white",
            "ticks": ""
           },
           "baxis": {
            "gridcolor": "white",
            "linecolor": "white",
            "ticks": ""
           },
           "bgcolor": "#E5ECF6",
           "caxis": {
            "gridcolor": "white",
            "linecolor": "white",
            "ticks": ""
           }
          },
          "title": {
           "x": 0.05
          },
          "xaxis": {
           "automargin": true,
           "gridcolor": "white",
           "linecolor": "white",
           "ticks": "",
           "title": {
            "standoff": 15
           },
           "zerolinecolor": "white",
           "zerolinewidth": 2
          },
          "yaxis": {
           "automargin": true,
           "gridcolor": "white",
           "linecolor": "white",
           "ticks": "",
           "title": {
            "standoff": 15
           },
           "zerolinecolor": "white",
           "zerolinewidth": 2
          }
         }
        },
        "title": {
         "font": {
          "color": "#4D5663"
         }
        },
        "xaxis": {
         "gridcolor": "#E1E5ED",
         "showgrid": true,
         "tickfont": {
          "color": "#4D5663"
         },
         "title": {
          "font": {
           "color": "#4D5663"
          },
          "text": ""
         },
         "zerolinecolor": "#E1E5ED"
        },
        "yaxis": {
         "gridcolor": "#E1E5ED",
         "showgrid": true,
         "tickfont": {
          "color": "#4D5663"
         },
         "title": {
          "font": {
           "color": "#4D5663"
          },
          "text": ""
         },
         "zerolinecolor": "#E1E5ED"
        }
       }
      },
      "text/html": [
       "<div>                            <div id=\"53d22a96-f9e4-41b2-8d3f-3156154e2246\" class=\"plotly-graph-div\" style=\"height:525px; width:100%;\"></div>            <script type=\"text/javascript\">                require([\"plotly\"], function(Plotly) {                    window.PLOTLYENV=window.PLOTLYENV || {};\n",
       "                    window.PLOTLYENV.BASE_URL='https://plot.ly';                                    if (document.getElementById(\"53d22a96-f9e4-41b2-8d3f-3156154e2246\")) {                    Plotly.newPlot(                        \"53d22a96-f9e4-41b2-8d3f-3156154e2246\",                        [{\"marker\": {\"color\": [\"rgb(255, 153, 51)\", \"rgb(55, 128, 191)\", \"rgb(50, 171, 96)\", \"rgb(128, 0, 128)\", \"rgb(219, 64, 82)\", \"rgb(0, 128, 128)\", \"rgb(255, 255, 51)\", \"rgb(128, 128, 0)\", \"rgb(251, 128, 114)\", \"rgb(128, 177, 211)\"], \"line\": {\"width\": 1.3}, \"size\": [48, 28, 62, 26, 24, 95, 93, 39, 62, 76, 81, 44, 86, 100, 82, 30, 57, 69, 74, 67, 27, 50, 72, 112, 51, 71, 81, 34, 61, 58, 65, 74, 72, 90, 39, 84, 63, 33, 40, 74, 53, 79, 69, 69, 29, 28, 105, 100, 44, 95, 39, 12, 68, 67, 40, 97, 37, 42, 78, 13, 68, 39, 50, 68, 50, 61, 37, 67, 57, 71, 74, 61, 64, 76, 66, 56, 40, 57, 70, 62, 65, 37, 61, 55, 52, 75, 94, 57, 30, 48, 42, 61, 74, 52, 58, 67, 40, 27, 61, 50], \"symbol\": \"circle\"}, \"mode\": \"markers\", \"text\": \"\", \"type\": \"scatter\", \"x\": [-1.5055387470969204, -1.5281336080932433, 0.5475375225269746, -0.5011536835325386, -1.1342277894161847, -1.3421654609689813, 1.0480587954437626, 0.1079858186458624, -0.5188967289497634, -0.2365765719760372, -0.6671966901411546, 0.4808958294390424, 0.2543237589685781, 0.6624634680374704, -1.8806637507850557, -1.7714952898637082, -0.1450552767082512, 0.3258012317547289, -1.9793404774159449, -1.837133213610893, 1.2048818510023436, -1.2146576222324894, 0.10051316757305068, 0.6503065455095138, -0.1037762205561722, 1.5796280422577185, 0.24683397628064682, -0.19632846361111042, -1.659879956912887, -0.7362869487055028, 0.696560945958403, 0.35011393191088397, -0.22294636893507996, -0.4490245617166439, -0.03413210591976646, 0.3813225689164726, -0.06804276535356155, -1.017866017986653, -0.48305879639553495, -0.8421918238373384, 0.09428074990969793, -0.3709780159244891, -2.4496465657011495, 1.0103436605626173, 1.246075620844197, 1.1997700774819116, 1.594497731670918, -0.22731603166056338, 0.6569588970958761, 0.09856549719926379, -0.8922698305611144, -0.9138306160664806, 0.5356427374304688, -0.287939493916266, -0.21742881701656078, -0.8522247181710058, -0.5253701618708698, 1.5428396249131306, 0.3411566218250933, 0.49922207449863165, 1.323964658717949, -1.3824171121263014, 0.9701483427037748, 0.4401818048772333, 1.3076536066443993, 2.355220713044908, 0.3330440295546341, -0.24749042740682606, 1.4700037958120582, 0.5275901521486961, 0.2318440908726942, 0.830445816962907, -0.5513743588021469, -0.20295015318623347, -0.836131924104717, -0.7937607157928708, 1.3319788440982268, -1.047455664669664, 1.0156429726730842, 0.07046136873997877, -1.1429664531146777, -0.8423125200880234, -1.7088559269805108, 0.23054946399192716, 1.2853740970875533, 0.7466025932529883, 1.5283495573924988, -0.0008903010811767334, -0.5698892720745149, -1.7421401214515508, -0.4387436019528569, 0.8418373255406498, -0.9637173207896174, 2.117703825261018, 0.9834391674180394, 0.3674088194285618, 1.5588053824031243, 0.2811852508479091, -1.7212704314648224, 1.0067873970433072], \"y\": [2.4959431719015757, 0.9276577510015102, 1.0050336280819714, -1.3414197951503666, 0.8746494229204337, 1.540503680338683, 0.36341469733085086, 0.2725456247333992, 1.8256614150093526, 0.4156453561321367, 1.4259125348996546, 0.5946871352044677, -0.996617192940703, -1.7343975620344267, 1.2605362115718608, 0.7792065667383924, -0.598165859683212, 0.3141166478645829, 2.028966264269778, -0.29196792479850614, 0.18451884374077343, 0.8624614728842477, 0.3480036276243098, 0.9367617347955924, 0.029764440610968956, 0.43061141935071345, -0.4186082014870178, -1.7469339996527733, -0.6344513661954309, 1.3582828527644264, -0.17399511524737038, 0.2331979361358069, -0.5836430876609441, -0.5091931531527603, -1.8430549827322322, 0.37972796141810045, -1.3500784339650678, -0.45771898539282563, 1.2708557850766116, -0.5777786253036234, -1.2136208429910493, 0.15180784778636058, 0.2518712007834114, 0.08812308785230992, -1.2262731538059652, -0.5228326084951959, 0.19439384594219133, -0.9677730140765817, 0.557013465619875, -2.6221107321614343, 0.34155621542304865, -1.0928749241983184, 1.39021765404278, -1.098393256437507, 1.365337542457722, -0.5707302449812107, -1.2005965785299708, -1.3298935269144292, -0.9460922681345796, -2.4804821303330415, 0.2794024307283462, -0.2128762900828223, -1.3961752300117987, -0.6975097022746658, 0.7203967384329273, 0.29590483041240295, 0.8214083566509665, -1.6138757379035886, 0.48213257156387984, -0.31657725802601844, 1.0036338052593803, -0.10501177153419351, -0.8632321261513736, 0.8360545538876548, 0.6452586861239282, -0.2313606912932169, 0.15547924818340117, 1.0450768088182119, -1.4390022209407076, 0.13533822747627927, -0.5688684967823189, -1.8417192752743694, -1.2450741247080495, 0.1405813522908807, -0.041901845147847776, -0.3785270769658319, -1.0026510762222551, 0.7792789540191182, -1.3267008036468066, -0.9617055507968908, 3.3011836296868546, -0.5845028743081897, -0.38304968847196313, -1.2753623714544455, -1.0490741676789088, -0.007588023951681576, 1.2022958402644337, 1.2222414150527166, -1.1693910600131703, -1.01440354370347]}],                        {\"legend\": {\"bgcolor\": \"#F5F6F9\", \"font\": {\"color\": \"#4D5663\"}}, \"paper_bgcolor\": \"#F5F6F9\", \"plot_bgcolor\": \"#F5F6F9\", \"template\": {\"data\": {\"bar\": [{\"error_x\": {\"color\": \"#2a3f5f\"}, \"error_y\": {\"color\": \"#2a3f5f\"}, \"marker\": {\"line\": {\"color\": \"#E5ECF6\", \"width\": 0.5}}, \"type\": \"bar\"}], \"barpolar\": [{\"marker\": {\"line\": {\"color\": \"#E5ECF6\", \"width\": 0.5}}, \"type\": \"barpolar\"}], \"carpet\": [{\"aaxis\": {\"endlinecolor\": \"#2a3f5f\", \"gridcolor\": \"white\", \"linecolor\": \"white\", \"minorgridcolor\": \"white\", \"startlinecolor\": \"#2a3f5f\"}, \"baxis\": {\"endlinecolor\": \"#2a3f5f\", \"gridcolor\": \"white\", \"linecolor\": \"white\", \"minorgridcolor\": \"white\", \"startlinecolor\": \"#2a3f5f\"}, \"type\": \"carpet\"}], \"choropleth\": [{\"colorbar\": {\"outlinewidth\": 0, \"ticks\": \"\"}, \"type\": \"choropleth\"}], \"contour\": [{\"colorbar\": {\"outlinewidth\": 0, \"ticks\": \"\"}, \"colorscale\": [[0.0, \"#0d0887\"], [0.1111111111111111, \"#46039f\"], [0.2222222222222222, \"#7201a8\"], [0.3333333333333333, \"#9c179e\"], [0.4444444444444444, \"#bd3786\"], [0.5555555555555556, \"#d8576b\"], [0.6666666666666666, \"#ed7953\"], [0.7777777777777778, \"#fb9f3a\"], [0.8888888888888888, \"#fdca26\"], [1.0, \"#f0f921\"]], \"type\": \"contour\"}], \"contourcarpet\": [{\"colorbar\": {\"outlinewidth\": 0, \"ticks\": \"\"}, \"type\": \"contourcarpet\"}], \"heatmap\": [{\"colorbar\": {\"outlinewidth\": 0, \"ticks\": \"\"}, \"colorscale\": [[0.0, \"#0d0887\"], [0.1111111111111111, \"#46039f\"], [0.2222222222222222, \"#7201a8\"], [0.3333333333333333, \"#9c179e\"], [0.4444444444444444, \"#bd3786\"], [0.5555555555555556, \"#d8576b\"], [0.6666666666666666, \"#ed7953\"], [0.7777777777777778, \"#fb9f3a\"], [0.8888888888888888, \"#fdca26\"], [1.0, \"#f0f921\"]], \"type\": \"heatmap\"}], \"heatmapgl\": [{\"colorbar\": {\"outlinewidth\": 0, \"ticks\": \"\"}, \"colorscale\": [[0.0, \"#0d0887\"], [0.1111111111111111, \"#46039f\"], [0.2222222222222222, \"#7201a8\"], [0.3333333333333333, \"#9c179e\"], [0.4444444444444444, \"#bd3786\"], [0.5555555555555556, \"#d8576b\"], [0.6666666666666666, \"#ed7953\"], [0.7777777777777778, \"#fb9f3a\"], [0.8888888888888888, \"#fdca26\"], [1.0, \"#f0f921\"]], \"type\": \"heatmapgl\"}], \"histogram\": [{\"marker\": {\"colorbar\": {\"outlinewidth\": 0, \"ticks\": \"\"}}, \"type\": \"histogram\"}], \"histogram2d\": [{\"colorbar\": {\"outlinewidth\": 0, \"ticks\": \"\"}, \"colorscale\": [[0.0, \"#0d0887\"], [0.1111111111111111, \"#46039f\"], [0.2222222222222222, \"#7201a8\"], [0.3333333333333333, \"#9c179e\"], [0.4444444444444444, \"#bd3786\"], [0.5555555555555556, \"#d8576b\"], [0.6666666666666666, \"#ed7953\"], [0.7777777777777778, \"#fb9f3a\"], [0.8888888888888888, \"#fdca26\"], [1.0, \"#f0f921\"]], \"type\": \"histogram2d\"}], \"histogram2dcontour\": [{\"colorbar\": {\"outlinewidth\": 0, \"ticks\": \"\"}, \"colorscale\": [[0.0, \"#0d0887\"], [0.1111111111111111, \"#46039f\"], [0.2222222222222222, \"#7201a8\"], [0.3333333333333333, \"#9c179e\"], [0.4444444444444444, \"#bd3786\"], [0.5555555555555556, \"#d8576b\"], [0.6666666666666666, \"#ed7953\"], [0.7777777777777778, \"#fb9f3a\"], [0.8888888888888888, \"#fdca26\"], [1.0, \"#f0f921\"]], \"type\": \"histogram2dcontour\"}], \"mesh3d\": [{\"colorbar\": {\"outlinewidth\": 0, \"ticks\": \"\"}, \"type\": \"mesh3d\"}], \"parcoords\": [{\"line\": {\"colorbar\": {\"outlinewidth\": 0, \"ticks\": \"\"}}, \"type\": \"parcoords\"}], \"pie\": [{\"automargin\": true, \"type\": \"pie\"}], \"scatter\": [{\"marker\": {\"colorbar\": {\"outlinewidth\": 0, \"ticks\": \"\"}}, \"type\": \"scatter\"}], \"scatter3d\": [{\"line\": {\"colorbar\": {\"outlinewidth\": 0, \"ticks\": \"\"}}, \"marker\": {\"colorbar\": {\"outlinewidth\": 0, \"ticks\": \"\"}}, \"type\": \"scatter3d\"}], \"scattercarpet\": [{\"marker\": {\"colorbar\": {\"outlinewidth\": 0, \"ticks\": \"\"}}, \"type\": \"scattercarpet\"}], \"scattergeo\": [{\"marker\": {\"colorbar\": {\"outlinewidth\": 0, \"ticks\": \"\"}}, \"type\": \"scattergeo\"}], \"scattergl\": [{\"marker\": {\"colorbar\": {\"outlinewidth\": 0, \"ticks\": \"\"}}, \"type\": \"scattergl\"}], \"scattermapbox\": [{\"marker\": {\"colorbar\": {\"outlinewidth\": 0, \"ticks\": \"\"}}, \"type\": \"scattermapbox\"}], \"scatterpolar\": [{\"marker\": {\"colorbar\": {\"outlinewidth\": 0, \"ticks\": \"\"}}, \"type\": \"scatterpolar\"}], \"scatterpolargl\": [{\"marker\": {\"colorbar\": {\"outlinewidth\": 0, \"ticks\": \"\"}}, \"type\": \"scatterpolargl\"}], \"scatterternary\": [{\"marker\": {\"colorbar\": {\"outlinewidth\": 0, \"ticks\": \"\"}}, \"type\": \"scatterternary\"}], \"surface\": [{\"colorbar\": {\"outlinewidth\": 0, \"ticks\": \"\"}, \"colorscale\": [[0.0, \"#0d0887\"], [0.1111111111111111, \"#46039f\"], [0.2222222222222222, \"#7201a8\"], [0.3333333333333333, \"#9c179e\"], [0.4444444444444444, \"#bd3786\"], [0.5555555555555556, \"#d8576b\"], [0.6666666666666666, \"#ed7953\"], [0.7777777777777778, \"#fb9f3a\"], [0.8888888888888888, \"#fdca26\"], [1.0, \"#f0f921\"]], \"type\": \"surface\"}], \"table\": [{\"cells\": {\"fill\": {\"color\": \"#EBF0F8\"}, \"line\": {\"color\": \"white\"}}, \"header\": {\"fill\": {\"color\": \"#C8D4E3\"}, \"line\": {\"color\": \"white\"}}, \"type\": \"table\"}]}, \"layout\": {\"annotationdefaults\": {\"arrowcolor\": \"#2a3f5f\", \"arrowhead\": 0, \"arrowwidth\": 1}, \"autotypenumbers\": \"strict\", \"coloraxis\": {\"colorbar\": {\"outlinewidth\": 0, \"ticks\": \"\"}}, \"colorscale\": {\"diverging\": [[0, \"#8e0152\"], [0.1, \"#c51b7d\"], [0.2, \"#de77ae\"], [0.3, \"#f1b6da\"], [0.4, \"#fde0ef\"], [0.5, \"#f7f7f7\"], [0.6, \"#e6f5d0\"], [0.7, \"#b8e186\"], [0.8, \"#7fbc41\"], [0.9, \"#4d9221\"], [1, \"#276419\"]], \"sequential\": [[0.0, \"#0d0887\"], [0.1111111111111111, \"#46039f\"], [0.2222222222222222, \"#7201a8\"], [0.3333333333333333, \"#9c179e\"], [0.4444444444444444, \"#bd3786\"], [0.5555555555555556, \"#d8576b\"], [0.6666666666666666, \"#ed7953\"], [0.7777777777777778, \"#fb9f3a\"], [0.8888888888888888, \"#fdca26\"], [1.0, \"#f0f921\"]], \"sequentialminus\": [[0.0, \"#0d0887\"], [0.1111111111111111, \"#46039f\"], [0.2222222222222222, \"#7201a8\"], [0.3333333333333333, \"#9c179e\"], [0.4444444444444444, \"#bd3786\"], [0.5555555555555556, \"#d8576b\"], [0.6666666666666666, \"#ed7953\"], [0.7777777777777778, \"#fb9f3a\"], [0.8888888888888888, \"#fdca26\"], [1.0, \"#f0f921\"]]}, \"colorway\": [\"#636efa\", \"#EF553B\", \"#00cc96\", \"#ab63fa\", \"#FFA15A\", \"#19d3f3\", \"#FF6692\", \"#B6E880\", \"#FF97FF\", \"#FECB52\"], \"font\": {\"color\": \"#2a3f5f\"}, \"geo\": {\"bgcolor\": \"white\", \"lakecolor\": \"white\", \"landcolor\": \"#E5ECF6\", \"showlakes\": true, \"showland\": true, \"subunitcolor\": \"white\"}, \"hoverlabel\": {\"align\": \"left\"}, \"hovermode\": \"closest\", \"mapbox\": {\"style\": \"light\"}, \"paper_bgcolor\": \"white\", \"plot_bgcolor\": \"#E5ECF6\", \"polar\": {\"angularaxis\": {\"gridcolor\": \"white\", \"linecolor\": \"white\", \"ticks\": \"\"}, \"bgcolor\": \"#E5ECF6\", \"radialaxis\": {\"gridcolor\": \"white\", \"linecolor\": \"white\", \"ticks\": \"\"}}, \"scene\": {\"xaxis\": {\"backgroundcolor\": \"#E5ECF6\", \"gridcolor\": \"white\", \"gridwidth\": 2, \"linecolor\": \"white\", \"showbackground\": true, \"ticks\": \"\", \"zerolinecolor\": \"white\"}, \"yaxis\": {\"backgroundcolor\": \"#E5ECF6\", \"gridcolor\": \"white\", \"gridwidth\": 2, \"linecolor\": \"white\", \"showbackground\": true, \"ticks\": \"\", \"zerolinecolor\": \"white\"}, \"zaxis\": {\"backgroundcolor\": \"#E5ECF6\", \"gridcolor\": \"white\", \"gridwidth\": 2, \"linecolor\": \"white\", \"showbackground\": true, \"ticks\": \"\", \"zerolinecolor\": \"white\"}}, \"shapedefaults\": {\"line\": {\"color\": \"#2a3f5f\"}}, \"ternary\": {\"aaxis\": {\"gridcolor\": \"white\", \"linecolor\": \"white\", \"ticks\": \"\"}, \"baxis\": {\"gridcolor\": \"white\", \"linecolor\": \"white\", \"ticks\": \"\"}, \"bgcolor\": \"#E5ECF6\", \"caxis\": {\"gridcolor\": \"white\", \"linecolor\": \"white\", \"ticks\": \"\"}}, \"title\": {\"x\": 0.05}, \"xaxis\": {\"automargin\": true, \"gridcolor\": \"white\", \"linecolor\": \"white\", \"ticks\": \"\", \"title\": {\"standoff\": 15}, \"zerolinecolor\": \"white\", \"zerolinewidth\": 2}, \"yaxis\": {\"automargin\": true, \"gridcolor\": \"white\", \"linecolor\": \"white\", \"ticks\": \"\", \"title\": {\"standoff\": 15}, \"zerolinecolor\": \"white\", \"zerolinewidth\": 2}}}, \"title\": {\"font\": {\"color\": \"#4D5663\"}}, \"xaxis\": {\"gridcolor\": \"#E1E5ED\", \"showgrid\": true, \"tickfont\": {\"color\": \"#4D5663\"}, \"title\": {\"font\": {\"color\": \"#4D5663\"}, \"text\": \"\"}, \"zerolinecolor\": \"#E1E5ED\"}, \"yaxis\": {\"gridcolor\": \"#E1E5ED\", \"showgrid\": true, \"tickfont\": {\"color\": \"#4D5663\"}, \"title\": {\"font\": {\"color\": \"#4D5663\"}, \"text\": \"\"}, \"zerolinecolor\": \"#E1E5ED\"}},                        {\"showLink\": true, \"linkText\": \"Export to plot.ly\", \"plotlyServerURL\": \"https://plot.ly\", \"responsive\": true}                    ).then(function(){\n",
       "                            \n",
       "var gd = document.getElementById('53d22a96-f9e4-41b2-8d3f-3156154e2246');\n",
       "var x = new MutationObserver(function (mutations, observer) {{\n",
       "        var display = window.getComputedStyle(gd).display;\n",
       "        if (!display || display === 'none') {{\n",
       "            console.log([gd, 'removed!']);\n",
       "            Plotly.purge(gd);\n",
       "            observer.disconnect();\n",
       "        }}\n",
       "}});\n",
       "\n",
       "// Listen for the removal of the full notebook cells\n",
       "var notebookContainer = gd.closest('#notebook-container');\n",
       "if (notebookContainer) {{\n",
       "    x.observe(notebookContainer, {childList: true});\n",
       "}}\n",
       "\n",
       "// Listen for the clearing of the current output cell\n",
       "var outputEl = gd.closest('.output');\n",
       "if (outputEl) {{\n",
       "    x.observe(outputEl, {childList: true});\n",
       "}}\n",
       "\n",
       "                        })                };                });            </script>        </div>"
      ]
     },
     "metadata": {},
     "output_type": "display_data"
    }
   ],
   "source": [
    "df.iplot(kind='bubble',x='A',y='B',size='C')"
   ]
  },
  {
   "cell_type": "markdown",
   "metadata": {},
   "source": [
    "## scatter_matrix()\n",
    "\n",
    "Similar to sns.pairplot()"
   ]
  },
  {
   "cell_type": "code",
   "execution_count": 45,
   "metadata": {},
   "outputs": [
    {
     "data": {
      "application/vnd.plotly.v1+json": {
       "config": {
        "linkText": "Export to plot.ly",
        "plotlyServerURL": "https://plot.ly",
        "showLink": true
       },
       "data": [
        {
         "histfunc": "count",
         "histnorm": "",
         "marker": {
          "color": "rgba(255, 153, 51, 1.0)",
          "line": {
           "color": "#4D5663",
           "width": 1.3
          }
         },
         "name": "A",
         "nbinsx": 10,
         "opacity": 0.8,
         "orientation": "v",
         "type": "histogram",
         "x": [
          -1.5055387470969204,
          -1.5281336080932433,
          0.5475375225269746,
          -0.5011536835325386,
          -1.1342277894161847,
          -1.3421654609689813,
          1.0480587954437626,
          0.1079858186458624,
          -0.5188967289497634,
          -0.2365765719760372,
          -0.6671966901411546,
          0.4808958294390424,
          0.2543237589685781,
          0.6624634680374704,
          -1.8806637507850557,
          -1.7714952898637082,
          -0.1450552767082512,
          0.3258012317547289,
          -1.9793404774159449,
          -1.837133213610893,
          1.2048818510023436,
          -1.2146576222324894,
          0.10051316757305068,
          0.6503065455095138,
          -0.1037762205561722,
          1.5796280422577185,
          0.24683397628064682,
          -0.19632846361111042,
          -1.659879956912887,
          -0.7362869487055028,
          0.696560945958403,
          0.35011393191088397,
          -0.22294636893507996,
          -0.4490245617166439,
          -0.03413210591976646,
          0.3813225689164726,
          -0.06804276535356155,
          -1.017866017986653,
          -0.48305879639553495,
          -0.8421918238373384,
          0.09428074990969793,
          -0.3709780159244891,
          -2.4496465657011495,
          1.0103436605626173,
          1.246075620844197,
          1.1997700774819116,
          1.594497731670918,
          -0.22731603166056338,
          0.6569588970958761,
          0.09856549719926379,
          -0.8922698305611144,
          -0.9138306160664806,
          0.5356427374304688,
          -0.287939493916266,
          -0.21742881701656078,
          -0.8522247181710058,
          -0.5253701618708698,
          1.5428396249131306,
          0.3411566218250933,
          0.49922207449863165,
          1.323964658717949,
          -1.3824171121263014,
          0.9701483427037748,
          0.4401818048772333,
          1.3076536066443993,
          2.355220713044908,
          0.3330440295546341,
          -0.24749042740682606,
          1.4700037958120582,
          0.5275901521486961,
          0.2318440908726942,
          0.830445816962907,
          -0.5513743588021469,
          -0.20295015318623347,
          -0.836131924104717,
          -0.7937607157928708,
          1.3319788440982268,
          -1.047455664669664,
          1.0156429726730842,
          0.07046136873997877,
          -1.1429664531146777,
          -0.8423125200880234,
          -1.7088559269805108,
          0.23054946399192716,
          1.2853740970875533,
          0.7466025932529883,
          1.5283495573924988,
          -0.0008903010811767334,
          -0.5698892720745149,
          -1.7421401214515508,
          -0.4387436019528569,
          0.8418373255406498,
          -0.9637173207896174,
          2.117703825261018,
          0.9834391674180394,
          0.3674088194285618,
          1.5588053824031243,
          0.2811852508479091,
          -1.7212704314648224,
          1.0067873970433072
         ],
         "xaxis": "x",
         "yaxis": "y"
        },
        {
         "line": {
          "color": "rgba(128, 128, 128, 1.0)",
          "dash": "solid",
          "shape": "linear",
          "width": 1.3
         },
         "marker": {
          "size": 2,
          "symbol": "circle"
         },
         "mode": "markers",
         "name": "A",
         "text": "",
         "type": "scatter",
         "x": [
          2.4959431719015757,
          0.9276577510015102,
          1.0050336280819714,
          -1.3414197951503666,
          0.8746494229204337,
          1.540503680338683,
          0.36341469733085086,
          0.2725456247333992,
          1.8256614150093526,
          0.4156453561321367,
          1.4259125348996546,
          0.5946871352044677,
          -0.996617192940703,
          -1.7343975620344267,
          1.2605362115718608,
          0.7792065667383924,
          -0.598165859683212,
          0.3141166478645829,
          2.028966264269778,
          -0.29196792479850614,
          0.18451884374077343,
          0.8624614728842477,
          0.3480036276243098,
          0.9367617347955924,
          0.029764440610968956,
          0.43061141935071345,
          -0.4186082014870178,
          -1.7469339996527733,
          -0.6344513661954309,
          1.3582828527644264,
          -0.17399511524737038,
          0.2331979361358069,
          -0.5836430876609441,
          -0.5091931531527603,
          -1.8430549827322322,
          0.37972796141810045,
          -1.3500784339650678,
          -0.45771898539282563,
          1.2708557850766116,
          -0.5777786253036234,
          -1.2136208429910493,
          0.15180784778636058,
          0.2518712007834114,
          0.08812308785230992,
          -1.2262731538059652,
          -0.5228326084951959,
          0.19439384594219133,
          -0.9677730140765817,
          0.557013465619875,
          -2.6221107321614343,
          0.34155621542304865,
          -1.0928749241983184,
          1.39021765404278,
          -1.098393256437507,
          1.365337542457722,
          -0.5707302449812107,
          -1.2005965785299708,
          -1.3298935269144292,
          -0.9460922681345796,
          -2.4804821303330415,
          0.2794024307283462,
          -0.2128762900828223,
          -1.3961752300117987,
          -0.6975097022746658,
          0.7203967384329273,
          0.29590483041240295,
          0.8214083566509665,
          -1.6138757379035886,
          0.48213257156387984,
          -0.31657725802601844,
          1.0036338052593803,
          -0.10501177153419351,
          -0.8632321261513736,
          0.8360545538876548,
          0.6452586861239282,
          -0.2313606912932169,
          0.15547924818340117,
          1.0450768088182119,
          -1.4390022209407076,
          0.13533822747627927,
          -0.5688684967823189,
          -1.8417192752743694,
          -1.2450741247080495,
          0.1405813522908807,
          -0.041901845147847776,
          -0.3785270769658319,
          -1.0026510762222551,
          0.7792789540191182,
          -1.3267008036468066,
          -0.9617055507968908,
          3.3011836296868546,
          -0.5845028743081897,
          -0.38304968847196313,
          -1.2753623714544455,
          -1.0490741676789088,
          -0.007588023951681576,
          1.2022958402644337,
          1.2222414150527166,
          -1.1693910600131703,
          -1.01440354370347
         ],
         "xaxis": "x2",
         "y": [
          -1.5055387470969204,
          -1.5281336080932433,
          0.5475375225269746,
          -0.5011536835325386,
          -1.1342277894161847,
          -1.3421654609689813,
          1.0480587954437626,
          0.1079858186458624,
          -0.5188967289497634,
          -0.2365765719760372,
          -0.6671966901411546,
          0.4808958294390424,
          0.2543237589685781,
          0.6624634680374704,
          -1.8806637507850557,
          -1.7714952898637082,
          -0.1450552767082512,
          0.3258012317547289,
          -1.9793404774159449,
          -1.837133213610893,
          1.2048818510023436,
          -1.2146576222324894,
          0.10051316757305068,
          0.6503065455095138,
          -0.1037762205561722,
          1.5796280422577185,
          0.24683397628064682,
          -0.19632846361111042,
          -1.659879956912887,
          -0.7362869487055028,
          0.696560945958403,
          0.35011393191088397,
          -0.22294636893507996,
          -0.4490245617166439,
          -0.03413210591976646,
          0.3813225689164726,
          -0.06804276535356155,
          -1.017866017986653,
          -0.48305879639553495,
          -0.8421918238373384,
          0.09428074990969793,
          -0.3709780159244891,
          -2.4496465657011495,
          1.0103436605626173,
          1.246075620844197,
          1.1997700774819116,
          1.594497731670918,
          -0.22731603166056338,
          0.6569588970958761,
          0.09856549719926379,
          -0.8922698305611144,
          -0.9138306160664806,
          0.5356427374304688,
          -0.287939493916266,
          -0.21742881701656078,
          -0.8522247181710058,
          -0.5253701618708698,
          1.5428396249131306,
          0.3411566218250933,
          0.49922207449863165,
          1.323964658717949,
          -1.3824171121263014,
          0.9701483427037748,
          0.4401818048772333,
          1.3076536066443993,
          2.355220713044908,
          0.3330440295546341,
          -0.24749042740682606,
          1.4700037958120582,
          0.5275901521486961,
          0.2318440908726942,
          0.830445816962907,
          -0.5513743588021469,
          -0.20295015318623347,
          -0.836131924104717,
          -0.7937607157928708,
          1.3319788440982268,
          -1.047455664669664,
          1.0156429726730842,
          0.07046136873997877,
          -1.1429664531146777,
          -0.8423125200880234,
          -1.7088559269805108,
          0.23054946399192716,
          1.2853740970875533,
          0.7466025932529883,
          1.5283495573924988,
          -0.0008903010811767334,
          -0.5698892720745149,
          -1.7421401214515508,
          -0.4387436019528569,
          0.8418373255406498,
          -0.9637173207896174,
          2.117703825261018,
          0.9834391674180394,
          0.3674088194285618,
          1.5588053824031243,
          0.2811852508479091,
          -1.7212704314648224,
          1.0067873970433072
         ],
         "yaxis": "y2"
        },
        {
         "line": {
          "color": "rgba(128, 128, 128, 1.0)",
          "dash": "solid",
          "shape": "linear",
          "width": 1.3
         },
         "marker": {
          "size": 2,
          "symbol": "circle"
         },
         "mode": "markers",
         "name": "A",
         "text": "",
         "type": "scatter",
         "x": [
          -0.6070843931902513,
          -1.550186819501212,
          0.07402175255024296,
          -1.6727597423365705,
          -1.7747583910034577,
          1.6732586491150208,
          1.572907449863755,
          -1.0191918459583762,
          0.06657805559187664,
          0.7518875748356615,
          1.0120311989247777,
          -0.8060283145444608,
          1.2594634131257534,
          1.9374402607782335,
          1.072469596698813,
          -1.4463161029473193,
          -0.15089134345347371,
          0.42924780813602254,
          0.6716929415150239,
          0.32314783000657255,
          -1.61098367979105,
          -0.4983536365895974,
          0.5857687814656891,
          2.4738702248773934,
          -0.46138399542897146,
          0.5036695851862864,
          1.0208569116710664,
          -1.2481419559669107,
          0.026930185314432985,
          -0.09034917282227793,
          0.24432044667313244,
          0.6537224009803874,
          0.5840885998430435,
          1.4419767145061206,
          -1.0512763706505548,
          1.1312767057127755,
          0.10915542272810211,
          -1.2955116067749746,
          -0.9706199188825938,
          0.6512076494462121,
          -0.36388879961990955,
          0.901691909436344,
          0.4079594285015438,
          0.4083784834049719,
          -1.4933555603059998,
          -1.573303695616015,
          2.164698369254346,
          1.9074618965849457,
          -0.7772845518413163,
          1.6644264981223373,
          -1.0463790562939157,
          -2.3567897108046636,
          0.3883146524218016,
          0.3138141917212112,
          -0.9660551820291213,
          1.7685355619984595,
          -1.1084210884662882,
          -0.9075600940794092,
          0.8334447578197528,
          -2.303731027787879,
          0.39538182036684477,
          -1.029199368076163,
          -0.5010158542558378,
          0.36151214906204815,
          -0.5091598678643701,
          0.012475759687603068,
          -1.101934077076176,
          0.3241367604735915,
          -0.15723716886990896,
          0.4936107108268825,
          0.6499376290725292,
          0.02031196522300759,
          0.17801436846090046,
          0.7374790308271773,
          0.2556650013608954,
          -0.22283530056353568,
          -0.9596373189035621,
          -0.14892666331915166,
          0.4582495251756337,
          0.06890368932967741,
          0.2098710302373936,
          -1.140949211625298,
          0.028010944948761853,
          -0.23580184923574032,
          -0.40273086213325493,
          0.7014179306786912,
          1.6235495508883768,
          -0.15022748598169697,
          -1.4477694102528924,
          -0.5981083445043424,
          -0.8673835479843751,
          0.017651431172649803,
          0.6494504217660723,
          -0.39637994067722565,
          -0.1136461956080303,
          0.3055887053481512,
          -0.9830675683189555,
          -1.6248149695970981,
          0.024839958867038266,
          -0.4928344424178749
         ],
         "xaxis": "x3",
         "y": [
          -1.5055387470969204,
          -1.5281336080932433,
          0.5475375225269746,
          -0.5011536835325386,
          -1.1342277894161847,
          -1.3421654609689813,
          1.0480587954437626,
          0.1079858186458624,
          -0.5188967289497634,
          -0.2365765719760372,
          -0.6671966901411546,
          0.4808958294390424,
          0.2543237589685781,
          0.6624634680374704,
          -1.8806637507850557,
          -1.7714952898637082,
          -0.1450552767082512,
          0.3258012317547289,
          -1.9793404774159449,
          -1.837133213610893,
          1.2048818510023436,
          -1.2146576222324894,
          0.10051316757305068,
          0.6503065455095138,
          -0.1037762205561722,
          1.5796280422577185,
          0.24683397628064682,
          -0.19632846361111042,
          -1.659879956912887,
          -0.7362869487055028,
          0.696560945958403,
          0.35011393191088397,
          -0.22294636893507996,
          -0.4490245617166439,
          -0.03413210591976646,
          0.3813225689164726,
          -0.06804276535356155,
          -1.017866017986653,
          -0.48305879639553495,
          -0.8421918238373384,
          0.09428074990969793,
          -0.3709780159244891,
          -2.4496465657011495,
          1.0103436605626173,
          1.246075620844197,
          1.1997700774819116,
          1.594497731670918,
          -0.22731603166056338,
          0.6569588970958761,
          0.09856549719926379,
          -0.8922698305611144,
          -0.9138306160664806,
          0.5356427374304688,
          -0.287939493916266,
          -0.21742881701656078,
          -0.8522247181710058,
          -0.5253701618708698,
          1.5428396249131306,
          0.3411566218250933,
          0.49922207449863165,
          1.323964658717949,
          -1.3824171121263014,
          0.9701483427037748,
          0.4401818048772333,
          1.3076536066443993,
          2.355220713044908,
          0.3330440295546341,
          -0.24749042740682606,
          1.4700037958120582,
          0.5275901521486961,
          0.2318440908726942,
          0.830445816962907,
          -0.5513743588021469,
          -0.20295015318623347,
          -0.836131924104717,
          -0.7937607157928708,
          1.3319788440982268,
          -1.047455664669664,
          1.0156429726730842,
          0.07046136873997877,
          -1.1429664531146777,
          -0.8423125200880234,
          -1.7088559269805108,
          0.23054946399192716,
          1.2853740970875533,
          0.7466025932529883,
          1.5283495573924988,
          -0.0008903010811767334,
          -0.5698892720745149,
          -1.7421401214515508,
          -0.4387436019528569,
          0.8418373255406498,
          -0.9637173207896174,
          2.117703825261018,
          0.9834391674180394,
          0.3674088194285618,
          1.5588053824031243,
          0.2811852508479091,
          -1.7212704314648224,
          1.0067873970433072
         ],
         "yaxis": "y3"
        },
        {
         "line": {
          "color": "rgba(128, 128, 128, 1.0)",
          "dash": "solid",
          "shape": "linear",
          "width": 1.3
         },
         "marker": {
          "size": 2,
          "symbol": "circle"
         },
         "mode": "markers",
         "name": "A",
         "text": "",
         "type": "scatter",
         "x": [
          -0.28576517870678514,
          0.2952403250343437,
          0.7191803693698858,
          1.3756994320304368,
          -0.7739026281447616,
          -0.3750850239030581,
          1.0724380226632415,
          -0.958875569717978,
          -0.1437109871411821,
          1.517751015254013,
          0.3976160958187145,
          0.027066180006063405,
          0.1873537323051807,
          -1.4328145974330802,
          0.9011575568144171,
          0.05414923942336671,
          -1.2320439954383886,
          0.2857752972004397,
          1.0847200261606957,
          0.6904127393702959,
          1.6013090687066236,
          0.745391125754057,
          0.3092282047918577,
          0.12851303815475068,
          0.07286120510039872,
          0.8701079915926673,
          -1.1671742749899363,
          -0.8066298265655404,
          0.6894543856686854,
          0.30417605364579775,
          2.1033271361543875,
          -0.6159709057979542,
          0.2943353572964051,
          0.2757627158931991,
          0.06682034721256952,
          -0.6680633568610859,
          0.5495712858733507,
          0.746361695210706,
          0.21574054184511707,
          -1.4800708198894106,
          0.23936984673278713,
          0.21067285546175818,
          -0.49250746657804684,
          0.5002169985650018,
          0.39659686438909386,
          -0.999232801989697,
          -0.25042492925072546,
          -1.2474258020413058,
          1.419631310862581,
          0.20758270000654724,
          -0.4162145180293298,
          -0.1232996862225204,
          -1.2305583511161229,
          -0.5848479983667825,
          -1.189267459024485,
          -0.3371647224447984,
          0.6663114115090681,
          -1.5988754768656614,
          0.13961548226013815,
          -0.41366803202121716,
          0.7789435474742897,
          0.5730007203063938,
          -1.4921513665207469,
          -0.8656919297289787,
          -1.916966904016963,
          -1.5112066392987253,
          -1.139731780975787,
          1.6496484274025918,
          -0.9114562919705926,
          1.7088040926110988,
          0.8106893360917262,
          -1.5019697945067845,
          0.12492900643115513,
          -0.5881388326874711,
          -0.5554522859164184,
          -0.5914883401393713,
          -0.3804979423428619,
          0.002850160796405025,
          -0.8273100246545217,
          1.315704561474466,
          -0.6401121587201171,
          1.2386424119370028,
          0.15996201094139392,
          -2.305501712981525,
          0.39551399720275215,
          1.5843663021362573,
          -0.7352121347078673,
          1.4883193252411961,
          -0.22751700304547093,
          -1.492653335824817,
          -0.43778352764558337,
          -0.45599357032424565,
          -0.011917372625794538,
          1.2517732000031179,
          -1.0252022173959074,
          -0.6057589830332419,
          0.13930718974140305,
          -0.328796158203867,
          0.3947410749795082,
          -0.2333185414774946
         ],
         "xaxis": "x4",
         "y": [
          -1.5055387470969204,
          -1.5281336080932433,
          0.5475375225269746,
          -0.5011536835325386,
          -1.1342277894161847,
          -1.3421654609689813,
          1.0480587954437626,
          0.1079858186458624,
          -0.5188967289497634,
          -0.2365765719760372,
          -0.6671966901411546,
          0.4808958294390424,
          0.2543237589685781,
          0.6624634680374704,
          -1.8806637507850557,
          -1.7714952898637082,
          -0.1450552767082512,
          0.3258012317547289,
          -1.9793404774159449,
          -1.837133213610893,
          1.2048818510023436,
          -1.2146576222324894,
          0.10051316757305068,
          0.6503065455095138,
          -0.1037762205561722,
          1.5796280422577185,
          0.24683397628064682,
          -0.19632846361111042,
          -1.659879956912887,
          -0.7362869487055028,
          0.696560945958403,
          0.35011393191088397,
          -0.22294636893507996,
          -0.4490245617166439,
          -0.03413210591976646,
          0.3813225689164726,
          -0.06804276535356155,
          -1.017866017986653,
          -0.48305879639553495,
          -0.8421918238373384,
          0.09428074990969793,
          -0.3709780159244891,
          -2.4496465657011495,
          1.0103436605626173,
          1.246075620844197,
          1.1997700774819116,
          1.594497731670918,
          -0.22731603166056338,
          0.6569588970958761,
          0.09856549719926379,
          -0.8922698305611144,
          -0.9138306160664806,
          0.5356427374304688,
          -0.287939493916266,
          -0.21742881701656078,
          -0.8522247181710058,
          -0.5253701618708698,
          1.5428396249131306,
          0.3411566218250933,
          0.49922207449863165,
          1.323964658717949,
          -1.3824171121263014,
          0.9701483427037748,
          0.4401818048772333,
          1.3076536066443993,
          2.355220713044908,
          0.3330440295546341,
          -0.24749042740682606,
          1.4700037958120582,
          0.5275901521486961,
          0.2318440908726942,
          0.830445816962907,
          -0.5513743588021469,
          -0.20295015318623347,
          -0.836131924104717,
          -0.7937607157928708,
          1.3319788440982268,
          -1.047455664669664,
          1.0156429726730842,
          0.07046136873997877,
          -1.1429664531146777,
          -0.8423125200880234,
          -1.7088559269805108,
          0.23054946399192716,
          1.2853740970875533,
          0.7466025932529883,
          1.5283495573924988,
          -0.0008903010811767334,
          -0.5698892720745149,
          -1.7421401214515508,
          -0.4387436019528569,
          0.8418373255406498,
          -0.9637173207896174,
          2.117703825261018,
          0.9834391674180394,
          0.3674088194285618,
          1.5588053824031243,
          0.2811852508479091,
          -1.7212704314648224,
          1.0067873970433072
         ],
         "yaxis": "y4"
        },
        {
         "line": {
          "color": "rgba(128, 128, 128, 1.0)",
          "dash": "solid",
          "shape": "linear",
          "width": 1.3
         },
         "marker": {
          "size": 2,
          "symbol": "circle"
         },
         "mode": "markers",
         "name": "B",
         "text": "",
         "type": "scatter",
         "x": [
          -1.5055387470969204,
          -1.5281336080932433,
          0.5475375225269746,
          -0.5011536835325386,
          -1.1342277894161847,
          -1.3421654609689813,
          1.0480587954437626,
          0.1079858186458624,
          -0.5188967289497634,
          -0.2365765719760372,
          -0.6671966901411546,
          0.4808958294390424,
          0.2543237589685781,
          0.6624634680374704,
          -1.8806637507850557,
          -1.7714952898637082,
          -0.1450552767082512,
          0.3258012317547289,
          -1.9793404774159449,
          -1.837133213610893,
          1.2048818510023436,
          -1.2146576222324894,
          0.10051316757305068,
          0.6503065455095138,
          -0.1037762205561722,
          1.5796280422577185,
          0.24683397628064682,
          -0.19632846361111042,
          -1.659879956912887,
          -0.7362869487055028,
          0.696560945958403,
          0.35011393191088397,
          -0.22294636893507996,
          -0.4490245617166439,
          -0.03413210591976646,
          0.3813225689164726,
          -0.06804276535356155,
          -1.017866017986653,
          -0.48305879639553495,
          -0.8421918238373384,
          0.09428074990969793,
          -0.3709780159244891,
          -2.4496465657011495,
          1.0103436605626173,
          1.246075620844197,
          1.1997700774819116,
          1.594497731670918,
          -0.22731603166056338,
          0.6569588970958761,
          0.09856549719926379,
          -0.8922698305611144,
          -0.9138306160664806,
          0.5356427374304688,
          -0.287939493916266,
          -0.21742881701656078,
          -0.8522247181710058,
          -0.5253701618708698,
          1.5428396249131306,
          0.3411566218250933,
          0.49922207449863165,
          1.323964658717949,
          -1.3824171121263014,
          0.9701483427037748,
          0.4401818048772333,
          1.3076536066443993,
          2.355220713044908,
          0.3330440295546341,
          -0.24749042740682606,
          1.4700037958120582,
          0.5275901521486961,
          0.2318440908726942,
          0.830445816962907,
          -0.5513743588021469,
          -0.20295015318623347,
          -0.836131924104717,
          -0.7937607157928708,
          1.3319788440982268,
          -1.047455664669664,
          1.0156429726730842,
          0.07046136873997877,
          -1.1429664531146777,
          -0.8423125200880234,
          -1.7088559269805108,
          0.23054946399192716,
          1.2853740970875533,
          0.7466025932529883,
          1.5283495573924988,
          -0.0008903010811767334,
          -0.5698892720745149,
          -1.7421401214515508,
          -0.4387436019528569,
          0.8418373255406498,
          -0.9637173207896174,
          2.117703825261018,
          0.9834391674180394,
          0.3674088194285618,
          1.5588053824031243,
          0.2811852508479091,
          -1.7212704314648224,
          1.0067873970433072
         ],
         "xaxis": "x5",
         "y": [
          2.4959431719015757,
          0.9276577510015102,
          1.0050336280819714,
          -1.3414197951503666,
          0.8746494229204337,
          1.540503680338683,
          0.36341469733085086,
          0.2725456247333992,
          1.8256614150093526,
          0.4156453561321367,
          1.4259125348996546,
          0.5946871352044677,
          -0.996617192940703,
          -1.7343975620344267,
          1.2605362115718608,
          0.7792065667383924,
          -0.598165859683212,
          0.3141166478645829,
          2.028966264269778,
          -0.29196792479850614,
          0.18451884374077343,
          0.8624614728842477,
          0.3480036276243098,
          0.9367617347955924,
          0.029764440610968956,
          0.43061141935071345,
          -0.4186082014870178,
          -1.7469339996527733,
          -0.6344513661954309,
          1.3582828527644264,
          -0.17399511524737038,
          0.2331979361358069,
          -0.5836430876609441,
          -0.5091931531527603,
          -1.8430549827322322,
          0.37972796141810045,
          -1.3500784339650678,
          -0.45771898539282563,
          1.2708557850766116,
          -0.5777786253036234,
          -1.2136208429910493,
          0.15180784778636058,
          0.2518712007834114,
          0.08812308785230992,
          -1.2262731538059652,
          -0.5228326084951959,
          0.19439384594219133,
          -0.9677730140765817,
          0.557013465619875,
          -2.6221107321614343,
          0.34155621542304865,
          -1.0928749241983184,
          1.39021765404278,
          -1.098393256437507,
          1.365337542457722,
          -0.5707302449812107,
          -1.2005965785299708,
          -1.3298935269144292,
          -0.9460922681345796,
          -2.4804821303330415,
          0.2794024307283462,
          -0.2128762900828223,
          -1.3961752300117987,
          -0.6975097022746658,
          0.7203967384329273,
          0.29590483041240295,
          0.8214083566509665,
          -1.6138757379035886,
          0.48213257156387984,
          -0.31657725802601844,
          1.0036338052593803,
          -0.10501177153419351,
          -0.8632321261513736,
          0.8360545538876548,
          0.6452586861239282,
          -0.2313606912932169,
          0.15547924818340117,
          1.0450768088182119,
          -1.4390022209407076,
          0.13533822747627927,
          -0.5688684967823189,
          -1.8417192752743694,
          -1.2450741247080495,
          0.1405813522908807,
          -0.041901845147847776,
          -0.3785270769658319,
          -1.0026510762222551,
          0.7792789540191182,
          -1.3267008036468066,
          -0.9617055507968908,
          3.3011836296868546,
          -0.5845028743081897,
          -0.38304968847196313,
          -1.2753623714544455,
          -1.0490741676789088,
          -0.007588023951681576,
          1.2022958402644337,
          1.2222414150527166,
          -1.1693910600131703,
          -1.01440354370347
         ],
         "yaxis": "y5"
        },
        {
         "histfunc": "count",
         "histnorm": "",
         "marker": {
          "color": "rgba(55, 128, 191, 1.0)",
          "line": {
           "color": "#4D5663",
           "width": 1.3
          }
         },
         "name": "B",
         "nbinsx": 10,
         "opacity": 0.8,
         "orientation": "v",
         "type": "histogram",
         "x": [
          2.4959431719015757,
          0.9276577510015102,
          1.0050336280819714,
          -1.3414197951503666,
          0.8746494229204337,
          1.540503680338683,
          0.36341469733085086,
          0.2725456247333992,
          1.8256614150093526,
          0.4156453561321367,
          1.4259125348996546,
          0.5946871352044677,
          -0.996617192940703,
          -1.7343975620344267,
          1.2605362115718608,
          0.7792065667383924,
          -0.598165859683212,
          0.3141166478645829,
          2.028966264269778,
          -0.29196792479850614,
          0.18451884374077343,
          0.8624614728842477,
          0.3480036276243098,
          0.9367617347955924,
          0.029764440610968956,
          0.43061141935071345,
          -0.4186082014870178,
          -1.7469339996527733,
          -0.6344513661954309,
          1.3582828527644264,
          -0.17399511524737038,
          0.2331979361358069,
          -0.5836430876609441,
          -0.5091931531527603,
          -1.8430549827322322,
          0.37972796141810045,
          -1.3500784339650678,
          -0.45771898539282563,
          1.2708557850766116,
          -0.5777786253036234,
          -1.2136208429910493,
          0.15180784778636058,
          0.2518712007834114,
          0.08812308785230992,
          -1.2262731538059652,
          -0.5228326084951959,
          0.19439384594219133,
          -0.9677730140765817,
          0.557013465619875,
          -2.6221107321614343,
          0.34155621542304865,
          -1.0928749241983184,
          1.39021765404278,
          -1.098393256437507,
          1.365337542457722,
          -0.5707302449812107,
          -1.2005965785299708,
          -1.3298935269144292,
          -0.9460922681345796,
          -2.4804821303330415,
          0.2794024307283462,
          -0.2128762900828223,
          -1.3961752300117987,
          -0.6975097022746658,
          0.7203967384329273,
          0.29590483041240295,
          0.8214083566509665,
          -1.6138757379035886,
          0.48213257156387984,
          -0.31657725802601844,
          1.0036338052593803,
          -0.10501177153419351,
          -0.8632321261513736,
          0.8360545538876548,
          0.6452586861239282,
          -0.2313606912932169,
          0.15547924818340117,
          1.0450768088182119,
          -1.4390022209407076,
          0.13533822747627927,
          -0.5688684967823189,
          -1.8417192752743694,
          -1.2450741247080495,
          0.1405813522908807,
          -0.041901845147847776,
          -0.3785270769658319,
          -1.0026510762222551,
          0.7792789540191182,
          -1.3267008036468066,
          -0.9617055507968908,
          3.3011836296868546,
          -0.5845028743081897,
          -0.38304968847196313,
          -1.2753623714544455,
          -1.0490741676789088,
          -0.007588023951681576,
          1.2022958402644337,
          1.2222414150527166,
          -1.1693910600131703,
          -1.01440354370347
         ],
         "xaxis": "x6",
         "yaxis": "y6"
        },
        {
         "line": {
          "color": "rgba(128, 128, 128, 1.0)",
          "dash": "solid",
          "shape": "linear",
          "width": 1.3
         },
         "marker": {
          "size": 2,
          "symbol": "circle"
         },
         "mode": "markers",
         "name": "B",
         "text": "",
         "type": "scatter",
         "x": [
          -0.6070843931902513,
          -1.550186819501212,
          0.07402175255024296,
          -1.6727597423365705,
          -1.7747583910034577,
          1.6732586491150208,
          1.572907449863755,
          -1.0191918459583762,
          0.06657805559187664,
          0.7518875748356615,
          1.0120311989247777,
          -0.8060283145444608,
          1.2594634131257534,
          1.9374402607782335,
          1.072469596698813,
          -1.4463161029473193,
          -0.15089134345347371,
          0.42924780813602254,
          0.6716929415150239,
          0.32314783000657255,
          -1.61098367979105,
          -0.4983536365895974,
          0.5857687814656891,
          2.4738702248773934,
          -0.46138399542897146,
          0.5036695851862864,
          1.0208569116710664,
          -1.2481419559669107,
          0.026930185314432985,
          -0.09034917282227793,
          0.24432044667313244,
          0.6537224009803874,
          0.5840885998430435,
          1.4419767145061206,
          -1.0512763706505548,
          1.1312767057127755,
          0.10915542272810211,
          -1.2955116067749746,
          -0.9706199188825938,
          0.6512076494462121,
          -0.36388879961990955,
          0.901691909436344,
          0.4079594285015438,
          0.4083784834049719,
          -1.4933555603059998,
          -1.573303695616015,
          2.164698369254346,
          1.9074618965849457,
          -0.7772845518413163,
          1.6644264981223373,
          -1.0463790562939157,
          -2.3567897108046636,
          0.3883146524218016,
          0.3138141917212112,
          -0.9660551820291213,
          1.7685355619984595,
          -1.1084210884662882,
          -0.9075600940794092,
          0.8334447578197528,
          -2.303731027787879,
          0.39538182036684477,
          -1.029199368076163,
          -0.5010158542558378,
          0.36151214906204815,
          -0.5091598678643701,
          0.012475759687603068,
          -1.101934077076176,
          0.3241367604735915,
          -0.15723716886990896,
          0.4936107108268825,
          0.6499376290725292,
          0.02031196522300759,
          0.17801436846090046,
          0.7374790308271773,
          0.2556650013608954,
          -0.22283530056353568,
          -0.9596373189035621,
          -0.14892666331915166,
          0.4582495251756337,
          0.06890368932967741,
          0.2098710302373936,
          -1.140949211625298,
          0.028010944948761853,
          -0.23580184923574032,
          -0.40273086213325493,
          0.7014179306786912,
          1.6235495508883768,
          -0.15022748598169697,
          -1.4477694102528924,
          -0.5981083445043424,
          -0.8673835479843751,
          0.017651431172649803,
          0.6494504217660723,
          -0.39637994067722565,
          -0.1136461956080303,
          0.3055887053481512,
          -0.9830675683189555,
          -1.6248149695970981,
          0.024839958867038266,
          -0.4928344424178749
         ],
         "xaxis": "x7",
         "y": [
          2.4959431719015757,
          0.9276577510015102,
          1.0050336280819714,
          -1.3414197951503666,
          0.8746494229204337,
          1.540503680338683,
          0.36341469733085086,
          0.2725456247333992,
          1.8256614150093526,
          0.4156453561321367,
          1.4259125348996546,
          0.5946871352044677,
          -0.996617192940703,
          -1.7343975620344267,
          1.2605362115718608,
          0.7792065667383924,
          -0.598165859683212,
          0.3141166478645829,
          2.028966264269778,
          -0.29196792479850614,
          0.18451884374077343,
          0.8624614728842477,
          0.3480036276243098,
          0.9367617347955924,
          0.029764440610968956,
          0.43061141935071345,
          -0.4186082014870178,
          -1.7469339996527733,
          -0.6344513661954309,
          1.3582828527644264,
          -0.17399511524737038,
          0.2331979361358069,
          -0.5836430876609441,
          -0.5091931531527603,
          -1.8430549827322322,
          0.37972796141810045,
          -1.3500784339650678,
          -0.45771898539282563,
          1.2708557850766116,
          -0.5777786253036234,
          -1.2136208429910493,
          0.15180784778636058,
          0.2518712007834114,
          0.08812308785230992,
          -1.2262731538059652,
          -0.5228326084951959,
          0.19439384594219133,
          -0.9677730140765817,
          0.557013465619875,
          -2.6221107321614343,
          0.34155621542304865,
          -1.0928749241983184,
          1.39021765404278,
          -1.098393256437507,
          1.365337542457722,
          -0.5707302449812107,
          -1.2005965785299708,
          -1.3298935269144292,
          -0.9460922681345796,
          -2.4804821303330415,
          0.2794024307283462,
          -0.2128762900828223,
          -1.3961752300117987,
          -0.6975097022746658,
          0.7203967384329273,
          0.29590483041240295,
          0.8214083566509665,
          -1.6138757379035886,
          0.48213257156387984,
          -0.31657725802601844,
          1.0036338052593803,
          -0.10501177153419351,
          -0.8632321261513736,
          0.8360545538876548,
          0.6452586861239282,
          -0.2313606912932169,
          0.15547924818340117,
          1.0450768088182119,
          -1.4390022209407076,
          0.13533822747627927,
          -0.5688684967823189,
          -1.8417192752743694,
          -1.2450741247080495,
          0.1405813522908807,
          -0.041901845147847776,
          -0.3785270769658319,
          -1.0026510762222551,
          0.7792789540191182,
          -1.3267008036468066,
          -0.9617055507968908,
          3.3011836296868546,
          -0.5845028743081897,
          -0.38304968847196313,
          -1.2753623714544455,
          -1.0490741676789088,
          -0.007588023951681576,
          1.2022958402644337,
          1.2222414150527166,
          -1.1693910600131703,
          -1.01440354370347
         ],
         "yaxis": "y7"
        },
        {
         "line": {
          "color": "rgba(128, 128, 128, 1.0)",
          "dash": "solid",
          "shape": "linear",
          "width": 1.3
         },
         "marker": {
          "size": 2,
          "symbol": "circle"
         },
         "mode": "markers",
         "name": "B",
         "text": "",
         "type": "scatter",
         "x": [
          -0.28576517870678514,
          0.2952403250343437,
          0.7191803693698858,
          1.3756994320304368,
          -0.7739026281447616,
          -0.3750850239030581,
          1.0724380226632415,
          -0.958875569717978,
          -0.1437109871411821,
          1.517751015254013,
          0.3976160958187145,
          0.027066180006063405,
          0.1873537323051807,
          -1.4328145974330802,
          0.9011575568144171,
          0.05414923942336671,
          -1.2320439954383886,
          0.2857752972004397,
          1.0847200261606957,
          0.6904127393702959,
          1.6013090687066236,
          0.745391125754057,
          0.3092282047918577,
          0.12851303815475068,
          0.07286120510039872,
          0.8701079915926673,
          -1.1671742749899363,
          -0.8066298265655404,
          0.6894543856686854,
          0.30417605364579775,
          2.1033271361543875,
          -0.6159709057979542,
          0.2943353572964051,
          0.2757627158931991,
          0.06682034721256952,
          -0.6680633568610859,
          0.5495712858733507,
          0.746361695210706,
          0.21574054184511707,
          -1.4800708198894106,
          0.23936984673278713,
          0.21067285546175818,
          -0.49250746657804684,
          0.5002169985650018,
          0.39659686438909386,
          -0.999232801989697,
          -0.25042492925072546,
          -1.2474258020413058,
          1.419631310862581,
          0.20758270000654724,
          -0.4162145180293298,
          -0.1232996862225204,
          -1.2305583511161229,
          -0.5848479983667825,
          -1.189267459024485,
          -0.3371647224447984,
          0.6663114115090681,
          -1.5988754768656614,
          0.13961548226013815,
          -0.41366803202121716,
          0.7789435474742897,
          0.5730007203063938,
          -1.4921513665207469,
          -0.8656919297289787,
          -1.916966904016963,
          -1.5112066392987253,
          -1.139731780975787,
          1.6496484274025918,
          -0.9114562919705926,
          1.7088040926110988,
          0.8106893360917262,
          -1.5019697945067845,
          0.12492900643115513,
          -0.5881388326874711,
          -0.5554522859164184,
          -0.5914883401393713,
          -0.3804979423428619,
          0.002850160796405025,
          -0.8273100246545217,
          1.315704561474466,
          -0.6401121587201171,
          1.2386424119370028,
          0.15996201094139392,
          -2.305501712981525,
          0.39551399720275215,
          1.5843663021362573,
          -0.7352121347078673,
          1.4883193252411961,
          -0.22751700304547093,
          -1.492653335824817,
          -0.43778352764558337,
          -0.45599357032424565,
          -0.011917372625794538,
          1.2517732000031179,
          -1.0252022173959074,
          -0.6057589830332419,
          0.13930718974140305,
          -0.328796158203867,
          0.3947410749795082,
          -0.2333185414774946
         ],
         "xaxis": "x8",
         "y": [
          2.4959431719015757,
          0.9276577510015102,
          1.0050336280819714,
          -1.3414197951503666,
          0.8746494229204337,
          1.540503680338683,
          0.36341469733085086,
          0.2725456247333992,
          1.8256614150093526,
          0.4156453561321367,
          1.4259125348996546,
          0.5946871352044677,
          -0.996617192940703,
          -1.7343975620344267,
          1.2605362115718608,
          0.7792065667383924,
          -0.598165859683212,
          0.3141166478645829,
          2.028966264269778,
          -0.29196792479850614,
          0.18451884374077343,
          0.8624614728842477,
          0.3480036276243098,
          0.9367617347955924,
          0.029764440610968956,
          0.43061141935071345,
          -0.4186082014870178,
          -1.7469339996527733,
          -0.6344513661954309,
          1.3582828527644264,
          -0.17399511524737038,
          0.2331979361358069,
          -0.5836430876609441,
          -0.5091931531527603,
          -1.8430549827322322,
          0.37972796141810045,
          -1.3500784339650678,
          -0.45771898539282563,
          1.2708557850766116,
          -0.5777786253036234,
          -1.2136208429910493,
          0.15180784778636058,
          0.2518712007834114,
          0.08812308785230992,
          -1.2262731538059652,
          -0.5228326084951959,
          0.19439384594219133,
          -0.9677730140765817,
          0.557013465619875,
          -2.6221107321614343,
          0.34155621542304865,
          -1.0928749241983184,
          1.39021765404278,
          -1.098393256437507,
          1.365337542457722,
          -0.5707302449812107,
          -1.2005965785299708,
          -1.3298935269144292,
          -0.9460922681345796,
          -2.4804821303330415,
          0.2794024307283462,
          -0.2128762900828223,
          -1.3961752300117987,
          -0.6975097022746658,
          0.7203967384329273,
          0.29590483041240295,
          0.8214083566509665,
          -1.6138757379035886,
          0.48213257156387984,
          -0.31657725802601844,
          1.0036338052593803,
          -0.10501177153419351,
          -0.8632321261513736,
          0.8360545538876548,
          0.6452586861239282,
          -0.2313606912932169,
          0.15547924818340117,
          1.0450768088182119,
          -1.4390022209407076,
          0.13533822747627927,
          -0.5688684967823189,
          -1.8417192752743694,
          -1.2450741247080495,
          0.1405813522908807,
          -0.041901845147847776,
          -0.3785270769658319,
          -1.0026510762222551,
          0.7792789540191182,
          -1.3267008036468066,
          -0.9617055507968908,
          3.3011836296868546,
          -0.5845028743081897,
          -0.38304968847196313,
          -1.2753623714544455,
          -1.0490741676789088,
          -0.007588023951681576,
          1.2022958402644337,
          1.2222414150527166,
          -1.1693910600131703,
          -1.01440354370347
         ],
         "yaxis": "y8"
        },
        {
         "line": {
          "color": "rgba(128, 128, 128, 1.0)",
          "dash": "solid",
          "shape": "linear",
          "width": 1.3
         },
         "marker": {
          "size": 2,
          "symbol": "circle"
         },
         "mode": "markers",
         "name": "C",
         "text": "",
         "type": "scatter",
         "x": [
          -1.5055387470969204,
          -1.5281336080932433,
          0.5475375225269746,
          -0.5011536835325386,
          -1.1342277894161847,
          -1.3421654609689813,
          1.0480587954437626,
          0.1079858186458624,
          -0.5188967289497634,
          -0.2365765719760372,
          -0.6671966901411546,
          0.4808958294390424,
          0.2543237589685781,
          0.6624634680374704,
          -1.8806637507850557,
          -1.7714952898637082,
          -0.1450552767082512,
          0.3258012317547289,
          -1.9793404774159449,
          -1.837133213610893,
          1.2048818510023436,
          -1.2146576222324894,
          0.10051316757305068,
          0.6503065455095138,
          -0.1037762205561722,
          1.5796280422577185,
          0.24683397628064682,
          -0.19632846361111042,
          -1.659879956912887,
          -0.7362869487055028,
          0.696560945958403,
          0.35011393191088397,
          -0.22294636893507996,
          -0.4490245617166439,
          -0.03413210591976646,
          0.3813225689164726,
          -0.06804276535356155,
          -1.017866017986653,
          -0.48305879639553495,
          -0.8421918238373384,
          0.09428074990969793,
          -0.3709780159244891,
          -2.4496465657011495,
          1.0103436605626173,
          1.246075620844197,
          1.1997700774819116,
          1.594497731670918,
          -0.22731603166056338,
          0.6569588970958761,
          0.09856549719926379,
          -0.8922698305611144,
          -0.9138306160664806,
          0.5356427374304688,
          -0.287939493916266,
          -0.21742881701656078,
          -0.8522247181710058,
          -0.5253701618708698,
          1.5428396249131306,
          0.3411566218250933,
          0.49922207449863165,
          1.323964658717949,
          -1.3824171121263014,
          0.9701483427037748,
          0.4401818048772333,
          1.3076536066443993,
          2.355220713044908,
          0.3330440295546341,
          -0.24749042740682606,
          1.4700037958120582,
          0.5275901521486961,
          0.2318440908726942,
          0.830445816962907,
          -0.5513743588021469,
          -0.20295015318623347,
          -0.836131924104717,
          -0.7937607157928708,
          1.3319788440982268,
          -1.047455664669664,
          1.0156429726730842,
          0.07046136873997877,
          -1.1429664531146777,
          -0.8423125200880234,
          -1.7088559269805108,
          0.23054946399192716,
          1.2853740970875533,
          0.7466025932529883,
          1.5283495573924988,
          -0.0008903010811767334,
          -0.5698892720745149,
          -1.7421401214515508,
          -0.4387436019528569,
          0.8418373255406498,
          -0.9637173207896174,
          2.117703825261018,
          0.9834391674180394,
          0.3674088194285618,
          1.5588053824031243,
          0.2811852508479091,
          -1.7212704314648224,
          1.0067873970433072
         ],
         "xaxis": "x9",
         "y": [
          -0.6070843931902513,
          -1.550186819501212,
          0.07402175255024296,
          -1.6727597423365705,
          -1.7747583910034577,
          1.6732586491150208,
          1.572907449863755,
          -1.0191918459583762,
          0.06657805559187664,
          0.7518875748356615,
          1.0120311989247777,
          -0.8060283145444608,
          1.2594634131257534,
          1.9374402607782335,
          1.072469596698813,
          -1.4463161029473193,
          -0.15089134345347371,
          0.42924780813602254,
          0.6716929415150239,
          0.32314783000657255,
          -1.61098367979105,
          -0.4983536365895974,
          0.5857687814656891,
          2.4738702248773934,
          -0.46138399542897146,
          0.5036695851862864,
          1.0208569116710664,
          -1.2481419559669107,
          0.026930185314432985,
          -0.09034917282227793,
          0.24432044667313244,
          0.6537224009803874,
          0.5840885998430435,
          1.4419767145061206,
          -1.0512763706505548,
          1.1312767057127755,
          0.10915542272810211,
          -1.2955116067749746,
          -0.9706199188825938,
          0.6512076494462121,
          -0.36388879961990955,
          0.901691909436344,
          0.4079594285015438,
          0.4083784834049719,
          -1.4933555603059998,
          -1.573303695616015,
          2.164698369254346,
          1.9074618965849457,
          -0.7772845518413163,
          1.6644264981223373,
          -1.0463790562939157,
          -2.3567897108046636,
          0.3883146524218016,
          0.3138141917212112,
          -0.9660551820291213,
          1.7685355619984595,
          -1.1084210884662882,
          -0.9075600940794092,
          0.8334447578197528,
          -2.303731027787879,
          0.39538182036684477,
          -1.029199368076163,
          -0.5010158542558378,
          0.36151214906204815,
          -0.5091598678643701,
          0.012475759687603068,
          -1.101934077076176,
          0.3241367604735915,
          -0.15723716886990896,
          0.4936107108268825,
          0.6499376290725292,
          0.02031196522300759,
          0.17801436846090046,
          0.7374790308271773,
          0.2556650013608954,
          -0.22283530056353568,
          -0.9596373189035621,
          -0.14892666331915166,
          0.4582495251756337,
          0.06890368932967741,
          0.2098710302373936,
          -1.140949211625298,
          0.028010944948761853,
          -0.23580184923574032,
          -0.40273086213325493,
          0.7014179306786912,
          1.6235495508883768,
          -0.15022748598169697,
          -1.4477694102528924,
          -0.5981083445043424,
          -0.8673835479843751,
          0.017651431172649803,
          0.6494504217660723,
          -0.39637994067722565,
          -0.1136461956080303,
          0.3055887053481512,
          -0.9830675683189555,
          -1.6248149695970981,
          0.024839958867038266,
          -0.4928344424178749
         ],
         "yaxis": "y9"
        },
        {
         "line": {
          "color": "rgba(128, 128, 128, 1.0)",
          "dash": "solid",
          "shape": "linear",
          "width": 1.3
         },
         "marker": {
          "size": 2,
          "symbol": "circle"
         },
         "mode": "markers",
         "name": "C",
         "text": "",
         "type": "scatter",
         "x": [
          2.4959431719015757,
          0.9276577510015102,
          1.0050336280819714,
          -1.3414197951503666,
          0.8746494229204337,
          1.540503680338683,
          0.36341469733085086,
          0.2725456247333992,
          1.8256614150093526,
          0.4156453561321367,
          1.4259125348996546,
          0.5946871352044677,
          -0.996617192940703,
          -1.7343975620344267,
          1.2605362115718608,
          0.7792065667383924,
          -0.598165859683212,
          0.3141166478645829,
          2.028966264269778,
          -0.29196792479850614,
          0.18451884374077343,
          0.8624614728842477,
          0.3480036276243098,
          0.9367617347955924,
          0.029764440610968956,
          0.43061141935071345,
          -0.4186082014870178,
          -1.7469339996527733,
          -0.6344513661954309,
          1.3582828527644264,
          -0.17399511524737038,
          0.2331979361358069,
          -0.5836430876609441,
          -0.5091931531527603,
          -1.8430549827322322,
          0.37972796141810045,
          -1.3500784339650678,
          -0.45771898539282563,
          1.2708557850766116,
          -0.5777786253036234,
          -1.2136208429910493,
          0.15180784778636058,
          0.2518712007834114,
          0.08812308785230992,
          -1.2262731538059652,
          -0.5228326084951959,
          0.19439384594219133,
          -0.9677730140765817,
          0.557013465619875,
          -2.6221107321614343,
          0.34155621542304865,
          -1.0928749241983184,
          1.39021765404278,
          -1.098393256437507,
          1.365337542457722,
          -0.5707302449812107,
          -1.2005965785299708,
          -1.3298935269144292,
          -0.9460922681345796,
          -2.4804821303330415,
          0.2794024307283462,
          -0.2128762900828223,
          -1.3961752300117987,
          -0.6975097022746658,
          0.7203967384329273,
          0.29590483041240295,
          0.8214083566509665,
          -1.6138757379035886,
          0.48213257156387984,
          -0.31657725802601844,
          1.0036338052593803,
          -0.10501177153419351,
          -0.8632321261513736,
          0.8360545538876548,
          0.6452586861239282,
          -0.2313606912932169,
          0.15547924818340117,
          1.0450768088182119,
          -1.4390022209407076,
          0.13533822747627927,
          -0.5688684967823189,
          -1.8417192752743694,
          -1.2450741247080495,
          0.1405813522908807,
          -0.041901845147847776,
          -0.3785270769658319,
          -1.0026510762222551,
          0.7792789540191182,
          -1.3267008036468066,
          -0.9617055507968908,
          3.3011836296868546,
          -0.5845028743081897,
          -0.38304968847196313,
          -1.2753623714544455,
          -1.0490741676789088,
          -0.007588023951681576,
          1.2022958402644337,
          1.2222414150527166,
          -1.1693910600131703,
          -1.01440354370347
         ],
         "xaxis": "x10",
         "y": [
          -0.6070843931902513,
          -1.550186819501212,
          0.07402175255024296,
          -1.6727597423365705,
          -1.7747583910034577,
          1.6732586491150208,
          1.572907449863755,
          -1.0191918459583762,
          0.06657805559187664,
          0.7518875748356615,
          1.0120311989247777,
          -0.8060283145444608,
          1.2594634131257534,
          1.9374402607782335,
          1.072469596698813,
          -1.4463161029473193,
          -0.15089134345347371,
          0.42924780813602254,
          0.6716929415150239,
          0.32314783000657255,
          -1.61098367979105,
          -0.4983536365895974,
          0.5857687814656891,
          2.4738702248773934,
          -0.46138399542897146,
          0.5036695851862864,
          1.0208569116710664,
          -1.2481419559669107,
          0.026930185314432985,
          -0.09034917282227793,
          0.24432044667313244,
          0.6537224009803874,
          0.5840885998430435,
          1.4419767145061206,
          -1.0512763706505548,
          1.1312767057127755,
          0.10915542272810211,
          -1.2955116067749746,
          -0.9706199188825938,
          0.6512076494462121,
          -0.36388879961990955,
          0.901691909436344,
          0.4079594285015438,
          0.4083784834049719,
          -1.4933555603059998,
          -1.573303695616015,
          2.164698369254346,
          1.9074618965849457,
          -0.7772845518413163,
          1.6644264981223373,
          -1.0463790562939157,
          -2.3567897108046636,
          0.3883146524218016,
          0.3138141917212112,
          -0.9660551820291213,
          1.7685355619984595,
          -1.1084210884662882,
          -0.9075600940794092,
          0.8334447578197528,
          -2.303731027787879,
          0.39538182036684477,
          -1.029199368076163,
          -0.5010158542558378,
          0.36151214906204815,
          -0.5091598678643701,
          0.012475759687603068,
          -1.101934077076176,
          0.3241367604735915,
          -0.15723716886990896,
          0.4936107108268825,
          0.6499376290725292,
          0.02031196522300759,
          0.17801436846090046,
          0.7374790308271773,
          0.2556650013608954,
          -0.22283530056353568,
          -0.9596373189035621,
          -0.14892666331915166,
          0.4582495251756337,
          0.06890368932967741,
          0.2098710302373936,
          -1.140949211625298,
          0.028010944948761853,
          -0.23580184923574032,
          -0.40273086213325493,
          0.7014179306786912,
          1.6235495508883768,
          -0.15022748598169697,
          -1.4477694102528924,
          -0.5981083445043424,
          -0.8673835479843751,
          0.017651431172649803,
          0.6494504217660723,
          -0.39637994067722565,
          -0.1136461956080303,
          0.3055887053481512,
          -0.9830675683189555,
          -1.6248149695970981,
          0.024839958867038266,
          -0.4928344424178749
         ],
         "yaxis": "y10"
        },
        {
         "histfunc": "count",
         "histnorm": "",
         "marker": {
          "color": "rgba(50, 171, 96, 1.0)",
          "line": {
           "color": "#4D5663",
           "width": 1.3
          }
         },
         "name": "C",
         "nbinsx": 10,
         "opacity": 0.8,
         "orientation": "v",
         "type": "histogram",
         "x": [
          -0.6070843931902513,
          -1.550186819501212,
          0.07402175255024296,
          -1.6727597423365705,
          -1.7747583910034577,
          1.6732586491150208,
          1.572907449863755,
          -1.0191918459583762,
          0.06657805559187664,
          0.7518875748356615,
          1.0120311989247777,
          -0.8060283145444608,
          1.2594634131257534,
          1.9374402607782335,
          1.072469596698813,
          -1.4463161029473193,
          -0.15089134345347371,
          0.42924780813602254,
          0.6716929415150239,
          0.32314783000657255,
          -1.61098367979105,
          -0.4983536365895974,
          0.5857687814656891,
          2.4738702248773934,
          -0.46138399542897146,
          0.5036695851862864,
          1.0208569116710664,
          -1.2481419559669107,
          0.026930185314432985,
          -0.09034917282227793,
          0.24432044667313244,
          0.6537224009803874,
          0.5840885998430435,
          1.4419767145061206,
          -1.0512763706505548,
          1.1312767057127755,
          0.10915542272810211,
          -1.2955116067749746,
          -0.9706199188825938,
          0.6512076494462121,
          -0.36388879961990955,
          0.901691909436344,
          0.4079594285015438,
          0.4083784834049719,
          -1.4933555603059998,
          -1.573303695616015,
          2.164698369254346,
          1.9074618965849457,
          -0.7772845518413163,
          1.6644264981223373,
          -1.0463790562939157,
          -2.3567897108046636,
          0.3883146524218016,
          0.3138141917212112,
          -0.9660551820291213,
          1.7685355619984595,
          -1.1084210884662882,
          -0.9075600940794092,
          0.8334447578197528,
          -2.303731027787879,
          0.39538182036684477,
          -1.029199368076163,
          -0.5010158542558378,
          0.36151214906204815,
          -0.5091598678643701,
          0.012475759687603068,
          -1.101934077076176,
          0.3241367604735915,
          -0.15723716886990896,
          0.4936107108268825,
          0.6499376290725292,
          0.02031196522300759,
          0.17801436846090046,
          0.7374790308271773,
          0.2556650013608954,
          -0.22283530056353568,
          -0.9596373189035621,
          -0.14892666331915166,
          0.4582495251756337,
          0.06890368932967741,
          0.2098710302373936,
          -1.140949211625298,
          0.028010944948761853,
          -0.23580184923574032,
          -0.40273086213325493,
          0.7014179306786912,
          1.6235495508883768,
          -0.15022748598169697,
          -1.4477694102528924,
          -0.5981083445043424,
          -0.8673835479843751,
          0.017651431172649803,
          0.6494504217660723,
          -0.39637994067722565,
          -0.1136461956080303,
          0.3055887053481512,
          -0.9830675683189555,
          -1.6248149695970981,
          0.024839958867038266,
          -0.4928344424178749
         ],
         "xaxis": "x11",
         "yaxis": "y11"
        },
        {
         "line": {
          "color": "rgba(128, 128, 128, 1.0)",
          "dash": "solid",
          "shape": "linear",
          "width": 1.3
         },
         "marker": {
          "size": 2,
          "symbol": "circle"
         },
         "mode": "markers",
         "name": "C",
         "text": "",
         "type": "scatter",
         "x": [
          -0.28576517870678514,
          0.2952403250343437,
          0.7191803693698858,
          1.3756994320304368,
          -0.7739026281447616,
          -0.3750850239030581,
          1.0724380226632415,
          -0.958875569717978,
          -0.1437109871411821,
          1.517751015254013,
          0.3976160958187145,
          0.027066180006063405,
          0.1873537323051807,
          -1.4328145974330802,
          0.9011575568144171,
          0.05414923942336671,
          -1.2320439954383886,
          0.2857752972004397,
          1.0847200261606957,
          0.6904127393702959,
          1.6013090687066236,
          0.745391125754057,
          0.3092282047918577,
          0.12851303815475068,
          0.07286120510039872,
          0.8701079915926673,
          -1.1671742749899363,
          -0.8066298265655404,
          0.6894543856686854,
          0.30417605364579775,
          2.1033271361543875,
          -0.6159709057979542,
          0.2943353572964051,
          0.2757627158931991,
          0.06682034721256952,
          -0.6680633568610859,
          0.5495712858733507,
          0.746361695210706,
          0.21574054184511707,
          -1.4800708198894106,
          0.23936984673278713,
          0.21067285546175818,
          -0.49250746657804684,
          0.5002169985650018,
          0.39659686438909386,
          -0.999232801989697,
          -0.25042492925072546,
          -1.2474258020413058,
          1.419631310862581,
          0.20758270000654724,
          -0.4162145180293298,
          -0.1232996862225204,
          -1.2305583511161229,
          -0.5848479983667825,
          -1.189267459024485,
          -0.3371647224447984,
          0.6663114115090681,
          -1.5988754768656614,
          0.13961548226013815,
          -0.41366803202121716,
          0.7789435474742897,
          0.5730007203063938,
          -1.4921513665207469,
          -0.8656919297289787,
          -1.916966904016963,
          -1.5112066392987253,
          -1.139731780975787,
          1.6496484274025918,
          -0.9114562919705926,
          1.7088040926110988,
          0.8106893360917262,
          -1.5019697945067845,
          0.12492900643115513,
          -0.5881388326874711,
          -0.5554522859164184,
          -0.5914883401393713,
          -0.3804979423428619,
          0.002850160796405025,
          -0.8273100246545217,
          1.315704561474466,
          -0.6401121587201171,
          1.2386424119370028,
          0.15996201094139392,
          -2.305501712981525,
          0.39551399720275215,
          1.5843663021362573,
          -0.7352121347078673,
          1.4883193252411961,
          -0.22751700304547093,
          -1.492653335824817,
          -0.43778352764558337,
          -0.45599357032424565,
          -0.011917372625794538,
          1.2517732000031179,
          -1.0252022173959074,
          -0.6057589830332419,
          0.13930718974140305,
          -0.328796158203867,
          0.3947410749795082,
          -0.2333185414774946
         ],
         "xaxis": "x12",
         "y": [
          -0.6070843931902513,
          -1.550186819501212,
          0.07402175255024296,
          -1.6727597423365705,
          -1.7747583910034577,
          1.6732586491150208,
          1.572907449863755,
          -1.0191918459583762,
          0.06657805559187664,
          0.7518875748356615,
          1.0120311989247777,
          -0.8060283145444608,
          1.2594634131257534,
          1.9374402607782335,
          1.072469596698813,
          -1.4463161029473193,
          -0.15089134345347371,
          0.42924780813602254,
          0.6716929415150239,
          0.32314783000657255,
          -1.61098367979105,
          -0.4983536365895974,
          0.5857687814656891,
          2.4738702248773934,
          -0.46138399542897146,
          0.5036695851862864,
          1.0208569116710664,
          -1.2481419559669107,
          0.026930185314432985,
          -0.09034917282227793,
          0.24432044667313244,
          0.6537224009803874,
          0.5840885998430435,
          1.4419767145061206,
          -1.0512763706505548,
          1.1312767057127755,
          0.10915542272810211,
          -1.2955116067749746,
          -0.9706199188825938,
          0.6512076494462121,
          -0.36388879961990955,
          0.901691909436344,
          0.4079594285015438,
          0.4083784834049719,
          -1.4933555603059998,
          -1.573303695616015,
          2.164698369254346,
          1.9074618965849457,
          -0.7772845518413163,
          1.6644264981223373,
          -1.0463790562939157,
          -2.3567897108046636,
          0.3883146524218016,
          0.3138141917212112,
          -0.9660551820291213,
          1.7685355619984595,
          -1.1084210884662882,
          -0.9075600940794092,
          0.8334447578197528,
          -2.303731027787879,
          0.39538182036684477,
          -1.029199368076163,
          -0.5010158542558378,
          0.36151214906204815,
          -0.5091598678643701,
          0.012475759687603068,
          -1.101934077076176,
          0.3241367604735915,
          -0.15723716886990896,
          0.4936107108268825,
          0.6499376290725292,
          0.02031196522300759,
          0.17801436846090046,
          0.7374790308271773,
          0.2556650013608954,
          -0.22283530056353568,
          -0.9596373189035621,
          -0.14892666331915166,
          0.4582495251756337,
          0.06890368932967741,
          0.2098710302373936,
          -1.140949211625298,
          0.028010944948761853,
          -0.23580184923574032,
          -0.40273086213325493,
          0.7014179306786912,
          1.6235495508883768,
          -0.15022748598169697,
          -1.4477694102528924,
          -0.5981083445043424,
          -0.8673835479843751,
          0.017651431172649803,
          0.6494504217660723,
          -0.39637994067722565,
          -0.1136461956080303,
          0.3055887053481512,
          -0.9830675683189555,
          -1.6248149695970981,
          0.024839958867038266,
          -0.4928344424178749
         ],
         "yaxis": "y12"
        },
        {
         "line": {
          "color": "rgba(128, 128, 128, 1.0)",
          "dash": "solid",
          "shape": "linear",
          "width": 1.3
         },
         "marker": {
          "size": 2,
          "symbol": "circle"
         },
         "mode": "markers",
         "name": "D",
         "text": "",
         "type": "scatter",
         "x": [
          -1.5055387470969204,
          -1.5281336080932433,
          0.5475375225269746,
          -0.5011536835325386,
          -1.1342277894161847,
          -1.3421654609689813,
          1.0480587954437626,
          0.1079858186458624,
          -0.5188967289497634,
          -0.2365765719760372,
          -0.6671966901411546,
          0.4808958294390424,
          0.2543237589685781,
          0.6624634680374704,
          -1.8806637507850557,
          -1.7714952898637082,
          -0.1450552767082512,
          0.3258012317547289,
          -1.9793404774159449,
          -1.837133213610893,
          1.2048818510023436,
          -1.2146576222324894,
          0.10051316757305068,
          0.6503065455095138,
          -0.1037762205561722,
          1.5796280422577185,
          0.24683397628064682,
          -0.19632846361111042,
          -1.659879956912887,
          -0.7362869487055028,
          0.696560945958403,
          0.35011393191088397,
          -0.22294636893507996,
          -0.4490245617166439,
          -0.03413210591976646,
          0.3813225689164726,
          -0.06804276535356155,
          -1.017866017986653,
          -0.48305879639553495,
          -0.8421918238373384,
          0.09428074990969793,
          -0.3709780159244891,
          -2.4496465657011495,
          1.0103436605626173,
          1.246075620844197,
          1.1997700774819116,
          1.594497731670918,
          -0.22731603166056338,
          0.6569588970958761,
          0.09856549719926379,
          -0.8922698305611144,
          -0.9138306160664806,
          0.5356427374304688,
          -0.287939493916266,
          -0.21742881701656078,
          -0.8522247181710058,
          -0.5253701618708698,
          1.5428396249131306,
          0.3411566218250933,
          0.49922207449863165,
          1.323964658717949,
          -1.3824171121263014,
          0.9701483427037748,
          0.4401818048772333,
          1.3076536066443993,
          2.355220713044908,
          0.3330440295546341,
          -0.24749042740682606,
          1.4700037958120582,
          0.5275901521486961,
          0.2318440908726942,
          0.830445816962907,
          -0.5513743588021469,
          -0.20295015318623347,
          -0.836131924104717,
          -0.7937607157928708,
          1.3319788440982268,
          -1.047455664669664,
          1.0156429726730842,
          0.07046136873997877,
          -1.1429664531146777,
          -0.8423125200880234,
          -1.7088559269805108,
          0.23054946399192716,
          1.2853740970875533,
          0.7466025932529883,
          1.5283495573924988,
          -0.0008903010811767334,
          -0.5698892720745149,
          -1.7421401214515508,
          -0.4387436019528569,
          0.8418373255406498,
          -0.9637173207896174,
          2.117703825261018,
          0.9834391674180394,
          0.3674088194285618,
          1.5588053824031243,
          0.2811852508479091,
          -1.7212704314648224,
          1.0067873970433072
         ],
         "xaxis": "x13",
         "y": [
          -0.28576517870678514,
          0.2952403250343437,
          0.7191803693698858,
          1.3756994320304368,
          -0.7739026281447616,
          -0.3750850239030581,
          1.0724380226632415,
          -0.958875569717978,
          -0.1437109871411821,
          1.517751015254013,
          0.3976160958187145,
          0.027066180006063405,
          0.1873537323051807,
          -1.4328145974330802,
          0.9011575568144171,
          0.05414923942336671,
          -1.2320439954383886,
          0.2857752972004397,
          1.0847200261606957,
          0.6904127393702959,
          1.6013090687066236,
          0.745391125754057,
          0.3092282047918577,
          0.12851303815475068,
          0.07286120510039872,
          0.8701079915926673,
          -1.1671742749899363,
          -0.8066298265655404,
          0.6894543856686854,
          0.30417605364579775,
          2.1033271361543875,
          -0.6159709057979542,
          0.2943353572964051,
          0.2757627158931991,
          0.06682034721256952,
          -0.6680633568610859,
          0.5495712858733507,
          0.746361695210706,
          0.21574054184511707,
          -1.4800708198894106,
          0.23936984673278713,
          0.21067285546175818,
          -0.49250746657804684,
          0.5002169985650018,
          0.39659686438909386,
          -0.999232801989697,
          -0.25042492925072546,
          -1.2474258020413058,
          1.419631310862581,
          0.20758270000654724,
          -0.4162145180293298,
          -0.1232996862225204,
          -1.2305583511161229,
          -0.5848479983667825,
          -1.189267459024485,
          -0.3371647224447984,
          0.6663114115090681,
          -1.5988754768656614,
          0.13961548226013815,
          -0.41366803202121716,
          0.7789435474742897,
          0.5730007203063938,
          -1.4921513665207469,
          -0.8656919297289787,
          -1.916966904016963,
          -1.5112066392987253,
          -1.139731780975787,
          1.6496484274025918,
          -0.9114562919705926,
          1.7088040926110988,
          0.8106893360917262,
          -1.5019697945067845,
          0.12492900643115513,
          -0.5881388326874711,
          -0.5554522859164184,
          -0.5914883401393713,
          -0.3804979423428619,
          0.002850160796405025,
          -0.8273100246545217,
          1.315704561474466,
          -0.6401121587201171,
          1.2386424119370028,
          0.15996201094139392,
          -2.305501712981525,
          0.39551399720275215,
          1.5843663021362573,
          -0.7352121347078673,
          1.4883193252411961,
          -0.22751700304547093,
          -1.492653335824817,
          -0.43778352764558337,
          -0.45599357032424565,
          -0.011917372625794538,
          1.2517732000031179,
          -1.0252022173959074,
          -0.6057589830332419,
          0.13930718974140305,
          -0.328796158203867,
          0.3947410749795082,
          -0.2333185414774946
         ],
         "yaxis": "y13"
        },
        {
         "line": {
          "color": "rgba(128, 128, 128, 1.0)",
          "dash": "solid",
          "shape": "linear",
          "width": 1.3
         },
         "marker": {
          "size": 2,
          "symbol": "circle"
         },
         "mode": "markers",
         "name": "D",
         "text": "",
         "type": "scatter",
         "x": [
          2.4959431719015757,
          0.9276577510015102,
          1.0050336280819714,
          -1.3414197951503666,
          0.8746494229204337,
          1.540503680338683,
          0.36341469733085086,
          0.2725456247333992,
          1.8256614150093526,
          0.4156453561321367,
          1.4259125348996546,
          0.5946871352044677,
          -0.996617192940703,
          -1.7343975620344267,
          1.2605362115718608,
          0.7792065667383924,
          -0.598165859683212,
          0.3141166478645829,
          2.028966264269778,
          -0.29196792479850614,
          0.18451884374077343,
          0.8624614728842477,
          0.3480036276243098,
          0.9367617347955924,
          0.029764440610968956,
          0.43061141935071345,
          -0.4186082014870178,
          -1.7469339996527733,
          -0.6344513661954309,
          1.3582828527644264,
          -0.17399511524737038,
          0.2331979361358069,
          -0.5836430876609441,
          -0.5091931531527603,
          -1.8430549827322322,
          0.37972796141810045,
          -1.3500784339650678,
          -0.45771898539282563,
          1.2708557850766116,
          -0.5777786253036234,
          -1.2136208429910493,
          0.15180784778636058,
          0.2518712007834114,
          0.08812308785230992,
          -1.2262731538059652,
          -0.5228326084951959,
          0.19439384594219133,
          -0.9677730140765817,
          0.557013465619875,
          -2.6221107321614343,
          0.34155621542304865,
          -1.0928749241983184,
          1.39021765404278,
          -1.098393256437507,
          1.365337542457722,
          -0.5707302449812107,
          -1.2005965785299708,
          -1.3298935269144292,
          -0.9460922681345796,
          -2.4804821303330415,
          0.2794024307283462,
          -0.2128762900828223,
          -1.3961752300117987,
          -0.6975097022746658,
          0.7203967384329273,
          0.29590483041240295,
          0.8214083566509665,
          -1.6138757379035886,
          0.48213257156387984,
          -0.31657725802601844,
          1.0036338052593803,
          -0.10501177153419351,
          -0.8632321261513736,
          0.8360545538876548,
          0.6452586861239282,
          -0.2313606912932169,
          0.15547924818340117,
          1.0450768088182119,
          -1.4390022209407076,
          0.13533822747627927,
          -0.5688684967823189,
          -1.8417192752743694,
          -1.2450741247080495,
          0.1405813522908807,
          -0.041901845147847776,
          -0.3785270769658319,
          -1.0026510762222551,
          0.7792789540191182,
          -1.3267008036468066,
          -0.9617055507968908,
          3.3011836296868546,
          -0.5845028743081897,
          -0.38304968847196313,
          -1.2753623714544455,
          -1.0490741676789088,
          -0.007588023951681576,
          1.2022958402644337,
          1.2222414150527166,
          -1.1693910600131703,
          -1.01440354370347
         ],
         "xaxis": "x14",
         "y": [
          -0.28576517870678514,
          0.2952403250343437,
          0.7191803693698858,
          1.3756994320304368,
          -0.7739026281447616,
          -0.3750850239030581,
          1.0724380226632415,
          -0.958875569717978,
          -0.1437109871411821,
          1.517751015254013,
          0.3976160958187145,
          0.027066180006063405,
          0.1873537323051807,
          -1.4328145974330802,
          0.9011575568144171,
          0.05414923942336671,
          -1.2320439954383886,
          0.2857752972004397,
          1.0847200261606957,
          0.6904127393702959,
          1.6013090687066236,
          0.745391125754057,
          0.3092282047918577,
          0.12851303815475068,
          0.07286120510039872,
          0.8701079915926673,
          -1.1671742749899363,
          -0.8066298265655404,
          0.6894543856686854,
          0.30417605364579775,
          2.1033271361543875,
          -0.6159709057979542,
          0.2943353572964051,
          0.2757627158931991,
          0.06682034721256952,
          -0.6680633568610859,
          0.5495712858733507,
          0.746361695210706,
          0.21574054184511707,
          -1.4800708198894106,
          0.23936984673278713,
          0.21067285546175818,
          -0.49250746657804684,
          0.5002169985650018,
          0.39659686438909386,
          -0.999232801989697,
          -0.25042492925072546,
          -1.2474258020413058,
          1.419631310862581,
          0.20758270000654724,
          -0.4162145180293298,
          -0.1232996862225204,
          -1.2305583511161229,
          -0.5848479983667825,
          -1.189267459024485,
          -0.3371647224447984,
          0.6663114115090681,
          -1.5988754768656614,
          0.13961548226013815,
          -0.41366803202121716,
          0.7789435474742897,
          0.5730007203063938,
          -1.4921513665207469,
          -0.8656919297289787,
          -1.916966904016963,
          -1.5112066392987253,
          -1.139731780975787,
          1.6496484274025918,
          -0.9114562919705926,
          1.7088040926110988,
          0.8106893360917262,
          -1.5019697945067845,
          0.12492900643115513,
          -0.5881388326874711,
          -0.5554522859164184,
          -0.5914883401393713,
          -0.3804979423428619,
          0.002850160796405025,
          -0.8273100246545217,
          1.315704561474466,
          -0.6401121587201171,
          1.2386424119370028,
          0.15996201094139392,
          -2.305501712981525,
          0.39551399720275215,
          1.5843663021362573,
          -0.7352121347078673,
          1.4883193252411961,
          -0.22751700304547093,
          -1.492653335824817,
          -0.43778352764558337,
          -0.45599357032424565,
          -0.011917372625794538,
          1.2517732000031179,
          -1.0252022173959074,
          -0.6057589830332419,
          0.13930718974140305,
          -0.328796158203867,
          0.3947410749795082,
          -0.2333185414774946
         ],
         "yaxis": "y14"
        },
        {
         "line": {
          "color": "rgba(128, 128, 128, 1.0)",
          "dash": "solid",
          "shape": "linear",
          "width": 1.3
         },
         "marker": {
          "size": 2,
          "symbol": "circle"
         },
         "mode": "markers",
         "name": "D",
         "text": "",
         "type": "scatter",
         "x": [
          -0.6070843931902513,
          -1.550186819501212,
          0.07402175255024296,
          -1.6727597423365705,
          -1.7747583910034577,
          1.6732586491150208,
          1.572907449863755,
          -1.0191918459583762,
          0.06657805559187664,
          0.7518875748356615,
          1.0120311989247777,
          -0.8060283145444608,
          1.2594634131257534,
          1.9374402607782335,
          1.072469596698813,
          -1.4463161029473193,
          -0.15089134345347371,
          0.42924780813602254,
          0.6716929415150239,
          0.32314783000657255,
          -1.61098367979105,
          -0.4983536365895974,
          0.5857687814656891,
          2.4738702248773934,
          -0.46138399542897146,
          0.5036695851862864,
          1.0208569116710664,
          -1.2481419559669107,
          0.026930185314432985,
          -0.09034917282227793,
          0.24432044667313244,
          0.6537224009803874,
          0.5840885998430435,
          1.4419767145061206,
          -1.0512763706505548,
          1.1312767057127755,
          0.10915542272810211,
          -1.2955116067749746,
          -0.9706199188825938,
          0.6512076494462121,
          -0.36388879961990955,
          0.901691909436344,
          0.4079594285015438,
          0.4083784834049719,
          -1.4933555603059998,
          -1.573303695616015,
          2.164698369254346,
          1.9074618965849457,
          -0.7772845518413163,
          1.6644264981223373,
          -1.0463790562939157,
          -2.3567897108046636,
          0.3883146524218016,
          0.3138141917212112,
          -0.9660551820291213,
          1.7685355619984595,
          -1.1084210884662882,
          -0.9075600940794092,
          0.8334447578197528,
          -2.303731027787879,
          0.39538182036684477,
          -1.029199368076163,
          -0.5010158542558378,
          0.36151214906204815,
          -0.5091598678643701,
          0.012475759687603068,
          -1.101934077076176,
          0.3241367604735915,
          -0.15723716886990896,
          0.4936107108268825,
          0.6499376290725292,
          0.02031196522300759,
          0.17801436846090046,
          0.7374790308271773,
          0.2556650013608954,
          -0.22283530056353568,
          -0.9596373189035621,
          -0.14892666331915166,
          0.4582495251756337,
          0.06890368932967741,
          0.2098710302373936,
          -1.140949211625298,
          0.028010944948761853,
          -0.23580184923574032,
          -0.40273086213325493,
          0.7014179306786912,
          1.6235495508883768,
          -0.15022748598169697,
          -1.4477694102528924,
          -0.5981083445043424,
          -0.8673835479843751,
          0.017651431172649803,
          0.6494504217660723,
          -0.39637994067722565,
          -0.1136461956080303,
          0.3055887053481512,
          -0.9830675683189555,
          -1.6248149695970981,
          0.024839958867038266,
          -0.4928344424178749
         ],
         "xaxis": "x15",
         "y": [
          -0.28576517870678514,
          0.2952403250343437,
          0.7191803693698858,
          1.3756994320304368,
          -0.7739026281447616,
          -0.3750850239030581,
          1.0724380226632415,
          -0.958875569717978,
          -0.1437109871411821,
          1.517751015254013,
          0.3976160958187145,
          0.027066180006063405,
          0.1873537323051807,
          -1.4328145974330802,
          0.9011575568144171,
          0.05414923942336671,
          -1.2320439954383886,
          0.2857752972004397,
          1.0847200261606957,
          0.6904127393702959,
          1.6013090687066236,
          0.745391125754057,
          0.3092282047918577,
          0.12851303815475068,
          0.07286120510039872,
          0.8701079915926673,
          -1.1671742749899363,
          -0.8066298265655404,
          0.6894543856686854,
          0.30417605364579775,
          2.1033271361543875,
          -0.6159709057979542,
          0.2943353572964051,
          0.2757627158931991,
          0.06682034721256952,
          -0.6680633568610859,
          0.5495712858733507,
          0.746361695210706,
          0.21574054184511707,
          -1.4800708198894106,
          0.23936984673278713,
          0.21067285546175818,
          -0.49250746657804684,
          0.5002169985650018,
          0.39659686438909386,
          -0.999232801989697,
          -0.25042492925072546,
          -1.2474258020413058,
          1.419631310862581,
          0.20758270000654724,
          -0.4162145180293298,
          -0.1232996862225204,
          -1.2305583511161229,
          -0.5848479983667825,
          -1.189267459024485,
          -0.3371647224447984,
          0.6663114115090681,
          -1.5988754768656614,
          0.13961548226013815,
          -0.41366803202121716,
          0.7789435474742897,
          0.5730007203063938,
          -1.4921513665207469,
          -0.8656919297289787,
          -1.916966904016963,
          -1.5112066392987253,
          -1.139731780975787,
          1.6496484274025918,
          -0.9114562919705926,
          1.7088040926110988,
          0.8106893360917262,
          -1.5019697945067845,
          0.12492900643115513,
          -0.5881388326874711,
          -0.5554522859164184,
          -0.5914883401393713,
          -0.3804979423428619,
          0.002850160796405025,
          -0.8273100246545217,
          1.315704561474466,
          -0.6401121587201171,
          1.2386424119370028,
          0.15996201094139392,
          -2.305501712981525,
          0.39551399720275215,
          1.5843663021362573,
          -0.7352121347078673,
          1.4883193252411961,
          -0.22751700304547093,
          -1.492653335824817,
          -0.43778352764558337,
          -0.45599357032424565,
          -0.011917372625794538,
          1.2517732000031179,
          -1.0252022173959074,
          -0.6057589830332419,
          0.13930718974140305,
          -0.328796158203867,
          0.3947410749795082,
          -0.2333185414774946
         ],
         "yaxis": "y15"
        },
        {
         "histfunc": "count",
         "histnorm": "",
         "marker": {
          "color": "rgba(128, 0, 128, 1.0)",
          "line": {
           "color": "#4D5663",
           "width": 1.3
          }
         },
         "name": "D",
         "nbinsx": 10,
         "opacity": 0.8,
         "orientation": "v",
         "type": "histogram",
         "x": [
          -0.28576517870678514,
          0.2952403250343437,
          0.7191803693698858,
          1.3756994320304368,
          -0.7739026281447616,
          -0.3750850239030581,
          1.0724380226632415,
          -0.958875569717978,
          -0.1437109871411821,
          1.517751015254013,
          0.3976160958187145,
          0.027066180006063405,
          0.1873537323051807,
          -1.4328145974330802,
          0.9011575568144171,
          0.05414923942336671,
          -1.2320439954383886,
          0.2857752972004397,
          1.0847200261606957,
          0.6904127393702959,
          1.6013090687066236,
          0.745391125754057,
          0.3092282047918577,
          0.12851303815475068,
          0.07286120510039872,
          0.8701079915926673,
          -1.1671742749899363,
          -0.8066298265655404,
          0.6894543856686854,
          0.30417605364579775,
          2.1033271361543875,
          -0.6159709057979542,
          0.2943353572964051,
          0.2757627158931991,
          0.06682034721256952,
          -0.6680633568610859,
          0.5495712858733507,
          0.746361695210706,
          0.21574054184511707,
          -1.4800708198894106,
          0.23936984673278713,
          0.21067285546175818,
          -0.49250746657804684,
          0.5002169985650018,
          0.39659686438909386,
          -0.999232801989697,
          -0.25042492925072546,
          -1.2474258020413058,
          1.419631310862581,
          0.20758270000654724,
          -0.4162145180293298,
          -0.1232996862225204,
          -1.2305583511161229,
          -0.5848479983667825,
          -1.189267459024485,
          -0.3371647224447984,
          0.6663114115090681,
          -1.5988754768656614,
          0.13961548226013815,
          -0.41366803202121716,
          0.7789435474742897,
          0.5730007203063938,
          -1.4921513665207469,
          -0.8656919297289787,
          -1.916966904016963,
          -1.5112066392987253,
          -1.139731780975787,
          1.6496484274025918,
          -0.9114562919705926,
          1.7088040926110988,
          0.8106893360917262,
          -1.5019697945067845,
          0.12492900643115513,
          -0.5881388326874711,
          -0.5554522859164184,
          -0.5914883401393713,
          -0.3804979423428619,
          0.002850160796405025,
          -0.8273100246545217,
          1.315704561474466,
          -0.6401121587201171,
          1.2386424119370028,
          0.15996201094139392,
          -2.305501712981525,
          0.39551399720275215,
          1.5843663021362573,
          -0.7352121347078673,
          1.4883193252411961,
          -0.22751700304547093,
          -1.492653335824817,
          -0.43778352764558337,
          -0.45599357032424565,
          -0.011917372625794538,
          1.2517732000031179,
          -1.0252022173959074,
          -0.6057589830332419,
          0.13930718974140305,
          -0.328796158203867,
          0.3947410749795082,
          -0.2333185414774946
         ],
         "xaxis": "x16",
         "yaxis": "y16"
        }
       ],
       "layout": {
        "bargap": 0.02,
        "legend": {
         "bgcolor": "#F5F6F9",
         "font": {
          "color": "#4D5663"
         }
        },
        "paper_bgcolor": "#F5F6F9",
        "plot_bgcolor": "#F5F6F9",
        "showlegend": false,
        "template": {
         "data": {
          "bar": [
           {
            "error_x": {
             "color": "#2a3f5f"
            },
            "error_y": {
             "color": "#2a3f5f"
            },
            "marker": {
             "line": {
              "color": "#E5ECF6",
              "width": 0.5
             }
            },
            "type": "bar"
           }
          ],
          "barpolar": [
           {
            "marker": {
             "line": {
              "color": "#E5ECF6",
              "width": 0.5
             }
            },
            "type": "barpolar"
           }
          ],
          "carpet": [
           {
            "aaxis": {
             "endlinecolor": "#2a3f5f",
             "gridcolor": "white",
             "linecolor": "white",
             "minorgridcolor": "white",
             "startlinecolor": "#2a3f5f"
            },
            "baxis": {
             "endlinecolor": "#2a3f5f",
             "gridcolor": "white",
             "linecolor": "white",
             "minorgridcolor": "white",
             "startlinecolor": "#2a3f5f"
            },
            "type": "carpet"
           }
          ],
          "choropleth": [
           {
            "colorbar": {
             "outlinewidth": 0,
             "ticks": ""
            },
            "type": "choropleth"
           }
          ],
          "contour": [
           {
            "colorbar": {
             "outlinewidth": 0,
             "ticks": ""
            },
            "colorscale": [
             [
              0,
              "#0d0887"
             ],
             [
              0.1111111111111111,
              "#46039f"
             ],
             [
              0.2222222222222222,
              "#7201a8"
             ],
             [
              0.3333333333333333,
              "#9c179e"
             ],
             [
              0.4444444444444444,
              "#bd3786"
             ],
             [
              0.5555555555555556,
              "#d8576b"
             ],
             [
              0.6666666666666666,
              "#ed7953"
             ],
             [
              0.7777777777777778,
              "#fb9f3a"
             ],
             [
              0.8888888888888888,
              "#fdca26"
             ],
             [
              1,
              "#f0f921"
             ]
            ],
            "type": "contour"
           }
          ],
          "contourcarpet": [
           {
            "colorbar": {
             "outlinewidth": 0,
             "ticks": ""
            },
            "type": "contourcarpet"
           }
          ],
          "heatmap": [
           {
            "colorbar": {
             "outlinewidth": 0,
             "ticks": ""
            },
            "colorscale": [
             [
              0,
              "#0d0887"
             ],
             [
              0.1111111111111111,
              "#46039f"
             ],
             [
              0.2222222222222222,
              "#7201a8"
             ],
             [
              0.3333333333333333,
              "#9c179e"
             ],
             [
              0.4444444444444444,
              "#bd3786"
             ],
             [
              0.5555555555555556,
              "#d8576b"
             ],
             [
              0.6666666666666666,
              "#ed7953"
             ],
             [
              0.7777777777777778,
              "#fb9f3a"
             ],
             [
              0.8888888888888888,
              "#fdca26"
             ],
             [
              1,
              "#f0f921"
             ]
            ],
            "type": "heatmap"
           }
          ],
          "heatmapgl": [
           {
            "colorbar": {
             "outlinewidth": 0,
             "ticks": ""
            },
            "colorscale": [
             [
              0,
              "#0d0887"
             ],
             [
              0.1111111111111111,
              "#46039f"
             ],
             [
              0.2222222222222222,
              "#7201a8"
             ],
             [
              0.3333333333333333,
              "#9c179e"
             ],
             [
              0.4444444444444444,
              "#bd3786"
             ],
             [
              0.5555555555555556,
              "#d8576b"
             ],
             [
              0.6666666666666666,
              "#ed7953"
             ],
             [
              0.7777777777777778,
              "#fb9f3a"
             ],
             [
              0.8888888888888888,
              "#fdca26"
             ],
             [
              1,
              "#f0f921"
             ]
            ],
            "type": "heatmapgl"
           }
          ],
          "histogram": [
           {
            "marker": {
             "colorbar": {
              "outlinewidth": 0,
              "ticks": ""
             }
            },
            "type": "histogram"
           }
          ],
          "histogram2d": [
           {
            "colorbar": {
             "outlinewidth": 0,
             "ticks": ""
            },
            "colorscale": [
             [
              0,
              "#0d0887"
             ],
             [
              0.1111111111111111,
              "#46039f"
             ],
             [
              0.2222222222222222,
              "#7201a8"
             ],
             [
              0.3333333333333333,
              "#9c179e"
             ],
             [
              0.4444444444444444,
              "#bd3786"
             ],
             [
              0.5555555555555556,
              "#d8576b"
             ],
             [
              0.6666666666666666,
              "#ed7953"
             ],
             [
              0.7777777777777778,
              "#fb9f3a"
             ],
             [
              0.8888888888888888,
              "#fdca26"
             ],
             [
              1,
              "#f0f921"
             ]
            ],
            "type": "histogram2d"
           }
          ],
          "histogram2dcontour": [
           {
            "colorbar": {
             "outlinewidth": 0,
             "ticks": ""
            },
            "colorscale": [
             [
              0,
              "#0d0887"
             ],
             [
              0.1111111111111111,
              "#46039f"
             ],
             [
              0.2222222222222222,
              "#7201a8"
             ],
             [
              0.3333333333333333,
              "#9c179e"
             ],
             [
              0.4444444444444444,
              "#bd3786"
             ],
             [
              0.5555555555555556,
              "#d8576b"
             ],
             [
              0.6666666666666666,
              "#ed7953"
             ],
             [
              0.7777777777777778,
              "#fb9f3a"
             ],
             [
              0.8888888888888888,
              "#fdca26"
             ],
             [
              1,
              "#f0f921"
             ]
            ],
            "type": "histogram2dcontour"
           }
          ],
          "mesh3d": [
           {
            "colorbar": {
             "outlinewidth": 0,
             "ticks": ""
            },
            "type": "mesh3d"
           }
          ],
          "parcoords": [
           {
            "line": {
             "colorbar": {
              "outlinewidth": 0,
              "ticks": ""
             }
            },
            "type": "parcoords"
           }
          ],
          "pie": [
           {
            "automargin": true,
            "type": "pie"
           }
          ],
          "scatter": [
           {
            "marker": {
             "colorbar": {
              "outlinewidth": 0,
              "ticks": ""
             }
            },
            "type": "scatter"
           }
          ],
          "scatter3d": [
           {
            "line": {
             "colorbar": {
              "outlinewidth": 0,
              "ticks": ""
             }
            },
            "marker": {
             "colorbar": {
              "outlinewidth": 0,
              "ticks": ""
             }
            },
            "type": "scatter3d"
           }
          ],
          "scattercarpet": [
           {
            "marker": {
             "colorbar": {
              "outlinewidth": 0,
              "ticks": ""
             }
            },
            "type": "scattercarpet"
           }
          ],
          "scattergeo": [
           {
            "marker": {
             "colorbar": {
              "outlinewidth": 0,
              "ticks": ""
             }
            },
            "type": "scattergeo"
           }
          ],
          "scattergl": [
           {
            "marker": {
             "colorbar": {
              "outlinewidth": 0,
              "ticks": ""
             }
            },
            "type": "scattergl"
           }
          ],
          "scattermapbox": [
           {
            "marker": {
             "colorbar": {
              "outlinewidth": 0,
              "ticks": ""
             }
            },
            "type": "scattermapbox"
           }
          ],
          "scatterpolar": [
           {
            "marker": {
             "colorbar": {
              "outlinewidth": 0,
              "ticks": ""
             }
            },
            "type": "scatterpolar"
           }
          ],
          "scatterpolargl": [
           {
            "marker": {
             "colorbar": {
              "outlinewidth": 0,
              "ticks": ""
             }
            },
            "type": "scatterpolargl"
           }
          ],
          "scatterternary": [
           {
            "marker": {
             "colorbar": {
              "outlinewidth": 0,
              "ticks": ""
             }
            },
            "type": "scatterternary"
           }
          ],
          "surface": [
           {
            "colorbar": {
             "outlinewidth": 0,
             "ticks": ""
            },
            "colorscale": [
             [
              0,
              "#0d0887"
             ],
             [
              0.1111111111111111,
              "#46039f"
             ],
             [
              0.2222222222222222,
              "#7201a8"
             ],
             [
              0.3333333333333333,
              "#9c179e"
             ],
             [
              0.4444444444444444,
              "#bd3786"
             ],
             [
              0.5555555555555556,
              "#d8576b"
             ],
             [
              0.6666666666666666,
              "#ed7953"
             ],
             [
              0.7777777777777778,
              "#fb9f3a"
             ],
             [
              0.8888888888888888,
              "#fdca26"
             ],
             [
              1,
              "#f0f921"
             ]
            ],
            "type": "surface"
           }
          ],
          "table": [
           {
            "cells": {
             "fill": {
              "color": "#EBF0F8"
             },
             "line": {
              "color": "white"
             }
            },
            "header": {
             "fill": {
              "color": "#C8D4E3"
             },
             "line": {
              "color": "white"
             }
            },
            "type": "table"
           }
          ]
         },
         "layout": {
          "annotationdefaults": {
           "arrowcolor": "#2a3f5f",
           "arrowhead": 0,
           "arrowwidth": 1
          },
          "autotypenumbers": "strict",
          "coloraxis": {
           "colorbar": {
            "outlinewidth": 0,
            "ticks": ""
           }
          },
          "colorscale": {
           "diverging": [
            [
             0,
             "#8e0152"
            ],
            [
             0.1,
             "#c51b7d"
            ],
            [
             0.2,
             "#de77ae"
            ],
            [
             0.3,
             "#f1b6da"
            ],
            [
             0.4,
             "#fde0ef"
            ],
            [
             0.5,
             "#f7f7f7"
            ],
            [
             0.6,
             "#e6f5d0"
            ],
            [
             0.7,
             "#b8e186"
            ],
            [
             0.8,
             "#7fbc41"
            ],
            [
             0.9,
             "#4d9221"
            ],
            [
             1,
             "#276419"
            ]
           ],
           "sequential": [
            [
             0,
             "#0d0887"
            ],
            [
             0.1111111111111111,
             "#46039f"
            ],
            [
             0.2222222222222222,
             "#7201a8"
            ],
            [
             0.3333333333333333,
             "#9c179e"
            ],
            [
             0.4444444444444444,
             "#bd3786"
            ],
            [
             0.5555555555555556,
             "#d8576b"
            ],
            [
             0.6666666666666666,
             "#ed7953"
            ],
            [
             0.7777777777777778,
             "#fb9f3a"
            ],
            [
             0.8888888888888888,
             "#fdca26"
            ],
            [
             1,
             "#f0f921"
            ]
           ],
           "sequentialminus": [
            [
             0,
             "#0d0887"
            ],
            [
             0.1111111111111111,
             "#46039f"
            ],
            [
             0.2222222222222222,
             "#7201a8"
            ],
            [
             0.3333333333333333,
             "#9c179e"
            ],
            [
             0.4444444444444444,
             "#bd3786"
            ],
            [
             0.5555555555555556,
             "#d8576b"
            ],
            [
             0.6666666666666666,
             "#ed7953"
            ],
            [
             0.7777777777777778,
             "#fb9f3a"
            ],
            [
             0.8888888888888888,
             "#fdca26"
            ],
            [
             1,
             "#f0f921"
            ]
           ]
          },
          "colorway": [
           "#636efa",
           "#EF553B",
           "#00cc96",
           "#ab63fa",
           "#FFA15A",
           "#19d3f3",
           "#FF6692",
           "#B6E880",
           "#FF97FF",
           "#FECB52"
          ],
          "font": {
           "color": "#2a3f5f"
          },
          "geo": {
           "bgcolor": "white",
           "lakecolor": "white",
           "landcolor": "#E5ECF6",
           "showlakes": true,
           "showland": true,
           "subunitcolor": "white"
          },
          "hoverlabel": {
           "align": "left"
          },
          "hovermode": "closest",
          "mapbox": {
           "style": "light"
          },
          "paper_bgcolor": "white",
          "plot_bgcolor": "#E5ECF6",
          "polar": {
           "angularaxis": {
            "gridcolor": "white",
            "linecolor": "white",
            "ticks": ""
           },
           "bgcolor": "#E5ECF6",
           "radialaxis": {
            "gridcolor": "white",
            "linecolor": "white",
            "ticks": ""
           }
          },
          "scene": {
           "xaxis": {
            "backgroundcolor": "#E5ECF6",
            "gridcolor": "white",
            "gridwidth": 2,
            "linecolor": "white",
            "showbackground": true,
            "ticks": "",
            "zerolinecolor": "white"
           },
           "yaxis": {
            "backgroundcolor": "#E5ECF6",
            "gridcolor": "white",
            "gridwidth": 2,
            "linecolor": "white",
            "showbackground": true,
            "ticks": "",
            "zerolinecolor": "white"
           },
           "zaxis": {
            "backgroundcolor": "#E5ECF6",
            "gridcolor": "white",
            "gridwidth": 2,
            "linecolor": "white",
            "showbackground": true,
            "ticks": "",
            "zerolinecolor": "white"
           }
          },
          "shapedefaults": {
           "line": {
            "color": "#2a3f5f"
           }
          },
          "ternary": {
           "aaxis": {
            "gridcolor": "white",
            "linecolor": "white",
            "ticks": ""
           },
           "baxis": {
            "gridcolor": "white",
            "linecolor": "white",
            "ticks": ""
           },
           "bgcolor": "#E5ECF6",
           "caxis": {
            "gridcolor": "white",
            "linecolor": "white",
            "ticks": ""
           }
          },
          "title": {
           "x": 0.05
          },
          "xaxis": {
           "automargin": true,
           "gridcolor": "white",
           "linecolor": "white",
           "ticks": "",
           "title": {
            "standoff": 15
           },
           "zerolinecolor": "white",
           "zerolinewidth": 2
          },
          "yaxis": {
           "automargin": true,
           "gridcolor": "white",
           "linecolor": "white",
           "ticks": "",
           "title": {
            "standoff": 15
           },
           "zerolinecolor": "white",
           "zerolinewidth": 2
          }
         }
        },
        "title": {
         "font": {
          "color": "#4D5663"
         }
        },
        "xaxis": {
         "anchor": "y",
         "domain": [
          0,
          0.2125
         ],
         "gridcolor": "#E1E5ED",
         "showgrid": false,
         "tickfont": {
          "color": "#4D5663"
         },
         "title": {
          "font": {
           "color": "#4D5663"
          },
          "text": ""
         },
         "zerolinecolor": "#E1E5ED"
        },
        "xaxis10": {
         "anchor": "y10",
         "domain": [
          0.2625,
          0.475
         ],
         "gridcolor": "#E1E5ED",
         "showgrid": false,
         "tickfont": {
          "color": "#4D5663"
         },
         "title": {
          "font": {
           "color": "#4D5663"
          },
          "text": ""
         },
         "zerolinecolor": "#E1E5ED"
        },
        "xaxis11": {
         "anchor": "y11",
         "domain": [
          0.525,
          0.7375
         ],
         "gridcolor": "#E1E5ED",
         "showgrid": false,
         "tickfont": {
          "color": "#4D5663"
         },
         "title": {
          "font": {
           "color": "#4D5663"
          },
          "text": ""
         },
         "zerolinecolor": "#E1E5ED"
        },
        "xaxis12": {
         "anchor": "y12",
         "domain": [
          0.7875,
          1
         ],
         "gridcolor": "#E1E5ED",
         "showgrid": false,
         "tickfont": {
          "color": "#4D5663"
         },
         "title": {
          "font": {
           "color": "#4D5663"
          },
          "text": ""
         },
         "zerolinecolor": "#E1E5ED"
        },
        "xaxis13": {
         "anchor": "y13",
         "domain": [
          0,
          0.2125
         ],
         "gridcolor": "#E1E5ED",
         "showgrid": false,
         "tickfont": {
          "color": "#4D5663"
         },
         "title": {
          "font": {
           "color": "#4D5663"
          },
          "text": ""
         },
         "zerolinecolor": "#E1E5ED"
        },
        "xaxis14": {
         "anchor": "y14",
         "domain": [
          0.2625,
          0.475
         ],
         "gridcolor": "#E1E5ED",
         "showgrid": false,
         "tickfont": {
          "color": "#4D5663"
         },
         "title": {
          "font": {
           "color": "#4D5663"
          },
          "text": ""
         },
         "zerolinecolor": "#E1E5ED"
        },
        "xaxis15": {
         "anchor": "y15",
         "domain": [
          0.525,
          0.7375
         ],
         "gridcolor": "#E1E5ED",
         "showgrid": false,
         "tickfont": {
          "color": "#4D5663"
         },
         "title": {
          "font": {
           "color": "#4D5663"
          },
          "text": ""
         },
         "zerolinecolor": "#E1E5ED"
        },
        "xaxis16": {
         "anchor": "y16",
         "domain": [
          0.7875,
          1
         ],
         "gridcolor": "#E1E5ED",
         "showgrid": false,
         "tickfont": {
          "color": "#4D5663"
         },
         "title": {
          "font": {
           "color": "#4D5663"
          },
          "text": ""
         },
         "zerolinecolor": "#E1E5ED"
        },
        "xaxis2": {
         "anchor": "y2",
         "domain": [
          0.2625,
          0.475
         ],
         "gridcolor": "#E1E5ED",
         "showgrid": false,
         "tickfont": {
          "color": "#4D5663"
         },
         "title": {
          "font": {
           "color": "#4D5663"
          },
          "text": ""
         },
         "zerolinecolor": "#E1E5ED"
        },
        "xaxis3": {
         "anchor": "y3",
         "domain": [
          0.525,
          0.7375
         ],
         "gridcolor": "#E1E5ED",
         "showgrid": false,
         "tickfont": {
          "color": "#4D5663"
         },
         "title": {
          "font": {
           "color": "#4D5663"
          },
          "text": ""
         },
         "zerolinecolor": "#E1E5ED"
        },
        "xaxis4": {
         "anchor": "y4",
         "domain": [
          0.7875,
          1
         ],
         "gridcolor": "#E1E5ED",
         "showgrid": false,
         "tickfont": {
          "color": "#4D5663"
         },
         "title": {
          "font": {
           "color": "#4D5663"
          },
          "text": ""
         },
         "zerolinecolor": "#E1E5ED"
        },
        "xaxis5": {
         "anchor": "y5",
         "domain": [
          0,
          0.2125
         ],
         "gridcolor": "#E1E5ED",
         "showgrid": false,
         "tickfont": {
          "color": "#4D5663"
         },
         "title": {
          "font": {
           "color": "#4D5663"
          },
          "text": ""
         },
         "zerolinecolor": "#E1E5ED"
        },
        "xaxis6": {
         "anchor": "y6",
         "domain": [
          0.2625,
          0.475
         ],
         "gridcolor": "#E1E5ED",
         "showgrid": false,
         "tickfont": {
          "color": "#4D5663"
         },
         "title": {
          "font": {
           "color": "#4D5663"
          },
          "text": ""
         },
         "zerolinecolor": "#E1E5ED"
        },
        "xaxis7": {
         "anchor": "y7",
         "domain": [
          0.525,
          0.7375
         ],
         "gridcolor": "#E1E5ED",
         "showgrid": false,
         "tickfont": {
          "color": "#4D5663"
         },
         "title": {
          "font": {
           "color": "#4D5663"
          },
          "text": ""
         },
         "zerolinecolor": "#E1E5ED"
        },
        "xaxis8": {
         "anchor": "y8",
         "domain": [
          0.7875,
          1
         ],
         "gridcolor": "#E1E5ED",
         "showgrid": false,
         "tickfont": {
          "color": "#4D5663"
         },
         "title": {
          "font": {
           "color": "#4D5663"
          },
          "text": ""
         },
         "zerolinecolor": "#E1E5ED"
        },
        "xaxis9": {
         "anchor": "y9",
         "domain": [
          0,
          0.2125
         ],
         "gridcolor": "#E1E5ED",
         "showgrid": false,
         "tickfont": {
          "color": "#4D5663"
         },
         "title": {
          "font": {
           "color": "#4D5663"
          },
          "text": ""
         },
         "zerolinecolor": "#E1E5ED"
        },
        "yaxis": {
         "anchor": "x",
         "domain": [
          0.8025,
          1
         ],
         "gridcolor": "#E1E5ED",
         "showgrid": false,
         "tickfont": {
          "color": "#4D5663"
         },
         "title": {
          "font": {
           "color": "#4D5663"
          },
          "text": ""
         },
         "zerolinecolor": "#E1E5ED"
        },
        "yaxis10": {
         "anchor": "x10",
         "domain": [
          0.2675,
          0.465
         ],
         "gridcolor": "#E1E5ED",
         "showgrid": false,
         "tickfont": {
          "color": "#4D5663"
         },
         "title": {
          "font": {
           "color": "#4D5663"
          },
          "text": ""
         },
         "zerolinecolor": "#E1E5ED"
        },
        "yaxis11": {
         "anchor": "x11",
         "domain": [
          0.2675,
          0.465
         ],
         "gridcolor": "#E1E5ED",
         "showgrid": false,
         "tickfont": {
          "color": "#4D5663"
         },
         "title": {
          "font": {
           "color": "#4D5663"
          },
          "text": ""
         },
         "zerolinecolor": "#E1E5ED"
        },
        "yaxis12": {
         "anchor": "x12",
         "domain": [
          0.2675,
          0.465
         ],
         "gridcolor": "#E1E5ED",
         "showgrid": false,
         "tickfont": {
          "color": "#4D5663"
         },
         "title": {
          "font": {
           "color": "#4D5663"
          },
          "text": ""
         },
         "zerolinecolor": "#E1E5ED"
        },
        "yaxis13": {
         "anchor": "x13",
         "domain": [
          0,
          0.1975
         ],
         "gridcolor": "#E1E5ED",
         "showgrid": false,
         "tickfont": {
          "color": "#4D5663"
         },
         "title": {
          "font": {
           "color": "#4D5663"
          },
          "text": ""
         },
         "zerolinecolor": "#E1E5ED"
        },
        "yaxis14": {
         "anchor": "x14",
         "domain": [
          0,
          0.1975
         ],
         "gridcolor": "#E1E5ED",
         "showgrid": false,
         "tickfont": {
          "color": "#4D5663"
         },
         "title": {
          "font": {
           "color": "#4D5663"
          },
          "text": ""
         },
         "zerolinecolor": "#E1E5ED"
        },
        "yaxis15": {
         "anchor": "x15",
         "domain": [
          0,
          0.1975
         ],
         "gridcolor": "#E1E5ED",
         "showgrid": false,
         "tickfont": {
          "color": "#4D5663"
         },
         "title": {
          "font": {
           "color": "#4D5663"
          },
          "text": ""
         },
         "zerolinecolor": "#E1E5ED"
        },
        "yaxis16": {
         "anchor": "x16",
         "domain": [
          0,
          0.1975
         ],
         "gridcolor": "#E1E5ED",
         "showgrid": false,
         "tickfont": {
          "color": "#4D5663"
         },
         "title": {
          "font": {
           "color": "#4D5663"
          },
          "text": ""
         },
         "zerolinecolor": "#E1E5ED"
        },
        "yaxis2": {
         "anchor": "x2",
         "domain": [
          0.8025,
          1
         ],
         "gridcolor": "#E1E5ED",
         "showgrid": false,
         "tickfont": {
          "color": "#4D5663"
         },
         "title": {
          "font": {
           "color": "#4D5663"
          },
          "text": ""
         },
         "zerolinecolor": "#E1E5ED"
        },
        "yaxis3": {
         "anchor": "x3",
         "domain": [
          0.8025,
          1
         ],
         "gridcolor": "#E1E5ED",
         "showgrid": false,
         "tickfont": {
          "color": "#4D5663"
         },
         "title": {
          "font": {
           "color": "#4D5663"
          },
          "text": ""
         },
         "zerolinecolor": "#E1E5ED"
        },
        "yaxis4": {
         "anchor": "x4",
         "domain": [
          0.8025,
          1
         ],
         "gridcolor": "#E1E5ED",
         "showgrid": false,
         "tickfont": {
          "color": "#4D5663"
         },
         "title": {
          "font": {
           "color": "#4D5663"
          },
          "text": ""
         },
         "zerolinecolor": "#E1E5ED"
        },
        "yaxis5": {
         "anchor": "x5",
         "domain": [
          0.535,
          0.7325
         ],
         "gridcolor": "#E1E5ED",
         "showgrid": false,
         "tickfont": {
          "color": "#4D5663"
         },
         "title": {
          "font": {
           "color": "#4D5663"
          },
          "text": ""
         },
         "zerolinecolor": "#E1E5ED"
        },
        "yaxis6": {
         "anchor": "x6",
         "domain": [
          0.535,
          0.7325
         ],
         "gridcolor": "#E1E5ED",
         "showgrid": false,
         "tickfont": {
          "color": "#4D5663"
         },
         "title": {
          "font": {
           "color": "#4D5663"
          },
          "text": ""
         },
         "zerolinecolor": "#E1E5ED"
        },
        "yaxis7": {
         "anchor": "x7",
         "domain": [
          0.535,
          0.7325
         ],
         "gridcolor": "#E1E5ED",
         "showgrid": false,
         "tickfont": {
          "color": "#4D5663"
         },
         "title": {
          "font": {
           "color": "#4D5663"
          },
          "text": ""
         },
         "zerolinecolor": "#E1E5ED"
        },
        "yaxis8": {
         "anchor": "x8",
         "domain": [
          0.535,
          0.7325
         ],
         "gridcolor": "#E1E5ED",
         "showgrid": false,
         "tickfont": {
          "color": "#4D5663"
         },
         "title": {
          "font": {
           "color": "#4D5663"
          },
          "text": ""
         },
         "zerolinecolor": "#E1E5ED"
        },
        "yaxis9": {
         "anchor": "x9",
         "domain": [
          0.2675,
          0.465
         ],
         "gridcolor": "#E1E5ED",
         "showgrid": false,
         "tickfont": {
          "color": "#4D5663"
         },
         "title": {
          "font": {
           "color": "#4D5663"
          },
          "text": ""
         },
         "zerolinecolor": "#E1E5ED"
        }
       }
      },
      "text/html": [
       "<div>                            <div id=\"f39d3c07-4a3d-408b-9abe-ec94e9020ee3\" class=\"plotly-graph-div\" style=\"height:525px; width:100%;\"></div>            <script type=\"text/javascript\">                require([\"plotly\"], function(Plotly) {                    window.PLOTLYENV=window.PLOTLYENV || {};\n",
       "                    window.PLOTLYENV.BASE_URL='https://plot.ly';                                    if (document.getElementById(\"f39d3c07-4a3d-408b-9abe-ec94e9020ee3\")) {                    Plotly.newPlot(                        \"f39d3c07-4a3d-408b-9abe-ec94e9020ee3\",                        [{\"histfunc\": \"count\", \"histnorm\": \"\", \"marker\": {\"color\": \"rgba(255, 153, 51, 1.0)\", \"line\": {\"color\": \"#4D5663\", \"width\": 1.3}}, \"name\": \"A\", \"nbinsx\": 10, \"opacity\": 0.8, \"orientation\": \"v\", \"type\": \"histogram\", \"x\": [-1.5055387470969204, -1.5281336080932433, 0.5475375225269746, -0.5011536835325386, -1.1342277894161847, -1.3421654609689813, 1.0480587954437626, 0.1079858186458624, -0.5188967289497634, -0.2365765719760372, -0.6671966901411546, 0.4808958294390424, 0.2543237589685781, 0.6624634680374704, -1.8806637507850557, -1.7714952898637082, -0.1450552767082512, 0.3258012317547289, -1.9793404774159449, -1.837133213610893, 1.2048818510023436, -1.2146576222324894, 0.10051316757305068, 0.6503065455095138, -0.1037762205561722, 1.5796280422577185, 0.24683397628064682, -0.19632846361111042, -1.659879956912887, -0.7362869487055028, 0.696560945958403, 0.35011393191088397, -0.22294636893507996, -0.4490245617166439, -0.03413210591976646, 0.3813225689164726, -0.06804276535356155, -1.017866017986653, -0.48305879639553495, -0.8421918238373384, 0.09428074990969793, -0.3709780159244891, -2.4496465657011495, 1.0103436605626173, 1.246075620844197, 1.1997700774819116, 1.594497731670918, -0.22731603166056338, 0.6569588970958761, 0.09856549719926379, -0.8922698305611144, -0.9138306160664806, 0.5356427374304688, -0.287939493916266, -0.21742881701656078, -0.8522247181710058, -0.5253701618708698, 1.5428396249131306, 0.3411566218250933, 0.49922207449863165, 1.323964658717949, -1.3824171121263014, 0.9701483427037748, 0.4401818048772333, 1.3076536066443993, 2.355220713044908, 0.3330440295546341, -0.24749042740682606, 1.4700037958120582, 0.5275901521486961, 0.2318440908726942, 0.830445816962907, -0.5513743588021469, -0.20295015318623347, -0.836131924104717, -0.7937607157928708, 1.3319788440982268, -1.047455664669664, 1.0156429726730842, 0.07046136873997877, -1.1429664531146777, -0.8423125200880234, -1.7088559269805108, 0.23054946399192716, 1.2853740970875533, 0.7466025932529883, 1.5283495573924988, -0.0008903010811767334, -0.5698892720745149, -1.7421401214515508, -0.4387436019528569, 0.8418373255406498, -0.9637173207896174, 2.117703825261018, 0.9834391674180394, 0.3674088194285618, 1.5588053824031243, 0.2811852508479091, -1.7212704314648224, 1.0067873970433072], \"xaxis\": \"x\", \"yaxis\": \"y\"}, {\"line\": {\"color\": \"rgba(128, 128, 128, 1.0)\", \"dash\": \"solid\", \"shape\": \"linear\", \"width\": 1.3}, \"marker\": {\"size\": 2, \"symbol\": \"circle\"}, \"mode\": \"markers\", \"name\": \"A\", \"text\": \"\", \"type\": \"scatter\", \"x\": [2.4959431719015757, 0.9276577510015102, 1.0050336280819714, -1.3414197951503666, 0.8746494229204337, 1.540503680338683, 0.36341469733085086, 0.2725456247333992, 1.8256614150093526, 0.4156453561321367, 1.4259125348996546, 0.5946871352044677, -0.996617192940703, -1.7343975620344267, 1.2605362115718608, 0.7792065667383924, -0.598165859683212, 0.3141166478645829, 2.028966264269778, -0.29196792479850614, 0.18451884374077343, 0.8624614728842477, 0.3480036276243098, 0.9367617347955924, 0.029764440610968956, 0.43061141935071345, -0.4186082014870178, -1.7469339996527733, -0.6344513661954309, 1.3582828527644264, -0.17399511524737038, 0.2331979361358069, -0.5836430876609441, -0.5091931531527603, -1.8430549827322322, 0.37972796141810045, -1.3500784339650678, -0.45771898539282563, 1.2708557850766116, -0.5777786253036234, -1.2136208429910493, 0.15180784778636058, 0.2518712007834114, 0.08812308785230992, -1.2262731538059652, -0.5228326084951959, 0.19439384594219133, -0.9677730140765817, 0.557013465619875, -2.6221107321614343, 0.34155621542304865, -1.0928749241983184, 1.39021765404278, -1.098393256437507, 1.365337542457722, -0.5707302449812107, -1.2005965785299708, -1.3298935269144292, -0.9460922681345796, -2.4804821303330415, 0.2794024307283462, -0.2128762900828223, -1.3961752300117987, -0.6975097022746658, 0.7203967384329273, 0.29590483041240295, 0.8214083566509665, -1.6138757379035886, 0.48213257156387984, -0.31657725802601844, 1.0036338052593803, -0.10501177153419351, -0.8632321261513736, 0.8360545538876548, 0.6452586861239282, -0.2313606912932169, 0.15547924818340117, 1.0450768088182119, -1.4390022209407076, 0.13533822747627927, -0.5688684967823189, -1.8417192752743694, -1.2450741247080495, 0.1405813522908807, -0.041901845147847776, -0.3785270769658319, -1.0026510762222551, 0.7792789540191182, -1.3267008036468066, -0.9617055507968908, 3.3011836296868546, -0.5845028743081897, -0.38304968847196313, -1.2753623714544455, -1.0490741676789088, -0.007588023951681576, 1.2022958402644337, 1.2222414150527166, -1.1693910600131703, -1.01440354370347], \"xaxis\": \"x2\", \"y\": [-1.5055387470969204, -1.5281336080932433, 0.5475375225269746, -0.5011536835325386, -1.1342277894161847, -1.3421654609689813, 1.0480587954437626, 0.1079858186458624, -0.5188967289497634, -0.2365765719760372, -0.6671966901411546, 0.4808958294390424, 0.2543237589685781, 0.6624634680374704, -1.8806637507850557, -1.7714952898637082, -0.1450552767082512, 0.3258012317547289, -1.9793404774159449, -1.837133213610893, 1.2048818510023436, -1.2146576222324894, 0.10051316757305068, 0.6503065455095138, -0.1037762205561722, 1.5796280422577185, 0.24683397628064682, -0.19632846361111042, -1.659879956912887, -0.7362869487055028, 0.696560945958403, 0.35011393191088397, -0.22294636893507996, -0.4490245617166439, -0.03413210591976646, 0.3813225689164726, -0.06804276535356155, -1.017866017986653, -0.48305879639553495, -0.8421918238373384, 0.09428074990969793, -0.3709780159244891, -2.4496465657011495, 1.0103436605626173, 1.246075620844197, 1.1997700774819116, 1.594497731670918, -0.22731603166056338, 0.6569588970958761, 0.09856549719926379, -0.8922698305611144, -0.9138306160664806, 0.5356427374304688, -0.287939493916266, -0.21742881701656078, -0.8522247181710058, -0.5253701618708698, 1.5428396249131306, 0.3411566218250933, 0.49922207449863165, 1.323964658717949, -1.3824171121263014, 0.9701483427037748, 0.4401818048772333, 1.3076536066443993, 2.355220713044908, 0.3330440295546341, -0.24749042740682606, 1.4700037958120582, 0.5275901521486961, 0.2318440908726942, 0.830445816962907, -0.5513743588021469, -0.20295015318623347, -0.836131924104717, -0.7937607157928708, 1.3319788440982268, -1.047455664669664, 1.0156429726730842, 0.07046136873997877, -1.1429664531146777, -0.8423125200880234, -1.7088559269805108, 0.23054946399192716, 1.2853740970875533, 0.7466025932529883, 1.5283495573924988, -0.0008903010811767334, -0.5698892720745149, -1.7421401214515508, -0.4387436019528569, 0.8418373255406498, -0.9637173207896174, 2.117703825261018, 0.9834391674180394, 0.3674088194285618, 1.5588053824031243, 0.2811852508479091, -1.7212704314648224, 1.0067873970433072], \"yaxis\": \"y2\"}, {\"line\": {\"color\": \"rgba(128, 128, 128, 1.0)\", \"dash\": \"solid\", \"shape\": \"linear\", \"width\": 1.3}, \"marker\": {\"size\": 2, \"symbol\": \"circle\"}, \"mode\": \"markers\", \"name\": \"A\", \"text\": \"\", \"type\": \"scatter\", \"x\": [-0.6070843931902513, -1.550186819501212, 0.07402175255024296, -1.6727597423365705, -1.7747583910034577, 1.6732586491150208, 1.572907449863755, -1.0191918459583762, 0.06657805559187664, 0.7518875748356615, 1.0120311989247777, -0.8060283145444608, 1.2594634131257534, 1.9374402607782335, 1.072469596698813, -1.4463161029473193, -0.15089134345347371, 0.42924780813602254, 0.6716929415150239, 0.32314783000657255, -1.61098367979105, -0.4983536365895974, 0.5857687814656891, 2.4738702248773934, -0.46138399542897146, 0.5036695851862864, 1.0208569116710664, -1.2481419559669107, 0.026930185314432985, -0.09034917282227793, 0.24432044667313244, 0.6537224009803874, 0.5840885998430435, 1.4419767145061206, -1.0512763706505548, 1.1312767057127755, 0.10915542272810211, -1.2955116067749746, -0.9706199188825938, 0.6512076494462121, -0.36388879961990955, 0.901691909436344, 0.4079594285015438, 0.4083784834049719, -1.4933555603059998, -1.573303695616015, 2.164698369254346, 1.9074618965849457, -0.7772845518413163, 1.6644264981223373, -1.0463790562939157, -2.3567897108046636, 0.3883146524218016, 0.3138141917212112, -0.9660551820291213, 1.7685355619984595, -1.1084210884662882, -0.9075600940794092, 0.8334447578197528, -2.303731027787879, 0.39538182036684477, -1.029199368076163, -0.5010158542558378, 0.36151214906204815, -0.5091598678643701, 0.012475759687603068, -1.101934077076176, 0.3241367604735915, -0.15723716886990896, 0.4936107108268825, 0.6499376290725292, 0.02031196522300759, 0.17801436846090046, 0.7374790308271773, 0.2556650013608954, -0.22283530056353568, -0.9596373189035621, -0.14892666331915166, 0.4582495251756337, 0.06890368932967741, 0.2098710302373936, -1.140949211625298, 0.028010944948761853, -0.23580184923574032, -0.40273086213325493, 0.7014179306786912, 1.6235495508883768, -0.15022748598169697, -1.4477694102528924, -0.5981083445043424, -0.8673835479843751, 0.017651431172649803, 0.6494504217660723, -0.39637994067722565, -0.1136461956080303, 0.3055887053481512, -0.9830675683189555, -1.6248149695970981, 0.024839958867038266, -0.4928344424178749], \"xaxis\": \"x3\", \"y\": [-1.5055387470969204, -1.5281336080932433, 0.5475375225269746, -0.5011536835325386, -1.1342277894161847, -1.3421654609689813, 1.0480587954437626, 0.1079858186458624, -0.5188967289497634, -0.2365765719760372, -0.6671966901411546, 0.4808958294390424, 0.2543237589685781, 0.6624634680374704, -1.8806637507850557, -1.7714952898637082, -0.1450552767082512, 0.3258012317547289, -1.9793404774159449, -1.837133213610893, 1.2048818510023436, -1.2146576222324894, 0.10051316757305068, 0.6503065455095138, -0.1037762205561722, 1.5796280422577185, 0.24683397628064682, -0.19632846361111042, -1.659879956912887, -0.7362869487055028, 0.696560945958403, 0.35011393191088397, -0.22294636893507996, -0.4490245617166439, -0.03413210591976646, 0.3813225689164726, -0.06804276535356155, -1.017866017986653, -0.48305879639553495, -0.8421918238373384, 0.09428074990969793, -0.3709780159244891, -2.4496465657011495, 1.0103436605626173, 1.246075620844197, 1.1997700774819116, 1.594497731670918, -0.22731603166056338, 0.6569588970958761, 0.09856549719926379, -0.8922698305611144, -0.9138306160664806, 0.5356427374304688, -0.287939493916266, -0.21742881701656078, -0.8522247181710058, -0.5253701618708698, 1.5428396249131306, 0.3411566218250933, 0.49922207449863165, 1.323964658717949, -1.3824171121263014, 0.9701483427037748, 0.4401818048772333, 1.3076536066443993, 2.355220713044908, 0.3330440295546341, -0.24749042740682606, 1.4700037958120582, 0.5275901521486961, 0.2318440908726942, 0.830445816962907, -0.5513743588021469, -0.20295015318623347, -0.836131924104717, -0.7937607157928708, 1.3319788440982268, -1.047455664669664, 1.0156429726730842, 0.07046136873997877, -1.1429664531146777, -0.8423125200880234, -1.7088559269805108, 0.23054946399192716, 1.2853740970875533, 0.7466025932529883, 1.5283495573924988, -0.0008903010811767334, -0.5698892720745149, -1.7421401214515508, -0.4387436019528569, 0.8418373255406498, -0.9637173207896174, 2.117703825261018, 0.9834391674180394, 0.3674088194285618, 1.5588053824031243, 0.2811852508479091, -1.7212704314648224, 1.0067873970433072], \"yaxis\": \"y3\"}, {\"line\": {\"color\": \"rgba(128, 128, 128, 1.0)\", \"dash\": \"solid\", \"shape\": \"linear\", \"width\": 1.3}, \"marker\": {\"size\": 2, \"symbol\": \"circle\"}, \"mode\": \"markers\", \"name\": \"A\", \"text\": \"\", \"type\": \"scatter\", \"x\": [-0.28576517870678514, 0.2952403250343437, 0.7191803693698858, 1.3756994320304368, -0.7739026281447616, -0.3750850239030581, 1.0724380226632415, -0.958875569717978, -0.1437109871411821, 1.517751015254013, 0.3976160958187145, 0.027066180006063405, 0.1873537323051807, -1.4328145974330802, 0.9011575568144171, 0.05414923942336671, -1.2320439954383886, 0.2857752972004397, 1.0847200261606957, 0.6904127393702959, 1.6013090687066236, 0.745391125754057, 0.3092282047918577, 0.12851303815475068, 0.07286120510039872, 0.8701079915926673, -1.1671742749899363, -0.8066298265655404, 0.6894543856686854, 0.30417605364579775, 2.1033271361543875, -0.6159709057979542, 0.2943353572964051, 0.2757627158931991, 0.06682034721256952, -0.6680633568610859, 0.5495712858733507, 0.746361695210706, 0.21574054184511707, -1.4800708198894106, 0.23936984673278713, 0.21067285546175818, -0.49250746657804684, 0.5002169985650018, 0.39659686438909386, -0.999232801989697, -0.25042492925072546, -1.2474258020413058, 1.419631310862581, 0.20758270000654724, -0.4162145180293298, -0.1232996862225204, -1.2305583511161229, -0.5848479983667825, -1.189267459024485, -0.3371647224447984, 0.6663114115090681, -1.5988754768656614, 0.13961548226013815, -0.41366803202121716, 0.7789435474742897, 0.5730007203063938, -1.4921513665207469, -0.8656919297289787, -1.916966904016963, -1.5112066392987253, -1.139731780975787, 1.6496484274025918, -0.9114562919705926, 1.7088040926110988, 0.8106893360917262, -1.5019697945067845, 0.12492900643115513, -0.5881388326874711, -0.5554522859164184, -0.5914883401393713, -0.3804979423428619, 0.002850160796405025, -0.8273100246545217, 1.315704561474466, -0.6401121587201171, 1.2386424119370028, 0.15996201094139392, -2.305501712981525, 0.39551399720275215, 1.5843663021362573, -0.7352121347078673, 1.4883193252411961, -0.22751700304547093, -1.492653335824817, -0.43778352764558337, -0.45599357032424565, -0.011917372625794538, 1.2517732000031179, -1.0252022173959074, -0.6057589830332419, 0.13930718974140305, -0.328796158203867, 0.3947410749795082, -0.2333185414774946], \"xaxis\": \"x4\", \"y\": [-1.5055387470969204, -1.5281336080932433, 0.5475375225269746, -0.5011536835325386, -1.1342277894161847, -1.3421654609689813, 1.0480587954437626, 0.1079858186458624, -0.5188967289497634, -0.2365765719760372, -0.6671966901411546, 0.4808958294390424, 0.2543237589685781, 0.6624634680374704, -1.8806637507850557, -1.7714952898637082, -0.1450552767082512, 0.3258012317547289, -1.9793404774159449, -1.837133213610893, 1.2048818510023436, -1.2146576222324894, 0.10051316757305068, 0.6503065455095138, -0.1037762205561722, 1.5796280422577185, 0.24683397628064682, -0.19632846361111042, -1.659879956912887, -0.7362869487055028, 0.696560945958403, 0.35011393191088397, -0.22294636893507996, -0.4490245617166439, -0.03413210591976646, 0.3813225689164726, -0.06804276535356155, -1.017866017986653, -0.48305879639553495, -0.8421918238373384, 0.09428074990969793, -0.3709780159244891, -2.4496465657011495, 1.0103436605626173, 1.246075620844197, 1.1997700774819116, 1.594497731670918, -0.22731603166056338, 0.6569588970958761, 0.09856549719926379, -0.8922698305611144, -0.9138306160664806, 0.5356427374304688, -0.287939493916266, -0.21742881701656078, -0.8522247181710058, -0.5253701618708698, 1.5428396249131306, 0.3411566218250933, 0.49922207449863165, 1.323964658717949, -1.3824171121263014, 0.9701483427037748, 0.4401818048772333, 1.3076536066443993, 2.355220713044908, 0.3330440295546341, -0.24749042740682606, 1.4700037958120582, 0.5275901521486961, 0.2318440908726942, 0.830445816962907, -0.5513743588021469, -0.20295015318623347, -0.836131924104717, -0.7937607157928708, 1.3319788440982268, -1.047455664669664, 1.0156429726730842, 0.07046136873997877, -1.1429664531146777, -0.8423125200880234, -1.7088559269805108, 0.23054946399192716, 1.2853740970875533, 0.7466025932529883, 1.5283495573924988, -0.0008903010811767334, -0.5698892720745149, -1.7421401214515508, -0.4387436019528569, 0.8418373255406498, -0.9637173207896174, 2.117703825261018, 0.9834391674180394, 0.3674088194285618, 1.5588053824031243, 0.2811852508479091, -1.7212704314648224, 1.0067873970433072], \"yaxis\": \"y4\"}, {\"line\": {\"color\": \"rgba(128, 128, 128, 1.0)\", \"dash\": \"solid\", \"shape\": \"linear\", \"width\": 1.3}, \"marker\": {\"size\": 2, \"symbol\": \"circle\"}, \"mode\": \"markers\", \"name\": \"B\", \"text\": \"\", \"type\": \"scatter\", \"x\": [-1.5055387470969204, -1.5281336080932433, 0.5475375225269746, -0.5011536835325386, -1.1342277894161847, -1.3421654609689813, 1.0480587954437626, 0.1079858186458624, -0.5188967289497634, -0.2365765719760372, -0.6671966901411546, 0.4808958294390424, 0.2543237589685781, 0.6624634680374704, -1.8806637507850557, -1.7714952898637082, -0.1450552767082512, 0.3258012317547289, -1.9793404774159449, -1.837133213610893, 1.2048818510023436, -1.2146576222324894, 0.10051316757305068, 0.6503065455095138, -0.1037762205561722, 1.5796280422577185, 0.24683397628064682, -0.19632846361111042, -1.659879956912887, -0.7362869487055028, 0.696560945958403, 0.35011393191088397, -0.22294636893507996, -0.4490245617166439, -0.03413210591976646, 0.3813225689164726, -0.06804276535356155, -1.017866017986653, -0.48305879639553495, -0.8421918238373384, 0.09428074990969793, -0.3709780159244891, -2.4496465657011495, 1.0103436605626173, 1.246075620844197, 1.1997700774819116, 1.594497731670918, -0.22731603166056338, 0.6569588970958761, 0.09856549719926379, -0.8922698305611144, -0.9138306160664806, 0.5356427374304688, -0.287939493916266, -0.21742881701656078, -0.8522247181710058, -0.5253701618708698, 1.5428396249131306, 0.3411566218250933, 0.49922207449863165, 1.323964658717949, -1.3824171121263014, 0.9701483427037748, 0.4401818048772333, 1.3076536066443993, 2.355220713044908, 0.3330440295546341, -0.24749042740682606, 1.4700037958120582, 0.5275901521486961, 0.2318440908726942, 0.830445816962907, -0.5513743588021469, -0.20295015318623347, -0.836131924104717, -0.7937607157928708, 1.3319788440982268, -1.047455664669664, 1.0156429726730842, 0.07046136873997877, -1.1429664531146777, -0.8423125200880234, -1.7088559269805108, 0.23054946399192716, 1.2853740970875533, 0.7466025932529883, 1.5283495573924988, -0.0008903010811767334, -0.5698892720745149, -1.7421401214515508, -0.4387436019528569, 0.8418373255406498, -0.9637173207896174, 2.117703825261018, 0.9834391674180394, 0.3674088194285618, 1.5588053824031243, 0.2811852508479091, -1.7212704314648224, 1.0067873970433072], \"xaxis\": \"x5\", \"y\": [2.4959431719015757, 0.9276577510015102, 1.0050336280819714, -1.3414197951503666, 0.8746494229204337, 1.540503680338683, 0.36341469733085086, 0.2725456247333992, 1.8256614150093526, 0.4156453561321367, 1.4259125348996546, 0.5946871352044677, -0.996617192940703, -1.7343975620344267, 1.2605362115718608, 0.7792065667383924, -0.598165859683212, 0.3141166478645829, 2.028966264269778, -0.29196792479850614, 0.18451884374077343, 0.8624614728842477, 0.3480036276243098, 0.9367617347955924, 0.029764440610968956, 0.43061141935071345, -0.4186082014870178, -1.7469339996527733, -0.6344513661954309, 1.3582828527644264, -0.17399511524737038, 0.2331979361358069, -0.5836430876609441, -0.5091931531527603, -1.8430549827322322, 0.37972796141810045, -1.3500784339650678, -0.45771898539282563, 1.2708557850766116, -0.5777786253036234, -1.2136208429910493, 0.15180784778636058, 0.2518712007834114, 0.08812308785230992, -1.2262731538059652, -0.5228326084951959, 0.19439384594219133, -0.9677730140765817, 0.557013465619875, -2.6221107321614343, 0.34155621542304865, -1.0928749241983184, 1.39021765404278, -1.098393256437507, 1.365337542457722, -0.5707302449812107, -1.2005965785299708, -1.3298935269144292, -0.9460922681345796, -2.4804821303330415, 0.2794024307283462, -0.2128762900828223, -1.3961752300117987, -0.6975097022746658, 0.7203967384329273, 0.29590483041240295, 0.8214083566509665, -1.6138757379035886, 0.48213257156387984, -0.31657725802601844, 1.0036338052593803, -0.10501177153419351, -0.8632321261513736, 0.8360545538876548, 0.6452586861239282, -0.2313606912932169, 0.15547924818340117, 1.0450768088182119, -1.4390022209407076, 0.13533822747627927, -0.5688684967823189, -1.8417192752743694, -1.2450741247080495, 0.1405813522908807, -0.041901845147847776, -0.3785270769658319, -1.0026510762222551, 0.7792789540191182, -1.3267008036468066, -0.9617055507968908, 3.3011836296868546, -0.5845028743081897, -0.38304968847196313, -1.2753623714544455, -1.0490741676789088, -0.007588023951681576, 1.2022958402644337, 1.2222414150527166, -1.1693910600131703, -1.01440354370347], \"yaxis\": \"y5\"}, {\"histfunc\": \"count\", \"histnorm\": \"\", \"marker\": {\"color\": \"rgba(55, 128, 191, 1.0)\", \"line\": {\"color\": \"#4D5663\", \"width\": 1.3}}, \"name\": \"B\", \"nbinsx\": 10, \"opacity\": 0.8, \"orientation\": \"v\", \"type\": \"histogram\", \"x\": [2.4959431719015757, 0.9276577510015102, 1.0050336280819714, -1.3414197951503666, 0.8746494229204337, 1.540503680338683, 0.36341469733085086, 0.2725456247333992, 1.8256614150093526, 0.4156453561321367, 1.4259125348996546, 0.5946871352044677, -0.996617192940703, -1.7343975620344267, 1.2605362115718608, 0.7792065667383924, -0.598165859683212, 0.3141166478645829, 2.028966264269778, -0.29196792479850614, 0.18451884374077343, 0.8624614728842477, 0.3480036276243098, 0.9367617347955924, 0.029764440610968956, 0.43061141935071345, -0.4186082014870178, -1.7469339996527733, -0.6344513661954309, 1.3582828527644264, -0.17399511524737038, 0.2331979361358069, -0.5836430876609441, -0.5091931531527603, -1.8430549827322322, 0.37972796141810045, -1.3500784339650678, -0.45771898539282563, 1.2708557850766116, -0.5777786253036234, -1.2136208429910493, 0.15180784778636058, 0.2518712007834114, 0.08812308785230992, -1.2262731538059652, -0.5228326084951959, 0.19439384594219133, -0.9677730140765817, 0.557013465619875, -2.6221107321614343, 0.34155621542304865, -1.0928749241983184, 1.39021765404278, -1.098393256437507, 1.365337542457722, -0.5707302449812107, -1.2005965785299708, -1.3298935269144292, -0.9460922681345796, -2.4804821303330415, 0.2794024307283462, -0.2128762900828223, -1.3961752300117987, -0.6975097022746658, 0.7203967384329273, 0.29590483041240295, 0.8214083566509665, -1.6138757379035886, 0.48213257156387984, -0.31657725802601844, 1.0036338052593803, -0.10501177153419351, -0.8632321261513736, 0.8360545538876548, 0.6452586861239282, -0.2313606912932169, 0.15547924818340117, 1.0450768088182119, -1.4390022209407076, 0.13533822747627927, -0.5688684967823189, -1.8417192752743694, -1.2450741247080495, 0.1405813522908807, -0.041901845147847776, -0.3785270769658319, -1.0026510762222551, 0.7792789540191182, -1.3267008036468066, -0.9617055507968908, 3.3011836296868546, -0.5845028743081897, -0.38304968847196313, -1.2753623714544455, -1.0490741676789088, -0.007588023951681576, 1.2022958402644337, 1.2222414150527166, -1.1693910600131703, -1.01440354370347], \"xaxis\": \"x6\", \"yaxis\": \"y6\"}, {\"line\": {\"color\": \"rgba(128, 128, 128, 1.0)\", \"dash\": \"solid\", \"shape\": \"linear\", \"width\": 1.3}, \"marker\": {\"size\": 2, \"symbol\": \"circle\"}, \"mode\": \"markers\", \"name\": \"B\", \"text\": \"\", \"type\": \"scatter\", \"x\": [-0.6070843931902513, -1.550186819501212, 0.07402175255024296, -1.6727597423365705, -1.7747583910034577, 1.6732586491150208, 1.572907449863755, -1.0191918459583762, 0.06657805559187664, 0.7518875748356615, 1.0120311989247777, -0.8060283145444608, 1.2594634131257534, 1.9374402607782335, 1.072469596698813, -1.4463161029473193, -0.15089134345347371, 0.42924780813602254, 0.6716929415150239, 0.32314783000657255, -1.61098367979105, -0.4983536365895974, 0.5857687814656891, 2.4738702248773934, -0.46138399542897146, 0.5036695851862864, 1.0208569116710664, -1.2481419559669107, 0.026930185314432985, -0.09034917282227793, 0.24432044667313244, 0.6537224009803874, 0.5840885998430435, 1.4419767145061206, -1.0512763706505548, 1.1312767057127755, 0.10915542272810211, -1.2955116067749746, -0.9706199188825938, 0.6512076494462121, -0.36388879961990955, 0.901691909436344, 0.4079594285015438, 0.4083784834049719, -1.4933555603059998, -1.573303695616015, 2.164698369254346, 1.9074618965849457, -0.7772845518413163, 1.6644264981223373, -1.0463790562939157, -2.3567897108046636, 0.3883146524218016, 0.3138141917212112, -0.9660551820291213, 1.7685355619984595, -1.1084210884662882, -0.9075600940794092, 0.8334447578197528, -2.303731027787879, 0.39538182036684477, -1.029199368076163, -0.5010158542558378, 0.36151214906204815, -0.5091598678643701, 0.012475759687603068, -1.101934077076176, 0.3241367604735915, -0.15723716886990896, 0.4936107108268825, 0.6499376290725292, 0.02031196522300759, 0.17801436846090046, 0.7374790308271773, 0.2556650013608954, -0.22283530056353568, -0.9596373189035621, -0.14892666331915166, 0.4582495251756337, 0.06890368932967741, 0.2098710302373936, -1.140949211625298, 0.028010944948761853, -0.23580184923574032, -0.40273086213325493, 0.7014179306786912, 1.6235495508883768, -0.15022748598169697, -1.4477694102528924, -0.5981083445043424, -0.8673835479843751, 0.017651431172649803, 0.6494504217660723, -0.39637994067722565, -0.1136461956080303, 0.3055887053481512, -0.9830675683189555, -1.6248149695970981, 0.024839958867038266, -0.4928344424178749], \"xaxis\": \"x7\", \"y\": [2.4959431719015757, 0.9276577510015102, 1.0050336280819714, -1.3414197951503666, 0.8746494229204337, 1.540503680338683, 0.36341469733085086, 0.2725456247333992, 1.8256614150093526, 0.4156453561321367, 1.4259125348996546, 0.5946871352044677, -0.996617192940703, -1.7343975620344267, 1.2605362115718608, 0.7792065667383924, -0.598165859683212, 0.3141166478645829, 2.028966264269778, -0.29196792479850614, 0.18451884374077343, 0.8624614728842477, 0.3480036276243098, 0.9367617347955924, 0.029764440610968956, 0.43061141935071345, -0.4186082014870178, -1.7469339996527733, -0.6344513661954309, 1.3582828527644264, -0.17399511524737038, 0.2331979361358069, -0.5836430876609441, -0.5091931531527603, -1.8430549827322322, 0.37972796141810045, -1.3500784339650678, -0.45771898539282563, 1.2708557850766116, -0.5777786253036234, -1.2136208429910493, 0.15180784778636058, 0.2518712007834114, 0.08812308785230992, -1.2262731538059652, -0.5228326084951959, 0.19439384594219133, -0.9677730140765817, 0.557013465619875, -2.6221107321614343, 0.34155621542304865, -1.0928749241983184, 1.39021765404278, -1.098393256437507, 1.365337542457722, -0.5707302449812107, -1.2005965785299708, -1.3298935269144292, -0.9460922681345796, -2.4804821303330415, 0.2794024307283462, -0.2128762900828223, -1.3961752300117987, -0.6975097022746658, 0.7203967384329273, 0.29590483041240295, 0.8214083566509665, -1.6138757379035886, 0.48213257156387984, -0.31657725802601844, 1.0036338052593803, -0.10501177153419351, -0.8632321261513736, 0.8360545538876548, 0.6452586861239282, -0.2313606912932169, 0.15547924818340117, 1.0450768088182119, -1.4390022209407076, 0.13533822747627927, -0.5688684967823189, -1.8417192752743694, -1.2450741247080495, 0.1405813522908807, -0.041901845147847776, -0.3785270769658319, -1.0026510762222551, 0.7792789540191182, -1.3267008036468066, -0.9617055507968908, 3.3011836296868546, -0.5845028743081897, -0.38304968847196313, -1.2753623714544455, -1.0490741676789088, -0.007588023951681576, 1.2022958402644337, 1.2222414150527166, -1.1693910600131703, -1.01440354370347], \"yaxis\": \"y7\"}, {\"line\": {\"color\": \"rgba(128, 128, 128, 1.0)\", \"dash\": \"solid\", \"shape\": \"linear\", \"width\": 1.3}, \"marker\": {\"size\": 2, \"symbol\": \"circle\"}, \"mode\": \"markers\", \"name\": \"B\", \"text\": \"\", \"type\": \"scatter\", \"x\": [-0.28576517870678514, 0.2952403250343437, 0.7191803693698858, 1.3756994320304368, -0.7739026281447616, -0.3750850239030581, 1.0724380226632415, -0.958875569717978, -0.1437109871411821, 1.517751015254013, 0.3976160958187145, 0.027066180006063405, 0.1873537323051807, -1.4328145974330802, 0.9011575568144171, 0.05414923942336671, -1.2320439954383886, 0.2857752972004397, 1.0847200261606957, 0.6904127393702959, 1.6013090687066236, 0.745391125754057, 0.3092282047918577, 0.12851303815475068, 0.07286120510039872, 0.8701079915926673, -1.1671742749899363, -0.8066298265655404, 0.6894543856686854, 0.30417605364579775, 2.1033271361543875, -0.6159709057979542, 0.2943353572964051, 0.2757627158931991, 0.06682034721256952, -0.6680633568610859, 0.5495712858733507, 0.746361695210706, 0.21574054184511707, -1.4800708198894106, 0.23936984673278713, 0.21067285546175818, -0.49250746657804684, 0.5002169985650018, 0.39659686438909386, -0.999232801989697, -0.25042492925072546, -1.2474258020413058, 1.419631310862581, 0.20758270000654724, -0.4162145180293298, -0.1232996862225204, -1.2305583511161229, -0.5848479983667825, -1.189267459024485, -0.3371647224447984, 0.6663114115090681, -1.5988754768656614, 0.13961548226013815, -0.41366803202121716, 0.7789435474742897, 0.5730007203063938, -1.4921513665207469, -0.8656919297289787, -1.916966904016963, -1.5112066392987253, -1.139731780975787, 1.6496484274025918, -0.9114562919705926, 1.7088040926110988, 0.8106893360917262, -1.5019697945067845, 0.12492900643115513, -0.5881388326874711, -0.5554522859164184, -0.5914883401393713, -0.3804979423428619, 0.002850160796405025, -0.8273100246545217, 1.315704561474466, -0.6401121587201171, 1.2386424119370028, 0.15996201094139392, -2.305501712981525, 0.39551399720275215, 1.5843663021362573, -0.7352121347078673, 1.4883193252411961, -0.22751700304547093, -1.492653335824817, -0.43778352764558337, -0.45599357032424565, -0.011917372625794538, 1.2517732000031179, -1.0252022173959074, -0.6057589830332419, 0.13930718974140305, -0.328796158203867, 0.3947410749795082, -0.2333185414774946], \"xaxis\": \"x8\", \"y\": [2.4959431719015757, 0.9276577510015102, 1.0050336280819714, -1.3414197951503666, 0.8746494229204337, 1.540503680338683, 0.36341469733085086, 0.2725456247333992, 1.8256614150093526, 0.4156453561321367, 1.4259125348996546, 0.5946871352044677, -0.996617192940703, -1.7343975620344267, 1.2605362115718608, 0.7792065667383924, -0.598165859683212, 0.3141166478645829, 2.028966264269778, -0.29196792479850614, 0.18451884374077343, 0.8624614728842477, 0.3480036276243098, 0.9367617347955924, 0.029764440610968956, 0.43061141935071345, -0.4186082014870178, -1.7469339996527733, -0.6344513661954309, 1.3582828527644264, -0.17399511524737038, 0.2331979361358069, -0.5836430876609441, -0.5091931531527603, -1.8430549827322322, 0.37972796141810045, -1.3500784339650678, -0.45771898539282563, 1.2708557850766116, -0.5777786253036234, -1.2136208429910493, 0.15180784778636058, 0.2518712007834114, 0.08812308785230992, -1.2262731538059652, -0.5228326084951959, 0.19439384594219133, -0.9677730140765817, 0.557013465619875, -2.6221107321614343, 0.34155621542304865, -1.0928749241983184, 1.39021765404278, -1.098393256437507, 1.365337542457722, -0.5707302449812107, -1.2005965785299708, -1.3298935269144292, -0.9460922681345796, -2.4804821303330415, 0.2794024307283462, -0.2128762900828223, -1.3961752300117987, -0.6975097022746658, 0.7203967384329273, 0.29590483041240295, 0.8214083566509665, -1.6138757379035886, 0.48213257156387984, -0.31657725802601844, 1.0036338052593803, -0.10501177153419351, -0.8632321261513736, 0.8360545538876548, 0.6452586861239282, -0.2313606912932169, 0.15547924818340117, 1.0450768088182119, -1.4390022209407076, 0.13533822747627927, -0.5688684967823189, -1.8417192752743694, -1.2450741247080495, 0.1405813522908807, -0.041901845147847776, -0.3785270769658319, -1.0026510762222551, 0.7792789540191182, -1.3267008036468066, -0.9617055507968908, 3.3011836296868546, -0.5845028743081897, -0.38304968847196313, -1.2753623714544455, -1.0490741676789088, -0.007588023951681576, 1.2022958402644337, 1.2222414150527166, -1.1693910600131703, -1.01440354370347], \"yaxis\": \"y8\"}, {\"line\": {\"color\": \"rgba(128, 128, 128, 1.0)\", \"dash\": \"solid\", \"shape\": \"linear\", \"width\": 1.3}, \"marker\": {\"size\": 2, \"symbol\": \"circle\"}, \"mode\": \"markers\", \"name\": \"C\", \"text\": \"\", \"type\": \"scatter\", \"x\": [-1.5055387470969204, -1.5281336080932433, 0.5475375225269746, -0.5011536835325386, -1.1342277894161847, -1.3421654609689813, 1.0480587954437626, 0.1079858186458624, -0.5188967289497634, -0.2365765719760372, -0.6671966901411546, 0.4808958294390424, 0.2543237589685781, 0.6624634680374704, -1.8806637507850557, -1.7714952898637082, -0.1450552767082512, 0.3258012317547289, -1.9793404774159449, -1.837133213610893, 1.2048818510023436, -1.2146576222324894, 0.10051316757305068, 0.6503065455095138, -0.1037762205561722, 1.5796280422577185, 0.24683397628064682, -0.19632846361111042, -1.659879956912887, -0.7362869487055028, 0.696560945958403, 0.35011393191088397, -0.22294636893507996, -0.4490245617166439, -0.03413210591976646, 0.3813225689164726, -0.06804276535356155, -1.017866017986653, -0.48305879639553495, -0.8421918238373384, 0.09428074990969793, -0.3709780159244891, -2.4496465657011495, 1.0103436605626173, 1.246075620844197, 1.1997700774819116, 1.594497731670918, -0.22731603166056338, 0.6569588970958761, 0.09856549719926379, -0.8922698305611144, -0.9138306160664806, 0.5356427374304688, -0.287939493916266, -0.21742881701656078, -0.8522247181710058, -0.5253701618708698, 1.5428396249131306, 0.3411566218250933, 0.49922207449863165, 1.323964658717949, -1.3824171121263014, 0.9701483427037748, 0.4401818048772333, 1.3076536066443993, 2.355220713044908, 0.3330440295546341, -0.24749042740682606, 1.4700037958120582, 0.5275901521486961, 0.2318440908726942, 0.830445816962907, -0.5513743588021469, -0.20295015318623347, -0.836131924104717, -0.7937607157928708, 1.3319788440982268, -1.047455664669664, 1.0156429726730842, 0.07046136873997877, -1.1429664531146777, -0.8423125200880234, -1.7088559269805108, 0.23054946399192716, 1.2853740970875533, 0.7466025932529883, 1.5283495573924988, -0.0008903010811767334, -0.5698892720745149, -1.7421401214515508, -0.4387436019528569, 0.8418373255406498, -0.9637173207896174, 2.117703825261018, 0.9834391674180394, 0.3674088194285618, 1.5588053824031243, 0.2811852508479091, -1.7212704314648224, 1.0067873970433072], \"xaxis\": \"x9\", \"y\": [-0.6070843931902513, -1.550186819501212, 0.07402175255024296, -1.6727597423365705, -1.7747583910034577, 1.6732586491150208, 1.572907449863755, -1.0191918459583762, 0.06657805559187664, 0.7518875748356615, 1.0120311989247777, -0.8060283145444608, 1.2594634131257534, 1.9374402607782335, 1.072469596698813, -1.4463161029473193, -0.15089134345347371, 0.42924780813602254, 0.6716929415150239, 0.32314783000657255, -1.61098367979105, -0.4983536365895974, 0.5857687814656891, 2.4738702248773934, -0.46138399542897146, 0.5036695851862864, 1.0208569116710664, -1.2481419559669107, 0.026930185314432985, -0.09034917282227793, 0.24432044667313244, 0.6537224009803874, 0.5840885998430435, 1.4419767145061206, -1.0512763706505548, 1.1312767057127755, 0.10915542272810211, -1.2955116067749746, -0.9706199188825938, 0.6512076494462121, -0.36388879961990955, 0.901691909436344, 0.4079594285015438, 0.4083784834049719, -1.4933555603059998, -1.573303695616015, 2.164698369254346, 1.9074618965849457, -0.7772845518413163, 1.6644264981223373, -1.0463790562939157, -2.3567897108046636, 0.3883146524218016, 0.3138141917212112, -0.9660551820291213, 1.7685355619984595, -1.1084210884662882, -0.9075600940794092, 0.8334447578197528, -2.303731027787879, 0.39538182036684477, -1.029199368076163, -0.5010158542558378, 0.36151214906204815, -0.5091598678643701, 0.012475759687603068, -1.101934077076176, 0.3241367604735915, -0.15723716886990896, 0.4936107108268825, 0.6499376290725292, 0.02031196522300759, 0.17801436846090046, 0.7374790308271773, 0.2556650013608954, -0.22283530056353568, -0.9596373189035621, -0.14892666331915166, 0.4582495251756337, 0.06890368932967741, 0.2098710302373936, -1.140949211625298, 0.028010944948761853, -0.23580184923574032, -0.40273086213325493, 0.7014179306786912, 1.6235495508883768, -0.15022748598169697, -1.4477694102528924, -0.5981083445043424, -0.8673835479843751, 0.017651431172649803, 0.6494504217660723, -0.39637994067722565, -0.1136461956080303, 0.3055887053481512, -0.9830675683189555, -1.6248149695970981, 0.024839958867038266, -0.4928344424178749], \"yaxis\": \"y9\"}, {\"line\": {\"color\": \"rgba(128, 128, 128, 1.0)\", \"dash\": \"solid\", \"shape\": \"linear\", \"width\": 1.3}, \"marker\": {\"size\": 2, \"symbol\": \"circle\"}, \"mode\": \"markers\", \"name\": \"C\", \"text\": \"\", \"type\": \"scatter\", \"x\": [2.4959431719015757, 0.9276577510015102, 1.0050336280819714, -1.3414197951503666, 0.8746494229204337, 1.540503680338683, 0.36341469733085086, 0.2725456247333992, 1.8256614150093526, 0.4156453561321367, 1.4259125348996546, 0.5946871352044677, -0.996617192940703, -1.7343975620344267, 1.2605362115718608, 0.7792065667383924, -0.598165859683212, 0.3141166478645829, 2.028966264269778, -0.29196792479850614, 0.18451884374077343, 0.8624614728842477, 0.3480036276243098, 0.9367617347955924, 0.029764440610968956, 0.43061141935071345, -0.4186082014870178, -1.7469339996527733, -0.6344513661954309, 1.3582828527644264, -0.17399511524737038, 0.2331979361358069, -0.5836430876609441, -0.5091931531527603, -1.8430549827322322, 0.37972796141810045, -1.3500784339650678, -0.45771898539282563, 1.2708557850766116, -0.5777786253036234, -1.2136208429910493, 0.15180784778636058, 0.2518712007834114, 0.08812308785230992, -1.2262731538059652, -0.5228326084951959, 0.19439384594219133, -0.9677730140765817, 0.557013465619875, -2.6221107321614343, 0.34155621542304865, -1.0928749241983184, 1.39021765404278, -1.098393256437507, 1.365337542457722, -0.5707302449812107, -1.2005965785299708, -1.3298935269144292, -0.9460922681345796, -2.4804821303330415, 0.2794024307283462, -0.2128762900828223, -1.3961752300117987, -0.6975097022746658, 0.7203967384329273, 0.29590483041240295, 0.8214083566509665, -1.6138757379035886, 0.48213257156387984, -0.31657725802601844, 1.0036338052593803, -0.10501177153419351, -0.8632321261513736, 0.8360545538876548, 0.6452586861239282, -0.2313606912932169, 0.15547924818340117, 1.0450768088182119, -1.4390022209407076, 0.13533822747627927, -0.5688684967823189, -1.8417192752743694, -1.2450741247080495, 0.1405813522908807, -0.041901845147847776, -0.3785270769658319, -1.0026510762222551, 0.7792789540191182, -1.3267008036468066, -0.9617055507968908, 3.3011836296868546, -0.5845028743081897, -0.38304968847196313, -1.2753623714544455, -1.0490741676789088, -0.007588023951681576, 1.2022958402644337, 1.2222414150527166, -1.1693910600131703, -1.01440354370347], \"xaxis\": \"x10\", \"y\": [-0.6070843931902513, -1.550186819501212, 0.07402175255024296, -1.6727597423365705, -1.7747583910034577, 1.6732586491150208, 1.572907449863755, -1.0191918459583762, 0.06657805559187664, 0.7518875748356615, 1.0120311989247777, -0.8060283145444608, 1.2594634131257534, 1.9374402607782335, 1.072469596698813, -1.4463161029473193, -0.15089134345347371, 0.42924780813602254, 0.6716929415150239, 0.32314783000657255, -1.61098367979105, -0.4983536365895974, 0.5857687814656891, 2.4738702248773934, -0.46138399542897146, 0.5036695851862864, 1.0208569116710664, -1.2481419559669107, 0.026930185314432985, -0.09034917282227793, 0.24432044667313244, 0.6537224009803874, 0.5840885998430435, 1.4419767145061206, -1.0512763706505548, 1.1312767057127755, 0.10915542272810211, -1.2955116067749746, -0.9706199188825938, 0.6512076494462121, -0.36388879961990955, 0.901691909436344, 0.4079594285015438, 0.4083784834049719, -1.4933555603059998, -1.573303695616015, 2.164698369254346, 1.9074618965849457, -0.7772845518413163, 1.6644264981223373, -1.0463790562939157, -2.3567897108046636, 0.3883146524218016, 0.3138141917212112, -0.9660551820291213, 1.7685355619984595, -1.1084210884662882, -0.9075600940794092, 0.8334447578197528, -2.303731027787879, 0.39538182036684477, -1.029199368076163, -0.5010158542558378, 0.36151214906204815, -0.5091598678643701, 0.012475759687603068, -1.101934077076176, 0.3241367604735915, -0.15723716886990896, 0.4936107108268825, 0.6499376290725292, 0.02031196522300759, 0.17801436846090046, 0.7374790308271773, 0.2556650013608954, -0.22283530056353568, -0.9596373189035621, -0.14892666331915166, 0.4582495251756337, 0.06890368932967741, 0.2098710302373936, -1.140949211625298, 0.028010944948761853, -0.23580184923574032, -0.40273086213325493, 0.7014179306786912, 1.6235495508883768, -0.15022748598169697, -1.4477694102528924, -0.5981083445043424, -0.8673835479843751, 0.017651431172649803, 0.6494504217660723, -0.39637994067722565, -0.1136461956080303, 0.3055887053481512, -0.9830675683189555, -1.6248149695970981, 0.024839958867038266, -0.4928344424178749], \"yaxis\": \"y10\"}, {\"histfunc\": \"count\", \"histnorm\": \"\", \"marker\": {\"color\": \"rgba(50, 171, 96, 1.0)\", \"line\": {\"color\": \"#4D5663\", \"width\": 1.3}}, \"name\": \"C\", \"nbinsx\": 10, \"opacity\": 0.8, \"orientation\": \"v\", \"type\": \"histogram\", \"x\": [-0.6070843931902513, -1.550186819501212, 0.07402175255024296, -1.6727597423365705, -1.7747583910034577, 1.6732586491150208, 1.572907449863755, -1.0191918459583762, 0.06657805559187664, 0.7518875748356615, 1.0120311989247777, -0.8060283145444608, 1.2594634131257534, 1.9374402607782335, 1.072469596698813, -1.4463161029473193, -0.15089134345347371, 0.42924780813602254, 0.6716929415150239, 0.32314783000657255, -1.61098367979105, -0.4983536365895974, 0.5857687814656891, 2.4738702248773934, -0.46138399542897146, 0.5036695851862864, 1.0208569116710664, -1.2481419559669107, 0.026930185314432985, -0.09034917282227793, 0.24432044667313244, 0.6537224009803874, 0.5840885998430435, 1.4419767145061206, -1.0512763706505548, 1.1312767057127755, 0.10915542272810211, -1.2955116067749746, -0.9706199188825938, 0.6512076494462121, -0.36388879961990955, 0.901691909436344, 0.4079594285015438, 0.4083784834049719, -1.4933555603059998, -1.573303695616015, 2.164698369254346, 1.9074618965849457, -0.7772845518413163, 1.6644264981223373, -1.0463790562939157, -2.3567897108046636, 0.3883146524218016, 0.3138141917212112, -0.9660551820291213, 1.7685355619984595, -1.1084210884662882, -0.9075600940794092, 0.8334447578197528, -2.303731027787879, 0.39538182036684477, -1.029199368076163, -0.5010158542558378, 0.36151214906204815, -0.5091598678643701, 0.012475759687603068, -1.101934077076176, 0.3241367604735915, -0.15723716886990896, 0.4936107108268825, 0.6499376290725292, 0.02031196522300759, 0.17801436846090046, 0.7374790308271773, 0.2556650013608954, -0.22283530056353568, -0.9596373189035621, -0.14892666331915166, 0.4582495251756337, 0.06890368932967741, 0.2098710302373936, -1.140949211625298, 0.028010944948761853, -0.23580184923574032, -0.40273086213325493, 0.7014179306786912, 1.6235495508883768, -0.15022748598169697, -1.4477694102528924, -0.5981083445043424, -0.8673835479843751, 0.017651431172649803, 0.6494504217660723, -0.39637994067722565, -0.1136461956080303, 0.3055887053481512, -0.9830675683189555, -1.6248149695970981, 0.024839958867038266, -0.4928344424178749], \"xaxis\": \"x11\", \"yaxis\": \"y11\"}, {\"line\": {\"color\": \"rgba(128, 128, 128, 1.0)\", \"dash\": \"solid\", \"shape\": \"linear\", \"width\": 1.3}, \"marker\": {\"size\": 2, \"symbol\": \"circle\"}, \"mode\": \"markers\", \"name\": \"C\", \"text\": \"\", \"type\": \"scatter\", \"x\": [-0.28576517870678514, 0.2952403250343437, 0.7191803693698858, 1.3756994320304368, -0.7739026281447616, -0.3750850239030581, 1.0724380226632415, -0.958875569717978, -0.1437109871411821, 1.517751015254013, 0.3976160958187145, 0.027066180006063405, 0.1873537323051807, -1.4328145974330802, 0.9011575568144171, 0.05414923942336671, -1.2320439954383886, 0.2857752972004397, 1.0847200261606957, 0.6904127393702959, 1.6013090687066236, 0.745391125754057, 0.3092282047918577, 0.12851303815475068, 0.07286120510039872, 0.8701079915926673, -1.1671742749899363, -0.8066298265655404, 0.6894543856686854, 0.30417605364579775, 2.1033271361543875, -0.6159709057979542, 0.2943353572964051, 0.2757627158931991, 0.06682034721256952, -0.6680633568610859, 0.5495712858733507, 0.746361695210706, 0.21574054184511707, -1.4800708198894106, 0.23936984673278713, 0.21067285546175818, -0.49250746657804684, 0.5002169985650018, 0.39659686438909386, -0.999232801989697, -0.25042492925072546, -1.2474258020413058, 1.419631310862581, 0.20758270000654724, -0.4162145180293298, -0.1232996862225204, -1.2305583511161229, -0.5848479983667825, -1.189267459024485, -0.3371647224447984, 0.6663114115090681, -1.5988754768656614, 0.13961548226013815, -0.41366803202121716, 0.7789435474742897, 0.5730007203063938, -1.4921513665207469, -0.8656919297289787, -1.916966904016963, -1.5112066392987253, -1.139731780975787, 1.6496484274025918, -0.9114562919705926, 1.7088040926110988, 0.8106893360917262, -1.5019697945067845, 0.12492900643115513, -0.5881388326874711, -0.5554522859164184, -0.5914883401393713, -0.3804979423428619, 0.002850160796405025, -0.8273100246545217, 1.315704561474466, -0.6401121587201171, 1.2386424119370028, 0.15996201094139392, -2.305501712981525, 0.39551399720275215, 1.5843663021362573, -0.7352121347078673, 1.4883193252411961, -0.22751700304547093, -1.492653335824817, -0.43778352764558337, -0.45599357032424565, -0.011917372625794538, 1.2517732000031179, -1.0252022173959074, -0.6057589830332419, 0.13930718974140305, -0.328796158203867, 0.3947410749795082, -0.2333185414774946], \"xaxis\": \"x12\", \"y\": [-0.6070843931902513, -1.550186819501212, 0.07402175255024296, -1.6727597423365705, -1.7747583910034577, 1.6732586491150208, 1.572907449863755, -1.0191918459583762, 0.06657805559187664, 0.7518875748356615, 1.0120311989247777, -0.8060283145444608, 1.2594634131257534, 1.9374402607782335, 1.072469596698813, -1.4463161029473193, -0.15089134345347371, 0.42924780813602254, 0.6716929415150239, 0.32314783000657255, -1.61098367979105, -0.4983536365895974, 0.5857687814656891, 2.4738702248773934, -0.46138399542897146, 0.5036695851862864, 1.0208569116710664, -1.2481419559669107, 0.026930185314432985, -0.09034917282227793, 0.24432044667313244, 0.6537224009803874, 0.5840885998430435, 1.4419767145061206, -1.0512763706505548, 1.1312767057127755, 0.10915542272810211, -1.2955116067749746, -0.9706199188825938, 0.6512076494462121, -0.36388879961990955, 0.901691909436344, 0.4079594285015438, 0.4083784834049719, -1.4933555603059998, -1.573303695616015, 2.164698369254346, 1.9074618965849457, -0.7772845518413163, 1.6644264981223373, -1.0463790562939157, -2.3567897108046636, 0.3883146524218016, 0.3138141917212112, -0.9660551820291213, 1.7685355619984595, -1.1084210884662882, -0.9075600940794092, 0.8334447578197528, -2.303731027787879, 0.39538182036684477, -1.029199368076163, -0.5010158542558378, 0.36151214906204815, -0.5091598678643701, 0.012475759687603068, -1.101934077076176, 0.3241367604735915, -0.15723716886990896, 0.4936107108268825, 0.6499376290725292, 0.02031196522300759, 0.17801436846090046, 0.7374790308271773, 0.2556650013608954, -0.22283530056353568, -0.9596373189035621, -0.14892666331915166, 0.4582495251756337, 0.06890368932967741, 0.2098710302373936, -1.140949211625298, 0.028010944948761853, -0.23580184923574032, -0.40273086213325493, 0.7014179306786912, 1.6235495508883768, -0.15022748598169697, -1.4477694102528924, -0.5981083445043424, -0.8673835479843751, 0.017651431172649803, 0.6494504217660723, -0.39637994067722565, -0.1136461956080303, 0.3055887053481512, -0.9830675683189555, -1.6248149695970981, 0.024839958867038266, -0.4928344424178749], \"yaxis\": \"y12\"}, {\"line\": {\"color\": \"rgba(128, 128, 128, 1.0)\", \"dash\": \"solid\", \"shape\": \"linear\", \"width\": 1.3}, \"marker\": {\"size\": 2, \"symbol\": \"circle\"}, \"mode\": \"markers\", \"name\": \"D\", \"text\": \"\", \"type\": \"scatter\", \"x\": [-1.5055387470969204, -1.5281336080932433, 0.5475375225269746, -0.5011536835325386, -1.1342277894161847, -1.3421654609689813, 1.0480587954437626, 0.1079858186458624, -0.5188967289497634, -0.2365765719760372, -0.6671966901411546, 0.4808958294390424, 0.2543237589685781, 0.6624634680374704, -1.8806637507850557, -1.7714952898637082, -0.1450552767082512, 0.3258012317547289, -1.9793404774159449, -1.837133213610893, 1.2048818510023436, -1.2146576222324894, 0.10051316757305068, 0.6503065455095138, -0.1037762205561722, 1.5796280422577185, 0.24683397628064682, -0.19632846361111042, -1.659879956912887, -0.7362869487055028, 0.696560945958403, 0.35011393191088397, -0.22294636893507996, -0.4490245617166439, -0.03413210591976646, 0.3813225689164726, -0.06804276535356155, -1.017866017986653, -0.48305879639553495, -0.8421918238373384, 0.09428074990969793, -0.3709780159244891, -2.4496465657011495, 1.0103436605626173, 1.246075620844197, 1.1997700774819116, 1.594497731670918, -0.22731603166056338, 0.6569588970958761, 0.09856549719926379, -0.8922698305611144, -0.9138306160664806, 0.5356427374304688, -0.287939493916266, -0.21742881701656078, -0.8522247181710058, -0.5253701618708698, 1.5428396249131306, 0.3411566218250933, 0.49922207449863165, 1.323964658717949, -1.3824171121263014, 0.9701483427037748, 0.4401818048772333, 1.3076536066443993, 2.355220713044908, 0.3330440295546341, -0.24749042740682606, 1.4700037958120582, 0.5275901521486961, 0.2318440908726942, 0.830445816962907, -0.5513743588021469, -0.20295015318623347, -0.836131924104717, -0.7937607157928708, 1.3319788440982268, -1.047455664669664, 1.0156429726730842, 0.07046136873997877, -1.1429664531146777, -0.8423125200880234, -1.7088559269805108, 0.23054946399192716, 1.2853740970875533, 0.7466025932529883, 1.5283495573924988, -0.0008903010811767334, -0.5698892720745149, -1.7421401214515508, -0.4387436019528569, 0.8418373255406498, -0.9637173207896174, 2.117703825261018, 0.9834391674180394, 0.3674088194285618, 1.5588053824031243, 0.2811852508479091, -1.7212704314648224, 1.0067873970433072], \"xaxis\": \"x13\", \"y\": [-0.28576517870678514, 0.2952403250343437, 0.7191803693698858, 1.3756994320304368, -0.7739026281447616, -0.3750850239030581, 1.0724380226632415, -0.958875569717978, -0.1437109871411821, 1.517751015254013, 0.3976160958187145, 0.027066180006063405, 0.1873537323051807, -1.4328145974330802, 0.9011575568144171, 0.05414923942336671, -1.2320439954383886, 0.2857752972004397, 1.0847200261606957, 0.6904127393702959, 1.6013090687066236, 0.745391125754057, 0.3092282047918577, 0.12851303815475068, 0.07286120510039872, 0.8701079915926673, -1.1671742749899363, -0.8066298265655404, 0.6894543856686854, 0.30417605364579775, 2.1033271361543875, -0.6159709057979542, 0.2943353572964051, 0.2757627158931991, 0.06682034721256952, -0.6680633568610859, 0.5495712858733507, 0.746361695210706, 0.21574054184511707, -1.4800708198894106, 0.23936984673278713, 0.21067285546175818, -0.49250746657804684, 0.5002169985650018, 0.39659686438909386, -0.999232801989697, -0.25042492925072546, -1.2474258020413058, 1.419631310862581, 0.20758270000654724, -0.4162145180293298, -0.1232996862225204, -1.2305583511161229, -0.5848479983667825, -1.189267459024485, -0.3371647224447984, 0.6663114115090681, -1.5988754768656614, 0.13961548226013815, -0.41366803202121716, 0.7789435474742897, 0.5730007203063938, -1.4921513665207469, -0.8656919297289787, -1.916966904016963, -1.5112066392987253, -1.139731780975787, 1.6496484274025918, -0.9114562919705926, 1.7088040926110988, 0.8106893360917262, -1.5019697945067845, 0.12492900643115513, -0.5881388326874711, -0.5554522859164184, -0.5914883401393713, -0.3804979423428619, 0.002850160796405025, -0.8273100246545217, 1.315704561474466, -0.6401121587201171, 1.2386424119370028, 0.15996201094139392, -2.305501712981525, 0.39551399720275215, 1.5843663021362573, -0.7352121347078673, 1.4883193252411961, -0.22751700304547093, -1.492653335824817, -0.43778352764558337, -0.45599357032424565, -0.011917372625794538, 1.2517732000031179, -1.0252022173959074, -0.6057589830332419, 0.13930718974140305, -0.328796158203867, 0.3947410749795082, -0.2333185414774946], \"yaxis\": \"y13\"}, {\"line\": {\"color\": \"rgba(128, 128, 128, 1.0)\", \"dash\": \"solid\", \"shape\": \"linear\", \"width\": 1.3}, \"marker\": {\"size\": 2, \"symbol\": \"circle\"}, \"mode\": \"markers\", \"name\": \"D\", \"text\": \"\", \"type\": \"scatter\", \"x\": [2.4959431719015757, 0.9276577510015102, 1.0050336280819714, -1.3414197951503666, 0.8746494229204337, 1.540503680338683, 0.36341469733085086, 0.2725456247333992, 1.8256614150093526, 0.4156453561321367, 1.4259125348996546, 0.5946871352044677, -0.996617192940703, -1.7343975620344267, 1.2605362115718608, 0.7792065667383924, -0.598165859683212, 0.3141166478645829, 2.028966264269778, -0.29196792479850614, 0.18451884374077343, 0.8624614728842477, 0.3480036276243098, 0.9367617347955924, 0.029764440610968956, 0.43061141935071345, -0.4186082014870178, -1.7469339996527733, -0.6344513661954309, 1.3582828527644264, -0.17399511524737038, 0.2331979361358069, -0.5836430876609441, -0.5091931531527603, -1.8430549827322322, 0.37972796141810045, -1.3500784339650678, -0.45771898539282563, 1.2708557850766116, -0.5777786253036234, -1.2136208429910493, 0.15180784778636058, 0.2518712007834114, 0.08812308785230992, -1.2262731538059652, -0.5228326084951959, 0.19439384594219133, -0.9677730140765817, 0.557013465619875, -2.6221107321614343, 0.34155621542304865, -1.0928749241983184, 1.39021765404278, -1.098393256437507, 1.365337542457722, -0.5707302449812107, -1.2005965785299708, -1.3298935269144292, -0.9460922681345796, -2.4804821303330415, 0.2794024307283462, -0.2128762900828223, -1.3961752300117987, -0.6975097022746658, 0.7203967384329273, 0.29590483041240295, 0.8214083566509665, -1.6138757379035886, 0.48213257156387984, -0.31657725802601844, 1.0036338052593803, -0.10501177153419351, -0.8632321261513736, 0.8360545538876548, 0.6452586861239282, -0.2313606912932169, 0.15547924818340117, 1.0450768088182119, -1.4390022209407076, 0.13533822747627927, -0.5688684967823189, -1.8417192752743694, -1.2450741247080495, 0.1405813522908807, -0.041901845147847776, -0.3785270769658319, -1.0026510762222551, 0.7792789540191182, -1.3267008036468066, -0.9617055507968908, 3.3011836296868546, -0.5845028743081897, -0.38304968847196313, -1.2753623714544455, -1.0490741676789088, -0.007588023951681576, 1.2022958402644337, 1.2222414150527166, -1.1693910600131703, -1.01440354370347], \"xaxis\": \"x14\", \"y\": [-0.28576517870678514, 0.2952403250343437, 0.7191803693698858, 1.3756994320304368, -0.7739026281447616, -0.3750850239030581, 1.0724380226632415, -0.958875569717978, -0.1437109871411821, 1.517751015254013, 0.3976160958187145, 0.027066180006063405, 0.1873537323051807, -1.4328145974330802, 0.9011575568144171, 0.05414923942336671, -1.2320439954383886, 0.2857752972004397, 1.0847200261606957, 0.6904127393702959, 1.6013090687066236, 0.745391125754057, 0.3092282047918577, 0.12851303815475068, 0.07286120510039872, 0.8701079915926673, -1.1671742749899363, -0.8066298265655404, 0.6894543856686854, 0.30417605364579775, 2.1033271361543875, -0.6159709057979542, 0.2943353572964051, 0.2757627158931991, 0.06682034721256952, -0.6680633568610859, 0.5495712858733507, 0.746361695210706, 0.21574054184511707, -1.4800708198894106, 0.23936984673278713, 0.21067285546175818, -0.49250746657804684, 0.5002169985650018, 0.39659686438909386, -0.999232801989697, -0.25042492925072546, -1.2474258020413058, 1.419631310862581, 0.20758270000654724, -0.4162145180293298, -0.1232996862225204, -1.2305583511161229, -0.5848479983667825, -1.189267459024485, -0.3371647224447984, 0.6663114115090681, -1.5988754768656614, 0.13961548226013815, -0.41366803202121716, 0.7789435474742897, 0.5730007203063938, -1.4921513665207469, -0.8656919297289787, -1.916966904016963, -1.5112066392987253, -1.139731780975787, 1.6496484274025918, -0.9114562919705926, 1.7088040926110988, 0.8106893360917262, -1.5019697945067845, 0.12492900643115513, -0.5881388326874711, -0.5554522859164184, -0.5914883401393713, -0.3804979423428619, 0.002850160796405025, -0.8273100246545217, 1.315704561474466, -0.6401121587201171, 1.2386424119370028, 0.15996201094139392, -2.305501712981525, 0.39551399720275215, 1.5843663021362573, -0.7352121347078673, 1.4883193252411961, -0.22751700304547093, -1.492653335824817, -0.43778352764558337, -0.45599357032424565, -0.011917372625794538, 1.2517732000031179, -1.0252022173959074, -0.6057589830332419, 0.13930718974140305, -0.328796158203867, 0.3947410749795082, -0.2333185414774946], \"yaxis\": \"y14\"}, {\"line\": {\"color\": \"rgba(128, 128, 128, 1.0)\", \"dash\": \"solid\", \"shape\": \"linear\", \"width\": 1.3}, \"marker\": {\"size\": 2, \"symbol\": \"circle\"}, \"mode\": \"markers\", \"name\": \"D\", \"text\": \"\", \"type\": \"scatter\", \"x\": [-0.6070843931902513, -1.550186819501212, 0.07402175255024296, -1.6727597423365705, -1.7747583910034577, 1.6732586491150208, 1.572907449863755, -1.0191918459583762, 0.06657805559187664, 0.7518875748356615, 1.0120311989247777, -0.8060283145444608, 1.2594634131257534, 1.9374402607782335, 1.072469596698813, -1.4463161029473193, -0.15089134345347371, 0.42924780813602254, 0.6716929415150239, 0.32314783000657255, -1.61098367979105, -0.4983536365895974, 0.5857687814656891, 2.4738702248773934, -0.46138399542897146, 0.5036695851862864, 1.0208569116710664, -1.2481419559669107, 0.026930185314432985, -0.09034917282227793, 0.24432044667313244, 0.6537224009803874, 0.5840885998430435, 1.4419767145061206, -1.0512763706505548, 1.1312767057127755, 0.10915542272810211, -1.2955116067749746, -0.9706199188825938, 0.6512076494462121, -0.36388879961990955, 0.901691909436344, 0.4079594285015438, 0.4083784834049719, -1.4933555603059998, -1.573303695616015, 2.164698369254346, 1.9074618965849457, -0.7772845518413163, 1.6644264981223373, -1.0463790562939157, -2.3567897108046636, 0.3883146524218016, 0.3138141917212112, -0.9660551820291213, 1.7685355619984595, -1.1084210884662882, -0.9075600940794092, 0.8334447578197528, -2.303731027787879, 0.39538182036684477, -1.029199368076163, -0.5010158542558378, 0.36151214906204815, -0.5091598678643701, 0.012475759687603068, -1.101934077076176, 0.3241367604735915, -0.15723716886990896, 0.4936107108268825, 0.6499376290725292, 0.02031196522300759, 0.17801436846090046, 0.7374790308271773, 0.2556650013608954, -0.22283530056353568, -0.9596373189035621, -0.14892666331915166, 0.4582495251756337, 0.06890368932967741, 0.2098710302373936, -1.140949211625298, 0.028010944948761853, -0.23580184923574032, -0.40273086213325493, 0.7014179306786912, 1.6235495508883768, -0.15022748598169697, -1.4477694102528924, -0.5981083445043424, -0.8673835479843751, 0.017651431172649803, 0.6494504217660723, -0.39637994067722565, -0.1136461956080303, 0.3055887053481512, -0.9830675683189555, -1.6248149695970981, 0.024839958867038266, -0.4928344424178749], \"xaxis\": \"x15\", \"y\": [-0.28576517870678514, 0.2952403250343437, 0.7191803693698858, 1.3756994320304368, -0.7739026281447616, -0.3750850239030581, 1.0724380226632415, -0.958875569717978, -0.1437109871411821, 1.517751015254013, 0.3976160958187145, 0.027066180006063405, 0.1873537323051807, -1.4328145974330802, 0.9011575568144171, 0.05414923942336671, -1.2320439954383886, 0.2857752972004397, 1.0847200261606957, 0.6904127393702959, 1.6013090687066236, 0.745391125754057, 0.3092282047918577, 0.12851303815475068, 0.07286120510039872, 0.8701079915926673, -1.1671742749899363, -0.8066298265655404, 0.6894543856686854, 0.30417605364579775, 2.1033271361543875, -0.6159709057979542, 0.2943353572964051, 0.2757627158931991, 0.06682034721256952, -0.6680633568610859, 0.5495712858733507, 0.746361695210706, 0.21574054184511707, -1.4800708198894106, 0.23936984673278713, 0.21067285546175818, -0.49250746657804684, 0.5002169985650018, 0.39659686438909386, -0.999232801989697, -0.25042492925072546, -1.2474258020413058, 1.419631310862581, 0.20758270000654724, -0.4162145180293298, -0.1232996862225204, -1.2305583511161229, -0.5848479983667825, -1.189267459024485, -0.3371647224447984, 0.6663114115090681, -1.5988754768656614, 0.13961548226013815, -0.41366803202121716, 0.7789435474742897, 0.5730007203063938, -1.4921513665207469, -0.8656919297289787, -1.916966904016963, -1.5112066392987253, -1.139731780975787, 1.6496484274025918, -0.9114562919705926, 1.7088040926110988, 0.8106893360917262, -1.5019697945067845, 0.12492900643115513, -0.5881388326874711, -0.5554522859164184, -0.5914883401393713, -0.3804979423428619, 0.002850160796405025, -0.8273100246545217, 1.315704561474466, -0.6401121587201171, 1.2386424119370028, 0.15996201094139392, -2.305501712981525, 0.39551399720275215, 1.5843663021362573, -0.7352121347078673, 1.4883193252411961, -0.22751700304547093, -1.492653335824817, -0.43778352764558337, -0.45599357032424565, -0.011917372625794538, 1.2517732000031179, -1.0252022173959074, -0.6057589830332419, 0.13930718974140305, -0.328796158203867, 0.3947410749795082, -0.2333185414774946], \"yaxis\": \"y15\"}, {\"histfunc\": \"count\", \"histnorm\": \"\", \"marker\": {\"color\": \"rgba(128, 0, 128, 1.0)\", \"line\": {\"color\": \"#4D5663\", \"width\": 1.3}}, \"name\": \"D\", \"nbinsx\": 10, \"opacity\": 0.8, \"orientation\": \"v\", \"type\": \"histogram\", \"x\": [-0.28576517870678514, 0.2952403250343437, 0.7191803693698858, 1.3756994320304368, -0.7739026281447616, -0.3750850239030581, 1.0724380226632415, -0.958875569717978, -0.1437109871411821, 1.517751015254013, 0.3976160958187145, 0.027066180006063405, 0.1873537323051807, -1.4328145974330802, 0.9011575568144171, 0.05414923942336671, -1.2320439954383886, 0.2857752972004397, 1.0847200261606957, 0.6904127393702959, 1.6013090687066236, 0.745391125754057, 0.3092282047918577, 0.12851303815475068, 0.07286120510039872, 0.8701079915926673, -1.1671742749899363, -0.8066298265655404, 0.6894543856686854, 0.30417605364579775, 2.1033271361543875, -0.6159709057979542, 0.2943353572964051, 0.2757627158931991, 0.06682034721256952, -0.6680633568610859, 0.5495712858733507, 0.746361695210706, 0.21574054184511707, -1.4800708198894106, 0.23936984673278713, 0.21067285546175818, -0.49250746657804684, 0.5002169985650018, 0.39659686438909386, -0.999232801989697, -0.25042492925072546, -1.2474258020413058, 1.419631310862581, 0.20758270000654724, -0.4162145180293298, -0.1232996862225204, -1.2305583511161229, -0.5848479983667825, -1.189267459024485, -0.3371647224447984, 0.6663114115090681, -1.5988754768656614, 0.13961548226013815, -0.41366803202121716, 0.7789435474742897, 0.5730007203063938, -1.4921513665207469, -0.8656919297289787, -1.916966904016963, -1.5112066392987253, -1.139731780975787, 1.6496484274025918, -0.9114562919705926, 1.7088040926110988, 0.8106893360917262, -1.5019697945067845, 0.12492900643115513, -0.5881388326874711, -0.5554522859164184, -0.5914883401393713, -0.3804979423428619, 0.002850160796405025, -0.8273100246545217, 1.315704561474466, -0.6401121587201171, 1.2386424119370028, 0.15996201094139392, -2.305501712981525, 0.39551399720275215, 1.5843663021362573, -0.7352121347078673, 1.4883193252411961, -0.22751700304547093, -1.492653335824817, -0.43778352764558337, -0.45599357032424565, -0.011917372625794538, 1.2517732000031179, -1.0252022173959074, -0.6057589830332419, 0.13930718974140305, -0.328796158203867, 0.3947410749795082, -0.2333185414774946], \"xaxis\": \"x16\", \"yaxis\": \"y16\"}],                        {\"bargap\": 0.02, \"legend\": {\"bgcolor\": \"#F5F6F9\", \"font\": {\"color\": \"#4D5663\"}}, \"paper_bgcolor\": \"#F5F6F9\", \"plot_bgcolor\": \"#F5F6F9\", \"showlegend\": false, \"template\": {\"data\": {\"bar\": [{\"error_x\": {\"color\": \"#2a3f5f\"}, \"error_y\": {\"color\": \"#2a3f5f\"}, \"marker\": {\"line\": {\"color\": \"#E5ECF6\", \"width\": 0.5}}, \"type\": \"bar\"}], \"barpolar\": [{\"marker\": {\"line\": {\"color\": \"#E5ECF6\", \"width\": 0.5}}, \"type\": \"barpolar\"}], \"carpet\": [{\"aaxis\": {\"endlinecolor\": \"#2a3f5f\", \"gridcolor\": \"white\", \"linecolor\": \"white\", \"minorgridcolor\": \"white\", \"startlinecolor\": \"#2a3f5f\"}, \"baxis\": {\"endlinecolor\": \"#2a3f5f\", \"gridcolor\": \"white\", \"linecolor\": \"white\", \"minorgridcolor\": \"white\", \"startlinecolor\": \"#2a3f5f\"}, \"type\": \"carpet\"}], \"choropleth\": [{\"colorbar\": {\"outlinewidth\": 0, \"ticks\": \"\"}, \"type\": \"choropleth\"}], \"contour\": [{\"colorbar\": {\"outlinewidth\": 0, \"ticks\": \"\"}, \"colorscale\": [[0.0, \"#0d0887\"], [0.1111111111111111, \"#46039f\"], [0.2222222222222222, \"#7201a8\"], [0.3333333333333333, \"#9c179e\"], [0.4444444444444444, \"#bd3786\"], [0.5555555555555556, \"#d8576b\"], [0.6666666666666666, \"#ed7953\"], [0.7777777777777778, \"#fb9f3a\"], [0.8888888888888888, \"#fdca26\"], [1.0, \"#f0f921\"]], \"type\": \"contour\"}], \"contourcarpet\": [{\"colorbar\": {\"outlinewidth\": 0, \"ticks\": \"\"}, \"type\": \"contourcarpet\"}], \"heatmap\": [{\"colorbar\": {\"outlinewidth\": 0, \"ticks\": \"\"}, \"colorscale\": [[0.0, \"#0d0887\"], [0.1111111111111111, \"#46039f\"], [0.2222222222222222, \"#7201a8\"], [0.3333333333333333, \"#9c179e\"], [0.4444444444444444, \"#bd3786\"], [0.5555555555555556, \"#d8576b\"], [0.6666666666666666, \"#ed7953\"], [0.7777777777777778, \"#fb9f3a\"], [0.8888888888888888, \"#fdca26\"], [1.0, \"#f0f921\"]], \"type\": \"heatmap\"}], \"heatmapgl\": [{\"colorbar\": {\"outlinewidth\": 0, \"ticks\": \"\"}, \"colorscale\": [[0.0, \"#0d0887\"], [0.1111111111111111, \"#46039f\"], [0.2222222222222222, \"#7201a8\"], [0.3333333333333333, \"#9c179e\"], [0.4444444444444444, \"#bd3786\"], [0.5555555555555556, \"#d8576b\"], [0.6666666666666666, \"#ed7953\"], [0.7777777777777778, \"#fb9f3a\"], [0.8888888888888888, \"#fdca26\"], [1.0, \"#f0f921\"]], \"type\": \"heatmapgl\"}], \"histogram\": [{\"marker\": {\"colorbar\": {\"outlinewidth\": 0, \"ticks\": \"\"}}, \"type\": \"histogram\"}], \"histogram2d\": [{\"colorbar\": {\"outlinewidth\": 0, \"ticks\": \"\"}, \"colorscale\": [[0.0, \"#0d0887\"], [0.1111111111111111, \"#46039f\"], [0.2222222222222222, \"#7201a8\"], [0.3333333333333333, \"#9c179e\"], [0.4444444444444444, \"#bd3786\"], [0.5555555555555556, \"#d8576b\"], [0.6666666666666666, \"#ed7953\"], [0.7777777777777778, \"#fb9f3a\"], [0.8888888888888888, \"#fdca26\"], [1.0, \"#f0f921\"]], \"type\": \"histogram2d\"}], \"histogram2dcontour\": [{\"colorbar\": {\"outlinewidth\": 0, \"ticks\": \"\"}, \"colorscale\": [[0.0, \"#0d0887\"], [0.1111111111111111, \"#46039f\"], [0.2222222222222222, \"#7201a8\"], [0.3333333333333333, \"#9c179e\"], [0.4444444444444444, \"#bd3786\"], [0.5555555555555556, \"#d8576b\"], [0.6666666666666666, \"#ed7953\"], [0.7777777777777778, \"#fb9f3a\"], [0.8888888888888888, \"#fdca26\"], [1.0, \"#f0f921\"]], \"type\": \"histogram2dcontour\"}], \"mesh3d\": [{\"colorbar\": {\"outlinewidth\": 0, \"ticks\": \"\"}, \"type\": \"mesh3d\"}], \"parcoords\": [{\"line\": {\"colorbar\": {\"outlinewidth\": 0, \"ticks\": \"\"}}, \"type\": \"parcoords\"}], \"pie\": [{\"automargin\": true, \"type\": \"pie\"}], \"scatter\": [{\"marker\": {\"colorbar\": {\"outlinewidth\": 0, \"ticks\": \"\"}}, \"type\": \"scatter\"}], \"scatter3d\": [{\"line\": {\"colorbar\": {\"outlinewidth\": 0, \"ticks\": \"\"}}, \"marker\": {\"colorbar\": {\"outlinewidth\": 0, \"ticks\": \"\"}}, \"type\": \"scatter3d\"}], \"scattercarpet\": [{\"marker\": {\"colorbar\": {\"outlinewidth\": 0, \"ticks\": \"\"}}, \"type\": \"scattercarpet\"}], \"scattergeo\": [{\"marker\": {\"colorbar\": {\"outlinewidth\": 0, \"ticks\": \"\"}}, \"type\": \"scattergeo\"}], \"scattergl\": [{\"marker\": {\"colorbar\": {\"outlinewidth\": 0, \"ticks\": \"\"}}, \"type\": \"scattergl\"}], \"scattermapbox\": [{\"marker\": {\"colorbar\": {\"outlinewidth\": 0, \"ticks\": \"\"}}, \"type\": \"scattermapbox\"}], \"scatterpolar\": [{\"marker\": {\"colorbar\": {\"outlinewidth\": 0, \"ticks\": \"\"}}, \"type\": \"scatterpolar\"}], \"scatterpolargl\": [{\"marker\": {\"colorbar\": {\"outlinewidth\": 0, \"ticks\": \"\"}}, \"type\": \"scatterpolargl\"}], \"scatterternary\": [{\"marker\": {\"colorbar\": {\"outlinewidth\": 0, \"ticks\": \"\"}}, \"type\": \"scatterternary\"}], \"surface\": [{\"colorbar\": {\"outlinewidth\": 0, \"ticks\": \"\"}, \"colorscale\": [[0.0, \"#0d0887\"], [0.1111111111111111, \"#46039f\"], [0.2222222222222222, \"#7201a8\"], [0.3333333333333333, \"#9c179e\"], [0.4444444444444444, \"#bd3786\"], [0.5555555555555556, \"#d8576b\"], [0.6666666666666666, \"#ed7953\"], [0.7777777777777778, \"#fb9f3a\"], [0.8888888888888888, \"#fdca26\"], [1.0, \"#f0f921\"]], \"type\": \"surface\"}], \"table\": [{\"cells\": {\"fill\": {\"color\": \"#EBF0F8\"}, \"line\": {\"color\": \"white\"}}, \"header\": {\"fill\": {\"color\": \"#C8D4E3\"}, \"line\": {\"color\": \"white\"}}, \"type\": \"table\"}]}, \"layout\": {\"annotationdefaults\": {\"arrowcolor\": \"#2a3f5f\", \"arrowhead\": 0, \"arrowwidth\": 1}, \"autotypenumbers\": \"strict\", \"coloraxis\": {\"colorbar\": {\"outlinewidth\": 0, \"ticks\": \"\"}}, \"colorscale\": {\"diverging\": [[0, \"#8e0152\"], [0.1, \"#c51b7d\"], [0.2, \"#de77ae\"], [0.3, \"#f1b6da\"], [0.4, \"#fde0ef\"], [0.5, \"#f7f7f7\"], [0.6, \"#e6f5d0\"], [0.7, \"#b8e186\"], [0.8, \"#7fbc41\"], [0.9, \"#4d9221\"], [1, \"#276419\"]], \"sequential\": [[0.0, \"#0d0887\"], [0.1111111111111111, \"#46039f\"], [0.2222222222222222, \"#7201a8\"], [0.3333333333333333, \"#9c179e\"], [0.4444444444444444, \"#bd3786\"], [0.5555555555555556, \"#d8576b\"], [0.6666666666666666, \"#ed7953\"], [0.7777777777777778, \"#fb9f3a\"], [0.8888888888888888, \"#fdca26\"], [1.0, \"#f0f921\"]], \"sequentialminus\": [[0.0, \"#0d0887\"], [0.1111111111111111, \"#46039f\"], [0.2222222222222222, \"#7201a8\"], [0.3333333333333333, \"#9c179e\"], [0.4444444444444444, \"#bd3786\"], [0.5555555555555556, \"#d8576b\"], [0.6666666666666666, \"#ed7953\"], [0.7777777777777778, \"#fb9f3a\"], [0.8888888888888888, \"#fdca26\"], [1.0, \"#f0f921\"]]}, \"colorway\": [\"#636efa\", \"#EF553B\", \"#00cc96\", \"#ab63fa\", \"#FFA15A\", \"#19d3f3\", \"#FF6692\", \"#B6E880\", \"#FF97FF\", \"#FECB52\"], \"font\": {\"color\": \"#2a3f5f\"}, \"geo\": {\"bgcolor\": \"white\", \"lakecolor\": \"white\", \"landcolor\": \"#E5ECF6\", \"showlakes\": true, \"showland\": true, \"subunitcolor\": \"white\"}, \"hoverlabel\": {\"align\": \"left\"}, \"hovermode\": \"closest\", \"mapbox\": {\"style\": \"light\"}, \"paper_bgcolor\": \"white\", \"plot_bgcolor\": \"#E5ECF6\", \"polar\": {\"angularaxis\": {\"gridcolor\": \"white\", \"linecolor\": \"white\", \"ticks\": \"\"}, \"bgcolor\": \"#E5ECF6\", \"radialaxis\": {\"gridcolor\": \"white\", \"linecolor\": \"white\", \"ticks\": \"\"}}, \"scene\": {\"xaxis\": {\"backgroundcolor\": \"#E5ECF6\", \"gridcolor\": \"white\", \"gridwidth\": 2, \"linecolor\": \"white\", \"showbackground\": true, \"ticks\": \"\", \"zerolinecolor\": \"white\"}, \"yaxis\": {\"backgroundcolor\": \"#E5ECF6\", \"gridcolor\": \"white\", \"gridwidth\": 2, \"linecolor\": \"white\", \"showbackground\": true, \"ticks\": \"\", \"zerolinecolor\": \"white\"}, \"zaxis\": {\"backgroundcolor\": \"#E5ECF6\", \"gridcolor\": \"white\", \"gridwidth\": 2, \"linecolor\": \"white\", \"showbackground\": true, \"ticks\": \"\", \"zerolinecolor\": \"white\"}}, \"shapedefaults\": {\"line\": {\"color\": \"#2a3f5f\"}}, \"ternary\": {\"aaxis\": {\"gridcolor\": \"white\", \"linecolor\": \"white\", \"ticks\": \"\"}, \"baxis\": {\"gridcolor\": \"white\", \"linecolor\": \"white\", \"ticks\": \"\"}, \"bgcolor\": \"#E5ECF6\", \"caxis\": {\"gridcolor\": \"white\", \"linecolor\": \"white\", \"ticks\": \"\"}}, \"title\": {\"x\": 0.05}, \"xaxis\": {\"automargin\": true, \"gridcolor\": \"white\", \"linecolor\": \"white\", \"ticks\": \"\", \"title\": {\"standoff\": 15}, \"zerolinecolor\": \"white\", \"zerolinewidth\": 2}, \"yaxis\": {\"automargin\": true, \"gridcolor\": \"white\", \"linecolor\": \"white\", \"ticks\": \"\", \"title\": {\"standoff\": 15}, \"zerolinecolor\": \"white\", \"zerolinewidth\": 2}}}, \"title\": {\"font\": {\"color\": \"#4D5663\"}}, \"xaxis\": {\"anchor\": \"y\", \"domain\": [0.0, 0.2125], \"gridcolor\": \"#E1E5ED\", \"showgrid\": false, \"tickfont\": {\"color\": \"#4D5663\"}, \"title\": {\"font\": {\"color\": \"#4D5663\"}, \"text\": \"\"}, \"zerolinecolor\": \"#E1E5ED\"}, \"xaxis10\": {\"anchor\": \"y10\", \"domain\": [0.2625, 0.475], \"gridcolor\": \"#E1E5ED\", \"showgrid\": false, \"tickfont\": {\"color\": \"#4D5663\"}, \"title\": {\"font\": {\"color\": \"#4D5663\"}, \"text\": \"\"}, \"zerolinecolor\": \"#E1E5ED\"}, \"xaxis11\": {\"anchor\": \"y11\", \"domain\": [0.525, 0.7375], \"gridcolor\": \"#E1E5ED\", \"showgrid\": false, \"tickfont\": {\"color\": \"#4D5663\"}, \"title\": {\"font\": {\"color\": \"#4D5663\"}, \"text\": \"\"}, \"zerolinecolor\": \"#E1E5ED\"}, \"xaxis12\": {\"anchor\": \"y12\", \"domain\": [0.7875, 1.0], \"gridcolor\": \"#E1E5ED\", \"showgrid\": false, \"tickfont\": {\"color\": \"#4D5663\"}, \"title\": {\"font\": {\"color\": \"#4D5663\"}, \"text\": \"\"}, \"zerolinecolor\": \"#E1E5ED\"}, \"xaxis13\": {\"anchor\": \"y13\", \"domain\": [0.0, 0.2125], \"gridcolor\": \"#E1E5ED\", \"showgrid\": false, \"tickfont\": {\"color\": \"#4D5663\"}, \"title\": {\"font\": {\"color\": \"#4D5663\"}, \"text\": \"\"}, \"zerolinecolor\": \"#E1E5ED\"}, \"xaxis14\": {\"anchor\": \"y14\", \"domain\": [0.2625, 0.475], \"gridcolor\": \"#E1E5ED\", \"showgrid\": false, \"tickfont\": {\"color\": \"#4D5663\"}, \"title\": {\"font\": {\"color\": \"#4D5663\"}, \"text\": \"\"}, \"zerolinecolor\": \"#E1E5ED\"}, \"xaxis15\": {\"anchor\": \"y15\", \"domain\": [0.525, 0.7375], \"gridcolor\": \"#E1E5ED\", \"showgrid\": false, \"tickfont\": {\"color\": \"#4D5663\"}, \"title\": {\"font\": {\"color\": \"#4D5663\"}, \"text\": \"\"}, \"zerolinecolor\": \"#E1E5ED\"}, \"xaxis16\": {\"anchor\": \"y16\", \"domain\": [0.7875, 1.0], \"gridcolor\": \"#E1E5ED\", \"showgrid\": false, \"tickfont\": {\"color\": \"#4D5663\"}, \"title\": {\"font\": {\"color\": \"#4D5663\"}, \"text\": \"\"}, \"zerolinecolor\": \"#E1E5ED\"}, \"xaxis2\": {\"anchor\": \"y2\", \"domain\": [0.2625, 0.475], \"gridcolor\": \"#E1E5ED\", \"showgrid\": false, \"tickfont\": {\"color\": \"#4D5663\"}, \"title\": {\"font\": {\"color\": \"#4D5663\"}, \"text\": \"\"}, \"zerolinecolor\": \"#E1E5ED\"}, \"xaxis3\": {\"anchor\": \"y3\", \"domain\": [0.525, 0.7375], \"gridcolor\": \"#E1E5ED\", \"showgrid\": false, \"tickfont\": {\"color\": \"#4D5663\"}, \"title\": {\"font\": {\"color\": \"#4D5663\"}, \"text\": \"\"}, \"zerolinecolor\": \"#E1E5ED\"}, \"xaxis4\": {\"anchor\": \"y4\", \"domain\": [0.7875, 1.0], \"gridcolor\": \"#E1E5ED\", \"showgrid\": false, \"tickfont\": {\"color\": \"#4D5663\"}, \"title\": {\"font\": {\"color\": \"#4D5663\"}, \"text\": \"\"}, \"zerolinecolor\": \"#E1E5ED\"}, \"xaxis5\": {\"anchor\": \"y5\", \"domain\": [0.0, 0.2125], \"gridcolor\": \"#E1E5ED\", \"showgrid\": false, \"tickfont\": {\"color\": \"#4D5663\"}, \"title\": {\"font\": {\"color\": \"#4D5663\"}, \"text\": \"\"}, \"zerolinecolor\": \"#E1E5ED\"}, \"xaxis6\": {\"anchor\": \"y6\", \"domain\": [0.2625, 0.475], \"gridcolor\": \"#E1E5ED\", \"showgrid\": false, \"tickfont\": {\"color\": \"#4D5663\"}, \"title\": {\"font\": {\"color\": \"#4D5663\"}, \"text\": \"\"}, \"zerolinecolor\": \"#E1E5ED\"}, \"xaxis7\": {\"anchor\": \"y7\", \"domain\": [0.525, 0.7375], \"gridcolor\": \"#E1E5ED\", \"showgrid\": false, \"tickfont\": {\"color\": \"#4D5663\"}, \"title\": {\"font\": {\"color\": \"#4D5663\"}, \"text\": \"\"}, \"zerolinecolor\": \"#E1E5ED\"}, \"xaxis8\": {\"anchor\": \"y8\", \"domain\": [0.7875, 1.0], \"gridcolor\": \"#E1E5ED\", \"showgrid\": false, \"tickfont\": {\"color\": \"#4D5663\"}, \"title\": {\"font\": {\"color\": \"#4D5663\"}, \"text\": \"\"}, \"zerolinecolor\": \"#E1E5ED\"}, \"xaxis9\": {\"anchor\": \"y9\", \"domain\": [0.0, 0.2125], \"gridcolor\": \"#E1E5ED\", \"showgrid\": false, \"tickfont\": {\"color\": \"#4D5663\"}, \"title\": {\"font\": {\"color\": \"#4D5663\"}, \"text\": \"\"}, \"zerolinecolor\": \"#E1E5ED\"}, \"yaxis\": {\"anchor\": \"x\", \"domain\": [0.8025, 1.0], \"gridcolor\": \"#E1E5ED\", \"showgrid\": false, \"tickfont\": {\"color\": \"#4D5663\"}, \"title\": {\"font\": {\"color\": \"#4D5663\"}, \"text\": \"\"}, \"zerolinecolor\": \"#E1E5ED\"}, \"yaxis10\": {\"anchor\": \"x10\", \"domain\": [0.2675, 0.465], \"gridcolor\": \"#E1E5ED\", \"showgrid\": false, \"tickfont\": {\"color\": \"#4D5663\"}, \"title\": {\"font\": {\"color\": \"#4D5663\"}, \"text\": \"\"}, \"zerolinecolor\": \"#E1E5ED\"}, \"yaxis11\": {\"anchor\": \"x11\", \"domain\": [0.2675, 0.465], \"gridcolor\": \"#E1E5ED\", \"showgrid\": false, \"tickfont\": {\"color\": \"#4D5663\"}, \"title\": {\"font\": {\"color\": \"#4D5663\"}, \"text\": \"\"}, \"zerolinecolor\": \"#E1E5ED\"}, \"yaxis12\": {\"anchor\": \"x12\", \"domain\": [0.2675, 0.465], \"gridcolor\": \"#E1E5ED\", \"showgrid\": false, \"tickfont\": {\"color\": \"#4D5663\"}, \"title\": {\"font\": {\"color\": \"#4D5663\"}, \"text\": \"\"}, \"zerolinecolor\": \"#E1E5ED\"}, \"yaxis13\": {\"anchor\": \"x13\", \"domain\": [0.0, 0.1975], \"gridcolor\": \"#E1E5ED\", \"showgrid\": false, \"tickfont\": {\"color\": \"#4D5663\"}, \"title\": {\"font\": {\"color\": \"#4D5663\"}, \"text\": \"\"}, \"zerolinecolor\": \"#E1E5ED\"}, \"yaxis14\": {\"anchor\": \"x14\", \"domain\": [0.0, 0.1975], \"gridcolor\": \"#E1E5ED\", \"showgrid\": false, \"tickfont\": {\"color\": \"#4D5663\"}, \"title\": {\"font\": {\"color\": \"#4D5663\"}, \"text\": \"\"}, \"zerolinecolor\": \"#E1E5ED\"}, \"yaxis15\": {\"anchor\": \"x15\", \"domain\": [0.0, 0.1975], \"gridcolor\": \"#E1E5ED\", \"showgrid\": false, \"tickfont\": {\"color\": \"#4D5663\"}, \"title\": {\"font\": {\"color\": \"#4D5663\"}, \"text\": \"\"}, \"zerolinecolor\": \"#E1E5ED\"}, \"yaxis16\": {\"anchor\": \"x16\", \"domain\": [0.0, 0.1975], \"gridcolor\": \"#E1E5ED\", \"showgrid\": false, \"tickfont\": {\"color\": \"#4D5663\"}, \"title\": {\"font\": {\"color\": \"#4D5663\"}, \"text\": \"\"}, \"zerolinecolor\": \"#E1E5ED\"}, \"yaxis2\": {\"anchor\": \"x2\", \"domain\": [0.8025, 1.0], \"gridcolor\": \"#E1E5ED\", \"showgrid\": false, \"tickfont\": {\"color\": \"#4D5663\"}, \"title\": {\"font\": {\"color\": \"#4D5663\"}, \"text\": \"\"}, \"zerolinecolor\": \"#E1E5ED\"}, \"yaxis3\": {\"anchor\": \"x3\", \"domain\": [0.8025, 1.0], \"gridcolor\": \"#E1E5ED\", \"showgrid\": false, \"tickfont\": {\"color\": \"#4D5663\"}, \"title\": {\"font\": {\"color\": \"#4D5663\"}, \"text\": \"\"}, \"zerolinecolor\": \"#E1E5ED\"}, \"yaxis4\": {\"anchor\": \"x4\", \"domain\": [0.8025, 1.0], \"gridcolor\": \"#E1E5ED\", \"showgrid\": false, \"tickfont\": {\"color\": \"#4D5663\"}, \"title\": {\"font\": {\"color\": \"#4D5663\"}, \"text\": \"\"}, \"zerolinecolor\": \"#E1E5ED\"}, \"yaxis5\": {\"anchor\": \"x5\", \"domain\": [0.535, 0.7325], \"gridcolor\": \"#E1E5ED\", \"showgrid\": false, \"tickfont\": {\"color\": \"#4D5663\"}, \"title\": {\"font\": {\"color\": \"#4D5663\"}, \"text\": \"\"}, \"zerolinecolor\": \"#E1E5ED\"}, \"yaxis6\": {\"anchor\": \"x6\", \"domain\": [0.535, 0.7325], \"gridcolor\": \"#E1E5ED\", \"showgrid\": false, \"tickfont\": {\"color\": \"#4D5663\"}, \"title\": {\"font\": {\"color\": \"#4D5663\"}, \"text\": \"\"}, \"zerolinecolor\": \"#E1E5ED\"}, \"yaxis7\": {\"anchor\": \"x7\", \"domain\": [0.535, 0.7325], \"gridcolor\": \"#E1E5ED\", \"showgrid\": false, \"tickfont\": {\"color\": \"#4D5663\"}, \"title\": {\"font\": {\"color\": \"#4D5663\"}, \"text\": \"\"}, \"zerolinecolor\": \"#E1E5ED\"}, \"yaxis8\": {\"anchor\": \"x8\", \"domain\": [0.535, 0.7325], \"gridcolor\": \"#E1E5ED\", \"showgrid\": false, \"tickfont\": {\"color\": \"#4D5663\"}, \"title\": {\"font\": {\"color\": \"#4D5663\"}, \"text\": \"\"}, \"zerolinecolor\": \"#E1E5ED\"}, \"yaxis9\": {\"anchor\": \"x9\", \"domain\": [0.2675, 0.465], \"gridcolor\": \"#E1E5ED\", \"showgrid\": false, \"tickfont\": {\"color\": \"#4D5663\"}, \"title\": {\"font\": {\"color\": \"#4D5663\"}, \"text\": \"\"}, \"zerolinecolor\": \"#E1E5ED\"}},                        {\"showLink\": true, \"linkText\": \"Export to plot.ly\", \"plotlyServerURL\": \"https://plot.ly\", \"responsive\": true}                    ).then(function(){\n",
       "                            \n",
       "var gd = document.getElementById('f39d3c07-4a3d-408b-9abe-ec94e9020ee3');\n",
       "var x = new MutationObserver(function (mutations, observer) {{\n",
       "        var display = window.getComputedStyle(gd).display;\n",
       "        if (!display || display === 'none') {{\n",
       "            console.log([gd, 'removed!']);\n",
       "            Plotly.purge(gd);\n",
       "            observer.disconnect();\n",
       "        }}\n",
       "}});\n",
       "\n",
       "// Listen for the removal of the full notebook cells\n",
       "var notebookContainer = gd.closest('#notebook-container');\n",
       "if (notebookContainer) {{\n",
       "    x.observe(notebookContainer, {childList: true});\n",
       "}}\n",
       "\n",
       "// Listen for the clearing of the current output cell\n",
       "var outputEl = gd.closest('.output');\n",
       "if (outputEl) {{\n",
       "    x.observe(outputEl, {childList: true});\n",
       "}}\n",
       "\n",
       "                        })                };                });            </script>        </div>"
      ]
     },
     "metadata": {},
     "output_type": "display_data"
    }
   ],
   "source": [
    "df.scatter_matrix()"
   ]
  },
  {
   "cell_type": "markdown",
   "metadata": {
    "collapsed": true
   },
   "source": [
    "# Great Job!"
   ]
  }
 ],
 "metadata": {
  "kernelspec": {
   "display_name": "Python 3",
   "language": "python",
   "name": "python3"
  },
  "language_info": {
   "codemirror_mode": {
    "name": "ipython",
    "version": 3
   },
   "file_extension": ".py",
   "mimetype": "text/x-python",
   "name": "python",
   "nbconvert_exporter": "python",
   "pygments_lexer": "ipython3",
   "version": "3.7.4"
  }
 },
 "nbformat": 4,
 "nbformat_minor": 1
}
