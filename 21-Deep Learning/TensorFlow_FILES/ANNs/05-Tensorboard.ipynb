{
 "cells": [
  {
   "cell_type": "markdown",
   "metadata": {},
   "source": [
    "<a href=\"https://www.pieriandata.com\"><img src=\"../Pierian_Data_Logo.PNG\"></a>\n",
    "<strong><center>Copyright by Pierian Data Inc.</center></strong> \n",
    "<strong><center>Created by Jose Marcial Portilla.</center></strong>"
   ]
  },
  {
   "cell_type": "markdown",
   "metadata": {},
   "source": [
    "# Tensorboard\n",
    "\n",
    "---\n",
    "---\n",
    "\n",
    "**NOTE: You must watch the corresponding video to understand this lecture. This notebook can't serve as a full guide. Please watch the video BEFORE posting questions to the QA forum.**\n",
    "\n",
    "---\n",
    "---\n",
    "\n",
    "Let's explore the built in data visualization capabilities that come with Tensorboard.\n",
    "\n",
    "Full official tutorial available here: https://www.tensorflow.org/tensorboard/get_started\n",
    "\n",
    "## Data"
   ]
  },
  {
   "cell_type": "code",
   "execution_count": 1,
   "metadata": {},
   "outputs": [],
   "source": [
    "import pandas as pd\n",
    "import numpy as np"
   ]
  },
  {
   "cell_type": "code",
   "execution_count": 2,
   "metadata": {},
   "outputs": [],
   "source": [
    "df = pd.read_csv('../DATA/cancer_classification.csv')"
   ]
  },
  {
   "cell_type": "markdown",
   "metadata": {},
   "source": [
    "### Train Test Split"
   ]
  },
  {
   "cell_type": "code",
   "execution_count": 3,
   "metadata": {},
   "outputs": [],
   "source": [
    "X = df.drop('benign_0__mal_1',axis=1).values\n",
    "y = df['benign_0__mal_1'].values"
   ]
  },
  {
   "cell_type": "code",
   "execution_count": 4,
   "metadata": {},
   "outputs": [],
   "source": [
    "from sklearn.model_selection import train_test_split"
   ]
  },
  {
   "cell_type": "code",
   "execution_count": 5,
   "metadata": {},
   "outputs": [],
   "source": [
    "X_train, X_test, y_train, y_test = train_test_split(X,y,test_size=0.25,random_state=101)"
   ]
  },
  {
   "cell_type": "markdown",
   "metadata": {},
   "source": [
    "\n",
    "### Scaling Data"
   ]
  },
  {
   "cell_type": "code",
   "execution_count": 6,
   "metadata": {},
   "outputs": [],
   "source": [
    "from sklearn.preprocessing import MinMaxScaler"
   ]
  },
  {
   "cell_type": "code",
   "execution_count": 7,
   "metadata": {},
   "outputs": [],
   "source": [
    "scaler = MinMaxScaler()"
   ]
  },
  {
   "cell_type": "code",
   "execution_count": 8,
   "metadata": {},
   "outputs": [
    {
     "data": {
      "text/plain": [
       "MinMaxScaler()"
      ]
     },
     "execution_count": 8,
     "metadata": {},
     "output_type": "execute_result"
    }
   ],
   "source": [
    "scaler.fit(X_train)"
   ]
  },
  {
   "cell_type": "code",
   "execution_count": 9,
   "metadata": {},
   "outputs": [],
   "source": [
    "X_train = scaler.transform(X_train)\n",
    "X_test = scaler.transform(X_test)"
   ]
  },
  {
   "cell_type": "markdown",
   "metadata": {},
   "source": [
    "## Creating the Model"
   ]
  },
  {
   "cell_type": "code",
   "execution_count": 10,
   "metadata": {},
   "outputs": [],
   "source": [
    "import tensorflow as tf\n",
    "from tensorflow.keras.models import Sequential\n",
    "from tensorflow.keras.layers import Dense, Activation,Dropout"
   ]
  },
  {
   "cell_type": "code",
   "execution_count": 11,
   "metadata": {},
   "outputs": [],
   "source": [
    "from tensorflow.keras.callbacks import EarlyStopping,TensorBoard"
   ]
  },
  {
   "cell_type": "code",
   "execution_count": 12,
   "metadata": {},
   "outputs": [],
   "source": [
    "early_stop = EarlyStopping(monitor='val_loss', mode='min', verbose=1, patience=25)"
   ]
  },
  {
   "cell_type": "code",
   "execution_count": 13,
   "metadata": {},
   "outputs": [
    {
     "data": {
      "text/plain": [
       "'/media/shaswat/e9bd51d9-4006-4964-8a0c-287ed45647e9/shaswat/ProjectFolder/Tutorial/Python-Data-Science-and-Machine-Learning-Bootcamp/22-Deep Learning/TensorFlow_FILES/ANNs'"
      ]
     },
     "execution_count": 13,
     "metadata": {},
     "output_type": "execute_result"
    }
   ],
   "source": [
    "pwd"
   ]
  },
  {
   "cell_type": "markdown",
   "metadata": {},
   "source": [
    "## Creating the Tensorboard Callback\n",
    "\n",
    "TensorBoard is a visualization tool provided with TensorFlow.\n",
    "\n",
    "This callback logs events for TensorBoard, including:\n",
    "* Metrics summary plots\n",
    "* Training graph visualization\n",
    "* Activation histograms\n",
    "* Sampled profiling\n",
    "\n",
    "If you have installed TensorFlow with pip, you should be able\n",
    "to launch TensorBoard from the command line:\n",
    "\n",
    "```sh\n",
    "tensorboard --logdir=path_to_your_logs\n",
    "```\n",
    "\n",
    "You can find more information about TensorBoard\n",
    "[here](https://www.tensorflow.org/tensorboard/).\n",
    "\n",
    "    Arguments:\n",
    "        log_dir: the path of the directory where to save the log files to be\n",
    "          parsed by TensorBoard.\n",
    "        histogram_freq: frequency (in epochs) at which to compute activation and\n",
    "          weight histograms for the layers of the model. If set to 0, histograms\n",
    "          won't be computed. Validation data (or split) must be specified for\n",
    "          histogram visualizations.\n",
    "        write_graph: whether to visualize the graph in TensorBoard. The log file\n",
    "          can become quite large when write_graph is set to True.\n",
    "        write_images: whether to write model weights to visualize as image in\n",
    "          TensorBoard.\n",
    "        update_freq: `'batch'` or `'epoch'` or integer. When using `'batch'`,\n",
    "          writes the losses and metrics to TensorBoard after each batch. The same\n",
    "          applies for `'epoch'`. If using an integer, let's say `1000`, the\n",
    "          callback will write the metrics and losses to TensorBoard every 1000\n",
    "          samples. Note that writing too frequently to TensorBoard can slow down\n",
    "          your training.\n",
    "        profile_batch: Profile the batch to sample compute characteristics. By\n",
    "          default, it will profile the second batch. Set profile_batch=0 to\n",
    "          disable profiling. Must run in TensorFlow eager mode.\n",
    "        embeddings_freq: frequency (in epochs) at which embedding layers will\n",
    "          be visualized. If set to 0, embeddings won't be visualized.\n",
    "       "
   ]
  },
  {
   "cell_type": "code",
   "execution_count": 14,
   "metadata": {},
   "outputs": [],
   "source": [
    "from datetime import datetime"
   ]
  },
  {
   "cell_type": "code",
   "execution_count": 15,
   "metadata": {},
   "outputs": [
    {
     "data": {
      "text/plain": [
       "'2021-01-17--1951'"
      ]
     },
     "execution_count": 15,
     "metadata": {},
     "output_type": "execute_result"
    }
   ],
   "source": [
    "datetime.now().strftime(\"%Y-%m-%d--%H%M\")"
   ]
  },
  {
   "cell_type": "code",
   "execution_count": 16,
   "metadata": {},
   "outputs": [],
   "source": [
    "# WINDOWS: Use \"logs\\\\fit\"\n",
    "# MACOS/LINUX: Use \"logs\\fit\"\n",
    "\n",
    "log_directory = 'logs\\\\fit'\n",
    "\n",
    "# OPTIONAL: ADD A TIMESTAMP FOR UNIQUE FOLDER\n",
    "# timestamp = datetime.now().strftime(\"%Y-%m-%d--%H%M\")\n",
    "# log_directory = log_directory + '\\\\' + timestamp\n",
    "\n",
    "\n",
    "board = TensorBoard(log_dir=log_directory,histogram_freq=1,\n",
    "    write_graph=True,\n",
    "    write_images=True,\n",
    "    update_freq='epoch',\n",
    "    profile_batch=2,\n",
    "    embeddings_freq=1)"
   ]
  },
  {
   "cell_type": "markdown",
   "metadata": {},
   "source": [
    "Now create the model layers:"
   ]
  },
  {
   "cell_type": "code",
   "execution_count": 17,
   "metadata": {},
   "outputs": [],
   "source": [
    "model = Sequential()\n",
    "model.add(Dense(units=30,activation='relu'))\n",
    "model.add(Dropout(0.5))\n",
    "model.add(Dense(units=15,activation='relu'))\n",
    "model.add(Dropout(0.5))\n",
    "model.add(Dense(units=1,activation='sigmoid'))\n",
    "model.compile(loss='binary_crossentropy', optimizer='adam')"
   ]
  },
  {
   "cell_type": "markdown",
   "metadata": {},
   "source": [
    "## Train the Model"
   ]
  },
  {
   "cell_type": "code",
   "execution_count": 18,
   "metadata": {
    "scrolled": true
   },
   "outputs": [
    {
     "name": "stdout",
     "output_type": "stream",
     "text": [
      "Epoch 1/600\n",
      "14/14 [==============================] - 1s 38ms/step - loss: 0.6980 - val_loss: 0.6827\n",
      "Epoch 2/600\n",
      "14/14 [==============================] - 0s 4ms/step - loss: 0.6727 - val_loss: 0.6676\n",
      "Epoch 3/600\n",
      "14/14 [==============================] - 0s 5ms/step - loss: 0.6613 - val_loss: 0.6495\n",
      "Epoch 4/600\n",
      "14/14 [==============================] - 0s 4ms/step - loss: 0.6428 - val_loss: 0.6286\n",
      "Epoch 5/600\n",
      "14/14 [==============================] - 0s 4ms/step - loss: 0.6468 - val_loss: 0.6091\n",
      "Epoch 6/600\n",
      "14/14 [==============================] - 0s 4ms/step - loss: 0.6215 - val_loss: 0.5862\n",
      "Epoch 7/600\n",
      "14/14 [==============================] - 0s 4ms/step - loss: 0.6070 - val_loss: 0.5593\n",
      "Epoch 8/600\n",
      "14/14 [==============================] - 0s 5ms/step - loss: 0.5841 - val_loss: 0.5284\n",
      "Epoch 9/600\n",
      "14/14 [==============================] - 0s 4ms/step - loss: 0.5536 - val_loss: 0.4954\n",
      "Epoch 10/600\n",
      "14/14 [==============================] - 0s 5ms/step - loss: 0.5201 - val_loss: 0.4593\n",
      "Epoch 11/600\n",
      "14/14 [==============================] - 0s 6ms/step - loss: 0.5270 - val_loss: 0.4222\n",
      "Epoch 12/600\n",
      "14/14 [==============================] - 0s 4ms/step - loss: 0.4897 - val_loss: 0.3911\n",
      "Epoch 13/600\n",
      "14/14 [==============================] - 0s 5ms/step - loss: 0.4748 - val_loss: 0.3662\n",
      "Epoch 14/600\n",
      "14/14 [==============================] - 0s 4ms/step - loss: 0.4199 - val_loss: 0.3381\n",
      "Epoch 15/600\n",
      "14/14 [==============================] - 0s 5ms/step - loss: 0.4346 - val_loss: 0.3269\n",
      "Epoch 16/600\n",
      "14/14 [==============================] - 0s 4ms/step - loss: 0.4095 - val_loss: 0.2968\n",
      "Epoch 17/600\n",
      "14/14 [==============================] - 0s 4ms/step - loss: 0.3566 - val_loss: 0.2779\n",
      "Epoch 18/600\n",
      "14/14 [==============================] - 0s 4ms/step - loss: 0.3690 - val_loss: 0.2620\n",
      "Epoch 19/600\n",
      "14/14 [==============================] - 0s 4ms/step - loss: 0.3946 - val_loss: 0.2474\n",
      "Epoch 20/600\n",
      "14/14 [==============================] - 0s 5ms/step - loss: 0.3539 - val_loss: 0.2358\n",
      "Epoch 21/600\n",
      "14/14 [==============================] - 0s 4ms/step - loss: 0.3250 - val_loss: 0.2220\n",
      "Epoch 22/600\n",
      "14/14 [==============================] - 0s 4ms/step - loss: 0.3291 - val_loss: 0.2095\n",
      "Epoch 23/600\n",
      "14/14 [==============================] - 0s 4ms/step - loss: 0.3068 - val_loss: 0.2044\n",
      "Epoch 24/600\n",
      "14/14 [==============================] - 0s 4ms/step - loss: 0.2679 - val_loss: 0.1951\n",
      "Epoch 25/600\n",
      "14/14 [==============================] - 0s 4ms/step - loss: 0.3107 - val_loss: 0.1910\n",
      "Epoch 26/600\n",
      "14/14 [==============================] - 0s 6ms/step - loss: 0.3016 - val_loss: 0.1820\n",
      "Epoch 27/600\n",
      "14/14 [==============================] - 0s 4ms/step - loss: 0.2756 - val_loss: 0.1743\n",
      "Epoch 28/600\n",
      "14/14 [==============================] - 0s 4ms/step - loss: 0.2401 - val_loss: 0.1627\n",
      "Epoch 29/600\n",
      "14/14 [==============================] - 0s 6ms/step - loss: 0.2398 - val_loss: 0.1614\n",
      "Epoch 30/600\n",
      "14/14 [==============================] - 0s 6ms/step - loss: 0.2593 - val_loss: 0.1805\n",
      "Epoch 31/600\n",
      "14/14 [==============================] - 0s 5ms/step - loss: 0.2533 - val_loss: 0.1582\n",
      "Epoch 32/600\n",
      "14/14 [==============================] - 0s 5ms/step - loss: 0.2095 - val_loss: 0.1488\n",
      "Epoch 33/600\n",
      "14/14 [==============================] - 0s 4ms/step - loss: 0.2096 - val_loss: 0.1454\n",
      "Epoch 34/600\n",
      "14/14 [==============================] - 0s 4ms/step - loss: 0.2241 - val_loss: 0.1472\n",
      "Epoch 35/600\n",
      "14/14 [==============================] - 0s 4ms/step - loss: 0.1835 - val_loss: 0.1398\n",
      "Epoch 36/600\n",
      "14/14 [==============================] - 0s 4ms/step - loss: 0.2324 - val_loss: 0.1318\n",
      "Epoch 37/600\n",
      "14/14 [==============================] - 0s 4ms/step - loss: 0.1959 - val_loss: 0.1288\n",
      "Epoch 38/600\n",
      "14/14 [==============================] - 0s 5ms/step - loss: 0.2105 - val_loss: 0.1207\n",
      "Epoch 39/600\n",
      "14/14 [==============================] - 0s 4ms/step - loss: 0.2309 - val_loss: 0.1248\n",
      "Epoch 40/600\n",
      "14/14 [==============================] - 0s 4ms/step - loss: 0.2045 - val_loss: 0.1228\n",
      "Epoch 41/600\n",
      "14/14 [==============================] - 0s 4ms/step - loss: 0.1847 - val_loss: 0.1218\n",
      "Epoch 42/600\n",
      "14/14 [==============================] - 0s 5ms/step - loss: 0.1814 - val_loss: 0.1242\n",
      "Epoch 43/600\n",
      "14/14 [==============================] - 0s 5ms/step - loss: 0.1961 - val_loss: 0.1167\n",
      "Epoch 44/600\n",
      "14/14 [==============================] - 0s 6ms/step - loss: 0.1875 - val_loss: 0.1199\n",
      "Epoch 45/600\n",
      "14/14 [==============================] - 0s 6ms/step - loss: 0.1625 - val_loss: 0.1176\n",
      "Epoch 46/600\n",
      "14/14 [==============================] - 0s 4ms/step - loss: 0.2149 - val_loss: 0.1130\n",
      "Epoch 47/600\n",
      "14/14 [==============================] - 0s 4ms/step - loss: 0.1650 - val_loss: 0.1108\n",
      "Epoch 48/600\n",
      "14/14 [==============================] - 0s 4ms/step - loss: 0.1413 - val_loss: 0.1119\n",
      "Epoch 49/600\n",
      "14/14 [==============================] - 0s 5ms/step - loss: 0.1633 - val_loss: 0.1165\n",
      "Epoch 50/600\n",
      "14/14 [==============================] - 0s 5ms/step - loss: 0.1991 - val_loss: 0.1069\n",
      "Epoch 51/600\n",
      "14/14 [==============================] - 0s 5ms/step - loss: 0.1656 - val_loss: 0.1105\n",
      "Epoch 52/600\n",
      "14/14 [==============================] - 0s 5ms/step - loss: 0.1501 - val_loss: 0.1054\n",
      "Epoch 53/600\n",
      "14/14 [==============================] - 0s 4ms/step - loss: 0.1383 - val_loss: 0.1069\n",
      "Epoch 54/600\n",
      "14/14 [==============================] - 0s 5ms/step - loss: 0.1569 - val_loss: 0.1034\n",
      "Epoch 55/600\n",
      "14/14 [==============================] - 0s 7ms/step - loss: 0.1621 - val_loss: 0.0999\n",
      "Epoch 56/600\n",
      "14/14 [==============================] - 0s 6ms/step - loss: 0.1399 - val_loss: 0.1051\n",
      "Epoch 57/600\n",
      "14/14 [==============================] - 0s 4ms/step - loss: 0.1218 - val_loss: 0.1003\n",
      "Epoch 58/600\n",
      "14/14 [==============================] - 0s 4ms/step - loss: 0.1419 - val_loss: 0.1000\n",
      "Epoch 59/600\n",
      "14/14 [==============================] - 0s 5ms/step - loss: 0.1422 - val_loss: 0.1087\n",
      "Epoch 60/600\n",
      "14/14 [==============================] - 0s 5ms/step - loss: 0.1144 - val_loss: 0.0980\n",
      "Epoch 61/600\n",
      "14/14 [==============================] - 0s 6ms/step - loss: 0.1526 - val_loss: 0.1002\n",
      "Epoch 62/600\n",
      "14/14 [==============================] - 0s 4ms/step - loss: 0.1571 - val_loss: 0.0994\n",
      "Epoch 63/600\n",
      "14/14 [==============================] - 0s 4ms/step - loss: 0.1459 - val_loss: 0.0970\n",
      "Epoch 64/600\n",
      "14/14 [==============================] - 0s 5ms/step - loss: 0.1101 - val_loss: 0.0949\n",
      "Epoch 65/600\n",
      "14/14 [==============================] - 0s 5ms/step - loss: 0.1521 - val_loss: 0.0969\n",
      "Epoch 66/600\n",
      "14/14 [==============================] - 0s 5ms/step - loss: 0.1457 - val_loss: 0.0924\n",
      "Epoch 67/600\n",
      "14/14 [==============================] - 0s 6ms/step - loss: 0.1305 - val_loss: 0.0915\n",
      "Epoch 68/600\n",
      "14/14 [==============================] - 0s 4ms/step - loss: 0.1251 - val_loss: 0.1035\n",
      "Epoch 69/600\n",
      "14/14 [==============================] - 0s 4ms/step - loss: 0.1284 - val_loss: 0.0920\n",
      "Epoch 70/600\n",
      "14/14 [==============================] - 0s 4ms/step - loss: 0.1070 - val_loss: 0.0973\n",
      "Epoch 71/600\n",
      "14/14 [==============================] - 0s 5ms/step - loss: 0.1115 - val_loss: 0.1073\n",
      "Epoch 72/600\n",
      "14/14 [==============================] - 0s 5ms/step - loss: 0.1215 - val_loss: 0.0922\n",
      "Epoch 73/600\n",
      "14/14 [==============================] - 0s 6ms/step - loss: 0.1479 - val_loss: 0.0901\n",
      "Epoch 74/600\n",
      "14/14 [==============================] - 0s 4ms/step - loss: 0.1216 - val_loss: 0.0900\n",
      "Epoch 75/600\n",
      "14/14 [==============================] - 0s 4ms/step - loss: 0.1129 - val_loss: 0.0921\n",
      "Epoch 76/600\n",
      "14/14 [==============================] - 0s 5ms/step - loss: 0.1263 - val_loss: 0.0958\n",
      "Epoch 77/600\n",
      "14/14 [==============================] - 0s 5ms/step - loss: 0.1344 - val_loss: 0.0925\n",
      "Epoch 78/600\n",
      "14/14 [==============================] - 0s 5ms/step - loss: 0.1146 - val_loss: 0.0883\n",
      "Epoch 79/600\n",
      "14/14 [==============================] - 0s 6ms/step - loss: 0.1028 - val_loss: 0.0898\n",
      "Epoch 80/600\n",
      "14/14 [==============================] - 0s 4ms/step - loss: 0.0956 - val_loss: 0.0886\n",
      "Epoch 81/600\n",
      "14/14 [==============================] - 0s 5ms/step - loss: 0.1040 - val_loss: 0.0961\n",
      "Epoch 82/600\n",
      "14/14 [==============================] - 0s 5ms/step - loss: 0.1073 - val_loss: 0.0931\n",
      "Epoch 83/600\n"
     ]
    },
    {
     "name": "stdout",
     "output_type": "stream",
     "text": [
      "14/14 [==============================] - 0s 5ms/step - loss: 0.1168 - val_loss: 0.0932\n",
      "Epoch 84/600\n",
      "14/14 [==============================] - 0s 6ms/step - loss: 0.1051 - val_loss: 0.0891\n",
      "Epoch 85/600\n",
      "14/14 [==============================] - 0s 3ms/step - loss: 0.1489 - val_loss: 0.0852\n",
      "Epoch 86/600\n",
      "14/14 [==============================] - 0s 4ms/step - loss: 0.1159 - val_loss: 0.0844\n",
      "Epoch 87/600\n",
      "14/14 [==============================] - 0s 3ms/step - loss: 0.1161 - val_loss: 0.0898\n",
      "Epoch 88/600\n",
      "14/14 [==============================] - 0s 6ms/step - loss: 0.0889 - val_loss: 0.0854\n",
      "Epoch 89/600\n",
      "14/14 [==============================] - 0s 5ms/step - loss: 0.1182 - val_loss: 0.0836\n",
      "Epoch 90/600\n",
      "14/14 [==============================] - 0s 5ms/step - loss: 0.1370 - val_loss: 0.0924\n",
      "Epoch 91/600\n",
      "14/14 [==============================] - 0s 4ms/step - loss: 0.0950 - val_loss: 0.0896\n",
      "Epoch 92/600\n",
      "14/14 [==============================] - 0s 5ms/step - loss: 0.0902 - val_loss: 0.0831\n",
      "Epoch 93/600\n",
      "14/14 [==============================] - 0s 5ms/step - loss: 0.0838 - val_loss: 0.0872\n",
      "Epoch 94/600\n",
      "14/14 [==============================] - 0s 5ms/step - loss: 0.1413 - val_loss: 0.0930\n",
      "Epoch 95/600\n",
      "14/14 [==============================] - 0s 5ms/step - loss: 0.1107 - val_loss: 0.0838\n",
      "Epoch 96/600\n",
      "14/14 [==============================] - 0s 5ms/step - loss: 0.1060 - val_loss: 0.0946\n",
      "Epoch 97/600\n",
      "14/14 [==============================] - 0s 5ms/step - loss: 0.0908 - val_loss: 0.0864\n",
      "Epoch 98/600\n",
      "14/14 [==============================] - 0s 5ms/step - loss: 0.1119 - val_loss: 0.0848\n",
      "Epoch 99/600\n",
      "14/14 [==============================] - 0s 5ms/step - loss: 0.0916 - val_loss: 0.0855\n",
      "Epoch 100/600\n",
      "14/14 [==============================] - 0s 4ms/step - loss: 0.0996 - val_loss: 0.0826\n",
      "Epoch 101/600\n",
      "14/14 [==============================] - 0s 4ms/step - loss: 0.1062 - val_loss: 0.0902\n",
      "Epoch 102/600\n",
      "14/14 [==============================] - 0s 6ms/step - loss: 0.1155 - val_loss: 0.0826\n",
      "Epoch 103/600\n",
      "14/14 [==============================] - 0s 5ms/step - loss: 0.1126 - val_loss: 0.0809\n",
      "Epoch 104/600\n",
      "14/14 [==============================] - 0s 5ms/step - loss: 0.1126 - val_loss: 0.0834\n",
      "Epoch 105/600\n",
      "14/14 [==============================] - 0s 5ms/step - loss: 0.1023 - val_loss: 0.0818\n",
      "Epoch 106/600\n",
      "14/14 [==============================] - 0s 5ms/step - loss: 0.1040 - val_loss: 0.0863\n",
      "Epoch 107/600\n",
      "14/14 [==============================] - 0s 4ms/step - loss: 0.1305 - val_loss: 0.0851\n",
      "Epoch 108/600\n",
      "14/14 [==============================] - 0s 6ms/step - loss: 0.0852 - val_loss: 0.0929\n",
      "Epoch 109/600\n",
      "14/14 [==============================] - 0s 6ms/step - loss: 0.0972 - val_loss: 0.0860\n",
      "Epoch 110/600\n",
      "14/14 [==============================] - 0s 5ms/step - loss: 0.1207 - val_loss: 0.0840\n",
      "Epoch 111/600\n",
      "14/14 [==============================] - 0s 5ms/step - loss: 0.1248 - val_loss: 0.0799\n",
      "Epoch 112/600\n",
      "14/14 [==============================] - 0s 7ms/step - loss: 0.1056 - val_loss: 0.0833\n",
      "Epoch 113/600\n",
      "14/14 [==============================] - 0s 8ms/step - loss: 0.1160 - val_loss: 0.0774\n",
      "Epoch 114/600\n",
      "14/14 [==============================] - 0s 6ms/step - loss: 0.1227 - val_loss: 0.0823\n",
      "Epoch 115/600\n",
      "14/14 [==============================] - 0s 5ms/step - loss: 0.1072 - val_loss: 0.0770\n",
      "Epoch 116/600\n",
      "14/14 [==============================] - 0s 4ms/step - loss: 0.1168 - val_loss: 0.0786\n",
      "Epoch 117/600\n",
      "14/14 [==============================] - 0s 4ms/step - loss: 0.1278 - val_loss: 0.0767\n",
      "Epoch 118/600\n",
      "14/14 [==============================] - 0s 7ms/step - loss: 0.0912 - val_loss: 0.0756\n",
      "Epoch 119/600\n",
      "14/14 [==============================] - 0s 5ms/step - loss: 0.0765 - val_loss: 0.1059\n",
      "Epoch 120/600\n",
      "14/14 [==============================] - 0s 4ms/step - loss: 0.1142 - val_loss: 0.0877\n",
      "Epoch 121/600\n",
      "14/14 [==============================] - 0s 4ms/step - loss: 0.1261 - val_loss: 0.0759\n",
      "Epoch 122/600\n",
      "14/14 [==============================] - 0s 5ms/step - loss: 0.0838 - val_loss: 0.0775\n",
      "Epoch 123/600\n",
      "14/14 [==============================] - 0s 5ms/step - loss: 0.1062 - val_loss: 0.0841\n",
      "Epoch 124/600\n",
      "14/14 [==============================] - 0s 5ms/step - loss: 0.0953 - val_loss: 0.0890\n",
      "Epoch 125/600\n",
      "14/14 [==============================] - 0s 4ms/step - loss: 0.1325 - val_loss: 0.0827\n",
      "Epoch 126/600\n",
      "14/14 [==============================] - 0s 4ms/step - loss: 0.0923 - val_loss: 0.0927\n",
      "Epoch 127/600\n",
      "14/14 [==============================] - 0s 5ms/step - loss: 0.0922 - val_loss: 0.0847\n",
      "Epoch 128/600\n",
      "14/14 [==============================] - 0s 5ms/step - loss: 0.1094 - val_loss: 0.0807\n",
      "Epoch 129/600\n",
      "14/14 [==============================] - 0s 6ms/step - loss: 0.1084 - val_loss: 0.0840\n",
      "Epoch 130/600\n",
      "14/14 [==============================] - 0s 5ms/step - loss: 0.1035 - val_loss: 0.0814\n",
      "Epoch 131/600\n",
      "14/14 [==============================] - 0s 5ms/step - loss: 0.0979 - val_loss: 0.0932\n",
      "Epoch 132/600\n",
      "14/14 [==============================] - 0s 5ms/step - loss: 0.1206 - val_loss: 0.0845\n",
      "Epoch 133/600\n",
      "14/14 [==============================] - 0s 5ms/step - loss: 0.0720 - val_loss: 0.0800\n",
      "Epoch 134/600\n",
      "14/14 [==============================] - 0s 5ms/step - loss: 0.0982 - val_loss: 0.0836\n",
      "Epoch 135/600\n",
      "14/14 [==============================] - 0s 6ms/step - loss: 0.0873 - val_loss: 0.0814\n",
      "Epoch 136/600\n",
      "14/14 [==============================] - 0s 5ms/step - loss: 0.1083 - val_loss: 0.0767\n",
      "Epoch 137/600\n",
      "14/14 [==============================] - 0s 5ms/step - loss: 0.0730 - val_loss: 0.0806\n",
      "Epoch 138/600\n",
      "14/14 [==============================] - 0s 5ms/step - loss: 0.0595 - val_loss: 0.0850\n",
      "Epoch 139/600\n",
      "14/14 [==============================] - 0s 4ms/step - loss: 0.1055 - val_loss: 0.0806\n",
      "Epoch 140/600\n",
      "14/14 [==============================] - 0s 5ms/step - loss: 0.1050 - val_loss: 0.0797\n",
      "Epoch 141/600\n",
      "14/14 [==============================] - 0s 6ms/step - loss: 0.0892 - val_loss: 0.0813\n",
      "Epoch 142/600\n",
      "14/14 [==============================] - 0s 4ms/step - loss: 0.0832 - val_loss: 0.0817\n",
      "Epoch 143/600\n",
      "14/14 [==============================] - 0s 4ms/step - loss: 0.0667 - val_loss: 0.0786\n",
      "Epoch 00143: early stopping\n"
     ]
    },
    {
     "data": {
      "text/plain": [
       "<tensorflow.python.keras.callbacks.History at 0x7f1d1e392eb0>"
      ]
     },
     "execution_count": 18,
     "metadata": {},
     "output_type": "execute_result"
    }
   ],
   "source": [
    "model.fit(x=X_train, \n",
    "          y=y_train, \n",
    "          epochs=600,\n",
    "          validation_data=(X_test, y_test), verbose=1,\n",
    "          callbacks=[early_stop,board]\n",
    "          )"
   ]
  },
  {
   "cell_type": "markdown",
   "metadata": {},
   "source": [
    "# Running Tensorboard\n"
   ]
  },
  {
   "cell_type": "markdown",
   "metadata": {},
   "source": [
    "## Running through the Command Line\n",
    "\n",
    "**Watch video to see how to run Tensorboard through a command line call.**"
   ]
  },
  {
   "cell_type": "markdown",
   "metadata": {},
   "source": [
    "Tensorboard will run locally in your browser at [http://localhost:6006/](http://localhost:6006/)\n"
   ]
  },
  {
   "cell_type": "code",
   "execution_count": 19,
   "metadata": {},
   "outputs": [
    {
     "name": "stdout",
     "output_type": "stream",
     "text": [
      "logs\\fit\n"
     ]
    }
   ],
   "source": [
    "print(log_directory)"
   ]
  },
  {
   "cell_type": "code",
   "execution_count": 20,
   "metadata": {},
   "outputs": [
    {
     "data": {
      "text/plain": [
       "'/media/shaswat/e9bd51d9-4006-4964-8a0c-287ed45647e9/shaswat/ProjectFolder/Tutorial/Python-Data-Science-and-Machine-Learning-Bootcamp/22-Deep Learning/TensorFlow_FILES/ANNs'"
      ]
     },
     "execution_count": 20,
     "metadata": {},
     "output_type": "execute_result"
    }
   ],
   "source": [
    "pwd"
   ]
  },
  {
   "cell_type": "markdown",
   "metadata": {},
   "source": [
    "### Use cd at your command line to change directory to the file path reported back by pwd or your current .py file location.\n",
    "### Then run this code at your command line or terminal"
   ]
  },
  {
   "cell_type": "code",
   "execution_count": 21,
   "metadata": {},
   "outputs": [],
   "source": [
    "# tensorboard --logdir logs\\fit "
   ]
  },
  {
   "cell_type": "code",
   "execution_count": null,
   "metadata": {},
   "outputs": [],
   "source": []
  },
  {
   "cell_type": "code",
   "execution_count": null,
   "metadata": {},
   "outputs": [],
   "source": []
  }
 ],
 "metadata": {
  "kernelspec": {
   "display_name": "Python 3",
   "language": "python",
   "name": "python3"
  },
  "language_info": {
   "codemirror_mode": {
    "name": "ipython",
    "version": 3
   },
   "file_extension": ".py",
   "mimetype": "text/x-python",
   "name": "python",
   "nbconvert_exporter": "python",
   "pygments_lexer": "ipython3",
   "version": "3.8.5"
  }
 },
 "nbformat": 4,
 "nbformat_minor": 2
}
